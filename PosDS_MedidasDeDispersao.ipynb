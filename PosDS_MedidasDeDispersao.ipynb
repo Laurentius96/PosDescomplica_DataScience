{
  "nbformat": 4,
  "nbformat_minor": 0,
  "metadata": {
    "colab": {
      "provenance": []
    },
    "kernelspec": {
      "name": "python3",
      "display_name": "Python 3"
    },
    "language_info": {
      "name": "python"
    }
  },
  "cells": [
    {
      "cell_type": "markdown",
      "source": [
        "### Medidas de dispersão são medidas estatísticos utilizadas para identificar o grau de variabilidade de um conjunto de dados.\n",
        "\n",
        "<br>\n",
        "\n",
        "![alt text](https://www.robertonovaes.com.br/wp-content/uploads/2018/09/variability.jpg)\n",
        "\n",
        "<br>\n",
        "\n",
        "### As medidas de dispersão mais comuns são a variância, desvio padrão e coeficiente de variação.\n",
        "\n",
        "<br>\n",
        "\n",
        "### Importando a biblioteca pandas (https://pandas.pydata.org)"
      ],
      "metadata": {
        "id": "GzX9QCiXk1O8"
      }
    },
    {
      "cell_type": "code",
      "source": [
        "import pandas as pd"
      ],
      "metadata": {
        "id": "nmUWjTXhk0um"
      },
      "execution_count": 3,
      "outputs": []
    },
    {
      "cell_type": "code",
      "execution_count": 2,
      "metadata": {
        "id": "KgzgjAUCku1A"
      },
      "outputs": [],
      "source": [
        "df = pandas.read_csv('BigmacPrice.csv')"
      ]
    },
    {
      "cell_type": "code",
      "source": [
        "df_filtered = df[df['date'] == '2022-07-01']"
      ],
      "metadata": {
        "id": "zS06I8MkmCfo"
      },
      "execution_count": 7,
      "outputs": []
    },
    {
      "cell_type": "code",
      "source": [
        "df_filtered.head()"
      ],
      "metadata": {
        "colab": {
          "base_uri": "https://localhost:8080/",
          "height": 206
        },
        "id": "2FUBJ9AWma-_",
        "outputId": "092a9646-5490-4002-9c6c-25d335df4e9d"
      },
      "execution_count": 8,
      "outputs": [
        {
          "output_type": "execute_result",
          "data": {
            "text/plain": [
              "            date currency_code        name  local_price  dollar_ex  \\\n",
              "1876  2022-07-01           ARS   Argentina       590.00        129   \n",
              "1877  2022-07-01           AUD   Australia         6.70          1   \n",
              "1878  2022-07-01           EUR     Austria         4.35          1   \n",
              "1879  2022-07-01           AZN  Azerbaijan         4.70          1   \n",
              "1880  2022-07-01           BHD     Bahrain         1.60          1   \n",
              "\n",
              "      dollar_price  \n",
              "1876          4.57  \n",
              "1877          6.70  \n",
              "1878          4.35  \n",
              "1879          4.70  \n",
              "1880          1.60  "
            ],
            "text/html": [
              "\n",
              "  <div id=\"df-4e6c5658-3667-4c36-ae78-7715d271481a\" class=\"colab-df-container\">\n",
              "    <div>\n",
              "<style scoped>\n",
              "    .dataframe tbody tr th:only-of-type {\n",
              "        vertical-align: middle;\n",
              "    }\n",
              "\n",
              "    .dataframe tbody tr th {\n",
              "        vertical-align: top;\n",
              "    }\n",
              "\n",
              "    .dataframe thead th {\n",
              "        text-align: right;\n",
              "    }\n",
              "</style>\n",
              "<table border=\"1\" class=\"dataframe\">\n",
              "  <thead>\n",
              "    <tr style=\"text-align: right;\">\n",
              "      <th></th>\n",
              "      <th>date</th>\n",
              "      <th>currency_code</th>\n",
              "      <th>name</th>\n",
              "      <th>local_price</th>\n",
              "      <th>dollar_ex</th>\n",
              "      <th>dollar_price</th>\n",
              "    </tr>\n",
              "  </thead>\n",
              "  <tbody>\n",
              "    <tr>\n",
              "      <th>1876</th>\n",
              "      <td>2022-07-01</td>\n",
              "      <td>ARS</td>\n",
              "      <td>Argentina</td>\n",
              "      <td>590.00</td>\n",
              "      <td>129</td>\n",
              "      <td>4.57</td>\n",
              "    </tr>\n",
              "    <tr>\n",
              "      <th>1877</th>\n",
              "      <td>2022-07-01</td>\n",
              "      <td>AUD</td>\n",
              "      <td>Australia</td>\n",
              "      <td>6.70</td>\n",
              "      <td>1</td>\n",
              "      <td>6.70</td>\n",
              "    </tr>\n",
              "    <tr>\n",
              "      <th>1878</th>\n",
              "      <td>2022-07-01</td>\n",
              "      <td>EUR</td>\n",
              "      <td>Austria</td>\n",
              "      <td>4.35</td>\n",
              "      <td>1</td>\n",
              "      <td>4.35</td>\n",
              "    </tr>\n",
              "    <tr>\n",
              "      <th>1879</th>\n",
              "      <td>2022-07-01</td>\n",
              "      <td>AZN</td>\n",
              "      <td>Azerbaijan</td>\n",
              "      <td>4.70</td>\n",
              "      <td>1</td>\n",
              "      <td>4.70</td>\n",
              "    </tr>\n",
              "    <tr>\n",
              "      <th>1880</th>\n",
              "      <td>2022-07-01</td>\n",
              "      <td>BHD</td>\n",
              "      <td>Bahrain</td>\n",
              "      <td>1.60</td>\n",
              "      <td>1</td>\n",
              "      <td>1.60</td>\n",
              "    </tr>\n",
              "  </tbody>\n",
              "</table>\n",
              "</div>\n",
              "    <div class=\"colab-df-buttons\">\n",
              "\n",
              "  <div class=\"colab-df-container\">\n",
              "    <button class=\"colab-df-convert\" onclick=\"convertToInteractive('df-4e6c5658-3667-4c36-ae78-7715d271481a')\"\n",
              "            title=\"Convert this dataframe to an interactive table.\"\n",
              "            style=\"display:none;\">\n",
              "\n",
              "  <svg xmlns=\"http://www.w3.org/2000/svg\" height=\"24px\" viewBox=\"0 -960 960 960\">\n",
              "    <path d=\"M120-120v-720h720v720H120Zm60-500h600v-160H180v160Zm220 220h160v-160H400v160Zm0 220h160v-160H400v160ZM180-400h160v-160H180v160Zm440 0h160v-160H620v160ZM180-180h160v-160H180v160Zm440 0h160v-160H620v160Z\"/>\n",
              "  </svg>\n",
              "    </button>\n",
              "\n",
              "  <style>\n",
              "    .colab-df-container {\n",
              "      display:flex;\n",
              "      gap: 12px;\n",
              "    }\n",
              "\n",
              "    .colab-df-convert {\n",
              "      background-color: #E8F0FE;\n",
              "      border: none;\n",
              "      border-radius: 50%;\n",
              "      cursor: pointer;\n",
              "      display: none;\n",
              "      fill: #1967D2;\n",
              "      height: 32px;\n",
              "      padding: 0 0 0 0;\n",
              "      width: 32px;\n",
              "    }\n",
              "\n",
              "    .colab-df-convert:hover {\n",
              "      background-color: #E2EBFA;\n",
              "      box-shadow: 0px 1px 2px rgba(60, 64, 67, 0.3), 0px 1px 3px 1px rgba(60, 64, 67, 0.15);\n",
              "      fill: #174EA6;\n",
              "    }\n",
              "\n",
              "    .colab-df-buttons div {\n",
              "      margin-bottom: 4px;\n",
              "    }\n",
              "\n",
              "    [theme=dark] .colab-df-convert {\n",
              "      background-color: #3B4455;\n",
              "      fill: #D2E3FC;\n",
              "    }\n",
              "\n",
              "    [theme=dark] .colab-df-convert:hover {\n",
              "      background-color: #434B5C;\n",
              "      box-shadow: 0px 1px 3px 1px rgba(0, 0, 0, 0.15);\n",
              "      filter: drop-shadow(0px 1px 2px rgba(0, 0, 0, 0.3));\n",
              "      fill: #FFFFFF;\n",
              "    }\n",
              "  </style>\n",
              "\n",
              "    <script>\n",
              "      const buttonEl =\n",
              "        document.querySelector('#df-4e6c5658-3667-4c36-ae78-7715d271481a button.colab-df-convert');\n",
              "      buttonEl.style.display =\n",
              "        google.colab.kernel.accessAllowed ? 'block' : 'none';\n",
              "\n",
              "      async function convertToInteractive(key) {\n",
              "        const element = document.querySelector('#df-4e6c5658-3667-4c36-ae78-7715d271481a');\n",
              "        const dataTable =\n",
              "          await google.colab.kernel.invokeFunction('convertToInteractive',\n",
              "                                                    [key], {});\n",
              "        if (!dataTable) return;\n",
              "\n",
              "        const docLinkHtml = 'Like what you see? Visit the ' +\n",
              "          '<a target=\"_blank\" href=https://colab.research.google.com/notebooks/data_table.ipynb>data table notebook</a>'\n",
              "          + ' to learn more about interactive tables.';\n",
              "        element.innerHTML = '';\n",
              "        dataTable['output_type'] = 'display_data';\n",
              "        await google.colab.output.renderOutput(dataTable, element);\n",
              "        const docLink = document.createElement('div');\n",
              "        docLink.innerHTML = docLinkHtml;\n",
              "        element.appendChild(docLink);\n",
              "      }\n",
              "    </script>\n",
              "  </div>\n",
              "\n",
              "\n",
              "<div id=\"df-c52929bd-25b7-4a49-9aaa-c41882623673\">\n",
              "  <button class=\"colab-df-quickchart\" onclick=\"quickchart('df-c52929bd-25b7-4a49-9aaa-c41882623673')\"\n",
              "            title=\"Suggest charts\"\n",
              "            style=\"display:none;\">\n",
              "\n",
              "<svg xmlns=\"http://www.w3.org/2000/svg\" height=\"24px\"viewBox=\"0 0 24 24\"\n",
              "     width=\"24px\">\n",
              "    <g>\n",
              "        <path d=\"M19 3H5c-1.1 0-2 .9-2 2v14c0 1.1.9 2 2 2h14c1.1 0 2-.9 2-2V5c0-1.1-.9-2-2-2zM9 17H7v-7h2v7zm4 0h-2V7h2v10zm4 0h-2v-4h2v4z\"/>\n",
              "    </g>\n",
              "</svg>\n",
              "  </button>\n",
              "\n",
              "<style>\n",
              "  .colab-df-quickchart {\n",
              "      --bg-color: #E8F0FE;\n",
              "      --fill-color: #1967D2;\n",
              "      --hover-bg-color: #E2EBFA;\n",
              "      --hover-fill-color: #174EA6;\n",
              "      --disabled-fill-color: #AAA;\n",
              "      --disabled-bg-color: #DDD;\n",
              "  }\n",
              "\n",
              "  [theme=dark] .colab-df-quickchart {\n",
              "      --bg-color: #3B4455;\n",
              "      --fill-color: #D2E3FC;\n",
              "      --hover-bg-color: #434B5C;\n",
              "      --hover-fill-color: #FFFFFF;\n",
              "      --disabled-bg-color: #3B4455;\n",
              "      --disabled-fill-color: #666;\n",
              "  }\n",
              "\n",
              "  .colab-df-quickchart {\n",
              "    background-color: var(--bg-color);\n",
              "    border: none;\n",
              "    border-radius: 50%;\n",
              "    cursor: pointer;\n",
              "    display: none;\n",
              "    fill: var(--fill-color);\n",
              "    height: 32px;\n",
              "    padding: 0;\n",
              "    width: 32px;\n",
              "  }\n",
              "\n",
              "  .colab-df-quickchart:hover {\n",
              "    background-color: var(--hover-bg-color);\n",
              "    box-shadow: 0 1px 2px rgba(60, 64, 67, 0.3), 0 1px 3px 1px rgba(60, 64, 67, 0.15);\n",
              "    fill: var(--button-hover-fill-color);\n",
              "  }\n",
              "\n",
              "  .colab-df-quickchart-complete:disabled,\n",
              "  .colab-df-quickchart-complete:disabled:hover {\n",
              "    background-color: var(--disabled-bg-color);\n",
              "    fill: var(--disabled-fill-color);\n",
              "    box-shadow: none;\n",
              "  }\n",
              "\n",
              "  .colab-df-spinner {\n",
              "    border: 2px solid var(--fill-color);\n",
              "    border-color: transparent;\n",
              "    border-bottom-color: var(--fill-color);\n",
              "    animation:\n",
              "      spin 1s steps(1) infinite;\n",
              "  }\n",
              "\n",
              "  @keyframes spin {\n",
              "    0% {\n",
              "      border-color: transparent;\n",
              "      border-bottom-color: var(--fill-color);\n",
              "      border-left-color: var(--fill-color);\n",
              "    }\n",
              "    20% {\n",
              "      border-color: transparent;\n",
              "      border-left-color: var(--fill-color);\n",
              "      border-top-color: var(--fill-color);\n",
              "    }\n",
              "    30% {\n",
              "      border-color: transparent;\n",
              "      border-left-color: var(--fill-color);\n",
              "      border-top-color: var(--fill-color);\n",
              "      border-right-color: var(--fill-color);\n",
              "    }\n",
              "    40% {\n",
              "      border-color: transparent;\n",
              "      border-right-color: var(--fill-color);\n",
              "      border-top-color: var(--fill-color);\n",
              "    }\n",
              "    60% {\n",
              "      border-color: transparent;\n",
              "      border-right-color: var(--fill-color);\n",
              "    }\n",
              "    80% {\n",
              "      border-color: transparent;\n",
              "      border-right-color: var(--fill-color);\n",
              "      border-bottom-color: var(--fill-color);\n",
              "    }\n",
              "    90% {\n",
              "      border-color: transparent;\n",
              "      border-bottom-color: var(--fill-color);\n",
              "    }\n",
              "  }\n",
              "</style>\n",
              "\n",
              "  <script>\n",
              "    async function quickchart(key) {\n",
              "      const quickchartButtonEl =\n",
              "        document.querySelector('#' + key + ' button');\n",
              "      quickchartButtonEl.disabled = true;  // To prevent multiple clicks.\n",
              "      quickchartButtonEl.classList.add('colab-df-spinner');\n",
              "      try {\n",
              "        const charts = await google.colab.kernel.invokeFunction(\n",
              "            'suggestCharts', [key], {});\n",
              "      } catch (error) {\n",
              "        console.error('Error during call to suggestCharts:', error);\n",
              "      }\n",
              "      quickchartButtonEl.classList.remove('colab-df-spinner');\n",
              "      quickchartButtonEl.classList.add('colab-df-quickchart-complete');\n",
              "    }\n",
              "    (() => {\n",
              "      let quickchartButtonEl =\n",
              "        document.querySelector('#df-c52929bd-25b7-4a49-9aaa-c41882623673 button');\n",
              "      quickchartButtonEl.style.display =\n",
              "        google.colab.kernel.accessAllowed ? 'block' : 'none';\n",
              "    })();\n",
              "  </script>\n",
              "</div>\n",
              "\n",
              "    </div>\n",
              "  </div>\n"
            ],
            "application/vnd.google.colaboratory.intrinsic+json": {
              "type": "dataframe",
              "variable_name": "df_filtered",
              "repr_error": "0"
            }
          },
          "metadata": {},
          "execution_count": 8
        }
      ]
    },
    {
      "cell_type": "code",
      "source": [
        "df_filtered.count()"
      ],
      "metadata": {
        "colab": {
          "base_uri": "https://localhost:8080/"
        },
        "id": "qp_JZz0vmlE5",
        "outputId": "1ea9887c-40fa-4474-9bc3-184fcdfa1367"
      },
      "execution_count": 9,
      "outputs": [
        {
          "output_type": "execute_result",
          "data": {
            "text/plain": [
              "date             70\n",
              "currency_code    70\n",
              "name             70\n",
              "local_price      70\n",
              "dollar_ex        70\n",
              "dollar_price     70\n",
              "dtype: int64"
            ]
          },
          "metadata": {},
          "execution_count": 9
        }
      ]
    },
    {
      "cell_type": "markdown",
      "source": [
        "### `Variância`\n",
        "\n",
        "### A variância é uma medida de dispersão que nos ajuda a entender o quão longe da média os dados estão.\n",
        "\n",
        "<br>\n",
        "\n",
        "### Na prática, a variância é a média do quadrado das distâncias entre cada observação e a média.\n",
        "\n",
        "![alt_text](https://www.onlinemathlearning.com/image-files/population-variance.png)\n",
        "\n",
        "<br>\n",
        "\n",
        "Na ciência de dados, a variância é uma ferramenta crucial para compreender a dispersão dos dados em um conjunto. Ela revela o quão dispersos os valores individuais estão em relação à média, fornecendo insights valiosos sobre a variabilidade e a confiabilidade dos dados.\n",
        "\n",
        "<br>\n",
        "\n",
        "**Importância da Variância:**\n",
        "\n",
        "1. **Compreensão da Dispersão dos Dados:** A variância quantifica a dispersão dos dados em torno da média. Um valor alto indica que os dados estão mais espalhados, enquanto um valor baixo indica que os dados estão mais agrupados.\n",
        "\n",
        "2. **Avaliação da Incerteza:** A variância está intimamente relacionada à incerteza. Um alto valor de variância indica maior incerteza nos dados, enquanto um valor baixo indica maior confiabilidade.\n",
        "\n",
        "3. **Comparação de Conjuntos de Dados:** A variância permite comparar a dispersão de diferentes conjuntos de dados, facilitando a identificação de conjuntos mais homogêneos ou heterogêneos.\n",
        "\n",
        "4. **Análise de Desempenho do Modelo:** A variância é crucial na avaliação do desempenho de modelos de machine learning. Altos valores de variância podem indicar overfitting, enquanto baixos valores podem indicar underfitting.\n",
        "\n",
        "**Exemplos de Resultados de Variâncias Diferentes e Seus Significados:**\n",
        "\n",
        "**Interpretando Resultados da Variância:**\n",
        "\n",
        "Para interpretar a variância, é importante considerar o contexto do problema e a escala dos dados.\n",
        "\n",
        "* **Variância Baixa:** Uma variância baixa indica que os dados estão agrupados em torno da média, sugerindo menor variabilidade e maior previsibilidade. Isso pode ser observado em conjuntos de dados com valores relativamente homogêneos, como altura de alunos em uma mesma faixa etária.\n",
        "\n",
        "* **Variância Alta:** Uma variância alta indica que os dados estão mais dispersos, com maior variabilidade e incerteza. Isso pode ser observado em conjuntos de dados com valores mais diversos, como notas de alunos em uma turma com diferentes níveis de aprendizado.\n",
        "\n",
        "* **Comparação entre Conjuntos:** Ao comparar a variância de diferentes conjuntos de dados, o conjunto com maior variância apresenta maior dispersão e variabilidade, enquanto o conjunto com menor variância apresenta dados mais homogêneos e previsíveis.\n",
        "\n",
        "**Exemplos de Resultados de Variância e seus Significados:**\n",
        "\n",
        "**Exemplo 1:**\n",
        "\n",
        "* **Conjunto de dados:** Altura de 100 alunos de uma mesma faixa etária.\n",
        "* **Variância:** 4 cm².\n",
        "* **Interpretação:** A baixa variância (4 cm²) indica que os dados estão agrupados em torno da média, sugerindo que a altura dos alunos varia pouco dentro da faixa etária considerada.\n",
        "\n",
        "**Exemplo 2:**\n",
        "\n",
        "* **Conjunto de dados:** Notas de matemática de 50 alunos em uma prova.\n",
        "* **Variância:** 25 pontos².\n",
        "* **Interpretação:** A variância moderada (25 pontos²) indica que os dados estão dispersos em torno da média, sugerindo que as notas variam entre os alunos, com alguns obtendo notas mais altas e outros obtendo notas mais baixas.\n",
        "\n",
        "**Exemplo 3:**\n",
        "\n",
        "* **Conjunto de dados:** Retorno anual de investimentos em diferentes ações ao longo de 10 anos.\n",
        "* **Variância do Investimento A:** 20%.\n",
        "* **Variância do Investimento B:** 8%.\n",
        "* **Interpretação:** A maior variância do Investimento A (20%) em comparação com o Investimento B (8%) indica que o retorno do Investimento A é mais incerto e arriscado, enquanto o Investimento B apresenta um retorno mais previsível e estável.\n",
        "\n",
        "**Lembre-se:**\n",
        "\n",
        "* A variância, por si só, não fornece informações completas sobre a distribuição dos dados. É recomendável utilizar outras medidas estatísticas, como o desvio padrão e histogramas, para uma análise mais abrangente.\n",
        "* A interpretação da variância depende do contexto específico do problema e da escala dos dados.\n",
        "\n",
        "<br>\n",
        "\n",
        "### **Por que precisamos elevar ao quadrado?**\n",
        "\n",
        "#### Queremos medir a distância entre cada observação e a média, mas pode ser que alguma observação seja menor do que a média! Nesse caso, somente fazer a diferença entre a observação e a média daria um valor negativo, e acabaria se anulando com as outras distâncias.\n",
        "\n"
      ],
      "metadata": {
        "id": "mgyMjpJmnArP"
      }
    },
    {
      "cell_type": "code",
      "source": [
        "lista_exemplo_variancia = [1 , 2, 3 , 4, 5]"
      ],
      "metadata": {
        "id": "U1I_C1I5msiA"
      },
      "execution_count": 10,
      "outputs": []
    },
    {
      "cell_type": "code",
      "source": [
        "def media(lista):\n",
        "    return sum(lista)/len(lista)"
      ],
      "metadata": {
        "id": "plKHjaEeqYo0"
      },
      "execution_count": 11,
      "outputs": []
    },
    {
      "cell_type": "code",
      "source": [
        "media(lista_exemplo_variancia)"
      ],
      "metadata": {
        "colab": {
          "base_uri": "https://localhost:8080/"
        },
        "id": "6Ylp8pN0qZJ8",
        "outputId": "0884cae3-03f4-49a1-dbfb-11afbe216137"
      },
      "execution_count": 12,
      "outputs": [
        {
          "output_type": "execute_result",
          "data": {
            "text/plain": [
              "3.0"
            ]
          },
          "metadata": {},
          "execution_count": 12
        }
      ]
    },
    {
      "cell_type": "code",
      "source": [
        "1 - 3"
      ],
      "metadata": {
        "colab": {
          "base_uri": "https://localhost:8080/"
        },
        "id": "-X5jYy-Dqb59",
        "outputId": "de9a4bb6-f623-457e-d96e-d34c76df453a"
      },
      "execution_count": 13,
      "outputs": [
        {
          "output_type": "execute_result",
          "data": {
            "text/plain": [
              "-2"
            ]
          },
          "metadata": {},
          "execution_count": 13
        }
      ]
    },
    {
      "cell_type": "code",
      "source": [
        "(1-3) + (2-3) + (3-3) + (4-3) + (5-3)"
      ],
      "metadata": {
        "colab": {
          "base_uri": "https://localhost:8080/"
        },
        "id": "suirJDTsqekk",
        "outputId": "fd001b40-57a6-416f-83bf-e11a1aff666a"
      },
      "execution_count": 14,
      "outputs": [
        {
          "output_type": "execute_result",
          "data": {
            "text/plain": [
              "0"
            ]
          },
          "metadata": {},
          "execution_count": 14
        }
      ]
    },
    {
      "cell_type": "markdown",
      "source": [
        "#### Nesse exemplo, todas as distâncias se anulariam e diríamos que os dados não tem variação alguma, o que não é verdade!"
      ],
      "metadata": {
        "id": "2jwSMDdcqjB8"
      }
    },
    {
      "cell_type": "code",
      "source": [
        "(1-3)**2 + (2-3)**2 + (3-3)**2 + (4-3)**2 + (5-3)**2"
      ],
      "metadata": {
        "colab": {
          "base_uri": "https://localhost:8080/"
        },
        "id": "a2D7nRwrqg7z",
        "outputId": "3602a862-8e9a-43cb-dd9e-46a54ad95a10"
      },
      "execution_count": 15,
      "outputs": [
        {
          "output_type": "execute_result",
          "data": {
            "text/plain": [
              "10"
            ]
          },
          "metadata": {},
          "execution_count": 15
        }
      ]
    },
    {
      "cell_type": "markdown",
      "source": [
        "### Quando elevamos um número ao quadrado, o resultado é sempre positivo e por isso elevamos as diferenças ao quadrado no caso da variância!"
      ],
      "metadata": {
        "id": "0ahfmuZ7qohE"
      }
    },
    {
      "cell_type": "code",
      "source": [
        "def variancia_amostral(lista):\n",
        "    media_lista = media(lista)\n",
        "    tamanho_lista = len(lista)\n",
        "\n",
        "    lista_distancias_quadradas = []\n",
        "    for observacao in lista:\n",
        "        distancia_quadrada = (observacao - media_lista) ** 2\n",
        "        lista_distancias_quadradas.append(distancia_quadrada)\n",
        "\n",
        "    variancia = sum(lista_distancias_quadradas)/tamanho_lista\n",
        "\n",
        "    return variancia"
      ],
      "metadata": {
        "id": "ULuS9QUtqmQr"
      },
      "execution_count": 16,
      "outputs": []
    },
    {
      "cell_type": "code",
      "source": [
        "variancia_amostral(lista_exemplo_variancia)"
      ],
      "metadata": {
        "colab": {
          "base_uri": "https://localhost:8080/"
        },
        "id": "8M6cD68tq0Nb",
        "outputId": "79ae61fb-3728-4bc0-b4da-6ba4b5577e7a"
      },
      "execution_count": 17,
      "outputs": [
        {
          "output_type": "execute_result",
          "data": {
            "text/plain": [
              "2.0"
            ]
          },
          "metadata": {},
          "execution_count": 17
        }
      ]
    },
    {
      "cell_type": "markdown",
      "source": [
        "### **Podemos usar um pacote pronto para calcular a variância, não é necessário implementar toda vez**"
      ],
      "metadata": {
        "id": "BHI-Byawq4lc"
      }
    },
    {
      "cell_type": "code",
      "source": [
        "import numpy as np"
      ],
      "metadata": {
        "id": "M6c8LdYXq1y5"
      },
      "execution_count": 18,
      "outputs": []
    },
    {
      "cell_type": "code",
      "source": [
        "np.var(lista_exemplo_variancia)"
      ],
      "metadata": {
        "colab": {
          "base_uri": "https://localhost:8080/"
        },
        "id": "6xjnSnJ2rAps",
        "outputId": "76d7316e-a273-4fcb-a656-0ad9b9b590cc"
      },
      "execution_count": 19,
      "outputs": [
        {
          "output_type": "execute_result",
          "data": {
            "text/plain": [
              "2.0"
            ]
          },
          "metadata": {},
          "execution_count": 19
        }
      ]
    },
    {
      "cell_type": "markdown",
      "source": [
        "### Voltando para o exempolo do preço do Big Mac no mundo, em dólares"
      ],
      "metadata": {
        "id": "co6_uNyrrMdJ"
      }
    },
    {
      "cell_type": "markdown",
      "source": [
        "Com Numpy:"
      ],
      "metadata": {
        "id": "-JLB2gy6rUHj"
      }
    },
    {
      "cell_type": "code",
      "source": [
        "np.var(df_filtered['dollar_price'], ddof = 1) ## Amostral"
      ],
      "metadata": {
        "colab": {
          "base_uri": "https://localhost:8080/"
        },
        "id": "3q0wB9GnrIoM",
        "outputId": "f65af612-c5a2-402c-8134-7a413fbff1da"
      },
      "execution_count": 28,
      "outputs": [
        {
          "output_type": "execute_result",
          "data": {
            "text/plain": [
              "1.8311856107660458"
            ]
          },
          "metadata": {},
          "execution_count": 28
        }
      ]
    },
    {
      "cell_type": "code",
      "source": [
        "np.var(df_filtered['dollar_price'], ddof = 0) ## Populacional"
      ],
      "metadata": {
        "colab": {
          "base_uri": "https://localhost:8080/"
        },
        "id": "irjOLKaHrkj8",
        "outputId": "39287139-f256-442d-a29c-bda4a3293985"
      },
      "execution_count": 29,
      "outputs": [
        {
          "output_type": "execute_result",
          "data": {
            "text/plain": [
              "1.8050258163265307"
            ]
          },
          "metadata": {},
          "execution_count": 29
        }
      ]
    },
    {
      "cell_type": "markdown",
      "source": [
        "Com Pandas"
      ],
      "metadata": {
        "id": "3HFHLqvxshv4"
      }
    },
    {
      "cell_type": "code",
      "source": [
        "df_filtered['dollar_price'].var(ddof = 1) ## Amostral"
      ],
      "metadata": {
        "colab": {
          "base_uri": "https://localhost:8080/"
        },
        "id": "B0i-1QIBsHLW",
        "outputId": "6b42c2d8-5c46-40e8-b569-89b06a1d36ff"
      },
      "execution_count": 30,
      "outputs": [
        {
          "output_type": "execute_result",
          "data": {
            "text/plain": [
              "1.8311856107660458"
            ]
          },
          "metadata": {},
          "execution_count": 30
        }
      ]
    },
    {
      "cell_type": "code",
      "source": [
        "df_filtered['dollar_price'].var(ddof = 0) ## Amostral"
      ],
      "metadata": {
        "colab": {
          "base_uri": "https://localhost:8080/"
        },
        "id": "55PY4FgZst6K",
        "outputId": "12efee9d-ff94-4a51-d648-aba11df1423e"
      },
      "execution_count": 31,
      "outputs": [
        {
          "output_type": "execute_result",
          "data": {
            "text/plain": [
              "1.8050258163265307"
            ]
          },
          "metadata": {},
          "execution_count": 31
        }
      ]
    },
    {
      "cell_type": "markdown",
      "source": [
        "### Assim como a média, a variância é facilmente influenciada por valores extremos!"
      ],
      "metadata": {
        "id": "B05BUjBptKAE"
      }
    },
    {
      "cell_type": "markdown",
      "source": [
        "### Lista equilibrada"
      ],
      "metadata": {
        "id": "ZkZLVoPJ4qHj"
      }
    },
    {
      "cell_type": "code",
      "source": [
        "lista_alturas_1 = [1.67, 1.72, 1.70, 1.69, 1.74, 1.71]"
      ],
      "metadata": {
        "id": "399gyH3Zs1oy"
      },
      "execution_count": 32,
      "outputs": []
    },
    {
      "cell_type": "code",
      "source": [
        "media(lista_alturas_1)"
      ],
      "metadata": {
        "colab": {
          "base_uri": "https://localhost:8080/"
        },
        "id": "1QrgnoVD3Xnt",
        "outputId": "fa7273e7-a252-48d6-a5ee-0354d88bd983"
      },
      "execution_count": 33,
      "outputs": [
        {
          "output_type": "execute_result",
          "data": {
            "text/plain": [
              "1.705"
            ]
          },
          "metadata": {},
          "execution_count": 33
        }
      ]
    },
    {
      "cell_type": "code",
      "source": [
        "np.var(lista_alturas_1, ddof = 1)"
      ],
      "metadata": {
        "colab": {
          "base_uri": "https://localhost:8080/"
        },
        "id": "DalCkxHF5I8S",
        "outputId": "b4b7f345-b67d-4708-dede-3039a589a685"
      },
      "execution_count": 38,
      "outputs": [
        {
          "output_type": "execute_result",
          "data": {
            "text/plain": [
              "0.000590000000000001"
            ]
          },
          "metadata": {},
          "execution_count": 38
        }
      ]
    },
    {
      "cell_type": "markdown",
      "source": [
        "### Lista mais espaçada"
      ],
      "metadata": {
        "id": "CtLyeG6Z4t8E"
      }
    },
    {
      "cell_type": "code",
      "source": [
        "lista_alturas_2 = [1.60, 1.66, 1.72, 1.69, 1.78, 1.77]"
      ],
      "metadata": {
        "id": "2aEzH4_D4wN4"
      },
      "execution_count": 34,
      "outputs": []
    },
    {
      "cell_type": "code",
      "source": [
        "media(lista_alturas_2)"
      ],
      "metadata": {
        "colab": {
          "base_uri": "https://localhost:8080/"
        },
        "id": "bFGq-Uql4x8c",
        "outputId": "be9a9337-d889-48a9-a0a5-e4f0c97396f8"
      },
      "execution_count": 35,
      "outputs": [
        {
          "output_type": "execute_result",
          "data": {
            "text/plain": [
              "1.7033333333333331"
            ]
          },
          "metadata": {},
          "execution_count": 35
        }
      ]
    },
    {
      "cell_type": "code",
      "source": [
        "np.var(lista_alturas_2, ddof = 1)"
      ],
      "metadata": {
        "colab": {
          "base_uri": "https://localhost:8080/"
        },
        "id": "3jDXbjEC47g6",
        "outputId": "2dfa2d71-7e28-44f9-9bc3-65c048c102f0"
      },
      "execution_count": 37,
      "outputs": [
        {
          "output_type": "execute_result",
          "data": {
            "text/plain": [
              "0.004666666666666666"
            ]
          },
          "metadata": {},
          "execution_count": 37
        }
      ]
    },
    {
      "cell_type": "markdown",
      "source": [
        "### Lista com uma altura bem menor do que as outras"
      ],
      "metadata": {
        "id": "bd_os_jc40YD"
      }
    },
    {
      "cell_type": "code",
      "source": [
        "lista_alturas_3 = [1.20, 1.72, 1.70, 1.69, 1.74, 1.71]"
      ],
      "metadata": {
        "id": "rTY8sRtS4zrd"
      },
      "execution_count": 39,
      "outputs": []
    },
    {
      "cell_type": "code",
      "source": [
        "media(lista_alturas_3)"
      ],
      "metadata": {
        "colab": {
          "base_uri": "https://localhost:8080/"
        },
        "id": "c0U_mf1t5uBZ",
        "outputId": "2b3f4b28-565c-470c-c344-0746c01dc45c"
      },
      "execution_count": 40,
      "outputs": [
        {
          "output_type": "execute_result",
          "data": {
            "text/plain": [
              "1.626666666666667"
            ]
          },
          "metadata": {},
          "execution_count": 40
        }
      ]
    },
    {
      "cell_type": "code",
      "source": [
        "np.var(lista_alturas_3, ddof = 1)"
      ],
      "metadata": {
        "colab": {
          "base_uri": "https://localhost:8080/"
        },
        "id": "0yV2I1885rfY",
        "outputId": "6fc4e45b-e5a7-440c-c242-ec087543aa40"
      },
      "execution_count": 42,
      "outputs": [
        {
          "output_type": "execute_result",
          "data": {
            "text/plain": [
              "0.04398666666666667"
            ]
          },
          "metadata": {},
          "execution_count": 42
        }
      ]
    },
    {
      "cell_type": "markdown",
      "source": [
        "### Lista com uma altura bem maior do que as outras"
      ],
      "metadata": {
        "id": "Jg-_01zf6KEA"
      }
    },
    {
      "cell_type": "code",
      "source": [
        "lista_alturas_4 = [1.67, 1.72, 1.70, 1.69, 1.74, 2.24]"
      ],
      "metadata": {
        "id": "h7xESlYp6JeX"
      },
      "execution_count": 43,
      "outputs": []
    },
    {
      "cell_type": "code",
      "source": [
        "media(lista_alturas_4)"
      ],
      "metadata": {
        "colab": {
          "base_uri": "https://localhost:8080/"
        },
        "id": "eCPQg625533J",
        "outputId": "9703e702-0c31-4280-ab66-810dadd063b4"
      },
      "execution_count": 44,
      "outputs": [
        {
          "output_type": "execute_result",
          "data": {
            "text/plain": [
              "1.7933333333333332"
            ]
          },
          "metadata": {},
          "execution_count": 44
        }
      ]
    },
    {
      "cell_type": "code",
      "source": [
        "np.var(lista_alturas_4, ddof = 1)"
      ],
      "metadata": {
        "colab": {
          "base_uri": "https://localhost:8080/"
        },
        "id": "Pi8BvDp95s1i",
        "outputId": "4c7d8c40-d80a-4450-8ee8-bca06c7395d9"
      },
      "execution_count": 46,
      "outputs": [
        {
          "output_type": "execute_result",
          "data": {
            "text/plain": [
              "0.04846666666666671"
            ]
          },
          "metadata": {},
          "execution_count": 46
        }
      ]
    },
    {
      "cell_type": "markdown",
      "source": [
        "### `Desvio Padrão`\n",
        "\n",
        "## No cálculo da variância, elevamos as diferenças ao quadrado para que as distaâncias sejam positivas. Entretanto, ao fazer isso, a variância acaba ficando numa escala diferente dos dados, porque está em uma escala quadrática. Por isso, utilizamos o `desvio padrão`, que nada mais é do que a raiz quadrada da variância.\n",
        "\n",
        "<br>\n",
        "\n",
        "\n",
        "![alt_text](https://toptipbio.com/wp-content/uploads/2021/09/Standard-deviation-formula.jpg)\n",
        "\n",
        "## O Desvio Padrão na Ciência de Dados: Desvendando a Variabilidade dos Dados\n",
        "\n",
        "O desvio padrão é um conceito fundamental em estatística e ciência de dados, fornecendo uma medida crucial da **dispersão** dos dados em torno da média. Ele nos revela quão **variáveis** os valores individuais estão em relação à média, ajudando a compreender a **distribuição** e o **comportamento** dos dados.\n",
        "\n",
        "**Compreendendo a Importância do Desvio Padrão:**\n",
        "\n",
        "1. **Avaliação da Dispersão:** O desvio padrão quantifica a **distância média** entre cada ponto de dado e a média. Um desvio padrão alto indica que os dados estão mais **espalhados**, enquanto um desvio padrão baixo indica que os dados estão mais **agrupados** em torno da média.\n",
        "\n",
        "2. **Análise de Risco e Incerteza:** Em cenários de negócios ou investimentos, o desvio padrão representa o nível de **risco e incerteza** associado a um conjunto de dados. Um desvio padrão alto indica maior **risco e incerteza**, enquanto um desvio padrão baixo indica menor **risco e maior previsibilidade**.\n",
        "\n",
        "3. **Comparação de Conjuntos de Dados:** O desvio padrão permite **comparar a variabilidade** de diferentes conjuntos de dados. Isso pode ser útil para avaliar a **homogeneidade** dos dados ou identificar conjuntos de dados com características distintas.\n",
        "\n",
        "4. **Detecção de Anomalias e Outliers:** Valores extremos ou **outliers** podem distorcer a média e mascarar a variabilidade real dos dados. A análise do desvio padrão pode ajudar a identificar outliers e investigar suas causas.\n",
        "\n",
        "<br>\n",
        "\n",
        "**Interpretando Resultados do Desvio Padrão:**\n",
        "\n",
        "A interpretação do desvio padrão depende do contexto do problema e da **escala** dos dados.\n",
        "\n",
        "* **Desvio Padrão Baixo:** Um desvio padrão baixo indica que os dados estão **próximos da média**, sugerindo menor variabilidade e maior previsibilidade. Isso pode ser observado em conjuntos de dados com valores relativamente homogêneos, como altura de alunos em uma mesma faixa etária.\n",
        "\n",
        "* **Desvio Padrão Alto:** Um desvio padrão alto indica que os dados estão mais **dispersos**, com maior variabilidade e incerteza. Isso pode ser observado em conjuntos de dados com valores mais diversos, como notas de alunos em uma turma com diferentes níveis de aprendizado.\n",
        "\n",
        "* **Comparação entre Conjuntos:** Ao comparar o desvio padrão de diferentes conjuntos de dados, o conjunto com maior desvio padrão apresenta maior **dispersão e variabilidade**, enquanto o conjunto com menor desvio padrão apresenta dados mais **homogêneos e previsíveis**.\n",
        "\n",
        "<br>\n",
        "\n",
        "**Exemplos de Resultados do Desvio Padrão e seus Significados:**\n",
        "\n",
        "<br>\n",
        "\n",
        "**Exemplo 1:**\n",
        "\n",
        "* **Conjunto de dados:** Altura de 100 alunos de uma mesma faixa etária.\n",
        "* **Desvio Padrão:** 5 cm.\n",
        "* **Interpretação:** O desvio padrão baixo (5 cm) indica que os dados estão próximos da média, sugerindo que a altura dos alunos varia pouco dentro da faixa etária considerada.\n",
        "\n",
        "<br>\n",
        "\n",
        "**Exemplo 2:**\n",
        "\n",
        "* **Conjunto de dados:** Notas de matemática de 50 alunos em uma prova.\n",
        "* **Desvio Padrão:** 10 pontos.\n",
        "* **Interpretação:** O desvio padrão moderado (10 pontos) indica que os dados estão dispersos em torno da média, sugerindo que as notas variam entre os alunos, com alguns obtendo notas mais altas e outros obtendo notas mais baixas.\n",
        "\n",
        "<br>\n",
        "\n",
        "**Exemplo 3:**\n",
        "\n",
        "* **Conjunto de dados:** Retorno anual de investimentos em diferentes ações ao longo de 10 anos.\n",
        "* **Desvio Padrão do Investimento A:** 25%.\n",
        "* **Desvio Padrão do Investimento B:** 8%.\n",
        "* **Interpretação:** O maior desvio padrão do Investimento A (25%) em comparação com o Investimento B (8%) indica que o retorno do Investimento A é mais **incerto e arriscado**, enquanto o Investimento B apresenta um retorno mais **previsível e estável**.\n",
        "\n",
        "<br>\n",
        "\n",
        "**Considerações Importantes:**\n",
        "\n",
        "* O desvio padrão é **sensível a outliers**. Valores extremos podem distorcer o desvio padrão, afetando sua interpretação. É importante considerar a presença de outliers antes de analisar o desvio padrão.\n",
        "\n",
        "* O desvio padrão é **medido na mesma unidade dos dados originais**. Isso facilita a comparação entre diferentes conjuntos de dados com a mesma escala.\n",
        "\n",
        "* O desvio padrão deve ser utilizado em conjunto com outras medidas estatísticas, como a **média** e o **histograma**, para uma análise mais completa da distribuição dos dados.\n",
        "\n",
        "<br>\n",
        "\n",
        "Lembre-se: O desvio padrão, por si só, não revela toda a história dos dados. Para uma análise mais completa, combine-o com outras medidas estatísticas, como variância, histograma e boxplot.\n",
        "\n",
        "Ao dominar o desvio padrão, você estará munido de uma ferramenta poderosa para desvendar os segredos da dispersão dos dados em seu projeto de Data Science, permitindo análises mais precisas, decisões mais informadas e descobertas mais significativas.\n",
        "\n",
        "<br>\n",
        "\n",
        "**Conclusão:**\n",
        "<br>\n",
        "Desvio Padrão: Um Aliado Essencial para Data Scientists:\n",
        "<br><br>\n",
        "O desvio padrão, junto à variância, torna-se um aliado fundamental para Data Scientists em diversas tarefas:\n",
        "<br>\n",
        "Análise da Distribuição dos Dados: Avaliar se os dados seguem uma distribuição normal (em forma de sino) ou se apresentam assimetrias.\n",
        "Identificação de Anomalias: Detectar outliers, valores extremos que podem distorcer a análise.\n",
        "<br><br>\n",
        "Comparação de Conjuntos de Dados: Comparar a variabilidade de diferentes conjuntos de dados para identificar similaridades ou diferenças.\n",
        "Estimativa da Precisão de Modelos: Avaliar a precisão de modelos preditivos e a confiabilidade das previsões.\n",
        "<br>\n",
        "Dominando o Desvio Padrão e a Variância: Uma Jornada Essencial em Data Science:\n",
        "<br><br>\n",
        "Ao desvendar os segredos do desvio padrão e da variância, Data Scientists ganham ferramentas poderosas para navegar na complexa paisagem dos dados, extraindo informações valiosas que guiam decisões mais assertivas em diversos campos.\n",
        "<br><br>\n",
        "Lembre-se: a jornada de dominar o desvio padrão e a variância é essencial para se tornar um mestre em Data Science!\n"
      ],
      "metadata": {
        "id": "pewpWmSe6_Hc"
      }
    },
    {
      "cell_type": "markdown",
      "source": [
        "### Vamos ver um exemplo do cálculo do desvio padrão\n",
        "\n",
        "![alt_text](https://1.bp.blogspot.com/-uuORHtcAzvM/V0Hyje4xMQI/AAAAAAAACNY/U9NlBu-FQxQDZxYpgtoONviPXO8q9RgIQCLcB/s1600/chat.jpg)\n"
      ],
      "metadata": {
        "id": "ErpzcnL89Qg8"
      }
    },
    {
      "cell_type": "markdown",
      "source": [
        "### Desvio padrão com pandas"
      ],
      "metadata": {
        "id": "NpOEue3z-Oy8"
      }
    },
    {
      "cell_type": "code",
      "source": [
        "df_filtered['dollar_price'].std() ## Esse é o desvio padrão do preço do Big Mac no mundo, em dólares"
      ],
      "metadata": {
        "colab": {
          "base_uri": "https://localhost:8080/"
        },
        "id": "20rSLPQJ9N4H",
        "outputId": "3957887a-80e2-4c7c-bd28-4889605e2fc7"
      },
      "execution_count": 49,
      "outputs": [
        {
          "output_type": "execute_result",
          "data": {
            "text/plain": [
              "1.3532130692415167"
            ]
          },
          "metadata": {},
          "execution_count": 49
        }
      ]
    },
    {
      "cell_type": "markdown",
      "source": [
        "### Desvio padrão com o Numpy"
      ],
      "metadata": {
        "id": "rsVYyuP498k-"
      }
    },
    {
      "cell_type": "code",
      "source": [
        "np.std(df_filtered['dollar_price'])"
      ],
      "metadata": {
        "colab": {
          "base_uri": "https://localhost:8080/"
        },
        "id": "ksJIUyed6zII",
        "outputId": "7631fc78-2327-403e-8f7f-692e32a9a7db"
      },
      "execution_count": 48,
      "outputs": [
        {
          "output_type": "execute_result",
          "data": {
            "text/plain": [
              "1.3435124920619572"
            ]
          },
          "metadata": {},
          "execution_count": 48
        }
      ]
    },
    {
      "cell_type": "markdown",
      "source": [
        "### Como o desvio padrão é a raiz quadrada da variância, ele também vai, assim como a média, ser facilmente influenciada por valores extremos."
      ],
      "metadata": {
        "id": "9j1NzyGG-W_C"
      }
    },
    {
      "cell_type": "markdown",
      "source": [
        "### `Coeficiente de Variação`"
      ],
      "metadata": {
        "id": "fa3zd7p__r45"
      }
    },
    {
      "cell_type": "markdown",
      "source": [
        "### Com o desvio padrão, temos uma medida de dispersão na mesma escala dos nossos dados. Entretanto, como saber se os dados são muito variados ou pouco? Como saber se o nosso desvio padrão é pequeno ou grande? Para isso, temos o `Coeficiente de Variação`!\n",
        "\n",
        "<br>\n",
        "\n",
        "![image.png](attachment:image.png)\n",
        "<br><br>\n",
        "CV <= 15%  -----------------> Fraca dispersão;<br>\n",
        "CV < 15% <= 30%  ------> Moderada dispersão;<br>\n",
        "CV > 30% -------------------> Forte dispersão\n",
        "\n",
        "<br>\n",
        "\n",
        "No universo da Data Science, o **coeficiente de variação (CV)** surge como um herói improvável, mas crucial, para desvendar os mistérios da dispersão dos dados. Essa medida estatística, muitas vezes subestimada, revela informações valiosas sobre a variabilidade relativa dos dados, especialmente quando comparamos conjuntos de dados com unidades de medida diferentes.\n",
        "\n",
        "**A Magia do Coeficiente de Variação:**\n",
        "\n",
        "Imagine dois conjuntos de dados: as alturas de alunos em centímetros e seus respectivos pesos em quilogramas. Qual conjunto apresenta maior dispersão em relação à sua média? A intuição pode falhar, mas o CV está aqui para nos salvar!\n",
        "\n",
        "Ele padroniza a dispersão, expressando-a em porcentagem, permitindo comparações justas entre conjuntos com unidades distintas. É como ter um superpoder que torna tudo comparável!\n",
        "\n",
        "**Desvendando os Segredos do CV:**\n",
        "\n",
        "O CV é calculado dividindo-se o desvio padrão pela média e multiplicando-se por 100. Simples assim!\n",
        "\n",
        "* **Valores baixos de CV (até 30%)**: Indicam que os dados estão relativamente agrupados em torno da média, revelando baixa dispersão.\n",
        "* **Valores altos de CV (acima de 30%)**: Indicam que os dados estão mais dispersos, com maior variabilidade em relação à média.\n",
        "\n",
        "**Exemplos para Dominar a Linguagem do CV:**\n",
        "\n",
        "**Exemplo 1: Alturas e Pesos dos Alunos:**\n",
        "\n",
        "* **Altura:**\n",
        "    * Média: 160 cm\n",
        "    * Desvio Padrão: 10 cm\n",
        "    * CV: 6,25%\n",
        "* **Peso:**\n",
        "    * Média: 60 kg\n",
        "    * Desvio Padrão: 15 kg\n",
        "    * CV: 25%\n",
        "* **Interpretação:** Apesar do maior desvio padrão para o peso, o CV revela que a altura dos alunos apresenta menor dispersão relativa (CV de 6,25%) em comparação com o peso (CV de 25%). Ou seja, em termos proporcionais, a altura apresenta valores mais próximos da média do que o peso.\n",
        "\n",
        "**Exemplo 2: Retornos de Investimentos:**\n",
        "\n",
        "* **Investimento A:**\n",
        "    * Retorno médio anual: 10%\n",
        "    * Desvio Padrão: 15%\n",
        "    * CV: 150%\n",
        "* **Investimento B:**\n",
        "    * Retorno médio anual: 5%\n",
        "    * Desvio Padrão: 3%\n",
        "    * CV: 60%\n",
        "* **Interpretação:** Apesar do maior retorno médio do Investimento A, o CV indica que o Investimento B apresenta menor risco relativo (CV de 60%) em comparação com o Investimento A (CV de 150%). Ou seja, proporcionalmente ao seu retorno médio, o Investimento B apresenta menor dispersão dos retornos anuais.\n",
        "\n",
        "**O Coeficiente de Variação: Um Campeão em Data Science:**\n",
        "\n",
        "O CV se destaca como um campeão em Data Science, especialmente em situações como:\n",
        "\n",
        "* **Comparação de Conjuntos de Dados com Unidades Diferentes:** Permite comparar a dispersão relativa de dados com unidades de medida distintas, facilitando a análise e a tomada de decisões.\n",
        "* **Avaliação do Risco em Investimentos:** Auxilia na avaliação do risco relativo de diferentes investimentos, comparando a dispersão dos retornos em relação à sua média.\n",
        "* **Análise da Eficiência de Processos:** Permite comparar a variabilidade de diferentes processos industriais ou de prestação de serviços, identificando áreas para otimização.\n",
        "\n",
        "**Dominando o Coeficiente de Variação: Uma Jornada Essencial para Data Scientists:**\n",
        "\n",
        "Ao dominar o coeficiente de variação, Data Scientists ganham uma ferramenta poderosa para navegar na complexa paisagem dos dados, extraindo insights valiosos que guiam decisões mais assertivas em diversos campos.\n",
        "\n",
        "Lembre-se: a jornada de dominar o CV é essencial para se tornar um mestre em Data Science!\n",
        "\n",
        "\n"
      ],
      "metadata": {
        "id": "47KzLsC6_ySp"
      }
    },
    {
      "cell_type": "markdown",
      "source": [
        "### O coeficiente de variação é o quociente entre o desvio padrão e a média e, já que multiplicamos por 100, ele vira uma porcentagem. Quanto maior essa porcentagem, podemos dizer que mais distantes da média os dados estão e, consequentemente, mais variados os dados estão."
      ],
      "metadata": {
        "id": "YFAMRwRTDoFP"
      }
    },
    {
      "cell_type": "markdown",
      "source": [
        "#### Vamos calcular o coeficiente de variação do preço do Big Mac em dólares"
      ],
      "metadata": {
        "id": "r57YiHkeDvJN"
      }
    },
    {
      "cell_type": "code",
      "source": [
        "coeficiente_variacao_big_mac = 100 * df_filtered['dollar_price'].std()/df_filtered['dollar_price'].mean()\n",
        "coeficiente_variacao_big_mac"
      ],
      "metadata": {
        "colab": {
          "base_uri": "https://localhost:8080/"
        },
        "id": "HFDatgBZ-Mhc",
        "outputId": "26608d20-577e-40e9-8168-bc34ec3aaabd"
      },
      "execution_count": 50,
      "outputs": [
        {
          "output_type": "execute_result",
          "data": {
            "text/plain": [
              "33.800148027441985"
            ]
          },
          "metadata": {},
          "execution_count": 50
        }
      ]
    },
    {
      "cell_type": "code",
      "source": [
        "#### Os dados são bastante dispersos!"
      ],
      "metadata": {
        "id": "QdIAbn56D17W"
      },
      "execution_count": 51,
      "outputs": []
    }
  ]
}