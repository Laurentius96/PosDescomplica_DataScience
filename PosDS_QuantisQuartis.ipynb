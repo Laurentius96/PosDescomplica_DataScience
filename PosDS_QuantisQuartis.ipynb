{
  "nbformat": 4,
  "nbformat_minor": 0,
  "metadata": {
    "colab": {
      "provenance": []
    },
    "kernelspec": {
      "name": "python3",
      "display_name": "Python 3"
    },
    "language_info": {
      "name": "python"
    }
  },
  "cells": [
    {
      "cell_type": "markdown",
      "source": [
        "### `Quantis e Quartis`\n",
        "\n",
        "### Ajudam a entender o que ocorre em certa porcentagem dos nossos dados. Eles recortam nossos dados na quantidade que pedimos, e então temos uma noção melhor de como as observações estão se comportando.\n",
        "\n",
        "<br>\n",
        "\n",
        "![alt text](https://academy.vertabelo.com/static/python-data-science-04-quartiles-3.png)\n",
        "\n",
        "<br>\n",
        "\n",
        "### O percentil 10% (quantil 0.10), por exemplo, nos informa qual é o valor máximo dos dados se eu considerar somente os 10% primeiros termos dos meus dados, depois de ordená-los.\n",
        "\n",
        "## Os quartis são quantis específicos:\n",
        "\n",
        "#### * 1˚ Quartil = Quantil 0.25\n",
        "#### * 2˚ Quartil = Mediana = Quantil 0.50\n",
        "#### * 3˚ Quartil = Quantil 0.75\n",
        "\n",
        "<br>\n",
        "\n",
        "### Usando os dados do preço do Big Mac de Julho de 2022.\n",
        "\n",
        "<br>\n",
        "\n",
        "https://www.kaggle.com/datasets/vittoriogiatti/bigmacprice"
      ],
      "metadata": {
        "id": "sBOziJ7IMc-j"
      }
    },
    {
      "cell_type": "code",
      "execution_count": 14,
      "metadata": {
        "id": "7ZVNpyXZMMTo"
      },
      "outputs": [],
      "source": [
        "import pandas as pd"
      ]
    },
    {
      "cell_type": "code",
      "source": [
        "df = pd.read_csv('BigmacPrice.csv')"
      ],
      "metadata": {
        "id": "FZ5DHXmeNcJf"
      },
      "execution_count": 20,
      "outputs": []
    },
    {
      "cell_type": "code",
      "source": [
        "df_filtered = df[df['date'] == '2022-07-01']"
      ],
      "metadata": {
        "id": "mD3CJ9kSOAyL"
      },
      "execution_count": 21,
      "outputs": []
    },
    {
      "cell_type": "code",
      "source": [
        "df_filtered.head()"
      ],
      "metadata": {
        "colab": {
          "base_uri": "https://localhost:8080/",
          "height": 206
        },
        "id": "z3x5vgEmOgqe",
        "outputId": "dce79415-3032-48b8-cae2-49a1c6a35da3"
      },
      "execution_count": 22,
      "outputs": [
        {
          "output_type": "execute_result",
          "data": {
            "text/plain": [
              "            date currency_code        name  local_price  dollar_ex  \\\n",
              "1876  2022-07-01           ARS   Argentina       590.00        129   \n",
              "1877  2022-07-01           AUD   Australia         6.70          1   \n",
              "1878  2022-07-01           EUR     Austria         4.35          1   \n",
              "1879  2022-07-01           AZN  Azerbaijan         4.70          1   \n",
              "1880  2022-07-01           BHD     Bahrain         1.60          1   \n",
              "\n",
              "      dollar_price  \n",
              "1876          4.57  \n",
              "1877          6.70  \n",
              "1878          4.35  \n",
              "1879          4.70  \n",
              "1880          1.60  "
            ],
            "text/html": [
              "\n",
              "  <div id=\"df-03284a2c-7af0-4781-b9e5-88c5a2a83c45\" class=\"colab-df-container\">\n",
              "    <div>\n",
              "<style scoped>\n",
              "    .dataframe tbody tr th:only-of-type {\n",
              "        vertical-align: middle;\n",
              "    }\n",
              "\n",
              "    .dataframe tbody tr th {\n",
              "        vertical-align: top;\n",
              "    }\n",
              "\n",
              "    .dataframe thead th {\n",
              "        text-align: right;\n",
              "    }\n",
              "</style>\n",
              "<table border=\"1\" class=\"dataframe\">\n",
              "  <thead>\n",
              "    <tr style=\"text-align: right;\">\n",
              "      <th></th>\n",
              "      <th>date</th>\n",
              "      <th>currency_code</th>\n",
              "      <th>name</th>\n",
              "      <th>local_price</th>\n",
              "      <th>dollar_ex</th>\n",
              "      <th>dollar_price</th>\n",
              "    </tr>\n",
              "  </thead>\n",
              "  <tbody>\n",
              "    <tr>\n",
              "      <th>1876</th>\n",
              "      <td>2022-07-01</td>\n",
              "      <td>ARS</td>\n",
              "      <td>Argentina</td>\n",
              "      <td>590.00</td>\n",
              "      <td>129</td>\n",
              "      <td>4.57</td>\n",
              "    </tr>\n",
              "    <tr>\n",
              "      <th>1877</th>\n",
              "      <td>2022-07-01</td>\n",
              "      <td>AUD</td>\n",
              "      <td>Australia</td>\n",
              "      <td>6.70</td>\n",
              "      <td>1</td>\n",
              "      <td>6.70</td>\n",
              "    </tr>\n",
              "    <tr>\n",
              "      <th>1878</th>\n",
              "      <td>2022-07-01</td>\n",
              "      <td>EUR</td>\n",
              "      <td>Austria</td>\n",
              "      <td>4.35</td>\n",
              "      <td>1</td>\n",
              "      <td>4.35</td>\n",
              "    </tr>\n",
              "    <tr>\n",
              "      <th>1879</th>\n",
              "      <td>2022-07-01</td>\n",
              "      <td>AZN</td>\n",
              "      <td>Azerbaijan</td>\n",
              "      <td>4.70</td>\n",
              "      <td>1</td>\n",
              "      <td>4.70</td>\n",
              "    </tr>\n",
              "    <tr>\n",
              "      <th>1880</th>\n",
              "      <td>2022-07-01</td>\n",
              "      <td>BHD</td>\n",
              "      <td>Bahrain</td>\n",
              "      <td>1.60</td>\n",
              "      <td>1</td>\n",
              "      <td>1.60</td>\n",
              "    </tr>\n",
              "  </tbody>\n",
              "</table>\n",
              "</div>\n",
              "    <div class=\"colab-df-buttons\">\n",
              "\n",
              "  <div class=\"colab-df-container\">\n",
              "    <button class=\"colab-df-convert\" onclick=\"convertToInteractive('df-03284a2c-7af0-4781-b9e5-88c5a2a83c45')\"\n",
              "            title=\"Convert this dataframe to an interactive table.\"\n",
              "            style=\"display:none;\">\n",
              "\n",
              "  <svg xmlns=\"http://www.w3.org/2000/svg\" height=\"24px\" viewBox=\"0 -960 960 960\">\n",
              "    <path d=\"M120-120v-720h720v720H120Zm60-500h600v-160H180v160Zm220 220h160v-160H400v160Zm0 220h160v-160H400v160ZM180-400h160v-160H180v160Zm440 0h160v-160H620v160ZM180-180h160v-160H180v160Zm440 0h160v-160H620v160Z\"/>\n",
              "  </svg>\n",
              "    </button>\n",
              "\n",
              "  <style>\n",
              "    .colab-df-container {\n",
              "      display:flex;\n",
              "      gap: 12px;\n",
              "    }\n",
              "\n",
              "    .colab-df-convert {\n",
              "      background-color: #E8F0FE;\n",
              "      border: none;\n",
              "      border-radius: 50%;\n",
              "      cursor: pointer;\n",
              "      display: none;\n",
              "      fill: #1967D2;\n",
              "      height: 32px;\n",
              "      padding: 0 0 0 0;\n",
              "      width: 32px;\n",
              "    }\n",
              "\n",
              "    .colab-df-convert:hover {\n",
              "      background-color: #E2EBFA;\n",
              "      box-shadow: 0px 1px 2px rgba(60, 64, 67, 0.3), 0px 1px 3px 1px rgba(60, 64, 67, 0.15);\n",
              "      fill: #174EA6;\n",
              "    }\n",
              "\n",
              "    .colab-df-buttons div {\n",
              "      margin-bottom: 4px;\n",
              "    }\n",
              "\n",
              "    [theme=dark] .colab-df-convert {\n",
              "      background-color: #3B4455;\n",
              "      fill: #D2E3FC;\n",
              "    }\n",
              "\n",
              "    [theme=dark] .colab-df-convert:hover {\n",
              "      background-color: #434B5C;\n",
              "      box-shadow: 0px 1px 3px 1px rgba(0, 0, 0, 0.15);\n",
              "      filter: drop-shadow(0px 1px 2px rgba(0, 0, 0, 0.3));\n",
              "      fill: #FFFFFF;\n",
              "    }\n",
              "  </style>\n",
              "\n",
              "    <script>\n",
              "      const buttonEl =\n",
              "        document.querySelector('#df-03284a2c-7af0-4781-b9e5-88c5a2a83c45 button.colab-df-convert');\n",
              "      buttonEl.style.display =\n",
              "        google.colab.kernel.accessAllowed ? 'block' : 'none';\n",
              "\n",
              "      async function convertToInteractive(key) {\n",
              "        const element = document.querySelector('#df-03284a2c-7af0-4781-b9e5-88c5a2a83c45');\n",
              "        const dataTable =\n",
              "          await google.colab.kernel.invokeFunction('convertToInteractive',\n",
              "                                                    [key], {});\n",
              "        if (!dataTable) return;\n",
              "\n",
              "        const docLinkHtml = 'Like what you see? Visit the ' +\n",
              "          '<a target=\"_blank\" href=https://colab.research.google.com/notebooks/data_table.ipynb>data table notebook</a>'\n",
              "          + ' to learn more about interactive tables.';\n",
              "        element.innerHTML = '';\n",
              "        dataTable['output_type'] = 'display_data';\n",
              "        await google.colab.output.renderOutput(dataTable, element);\n",
              "        const docLink = document.createElement('div');\n",
              "        docLink.innerHTML = docLinkHtml;\n",
              "        element.appendChild(docLink);\n",
              "      }\n",
              "    </script>\n",
              "  </div>\n",
              "\n",
              "\n",
              "<div id=\"df-3292a679-8e36-491b-a8cd-905432cc594f\">\n",
              "  <button class=\"colab-df-quickchart\" onclick=\"quickchart('df-3292a679-8e36-491b-a8cd-905432cc594f')\"\n",
              "            title=\"Suggest charts\"\n",
              "            style=\"display:none;\">\n",
              "\n",
              "<svg xmlns=\"http://www.w3.org/2000/svg\" height=\"24px\"viewBox=\"0 0 24 24\"\n",
              "     width=\"24px\">\n",
              "    <g>\n",
              "        <path d=\"M19 3H5c-1.1 0-2 .9-2 2v14c0 1.1.9 2 2 2h14c1.1 0 2-.9 2-2V5c0-1.1-.9-2-2-2zM9 17H7v-7h2v7zm4 0h-2V7h2v10zm4 0h-2v-4h2v4z\"/>\n",
              "    </g>\n",
              "</svg>\n",
              "  </button>\n",
              "\n",
              "<style>\n",
              "  .colab-df-quickchart {\n",
              "      --bg-color: #E8F0FE;\n",
              "      --fill-color: #1967D2;\n",
              "      --hover-bg-color: #E2EBFA;\n",
              "      --hover-fill-color: #174EA6;\n",
              "      --disabled-fill-color: #AAA;\n",
              "      --disabled-bg-color: #DDD;\n",
              "  }\n",
              "\n",
              "  [theme=dark] .colab-df-quickchart {\n",
              "      --bg-color: #3B4455;\n",
              "      --fill-color: #D2E3FC;\n",
              "      --hover-bg-color: #434B5C;\n",
              "      --hover-fill-color: #FFFFFF;\n",
              "      --disabled-bg-color: #3B4455;\n",
              "      --disabled-fill-color: #666;\n",
              "  }\n",
              "\n",
              "  .colab-df-quickchart {\n",
              "    background-color: var(--bg-color);\n",
              "    border: none;\n",
              "    border-radius: 50%;\n",
              "    cursor: pointer;\n",
              "    display: none;\n",
              "    fill: var(--fill-color);\n",
              "    height: 32px;\n",
              "    padding: 0;\n",
              "    width: 32px;\n",
              "  }\n",
              "\n",
              "  .colab-df-quickchart:hover {\n",
              "    background-color: var(--hover-bg-color);\n",
              "    box-shadow: 0 1px 2px rgba(60, 64, 67, 0.3), 0 1px 3px 1px rgba(60, 64, 67, 0.15);\n",
              "    fill: var(--button-hover-fill-color);\n",
              "  }\n",
              "\n",
              "  .colab-df-quickchart-complete:disabled,\n",
              "  .colab-df-quickchart-complete:disabled:hover {\n",
              "    background-color: var(--disabled-bg-color);\n",
              "    fill: var(--disabled-fill-color);\n",
              "    box-shadow: none;\n",
              "  }\n",
              "\n",
              "  .colab-df-spinner {\n",
              "    border: 2px solid var(--fill-color);\n",
              "    border-color: transparent;\n",
              "    border-bottom-color: var(--fill-color);\n",
              "    animation:\n",
              "      spin 1s steps(1) infinite;\n",
              "  }\n",
              "\n",
              "  @keyframes spin {\n",
              "    0% {\n",
              "      border-color: transparent;\n",
              "      border-bottom-color: var(--fill-color);\n",
              "      border-left-color: var(--fill-color);\n",
              "    }\n",
              "    20% {\n",
              "      border-color: transparent;\n",
              "      border-left-color: var(--fill-color);\n",
              "      border-top-color: var(--fill-color);\n",
              "    }\n",
              "    30% {\n",
              "      border-color: transparent;\n",
              "      border-left-color: var(--fill-color);\n",
              "      border-top-color: var(--fill-color);\n",
              "      border-right-color: var(--fill-color);\n",
              "    }\n",
              "    40% {\n",
              "      border-color: transparent;\n",
              "      border-right-color: var(--fill-color);\n",
              "      border-top-color: var(--fill-color);\n",
              "    }\n",
              "    60% {\n",
              "      border-color: transparent;\n",
              "      border-right-color: var(--fill-color);\n",
              "    }\n",
              "    80% {\n",
              "      border-color: transparent;\n",
              "      border-right-color: var(--fill-color);\n",
              "      border-bottom-color: var(--fill-color);\n",
              "    }\n",
              "    90% {\n",
              "      border-color: transparent;\n",
              "      border-bottom-color: var(--fill-color);\n",
              "    }\n",
              "  }\n",
              "</style>\n",
              "\n",
              "  <script>\n",
              "    async function quickchart(key) {\n",
              "      const quickchartButtonEl =\n",
              "        document.querySelector('#' + key + ' button');\n",
              "      quickchartButtonEl.disabled = true;  // To prevent multiple clicks.\n",
              "      quickchartButtonEl.classList.add('colab-df-spinner');\n",
              "      try {\n",
              "        const charts = await google.colab.kernel.invokeFunction(\n",
              "            'suggestCharts', [key], {});\n",
              "      } catch (error) {\n",
              "        console.error('Error during call to suggestCharts:', error);\n",
              "      }\n",
              "      quickchartButtonEl.classList.remove('colab-df-spinner');\n",
              "      quickchartButtonEl.classList.add('colab-df-quickchart-complete');\n",
              "    }\n",
              "    (() => {\n",
              "      let quickchartButtonEl =\n",
              "        document.querySelector('#df-3292a679-8e36-491b-a8cd-905432cc594f button');\n",
              "      quickchartButtonEl.style.display =\n",
              "        google.colab.kernel.accessAllowed ? 'block' : 'none';\n",
              "    })();\n",
              "  </script>\n",
              "</div>\n",
              "\n",
              "    </div>\n",
              "  </div>\n"
            ],
            "application/vnd.google.colaboratory.intrinsic+json": {
              "type": "dataframe",
              "variable_name": "df_filtered",
              "repr_error": "0"
            }
          },
          "metadata": {},
          "execution_count": 22
        }
      ]
    },
    {
      "cell_type": "code",
      "source": [
        "df_filtered.count()"
      ],
      "metadata": {
        "colab": {
          "base_uri": "https://localhost:8080/"
        },
        "id": "oAKtqLuYOmaO",
        "outputId": "cca754af-84fa-4ee2-cb29-9a212955fba8"
      },
      "execution_count": 23,
      "outputs": [
        {
          "output_type": "execute_result",
          "data": {
            "text/plain": [
              "date             70\n",
              "currency_code    70\n",
              "name             70\n",
              "local_price      70\n",
              "dollar_ex        70\n",
              "dollar_price     70\n",
              "dtype: int64"
            ]
          },
          "metadata": {},
          "execution_count": 23
        }
      ]
    },
    {
      "cell_type": "markdown",
      "source": [
        "### Vamos calcular alguns quantis para o  preço do Big Mac em dólares americanos"
      ],
      "metadata": {
        "id": "CcVP7FgyPXDe"
      }
    },
    {
      "cell_type": "code",
      "source": [
        "df_filtered['dollar_price'].quantile(0.1) ### Aqui calculamos o quantil 0.1, ou o percentil 10%"
      ],
      "metadata": {
        "colab": {
          "base_uri": "https://localhost:8080/"
        },
        "id": "n2ETrMS0OrBn",
        "outputId": "df1acaa2-a540-4d14-e1d4-8a0510d441e5"
      },
      "execution_count": 25,
      "outputs": [
        {
          "output_type": "execute_result",
          "data": {
            "text/plain": [
              "2.413"
            ]
          },
          "metadata": {},
          "execution_count": 25
        }
      ]
    },
    {
      "cell_type": "markdown",
      "source": [
        "Podemos afirmar que 10% dos Big Mac's do mundo custam até 2.413 dólares"
      ],
      "metadata": {
        "id": "WrST2GSEPuht"
      }
    },
    {
      "cell_type": "code",
      "source": [
        "df_filtered['dollar_price'].quantile(0.25) ### Aqui calculamos o quantil 0.25, ou o percentil 25%, ou o primeiro quartil"
      ],
      "metadata": {
        "colab": {
          "base_uri": "https://localhost:8080/"
        },
        "id": "vyEg2ZFbPrf9",
        "outputId": "901b1163-e00b-44c9-c885-26d0c19f6f7c"
      },
      "execution_count": 29,
      "outputs": [
        {
          "output_type": "execute_result",
          "data": {
            "text/plain": [
              "3.0"
            ]
          },
          "metadata": {},
          "execution_count": 29
        }
      ]
    },
    {
      "cell_type": "markdown",
      "source": [
        "Podemos afirmar que um quarto dos Big Mac's do mundo custam até 3 dólares"
      ],
      "metadata": {
        "id": "6qr2k3I6QJvE"
      }
    },
    {
      "cell_type": "code",
      "source": [
        "df_filtered['dollar_price'].quantile(0.5) ### Aqui calculamos o quantil 0.5, ou o percentil 50%, ou a mediana"
      ],
      "metadata": {
        "colab": {
          "base_uri": "https://localhost:8080/"
        },
        "id": "huq2H_b0QA3O",
        "outputId": "705c500e-4bdb-4363-b565-eccfa5f1ab14"
      },
      "execution_count": 30,
      "outputs": [
        {
          "output_type": "execute_result",
          "data": {
            "text/plain": [
              "3.9050000000000002"
            ]
          },
          "metadata": {},
          "execution_count": 30
        }
      ]
    },
    {
      "cell_type": "code",
      "source": [
        "df_filtered['dollar_price'].median()"
      ],
      "metadata": {
        "colab": {
          "base_uri": "https://localhost:8080/"
        },
        "id": "q_NatgSfQuBa",
        "outputId": "f2228186-39f7-4d99-945c-d007ec3b8429"
      },
      "execution_count": 31,
      "outputs": [
        {
          "output_type": "execute_result",
          "data": {
            "text/plain": [
              "3.9050000000000002"
            ]
          },
          "metadata": {},
          "execution_count": 31
        }
      ]
    },
    {
      "cell_type": "markdown",
      "source": [
        "Podemos dizer que metade dos Big Mac's do mundo custam até 3.9 dólares\n"
      ],
      "metadata": {
        "id": "AEUfWOavQpdj"
      }
    },
    {
      "cell_type": "markdown",
      "source": [
        "### Agora com os quantis, conseguimos montar um retrato mais completo de como nossos dados se comportam."
      ],
      "metadata": {
        "id": "G7pVj2QcReJa"
      }
    },
    {
      "cell_type": "code",
      "source": [
        "percentil_10 = df_filtered['dollar_price'].quantile(0.1)\n",
        "\n",
        "percentil_25 = df_filtered['dollar_price'].quantile(0.25)\n",
        "\n",
        "percentil_50 = df_filtered['dollar_price'].quantile(0.50)\n",
        "\n",
        "percentil_75 = df_filtered['dollar_price'].quantile(0.75)\n",
        "\n",
        "percentil_90 = df_filtered['dollar_price'].quantile(0.9)\n",
        "\n",
        "percentil_95 = df_filtered['dollar_price'].quantile(0.95)\n",
        "\n",
        "percentil_99 = df_filtered['dollar_price'].quantile(0.99)\n",
        "\n",
        "media = df_filtered['dollar_price'].mean()\n",
        "\n",
        "moda = df_filtered['dollar_price'].mode()[0]"
      ],
      "metadata": {
        "id": "WsQVoZutRe0K"
      },
      "execution_count": 33,
      "outputs": []
    },
    {
      "cell_type": "code",
      "source": [
        "print(\"Quantil 0.10: {}\\n\".format(percentil_10))\n",
        "\n",
        "print(\"Primeiro Quartil: {}\\n\".format(percentil_25))\n",
        "\n",
        "print(\"Mediana: {}\\n\".format(percentil_50))\n",
        "\n",
        "print(\"Média: {}\\n\".format(media))\n",
        "\n",
        "print(\"Moda: {}\\n\".format(moda))\n",
        "\n",
        "print(\"Terceiro Quartil: {}\\n\".format(percentil_75))\n",
        "\n",
        "print(\"Quantil 0.90: {}\\n\".format(percentil_90))\n",
        "\n",
        "print(\"Quantil 0.95: {}\\n\".format(percentil_95))\n",
        "\n",
        "print(\"Quantil 0.99: {}\\n\".format(percentil_99))"
      ],
      "metadata": {
        "colab": {
          "base_uri": "https://localhost:8080/"
        },
        "id": "S-xt2XifR_5j",
        "outputId": "dc53441d-3d48-49e5-a659-916e20533555"
      },
      "execution_count": 34,
      "outputs": [
        {
          "output_type": "stream",
          "name": "stdout",
          "text": [
            "Quantil 0.10: 2.413\n",
            "\n",
            "Primeiro Quartil: 3.0\n",
            "\n",
            "Mediana: 3.9050000000000002\n",
            "\n",
            "Média: 4.003571428571429\n",
            "\n",
            "Moda: 4.0\n",
            "\n",
            "Terceiro Quartil: 4.6875\n",
            "\n",
            "Quantil 0.90: 5.91\n",
            "\n",
            "Quantil 0.95: 6.609999999999999\n",
            "\n",
            "Quantil 0.99: 6.9551\n",
            "\n"
          ]
        }
      ]
    },
    {
      "cell_type": "markdown",
      "source": [
        "### Os quantis são de muita importância quando queremos entender melhor a própria dispersão dos dados que estamos analisando. Alguns exemplos dentre as várias aplicações para eles:\n",
        "\n",
        "* Identificar comportamentos muito diferentes do restante dos dados (Outliers)\n",
        "* Entender em qual corte a maioria dos dados se encontram, ou até mesmo uma parte específica deles\n",
        "* Ajudar na tomada de decisão em situações de Trade-Off. Ex: Acurácia de Localização\n",
        "* Boxplot"
      ],
      "metadata": {
        "id": "cy7ZyhSYSTol"
      }
    },
    {
      "cell_type": "markdown",
      "source": [
        "Na empolgante jornada do Data Science, os **quantis** e **quartis** despontam como ferramentas valiosas para desvendar os segredos da distribuição dos dados. Eles fornecem insights poderosos sobre como os valores se dividem, revelando padrões e assimetrias que podem ser cruciais para diversas análises.\n",
        "\n",
        "<br>\n",
        "\n",
        "**Mergulhando no Universo dos Quantis:**\n",
        "\n",
        "Imagine um conjunto de dados como uma fila de espera em um banco. Os quantis nos dividem em grupos, como se fossem guichês de atendimento. Cada guichê representa um quantil, com um número específico de pessoas esperando.\n",
        "\n",
        "* **Quantil 25% (Q1):** As primeiras 25% das pessoas da fila já estão sendo atendidas.\n",
        "* **Quantil 50% (Mediana):** 50% das pessoas já foram atendidas, este é o ponto central da fila.\n",
        "* **Quantil 75% (Q3):** 75% das pessoas já foram atendidas, o que significa que os 25% restantes ainda aguardam.\n",
        "\n",
        "**Desvendando os Segredos dos Quantis:**\n",
        "\n",
        "Os quantis nos revelam muito mais do que apenas dividir os dados em grupos. Eles nos informam sobre a **posição** de cada valor dentro da distribuição.\n",
        "\n",
        "* **Valores próximos ao Q1:** Indicam que estão abaixo de 25% dos dados, ou seja, são menores que a maioria dos valores.\n",
        "* **Valores próximos à Mediana:** Indicam que estão próximos do \"centro\" dos dados, ou seja, são valores medianos.\n",
        "* **Valores próximos ao Q3:** Indicam que estão acima de 75% dos dados, ou seja, são maiores que a maioria dos valores.\n",
        "\n",
        "<br>\n",
        "\n",
        "**Exemplos para Dominar a Linguagem dos Quantis:**\n",
        "\n",
        "**Exemplo 1: Salários de Funcionários:**\n",
        "\n",
        "* **Q1:** R$ 2.000,00\n",
        "\n",
        "* **Mediana (Q2):** R$ 3.500,00\n",
        "\n",
        "* **Q3:** R$ 5.000,00\n",
        "\n",
        "* **Interpretação:**\n",
        "    * 25% dos funcionários ganham menos de R$ 2.000,00.\n",
        "    * 50% dos funcionários ganham entre R$ 2.000,00 e R$ 5.000,00.\n",
        "    * 25% dos funcionários ganham mais de R$ 5.000,00.\n",
        "\n",
        "<br>\n",
        "\n",
        "**Exemplo 2: Tempo de Espera em Fila:**\n",
        "\n",
        "* **Q1:** 5 minutos\n",
        "* **Mediana:** 10 minutos\n",
        "* **Q3:** 15 minutos\n",
        "* **Interpretação:**\n",
        "    * 25% das pessoas esperam menos de 5 minutos.\n",
        "    * 50% das pessoas esperam entre 5 e 15 minutos.\n",
        "    * 25% das pessoas esperam mais de 15 minutos.\n",
        "\n",
        "<br>\n",
        "\n",
        "**Quantis para Dominar Data Science:**\n",
        "\n",
        "Os quantis se tornam campeões em Data Science em diversas situações:\n",
        "\n",
        "* **Análise da Distribuição de Dados:** Identificam assimetrias e pontos de inflexão na distribuição dos dados, auxiliando na compreensão do comportamento geral dos dados.\n",
        "* **Detecção de Anomalias:** Permitem identificar valores atípicos (outliers) que podem distorcer a análise.\n",
        "* **Comparação de Conjuntos de Dados:** Facilitam a comparação da distribuição de dados de diferentes origens, mesmo com escalas diferentes.\n",
        "* **Desenvolvimento de Modelos Preditivos:** Auxiliam na construção de modelos preditivos mais robustos e precisos.\n",
        "\n",
        "**Dominando os Quantis: Uma Jornada Essencial para Data Scientists:**\n",
        "\n",
        "Ao dominar os quantis, Data Scientists ganham chaves valiosas para desvendar os segredos da distribuição dos dados, extraindo insights poderosos que guiam decisões mais assertivas em diversos campos.\n",
        "\n",
        "Lembre-se: a jornada de dominar os quantis é essencial para se tornar um mestre em Data Science!\n",
        "\n",
        "<br>\n",
        "\n",
        "**Quartis: O Quarteto Fantástico dos Quantis**\n",
        "\n",
        "Os **quartis** são um caso especial dos quantis, dividindo os dados em **quatro partes iguais** (cada parte com 25% dos dados). Eles são representados por:\n",
        "\n",
        "* **Primeiro quartil (Q1):** Divide os dados em 25% menores e 75% maiores.\n",
        "* **Segundo quartil (Mediana):** Divide os dados em 50% menores e 50% maiores.\n",
        "* **Terceiro quartil (Q3):** Divide os dados em 75% menores e 25% maiores.\n",
        "\n",
        "Os quartis forne"
      ],
      "metadata": {
        "id": "kaw-KseYTGuQ"
      }
    }
  ]
}