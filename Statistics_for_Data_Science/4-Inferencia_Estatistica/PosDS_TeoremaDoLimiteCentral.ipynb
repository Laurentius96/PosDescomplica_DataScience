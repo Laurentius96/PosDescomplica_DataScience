{
  "nbformat": 4,
  "nbformat_minor": 0,
  "metadata": {
    "colab": {
      "provenance": []
    },
    "kernelspec": {
      "name": "python3",
      "display_name": "Python 3"
    },
    "language_info": {
      "name": "python"
    }
  },
  "cells": [
    {
      "cell_type": "markdown",
      "source": [
        "### Uma grande aplicação da Distribuição Normal é o `Teorema do Limite Central`!\n",
        "\n",
        "<br>\n",
        "\n",
        "### Esse teorema afirma que quando o tamanho da amostra aumenta, a **distribuição amostral da sua média** aproxima-se cada vez mais de uma distribuição normal.\n",
        "\n",
        "<br>\n",
        "\n",
        "![alt_text](https://slideplayer.com.br/slide/1871319/8/images/29/O+Teorema+do+Limite+Central.jpg)\n",
        "\n",
        "<br>\n",
        "\n",
        "\n",
        "### É isso mesmo que você ouviu! A média amostral vai ter uma distribuição normal e a partir disso, temos muitas aplicações: Testes de Hipótese, Intervalos de Confiança, Regressões Lineares, etc."
      ],
      "metadata": {
        "id": "TfYWVgAfdbxH"
      }
    },
    {
      "cell_type": "markdown",
      "source": [
        "### Vamos usar dados abertos de filmes da Netflix novamente.\n",
        "\n",
        "<br>\n",
        "\n",
        "https://www.kaggle.com/datasets/ariyoomotade/netflix-data-cleaning-analysis-and-visualization"
      ],
      "metadata": {
        "id": "XCYx97rzfQn0"
      }
    },
    {
      "cell_type": "code",
      "execution_count": 1,
      "metadata": {
        "id": "F00bEw2-dFtd"
      },
      "outputs": [],
      "source": [
        "import pandas as pd"
      ]
    },
    {
      "cell_type": "code",
      "source": [
        "df = pd.read_csv('filmes_netflix.csv')"
      ],
      "metadata": {
        "id": "I4Av3WoGfVpW"
      },
      "execution_count": 3,
      "outputs": []
    },
    {
      "cell_type": "code",
      "source": [
        "df.head()"
      ],
      "metadata": {
        "colab": {
          "base_uri": "https://localhost:8080/",
          "height": 206
        },
        "id": "XmjiF-ycfdXn",
        "outputId": "d6045077-e9c6-4b0a-f62d-b92a6ef7f6f7"
      },
      "execution_count": 4,
      "outputs": [
        {
          "output_type": "execute_result",
          "data": {
            "text/plain": [
              "  show_id   type                             title         director  \\\n",
              "0      s1  Movie              Dick Johnson Is Dead  Kirsten Johnson   \n",
              "1     s14  Movie  Confessions of an Invisible Girl    Bruno Garotti   \n",
              "2      s8  Movie                           Sankofa     Haile Gerima   \n",
              "3     s10  Movie                      The Starling   Theodore Melfi   \n",
              "4    s939  Movie   Motu Patlu in the Game of Zones      Suhas Kadav   \n",
              "\n",
              "         country date_added  release_year rating duration  \\\n",
              "0  United States  9/25/2021          2020  PG-13   90 min   \n",
              "1         Brazil  9/22/2021          2021  TV-PG   91 min   \n",
              "2  United States  9/24/2021          1993  TV-MA  125 min   \n",
              "3  United States  9/24/2021          2021  PG-13  104 min   \n",
              "4          India   5/1/2021          2019  TV-Y7   87 min   \n",
              "\n",
              "                                           listed_in  duracao_min  \n",
              "0                                      Documentaries           90  \n",
              "1                 Children & Family Movies, Comedies           91  \n",
              "2   Dramas, Independent Movies, International Movies          125  \n",
              "3                                   Comedies, Dramas          104  \n",
              "4  Children & Family Movies, Comedies, Music & Mu...           87  "
            ],
            "text/html": [
              "\n",
              "  <div id=\"df-10de5abc-3d08-471f-8933-28e9cc8b0544\" class=\"colab-df-container\">\n",
              "    <div>\n",
              "<style scoped>\n",
              "    .dataframe tbody tr th:only-of-type {\n",
              "        vertical-align: middle;\n",
              "    }\n",
              "\n",
              "    .dataframe tbody tr th {\n",
              "        vertical-align: top;\n",
              "    }\n",
              "\n",
              "    .dataframe thead th {\n",
              "        text-align: right;\n",
              "    }\n",
              "</style>\n",
              "<table border=\"1\" class=\"dataframe\">\n",
              "  <thead>\n",
              "    <tr style=\"text-align: right;\">\n",
              "      <th></th>\n",
              "      <th>show_id</th>\n",
              "      <th>type</th>\n",
              "      <th>title</th>\n",
              "      <th>director</th>\n",
              "      <th>country</th>\n",
              "      <th>date_added</th>\n",
              "      <th>release_year</th>\n",
              "      <th>rating</th>\n",
              "      <th>duration</th>\n",
              "      <th>listed_in</th>\n",
              "      <th>duracao_min</th>\n",
              "    </tr>\n",
              "  </thead>\n",
              "  <tbody>\n",
              "    <tr>\n",
              "      <th>0</th>\n",
              "      <td>s1</td>\n",
              "      <td>Movie</td>\n",
              "      <td>Dick Johnson Is Dead</td>\n",
              "      <td>Kirsten Johnson</td>\n",
              "      <td>United States</td>\n",
              "      <td>9/25/2021</td>\n",
              "      <td>2020</td>\n",
              "      <td>PG-13</td>\n",
              "      <td>90 min</td>\n",
              "      <td>Documentaries</td>\n",
              "      <td>90</td>\n",
              "    </tr>\n",
              "    <tr>\n",
              "      <th>1</th>\n",
              "      <td>s14</td>\n",
              "      <td>Movie</td>\n",
              "      <td>Confessions of an Invisible Girl</td>\n",
              "      <td>Bruno Garotti</td>\n",
              "      <td>Brazil</td>\n",
              "      <td>9/22/2021</td>\n",
              "      <td>2021</td>\n",
              "      <td>TV-PG</td>\n",
              "      <td>91 min</td>\n",
              "      <td>Children &amp; Family Movies, Comedies</td>\n",
              "      <td>91</td>\n",
              "    </tr>\n",
              "    <tr>\n",
              "      <th>2</th>\n",
              "      <td>s8</td>\n",
              "      <td>Movie</td>\n",
              "      <td>Sankofa</td>\n",
              "      <td>Haile Gerima</td>\n",
              "      <td>United States</td>\n",
              "      <td>9/24/2021</td>\n",
              "      <td>1993</td>\n",
              "      <td>TV-MA</td>\n",
              "      <td>125 min</td>\n",
              "      <td>Dramas, Independent Movies, International Movies</td>\n",
              "      <td>125</td>\n",
              "    </tr>\n",
              "    <tr>\n",
              "      <th>3</th>\n",
              "      <td>s10</td>\n",
              "      <td>Movie</td>\n",
              "      <td>The Starling</td>\n",
              "      <td>Theodore Melfi</td>\n",
              "      <td>United States</td>\n",
              "      <td>9/24/2021</td>\n",
              "      <td>2021</td>\n",
              "      <td>PG-13</td>\n",
              "      <td>104 min</td>\n",
              "      <td>Comedies, Dramas</td>\n",
              "      <td>104</td>\n",
              "    </tr>\n",
              "    <tr>\n",
              "      <th>4</th>\n",
              "      <td>s939</td>\n",
              "      <td>Movie</td>\n",
              "      <td>Motu Patlu in the Game of Zones</td>\n",
              "      <td>Suhas Kadav</td>\n",
              "      <td>India</td>\n",
              "      <td>5/1/2021</td>\n",
              "      <td>2019</td>\n",
              "      <td>TV-Y7</td>\n",
              "      <td>87 min</td>\n",
              "      <td>Children &amp; Family Movies, Comedies, Music &amp; Mu...</td>\n",
              "      <td>87</td>\n",
              "    </tr>\n",
              "  </tbody>\n",
              "</table>\n",
              "</div>\n",
              "    <div class=\"colab-df-buttons\">\n",
              "\n",
              "  <div class=\"colab-df-container\">\n",
              "    <button class=\"colab-df-convert\" onclick=\"convertToInteractive('df-10de5abc-3d08-471f-8933-28e9cc8b0544')\"\n",
              "            title=\"Convert this dataframe to an interactive table.\"\n",
              "            style=\"display:none;\">\n",
              "\n",
              "  <svg xmlns=\"http://www.w3.org/2000/svg\" height=\"24px\" viewBox=\"0 -960 960 960\">\n",
              "    <path d=\"M120-120v-720h720v720H120Zm60-500h600v-160H180v160Zm220 220h160v-160H400v160Zm0 220h160v-160H400v160ZM180-400h160v-160H180v160Zm440 0h160v-160H620v160ZM180-180h160v-160H180v160Zm440 0h160v-160H620v160Z\"/>\n",
              "  </svg>\n",
              "    </button>\n",
              "\n",
              "  <style>\n",
              "    .colab-df-container {\n",
              "      display:flex;\n",
              "      gap: 12px;\n",
              "    }\n",
              "\n",
              "    .colab-df-convert {\n",
              "      background-color: #E8F0FE;\n",
              "      border: none;\n",
              "      border-radius: 50%;\n",
              "      cursor: pointer;\n",
              "      display: none;\n",
              "      fill: #1967D2;\n",
              "      height: 32px;\n",
              "      padding: 0 0 0 0;\n",
              "      width: 32px;\n",
              "    }\n",
              "\n",
              "    .colab-df-convert:hover {\n",
              "      background-color: #E2EBFA;\n",
              "      box-shadow: 0px 1px 2px rgba(60, 64, 67, 0.3), 0px 1px 3px 1px rgba(60, 64, 67, 0.15);\n",
              "      fill: #174EA6;\n",
              "    }\n",
              "\n",
              "    .colab-df-buttons div {\n",
              "      margin-bottom: 4px;\n",
              "    }\n",
              "\n",
              "    [theme=dark] .colab-df-convert {\n",
              "      background-color: #3B4455;\n",
              "      fill: #D2E3FC;\n",
              "    }\n",
              "\n",
              "    [theme=dark] .colab-df-convert:hover {\n",
              "      background-color: #434B5C;\n",
              "      box-shadow: 0px 1px 3px 1px rgba(0, 0, 0, 0.15);\n",
              "      filter: drop-shadow(0px 1px 2px rgba(0, 0, 0, 0.3));\n",
              "      fill: #FFFFFF;\n",
              "    }\n",
              "  </style>\n",
              "\n",
              "    <script>\n",
              "      const buttonEl =\n",
              "        document.querySelector('#df-10de5abc-3d08-471f-8933-28e9cc8b0544 button.colab-df-convert');\n",
              "      buttonEl.style.display =\n",
              "        google.colab.kernel.accessAllowed ? 'block' : 'none';\n",
              "\n",
              "      async function convertToInteractive(key) {\n",
              "        const element = document.querySelector('#df-10de5abc-3d08-471f-8933-28e9cc8b0544');\n",
              "        const dataTable =\n",
              "          await google.colab.kernel.invokeFunction('convertToInteractive',\n",
              "                                                    [key], {});\n",
              "        if (!dataTable) return;\n",
              "\n",
              "        const docLinkHtml = 'Like what you see? Visit the ' +\n",
              "          '<a target=\"_blank\" href=https://colab.research.google.com/notebooks/data_table.ipynb>data table notebook</a>'\n",
              "          + ' to learn more about interactive tables.';\n",
              "        element.innerHTML = '';\n",
              "        dataTable['output_type'] = 'display_data';\n",
              "        await google.colab.output.renderOutput(dataTable, element);\n",
              "        const docLink = document.createElement('div');\n",
              "        docLink.innerHTML = docLinkHtml;\n",
              "        element.appendChild(docLink);\n",
              "      }\n",
              "    </script>\n",
              "  </div>\n",
              "\n",
              "\n",
              "<div id=\"df-1adb10df-e3fe-4579-9435-73fb2093a94f\">\n",
              "  <button class=\"colab-df-quickchart\" onclick=\"quickchart('df-1adb10df-e3fe-4579-9435-73fb2093a94f')\"\n",
              "            title=\"Suggest charts\"\n",
              "            style=\"display:none;\">\n",
              "\n",
              "<svg xmlns=\"http://www.w3.org/2000/svg\" height=\"24px\"viewBox=\"0 0 24 24\"\n",
              "     width=\"24px\">\n",
              "    <g>\n",
              "        <path d=\"M19 3H5c-1.1 0-2 .9-2 2v14c0 1.1.9 2 2 2h14c1.1 0 2-.9 2-2V5c0-1.1-.9-2-2-2zM9 17H7v-7h2v7zm4 0h-2V7h2v10zm4 0h-2v-4h2v4z\"/>\n",
              "    </g>\n",
              "</svg>\n",
              "  </button>\n",
              "\n",
              "<style>\n",
              "  .colab-df-quickchart {\n",
              "      --bg-color: #E8F0FE;\n",
              "      --fill-color: #1967D2;\n",
              "      --hover-bg-color: #E2EBFA;\n",
              "      --hover-fill-color: #174EA6;\n",
              "      --disabled-fill-color: #AAA;\n",
              "      --disabled-bg-color: #DDD;\n",
              "  }\n",
              "\n",
              "  [theme=dark] .colab-df-quickchart {\n",
              "      --bg-color: #3B4455;\n",
              "      --fill-color: #D2E3FC;\n",
              "      --hover-bg-color: #434B5C;\n",
              "      --hover-fill-color: #FFFFFF;\n",
              "      --disabled-bg-color: #3B4455;\n",
              "      --disabled-fill-color: #666;\n",
              "  }\n",
              "\n",
              "  .colab-df-quickchart {\n",
              "    background-color: var(--bg-color);\n",
              "    border: none;\n",
              "    border-radius: 50%;\n",
              "    cursor: pointer;\n",
              "    display: none;\n",
              "    fill: var(--fill-color);\n",
              "    height: 32px;\n",
              "    padding: 0;\n",
              "    width: 32px;\n",
              "  }\n",
              "\n",
              "  .colab-df-quickchart:hover {\n",
              "    background-color: var(--hover-bg-color);\n",
              "    box-shadow: 0 1px 2px rgba(60, 64, 67, 0.3), 0 1px 3px 1px rgba(60, 64, 67, 0.15);\n",
              "    fill: var(--button-hover-fill-color);\n",
              "  }\n",
              "\n",
              "  .colab-df-quickchart-complete:disabled,\n",
              "  .colab-df-quickchart-complete:disabled:hover {\n",
              "    background-color: var(--disabled-bg-color);\n",
              "    fill: var(--disabled-fill-color);\n",
              "    box-shadow: none;\n",
              "  }\n",
              "\n",
              "  .colab-df-spinner {\n",
              "    border: 2px solid var(--fill-color);\n",
              "    border-color: transparent;\n",
              "    border-bottom-color: var(--fill-color);\n",
              "    animation:\n",
              "      spin 1s steps(1) infinite;\n",
              "  }\n",
              "\n",
              "  @keyframes spin {\n",
              "    0% {\n",
              "      border-color: transparent;\n",
              "      border-bottom-color: var(--fill-color);\n",
              "      border-left-color: var(--fill-color);\n",
              "    }\n",
              "    20% {\n",
              "      border-color: transparent;\n",
              "      border-left-color: var(--fill-color);\n",
              "      border-top-color: var(--fill-color);\n",
              "    }\n",
              "    30% {\n",
              "      border-color: transparent;\n",
              "      border-left-color: var(--fill-color);\n",
              "      border-top-color: var(--fill-color);\n",
              "      border-right-color: var(--fill-color);\n",
              "    }\n",
              "    40% {\n",
              "      border-color: transparent;\n",
              "      border-right-color: var(--fill-color);\n",
              "      border-top-color: var(--fill-color);\n",
              "    }\n",
              "    60% {\n",
              "      border-color: transparent;\n",
              "      border-right-color: var(--fill-color);\n",
              "    }\n",
              "    80% {\n",
              "      border-color: transparent;\n",
              "      border-right-color: var(--fill-color);\n",
              "      border-bottom-color: var(--fill-color);\n",
              "    }\n",
              "    90% {\n",
              "      border-color: transparent;\n",
              "      border-bottom-color: var(--fill-color);\n",
              "    }\n",
              "  }\n",
              "</style>\n",
              "\n",
              "  <script>\n",
              "    async function quickchart(key) {\n",
              "      const quickchartButtonEl =\n",
              "        document.querySelector('#' + key + ' button');\n",
              "      quickchartButtonEl.disabled = true;  // To prevent multiple clicks.\n",
              "      quickchartButtonEl.classList.add('colab-df-spinner');\n",
              "      try {\n",
              "        const charts = await google.colab.kernel.invokeFunction(\n",
              "            'suggestCharts', [key], {});\n",
              "      } catch (error) {\n",
              "        console.error('Error during call to suggestCharts:', error);\n",
              "      }\n",
              "      quickchartButtonEl.classList.remove('colab-df-spinner');\n",
              "      quickchartButtonEl.classList.add('colab-df-quickchart-complete');\n",
              "    }\n",
              "    (() => {\n",
              "      let quickchartButtonEl =\n",
              "        document.querySelector('#df-1adb10df-e3fe-4579-9435-73fb2093a94f button');\n",
              "      quickchartButtonEl.style.display =\n",
              "        google.colab.kernel.accessAllowed ? 'block' : 'none';\n",
              "    })();\n",
              "  </script>\n",
              "</div>\n",
              "\n",
              "    </div>\n",
              "  </div>\n"
            ],
            "application/vnd.google.colaboratory.intrinsic+json": {
              "type": "dataframe",
              "variable_name": "df",
              "summary": "{\n  \"name\": \"df\",\n  \"rows\": 6126,\n  \"fields\": [\n    {\n      \"column\": \"show_id\",\n      \"properties\": {\n        \"dtype\": \"string\",\n        \"num_unique_values\": 6126,\n        \"samples\": [\n          \"s2062\",\n          \"s8402\",\n          \"s7528\"\n        ],\n        \"semantic_type\": \"\",\n        \"description\": \"\"\n      }\n    },\n    {\n      \"column\": \"type\",\n      \"properties\": {\n        \"dtype\": \"category\",\n        \"num_unique_values\": 1,\n        \"samples\": [\n          \"Movie\"\n        ],\n        \"semantic_type\": \"\",\n        \"description\": \"\"\n      }\n    },\n    {\n      \"column\": \"title\",\n      \"properties\": {\n        \"dtype\": \"string\",\n        \"num_unique_values\": 6124,\n        \"samples\": [\n          \"First Impression\"\n        ],\n        \"semantic_type\": \"\",\n        \"description\": \"\"\n      }\n    },\n    {\n      \"column\": \"director\",\n      \"properties\": {\n        \"dtype\": \"string\",\n        \"num_unique_values\": 4355,\n        \"samples\": [\n          \"Don Argott, Sheena M. Joyce\"\n        ],\n        \"semantic_type\": \"\",\n        \"description\": \"\"\n      }\n    },\n    {\n      \"column\": \"country\",\n      \"properties\": {\n        \"dtype\": \"category\",\n        \"num_unique_values\": 79,\n        \"samples\": [\n          \"Indonesia\"\n        ],\n        \"semantic_type\": \"\",\n        \"description\": \"\"\n      }\n    },\n    {\n      \"column\": \"date_added\",\n      \"properties\": {\n        \"dtype\": \"object\",\n        \"num_unique_values\": 1531,\n        \"samples\": [\n          \"6/16/2019\"\n        ],\n        \"semantic_type\": \"\",\n        \"description\": \"\"\n      }\n    },\n    {\n      \"column\": \"release_year\",\n      \"properties\": {\n        \"dtype\": \"number\",\n        \"std\": 9,\n        \"min\": 1942,\n        \"max\": 2021,\n        \"num_unique_values\": 73,\n        \"samples\": [\n          2013\n        ],\n        \"semantic_type\": \"\",\n        \"description\": \"\"\n      }\n    },\n    {\n      \"column\": \"rating\",\n      \"properties\": {\n        \"dtype\": \"category\",\n        \"num_unique_values\": 14,\n        \"samples\": [\n          \"G\"\n        ],\n        \"semantic_type\": \"\",\n        \"description\": \"\"\n      }\n    },\n    {\n      \"column\": \"duration\",\n      \"properties\": {\n        \"dtype\": \"category\",\n        \"num_unique_values\": 205,\n        \"samples\": [\n          \"65 min\"\n        ],\n        \"semantic_type\": \"\",\n        \"description\": \"\"\n      }\n    },\n    {\n      \"column\": \"listed_in\",\n      \"properties\": {\n        \"dtype\": \"category\",\n        \"num_unique_values\": 278,\n        \"samples\": [\n          \"Documentaries, Sports Movies\"\n        ],\n        \"semantic_type\": \"\",\n        \"description\": \"\"\n      }\n    },\n    {\n      \"column\": \"duracao_min\",\n      \"properties\": {\n        \"dtype\": \"number\",\n        \"std\": 28,\n        \"min\": 3,\n        \"max\": 312,\n        \"num_unique_values\": 205,\n        \"samples\": [\n          65\n        ],\n        \"semantic_type\": \"\",\n        \"description\": \"\"\n      }\n    }\n  ]\n}"
            }
          },
          "metadata": {},
          "execution_count": 4
        }
      ]
    },
    {
      "cell_type": "markdown",
      "source": [
        "### Descrição das colunas\n",
        "\n",
        "* **`show_id`** - id do filme\n",
        "* **`type`** - tipo de conteúdo(Movie)\n",
        "* **`title`** - título do filme\n",
        "* **`director`** - pessoa diretora do filme\n",
        "* **`country`** - país do filme\n",
        "* **`date_added`** - data de adição à Netflix\n",
        "* **`release_year`** - ano de lançamento\n",
        "* **`rating`** - rating da TV para o filme\n",
        "* **`duration`** - duração do conteúdo\n",
        "* **`listed_in`** - gênero do conteúdo\n",
        "* **`duracao_min`** - duração do conteúdo em minutos"
      ],
      "metadata": {
        "id": "NcBBnu1ZftuS"
      }
    },
    {
      "cell_type": "code",
      "source": [
        "df.dtypes"
      ],
      "metadata": {
        "colab": {
          "base_uri": "https://localhost:8080/"
        },
        "id": "Nd-kEipVfogj",
        "outputId": "07cd1ed2-01ef-4115-af29-7d28653ded08"
      },
      "execution_count": 6,
      "outputs": [
        {
          "output_type": "execute_result",
          "data": {
            "text/plain": [
              "show_id         object\n",
              "type            object\n",
              "title           object\n",
              "director        object\n",
              "country         object\n",
              "date_added      object\n",
              "release_year     int64\n",
              "rating          object\n",
              "duration        object\n",
              "listed_in       object\n",
              "duracao_min      int64\n",
              "dtype: object"
            ]
          },
          "metadata": {},
          "execution_count": 6
        }
      ]
    },
    {
      "cell_type": "code",
      "source": [
        "import plotly.figure_factory as ff"
      ],
      "metadata": {
        "id": "DHq7VhTYfxqz"
      },
      "execution_count": 7,
      "outputs": []
    },
    {
      "cell_type": "code",
      "source": [
        "fig = ff.create_distplot([df['duracao_min']], ['Duração (min)'],\n",
        "                        show_rug = False, bin_size = 2, show_hist = False)\n",
        "\n",
        "fig.update_layout(title_text = 'Duração dos Filmes')\n",
        "fig.show()"
      ],
      "metadata": {
        "colab": {
          "base_uri": "https://localhost:8080/",
          "height": 542
        },
        "id": "dEuMG9opf_2t",
        "outputId": "9fffb3a6-2481-43bc-bd38-035f4dd14fa1"
      },
      "execution_count": 9,
      "outputs": [
        {
          "output_type": "display_data",
          "data": {
            "text/html": [
              "<html>\n",
              "<head><meta charset=\"utf-8\" /></head>\n",
              "<body>\n",
              "    <div>            <script src=\"https://cdnjs.cloudflare.com/ajax/libs/mathjax/2.7.5/MathJax.js?config=TeX-AMS-MML_SVG\"></script><script type=\"text/javascript\">if (window.MathJax && window.MathJax.Hub && window.MathJax.Hub.Config) {window.MathJax.Hub.Config({SVG: {font: \"STIX-Web\"}});}</script>                <script type=\"text/javascript\">window.PlotlyConfig = {MathJaxConfig: 'local'};</script>\n",
              "        <script charset=\"utf-8\" src=\"https://cdn.plot.ly/plotly-2.24.1.min.js\"></script>                <div id=\"782bcfe8-7101-4290-9ff4-33624743130e\" class=\"plotly-graph-div\" style=\"height:525px; width:100%;\"></div>            <script type=\"text/javascript\">                                    window.PLOTLYENV=window.PLOTLYENV || {};                                    if (document.getElementById(\"782bcfe8-7101-4290-9ff4-33624743130e\")) {                    Plotly.newPlot(                        \"782bcfe8-7101-4290-9ff4-33624743130e\",                        [{\"legendgroup\":\"Dura\\u00e7\\u00e3o (min)\",\"marker\":{\"color\":\"rgb(31, 119, 180)\"},\"mode\":\"lines\",\"name\":\"Dura\\u00e7\\u00e3o (min)\",\"showlegend\":true,\"x\":[3.0,3.618,4.236,4.854,5.4719999999999995,6.09,6.708,7.326,7.944,8.562000000000001,9.18,9.798,10.416,11.034,11.652,12.27,12.888,13.506,14.124,14.742,15.36,15.978,16.596,17.214,17.832,18.45,19.068,19.686,20.304,20.922,21.54,22.158,22.776,23.394,24.012,24.63,25.248,25.866,26.484,27.102,27.72,28.338,28.956,29.574,30.192,30.81,31.428,32.046,32.664,33.282,33.9,34.518,35.136,35.754,36.372,36.99,37.608,38.226,38.844,39.462,40.08,40.698,41.316,41.934,42.552,43.17,43.788,44.406,45.024,45.642,46.26,46.878,47.496,48.114,48.732,49.35,49.968,50.586,51.204,51.822,52.44,53.058,53.676,54.294,54.912,55.53,56.148,56.766,57.384,58.002,58.62,59.238,59.856,60.474,61.092,61.71,62.328,62.946,63.564,64.182,64.8,65.418,66.036,66.654,67.272,67.89,68.508,69.126,69.744,70.362,70.98,71.598,72.216,72.834,73.452,74.07,74.688,75.306,75.924,76.542,77.16,77.778,78.396,79.014,79.632,80.25,80.868,81.486,82.104,82.722,83.34,83.958,84.576,85.194,85.812,86.43,87.048,87.666,88.284,88.902,89.52,90.138,90.756,91.374,91.992,92.61,93.228,93.846,94.464,95.082,95.7,96.318,96.936,97.554,98.172,98.79,99.408,100.026,100.644,101.262,101.88,102.498,103.116,103.734,104.352,104.97,105.588,106.206,106.824,107.442,108.06,108.678,109.296,109.914,110.532,111.15,111.768,112.386,113.004,113.622,114.24,114.858,115.476,116.094,116.712,117.33,117.948,118.566,119.184,119.802,120.42,121.038,121.656,122.274,122.892,123.51,124.128,124.746,125.364,125.982,126.6,127.218,127.836,128.454,129.072,129.69,130.308,130.926,131.544,132.162,132.78,133.398,134.016,134.634,135.252,135.87,136.488,137.106,137.724,138.342,138.96,139.578,140.196,140.814,141.432,142.05,142.668,143.286,143.904,144.522,145.14,145.758,146.376,146.994,147.612,148.23,148.848,149.466,150.084,150.702,151.32,151.938,152.556,153.174,153.792,154.41,155.028,155.646,156.264,156.882,157.5,158.118,158.736,159.354,159.972,160.59,161.208,161.826,162.444,163.062,163.68,164.298,164.916,165.534,166.152,166.77,167.388,168.006,168.624,169.242,169.86,170.478,171.096,171.714,172.332,172.95,173.568,174.186,174.804,175.422,176.04,176.658,177.276,177.894,178.512,179.13,179.748,180.366,180.984,181.602,182.22,182.838,183.456,184.074,184.692,185.31,185.928,186.546,187.164,187.782,188.4,189.018,189.636,190.254,190.872,191.49,192.108,192.726,193.344,193.962,194.58,195.198,195.816,196.434,197.052,197.67,198.288,198.906,199.524,200.142,200.76,201.378,201.996,202.614,203.232,203.85,204.468,205.086,205.704,206.322,206.94,207.558,208.176,208.794,209.412,210.03,210.648,211.266,211.884,212.502,213.12,213.738,214.356,214.974,215.592,216.21,216.828,217.446,218.064,218.682,219.3,219.918,220.536,221.154,221.772,222.39,223.008,223.626,224.244,224.862,225.48,226.098,226.716,227.334,227.952,228.57,229.188,229.806,230.424,231.042,231.66,232.278,232.896,233.514,234.132,234.75,235.368,235.986,236.604,237.222,237.84,238.458,239.076,239.694,240.312,240.93,241.548,242.166,242.784,243.402,244.02,244.638,245.256,245.874,246.492,247.11,247.728,248.346,248.964,249.582,250.2,250.818,251.436,252.054,252.672,253.29,253.908,254.526,255.144,255.762,256.38,256.998,257.616,258.23400000000004,258.852,259.47,260.088,260.706,261.324,261.942,262.56,263.178,263.796,264.414,265.032,265.65,266.268,266.886,267.504,268.122,268.74,269.358,269.976,270.594,271.212,271.83,272.448,273.066,273.684,274.302,274.92,275.538,276.156,276.774,277.392,278.01,278.628,279.246,279.864,280.482,281.1,281.718,282.336,282.954,283.572,284.19,284.808,285.426,286.044,286.662,287.28,287.898,288.516,289.134,289.752,290.37,290.988,291.606,292.224,292.842,293.46,294.078,294.696,295.314,295.932,296.55,297.168,297.786,298.404,299.022,299.64,300.258,300.876,301.494,302.112,302.73,303.348,303.966,304.584,305.202,305.82,306.438,307.056,307.674,308.292,308.91,309.528,310.146,310.764,311.382],\"xaxis\":\"x\",\"y\":[7.126874294717434e-05,8.189331133481169e-05,9.361972159163829e-05,0.00010648527321564292,0.0001205128066495646,0.00013571003573751455,0.00015207129815715233,0.00016958235278165723,0.00018822856278361564,0.0002080063686032999,0.00022893740609103536,0.00025108401839250393,0.0002745643243762019,0.00029956453588099257,0.0003263459591020156,0.00035524415994213446,0.000386658180704115,0.0004210284861359226,0.0004588034573184737,0.0005003956500095341,0.000546130541520233,0.0005961919152404423,0.000650569161720422,0.0007090124059959235,0.0007710013418769609,0.0008357328798194285,0.000902131210171125,0.00096888177297816,0.0010344881376291547,0.0010973482365026624,0.001155844107957,0.0012084376099455302,0.001253763720129047,0.00129071318006346,0.0013184973660253618,0.001336690228105665,0.0013452446601086177,0.001344483394250094,0.0013350670839525564,0.0013179443114251152,0.00129428959114355,0.0012654359172742163,0.0012328080389636164,0.0011978615802848238,0.0011620315781831056,0.0011266922625996977,0.0010931282154478315,0.0010625156426756087,0.0010359115278607937,0.0010142479745039235,0.000998329075051526,0.00098882809052215,0.0009862834656077484,0.000991093101237966,0.0010035072218093537,0.0010236209851258908,0.0010513685909931683,0.0010865209781712052,0.0011286892162041152,0.0011773353848115466,0.0012317921063346685,0.0012912910072778259,0.0013549993202263161,0.001422062718646239,0.0014916514520491248,0.001563006076054972,0.0016354786964578923,0.0017085657732549685,0.001781929197258156,0.001855403510127215,0.0019289886503743008,0.002002829259555641,0.002077183118146147,0.0021523824466160636,0.002228792405469374,0.0023067710584636254,0.0023866343508781944,0.002468628450356826,0.002552910351223434,0.0026395362524046875,0.0027284561672158967,0.002819512715709372,0.0029124421681225505,0.003006876488289334,0.003102346174662844,0.003198284831646197,0.003294037318501619,0.003388873755654747,0.0034820114623761713,0.0035726460410917056,0.0036599914445882274,0.0037433272162093866,0.0038220495009396826,0.0038957212104764063,0.00396411614851336,0.0040272521103744295,0.004085408970076561,0.004139129424564359,0.004189202133299812,0.004236629159087393,0.0042825815587676655,0.004328348407795991,0.004375285272609651,0.004424768081032852,0.004478157512244596,0.004536777567313415,0.004601910101066472,0.004674805052067872,0.004756704161781629,0.00484887435932452,0.004952645879565505,0.005069449678284892,0.005200848823488413,0.0053485592120481144,0.005514456055720775,0.005700563927824424,0.005909029573857359,0.006142077992030252,0.006401953347994845,0.00669084702469759,0.007010815512436013,0.0073636909685611115,0.00775098722274742,0.00817380389976119,0.008632731301336021,0.009127758824246714,0.009658190030078206,0.010222567993023745,0.010818615138166622,0.011443192294953738,0.012092281954165089,0.01276100056424442,0.013443644008270037,0.014133769109271029,0.014824312148454932,0.01550774306634752,0.016176251445505788,0.016821957791315543,0.017437141298899665,0.018014473466773116,0.018547245790469485,0.01902957946941883,0.019456605632377322,0.01982460599332803,0.02013110598276289,0.020374915097820648,0.02055611228588613,0.020675977413827845,0.020736873073954616,0.020742083942967466,0.020695623460999797,0.0206020195705136,0.020466092506437446,0.0202927380447964,0.020086729123176005,0.019852547324726653,0.01959425342164674,0.019315403139715828,0.019019010750855814,0.018707559314811436,0.018383052708056364,0.01804710134065623,0.01770103097982559,0.017346002608704905,0.016983130882963254,0.016613589518063496,0.016238693739175948,0.015859952544822274,0.015479086694276048,0.015098011712892845,0.014718788506318093,0.014343547103814868,0.01397439138626097,0.013613294233346252,0.01326199325146186,0.012921897086772419,0.012594011314297071,0.012278891107051198,0.0119766254669284,0.011686854931274075,0.011408821593851898,0.011141447270656916,0.010883432990650848,0.010633370977498066,0.010389859141754682,0.01015160797156869,0.009917530629833877,0.009686808945638198,0.009458930612922677,0.009233695965060563,0.009011195808356905,0.00879176459360339,0.008575915357145102,0.008364264144442737,0.008157451942637822,0.007956071535934979,0.007760605325331748,0.007571378279943032,0.007388528112451625,0.007211992790922743,0.00704151385616057,0.006876652866606386,0.006716817701470832,0.006561295382719322,0.00640928841812926,0.006259952266539627,0.006112432216788971,0.0059658986069849465,0.005819579785159452,0.005672792473115188,0.0055249692420767825,0.00537568268484371,0.005224665646269044,0.005071826635239225,0.004917259365815463,0.0047612453253166945,0.004604248381695958,0.004446900734027356,0.004289979965499357,0.004134377543601745,0.003981059776070428,0.00383102291119299,0.003685244698851061,0.0035446352352729712,0.0034099902360509625,0.0032819499658207096,0.00316096686372637,0.003047284429451051,0.0029409291915457473,0.002841716615360836,0.0027492706994843024,0.0026630558594375616,0.0025824186226497364,0.0025066357778518902,0.0024349650387814684,0.0023666940701316777,0.002301183914352832,0.002237903433879192,0.0021764522798478226,0.0021165710121716203,0.002058138200554695,0.002001155500934438,0.0019457227102733293,0.0018920055668063818,0.0018401995320344623,0.001790492951977335,0.0017430328674149073,0.0016978963667929096,0.00165506980265431,0.0016144374762205082,0.0015757805856021455,0.001538786378730751,0.0015030666006565832,0.0014681835293460861,0.0014336812146115187,0.0013991190365084014,0.0013641044456185135,0.0013283217879293695,0.0012915544750148012,0.0012536984219809087,0.001214765584150832,0.0011748774809230069,0.001134249674054862,0.0010931691286629232,0.0010519671001259037,0.0010109905631577236,0.0009705751846219318,0.0009310224514211189,0.0008925828675138798,0.0008554462425232636,0.0008197391457132126,0.0007855287314419594,0.0007528314717972354,0.0007216249356112319,0.0006918606578442584,0.00066347632737303,0.000636405921576605,0.0006105869438904303,0.0005859644788183814,0.0005624922801376087,0.0005401314871994375,0.0005188477863398128,0.0004986078953525087,0.00047937617062391945,0.00046111195801452,0.0004437680761245743,0.0004272905782264264,0.0004116197220160963,0.0003966919073885855,0.00038244223244000445,0.0003688072677872418,0.0003557276536475543,0.0003431501744134581,0.00033102905224470183,0.00031932631483751753,0.00030801122272569863,0.0002970588762907377,0.00028644824789818827,0.00027615998411338724,0.00026617438046733384,0.00025646993311467694,0.00024702281040660224,0.0002378074644198998,0.00022879843006776623,0.00021997316006869464,0.00021131554782809366,0.00020281963014083022,0.00019449286757997915,0.0001863583938143582,0.00017845571393640497,0.0001708395086142416,0.00016357644279390627,0.0001567401501862199,0.000150404826961846,0.00014463807950362877,0.00013949379858445795,0.00013500585571883466,0.0001311833327329022,0.00012800781571201033,0.00012543303683141248,0.0001233868693213399,0.00012177541258312533,0.00012048868364749892,0.00011940728602552873,0.00011840937263830933,0.0001173772562083437,0.00011620313472078826,0.00011479356723445409,0.00011307252662233319,0.00011098304057183756,0.00010848758476769437,0.00010556749521057788,0.00010222171270986833,9.846516425334374e-05,9.432703384209049e-05,8.984909533421336e-05,8.508418957371251e-05,8.009484403502767e-05,7.495196817878972e-05,6.973351944305155e-05,6.452302566353964e-05,5.940786727249381e-05,5.4477260740417396e-05,4.981993506017021e-05,4.552154658483064e-05,4.166192581994271e-05,3.8312286152259225e-05,3.553254472585598e-05,3.336890829409711e-05,3.185186316518843e-05,3.099468191393272e-05,3.079252548631882e-05,3.122218333082472e-05,3.224246131448922e-05,3.379520089585115e-05,3.5806894540357385e-05,3.819085045715967e-05,4.0849851187862986e-05,4.3679241137415096e-05,4.6570363851856464e-05,4.941424843195808e-05,5.21054163643749e-05,5.454564883726765e-05,5.664752661576934e-05,5.833753764799735e-05,5.955854935084581e-05,6.0271468328078696e-05,6.0455961502059994e-05,6.0110185822276165e-05,5.9249560619461954e-05,5.790470553621805e-05,5.6118744581344735e-05,5.394423113441493e-05,5.143997111147684e-05,4.866800871689282e-05,4.56909939337027e-05,4.257008123966381e-05,3.93634268420981e-05,3.6125270280751804e-05,3.2905517709931366e-05,2.974969740283004e-05,2.669913723649672e-05,2.379121837316387e-05,2.105958408375585e-05,1.8534219988698606e-05,1.6241363450459093e-05,1.4203238012419518e-05,1.2437638607461049e-05,1.0957412738397105e-05,9.769892767974411e-06,8.876337617165639e-06,8.27144203069329e-06,7.9429710146398e-06,7.871577396728369e-06,8.030861018103338e-06,8.387726372552733e-06,8.903088133970207e-06,9.532957731112506e-06,1.0229917150747802e-05,1.0944949072762529e-05,1.1629548652854714e-05,1.2237997670130806e-05,1.2729643810336206e-05,1.3071004151750482e-05,1.3237508569187494e-05,1.3214718970950828e-05,1.2998903408012703e-05,1.2596905517004274e-05,1.2025321476133817e-05,1.1309068601996235e-05,1.0479491509897655e-05,9.572194505684785e-06,8.624806691966475e-06,7.674877235221113e-06,6.758064604767205e-06,5.906731264538517e-06,5.148992722518532e-06,4.5082065605861624e-06,4.002832196800406e-06,3.6465530468288553e-06,3.44853413865576e-06,3.4136916186901035e-06,3.5428743178340737e-06,3.832897189270885e-06,4.2764154598587225e-06,4.861679023686018e-06,5.572251003325711e-06,6.386805356168302e-06,7.279130488903072e-06,8.218456167610275e-06,9.170189741951436e-06,1.0097098248597426e-05,1.096091170524857e-05,1.172425846779537e-05,1.2352785572567966e-05,1.2817274791739142e-05,1.3095546031367259e-05,1.3173947793505208e-05,1.3048269723397764e-05,1.2723970548978416e-05,1.2215688119520231e-05,1.154607649104231e-05,1.074408711351751e-05,9.842867293140436e-06,8.877482088470777e-06,7.88267228802243e-06,6.890841877814131e-06,5.930427950925956e-06,5.024751572157191e-06,4.1913882458188825e-06,3.4420397284898954e-06,2.7828418982092963e-06,2.215010801240026e-06,1.7357126930437856e-06,1.3390431442141107e-06,1.0170123439091393e-06,7.604546148373599e-07,5.598054707558646e-07,4.0571525512542584e-07,2.894913174122986e-07,2.033787627305244e-07,1.407021585206463e-07,9.589729821024897e-08,6.446402045610221e-08,4.2869378397618785e-08,2.8426472798107756e-08,1.916922002774348e-08,1.373817917355782e-08,1.1287950594759638e-08,1.142289729399172e-08,1.4165065301916802e-08,1.9956006990822093e-08,2.969241446187646e-08,4.479365161214065e-08,6.729703983448972e-08,9.997378801977821e-08,1.4645459956169637e-07,2.1134929945695288e-07,3.0033965270463793e-07,4.2021956470886154e-07,5.788530555327685e-07,7.850190169147147e-07,1.048114120454191e-06,1.3776925338508728e-06,1.7828340721377985e-06,2.271351067647066e-06,2.848867574613167e-06,3.5178303563805287e-06,4.276536143741379e-06,5.118279790014075e-06,6.030738799367152e-06,6.995707369276457e-06,7.989274990833765e-06,8.982510311994826e-06,9.942662517525968e-06,1.0834834747568744e-05,1.162402417866766e-05,1.2277369789448335e-05,1.2766410013161707e-05,1.3069135456818142e-05],\"yaxis\":\"y\",\"type\":\"scatter\"}],                        {\"barmode\":\"overlay\",\"hovermode\":\"closest\",\"legend\":{\"traceorder\":\"reversed\"},\"xaxis\":{\"anchor\":\"y2\",\"domain\":[0.0,1.0],\"zeroline\":false},\"yaxis\":{\"anchor\":\"free\",\"domain\":[0.0,1],\"position\":0.0},\"template\":{\"data\":{\"histogram2dcontour\":[{\"type\":\"histogram2dcontour\",\"colorbar\":{\"outlinewidth\":0,\"ticks\":\"\"},\"colorscale\":[[0.0,\"#0d0887\"],[0.1111111111111111,\"#46039f\"],[0.2222222222222222,\"#7201a8\"],[0.3333333333333333,\"#9c179e\"],[0.4444444444444444,\"#bd3786\"],[0.5555555555555556,\"#d8576b\"],[0.6666666666666666,\"#ed7953\"],[0.7777777777777778,\"#fb9f3a\"],[0.8888888888888888,\"#fdca26\"],[1.0,\"#f0f921\"]]}],\"choropleth\":[{\"type\":\"choropleth\",\"colorbar\":{\"outlinewidth\":0,\"ticks\":\"\"}}],\"histogram2d\":[{\"type\":\"histogram2d\",\"colorbar\":{\"outlinewidth\":0,\"ticks\":\"\"},\"colorscale\":[[0.0,\"#0d0887\"],[0.1111111111111111,\"#46039f\"],[0.2222222222222222,\"#7201a8\"],[0.3333333333333333,\"#9c179e\"],[0.4444444444444444,\"#bd3786\"],[0.5555555555555556,\"#d8576b\"],[0.6666666666666666,\"#ed7953\"],[0.7777777777777778,\"#fb9f3a\"],[0.8888888888888888,\"#fdca26\"],[1.0,\"#f0f921\"]]}],\"heatmap\":[{\"type\":\"heatmap\",\"colorbar\":{\"outlinewidth\":0,\"ticks\":\"\"},\"colorscale\":[[0.0,\"#0d0887\"],[0.1111111111111111,\"#46039f\"],[0.2222222222222222,\"#7201a8\"],[0.3333333333333333,\"#9c179e\"],[0.4444444444444444,\"#bd3786\"],[0.5555555555555556,\"#d8576b\"],[0.6666666666666666,\"#ed7953\"],[0.7777777777777778,\"#fb9f3a\"],[0.8888888888888888,\"#fdca26\"],[1.0,\"#f0f921\"]]}],\"heatmapgl\":[{\"type\":\"heatmapgl\",\"colorbar\":{\"outlinewidth\":0,\"ticks\":\"\"},\"colorscale\":[[0.0,\"#0d0887\"],[0.1111111111111111,\"#46039f\"],[0.2222222222222222,\"#7201a8\"],[0.3333333333333333,\"#9c179e\"],[0.4444444444444444,\"#bd3786\"],[0.5555555555555556,\"#d8576b\"],[0.6666666666666666,\"#ed7953\"],[0.7777777777777778,\"#fb9f3a\"],[0.8888888888888888,\"#fdca26\"],[1.0,\"#f0f921\"]]}],\"contourcarpet\":[{\"type\":\"contourcarpet\",\"colorbar\":{\"outlinewidth\":0,\"ticks\":\"\"}}],\"contour\":[{\"type\":\"contour\",\"colorbar\":{\"outlinewidth\":0,\"ticks\":\"\"},\"colorscale\":[[0.0,\"#0d0887\"],[0.1111111111111111,\"#46039f\"],[0.2222222222222222,\"#7201a8\"],[0.3333333333333333,\"#9c179e\"],[0.4444444444444444,\"#bd3786\"],[0.5555555555555556,\"#d8576b\"],[0.6666666666666666,\"#ed7953\"],[0.7777777777777778,\"#fb9f3a\"],[0.8888888888888888,\"#fdca26\"],[1.0,\"#f0f921\"]]}],\"surface\":[{\"type\":\"surface\",\"colorbar\":{\"outlinewidth\":0,\"ticks\":\"\"},\"colorscale\":[[0.0,\"#0d0887\"],[0.1111111111111111,\"#46039f\"],[0.2222222222222222,\"#7201a8\"],[0.3333333333333333,\"#9c179e\"],[0.4444444444444444,\"#bd3786\"],[0.5555555555555556,\"#d8576b\"],[0.6666666666666666,\"#ed7953\"],[0.7777777777777778,\"#fb9f3a\"],[0.8888888888888888,\"#fdca26\"],[1.0,\"#f0f921\"]]}],\"mesh3d\":[{\"type\":\"mesh3d\",\"colorbar\":{\"outlinewidth\":0,\"ticks\":\"\"}}],\"scatter\":[{\"fillpattern\":{\"fillmode\":\"overlay\",\"size\":10,\"solidity\":0.2},\"type\":\"scatter\"}],\"parcoords\":[{\"type\":\"parcoords\",\"line\":{\"colorbar\":{\"outlinewidth\":0,\"ticks\":\"\"}}}],\"scatterpolargl\":[{\"type\":\"scatterpolargl\",\"marker\":{\"colorbar\":{\"outlinewidth\":0,\"ticks\":\"\"}}}],\"bar\":[{\"error_x\":{\"color\":\"#2a3f5f\"},\"error_y\":{\"color\":\"#2a3f5f\"},\"marker\":{\"line\":{\"color\":\"#E5ECF6\",\"width\":0.5},\"pattern\":{\"fillmode\":\"overlay\",\"size\":10,\"solidity\":0.2}},\"type\":\"bar\"}],\"scattergeo\":[{\"type\":\"scattergeo\",\"marker\":{\"colorbar\":{\"outlinewidth\":0,\"ticks\":\"\"}}}],\"scatterpolar\":[{\"type\":\"scatterpolar\",\"marker\":{\"colorbar\":{\"outlinewidth\":0,\"ticks\":\"\"}}}],\"histogram\":[{\"marker\":{\"pattern\":{\"fillmode\":\"overlay\",\"size\":10,\"solidity\":0.2}},\"type\":\"histogram\"}],\"scattergl\":[{\"type\":\"scattergl\",\"marker\":{\"colorbar\":{\"outlinewidth\":0,\"ticks\":\"\"}}}],\"scatter3d\":[{\"type\":\"scatter3d\",\"line\":{\"colorbar\":{\"outlinewidth\":0,\"ticks\":\"\"}},\"marker\":{\"colorbar\":{\"outlinewidth\":0,\"ticks\":\"\"}}}],\"scattermapbox\":[{\"type\":\"scattermapbox\",\"marker\":{\"colorbar\":{\"outlinewidth\":0,\"ticks\":\"\"}}}],\"scatterternary\":[{\"type\":\"scatterternary\",\"marker\":{\"colorbar\":{\"outlinewidth\":0,\"ticks\":\"\"}}}],\"scattercarpet\":[{\"type\":\"scattercarpet\",\"marker\":{\"colorbar\":{\"outlinewidth\":0,\"ticks\":\"\"}}}],\"carpet\":[{\"aaxis\":{\"endlinecolor\":\"#2a3f5f\",\"gridcolor\":\"white\",\"linecolor\":\"white\",\"minorgridcolor\":\"white\",\"startlinecolor\":\"#2a3f5f\"},\"baxis\":{\"endlinecolor\":\"#2a3f5f\",\"gridcolor\":\"white\",\"linecolor\":\"white\",\"minorgridcolor\":\"white\",\"startlinecolor\":\"#2a3f5f\"},\"type\":\"carpet\"}],\"table\":[{\"cells\":{\"fill\":{\"color\":\"#EBF0F8\"},\"line\":{\"color\":\"white\"}},\"header\":{\"fill\":{\"color\":\"#C8D4E3\"},\"line\":{\"color\":\"white\"}},\"type\":\"table\"}],\"barpolar\":[{\"marker\":{\"line\":{\"color\":\"#E5ECF6\",\"width\":0.5},\"pattern\":{\"fillmode\":\"overlay\",\"size\":10,\"solidity\":0.2}},\"type\":\"barpolar\"}],\"pie\":[{\"automargin\":true,\"type\":\"pie\"}]},\"layout\":{\"autotypenumbers\":\"strict\",\"colorway\":[\"#636efa\",\"#EF553B\",\"#00cc96\",\"#ab63fa\",\"#FFA15A\",\"#19d3f3\",\"#FF6692\",\"#B6E880\",\"#FF97FF\",\"#FECB52\"],\"font\":{\"color\":\"#2a3f5f\"},\"hovermode\":\"closest\",\"hoverlabel\":{\"align\":\"left\"},\"paper_bgcolor\":\"white\",\"plot_bgcolor\":\"#E5ECF6\",\"polar\":{\"bgcolor\":\"#E5ECF6\",\"angularaxis\":{\"gridcolor\":\"white\",\"linecolor\":\"white\",\"ticks\":\"\"},\"radialaxis\":{\"gridcolor\":\"white\",\"linecolor\":\"white\",\"ticks\":\"\"}},\"ternary\":{\"bgcolor\":\"#E5ECF6\",\"aaxis\":{\"gridcolor\":\"white\",\"linecolor\":\"white\",\"ticks\":\"\"},\"baxis\":{\"gridcolor\":\"white\",\"linecolor\":\"white\",\"ticks\":\"\"},\"caxis\":{\"gridcolor\":\"white\",\"linecolor\":\"white\",\"ticks\":\"\"}},\"coloraxis\":{\"colorbar\":{\"outlinewidth\":0,\"ticks\":\"\"}},\"colorscale\":{\"sequential\":[[0.0,\"#0d0887\"],[0.1111111111111111,\"#46039f\"],[0.2222222222222222,\"#7201a8\"],[0.3333333333333333,\"#9c179e\"],[0.4444444444444444,\"#bd3786\"],[0.5555555555555556,\"#d8576b\"],[0.6666666666666666,\"#ed7953\"],[0.7777777777777778,\"#fb9f3a\"],[0.8888888888888888,\"#fdca26\"],[1.0,\"#f0f921\"]],\"sequentialminus\":[[0.0,\"#0d0887\"],[0.1111111111111111,\"#46039f\"],[0.2222222222222222,\"#7201a8\"],[0.3333333333333333,\"#9c179e\"],[0.4444444444444444,\"#bd3786\"],[0.5555555555555556,\"#d8576b\"],[0.6666666666666666,\"#ed7953\"],[0.7777777777777778,\"#fb9f3a\"],[0.8888888888888888,\"#fdca26\"],[1.0,\"#f0f921\"]],\"diverging\":[[0,\"#8e0152\"],[0.1,\"#c51b7d\"],[0.2,\"#de77ae\"],[0.3,\"#f1b6da\"],[0.4,\"#fde0ef\"],[0.5,\"#f7f7f7\"],[0.6,\"#e6f5d0\"],[0.7,\"#b8e186\"],[0.8,\"#7fbc41\"],[0.9,\"#4d9221\"],[1,\"#276419\"]]},\"xaxis\":{\"gridcolor\":\"white\",\"linecolor\":\"white\",\"ticks\":\"\",\"title\":{\"standoff\":15},\"zerolinecolor\":\"white\",\"automargin\":true,\"zerolinewidth\":2},\"yaxis\":{\"gridcolor\":\"white\",\"linecolor\":\"white\",\"ticks\":\"\",\"title\":{\"standoff\":15},\"zerolinecolor\":\"white\",\"automargin\":true,\"zerolinewidth\":2},\"scene\":{\"xaxis\":{\"backgroundcolor\":\"#E5ECF6\",\"gridcolor\":\"white\",\"linecolor\":\"white\",\"showbackground\":true,\"ticks\":\"\",\"zerolinecolor\":\"white\",\"gridwidth\":2},\"yaxis\":{\"backgroundcolor\":\"#E5ECF6\",\"gridcolor\":\"white\",\"linecolor\":\"white\",\"showbackground\":true,\"ticks\":\"\",\"zerolinecolor\":\"white\",\"gridwidth\":2},\"zaxis\":{\"backgroundcolor\":\"#E5ECF6\",\"gridcolor\":\"white\",\"linecolor\":\"white\",\"showbackground\":true,\"ticks\":\"\",\"zerolinecolor\":\"white\",\"gridwidth\":2}},\"shapedefaults\":{\"line\":{\"color\":\"#2a3f5f\"}},\"annotationdefaults\":{\"arrowcolor\":\"#2a3f5f\",\"arrowhead\":0,\"arrowwidth\":1},\"geo\":{\"bgcolor\":\"white\",\"landcolor\":\"#E5ECF6\",\"subunitcolor\":\"white\",\"showland\":true,\"showlakes\":true,\"lakecolor\":\"white\"},\"title\":{\"x\":0.05},\"mapbox\":{\"style\":\"light\"}}},\"title\":{\"text\":\"Dura\\u00e7\\u00e3o dos Filmes\"}},                        {\"responsive\": true}                    ).then(function(){\n",
              "                            \n",
              "var gd = document.getElementById('782bcfe8-7101-4290-9ff4-33624743130e');\n",
              "var x = new MutationObserver(function (mutations, observer) {{\n",
              "        var display = window.getComputedStyle(gd).display;\n",
              "        if (!display || display === 'none') {{\n",
              "            console.log([gd, 'removed!']);\n",
              "            Plotly.purge(gd);\n",
              "            observer.disconnect();\n",
              "        }}\n",
              "}});\n",
              "\n",
              "// Listen for the removal of the full notebook cells\n",
              "var notebookContainer = gd.closest('#notebook-container');\n",
              "if (notebookContainer) {{\n",
              "    x.observe(notebookContainer, {childList: true});\n",
              "}}\n",
              "\n",
              "// Listen for the clearing of the current output cell\n",
              "var outputEl = gd.closest('.output');\n",
              "if (outputEl) {{\n",
              "    x.observe(outputEl, {childList: true});\n",
              "}}\n",
              "\n",
              "                        })                };                            </script>        </div>\n",
              "</body>\n",
              "</html>"
            ]
          },
          "metadata": {}
        }
      ]
    },
    {
      "cell_type": "markdown",
      "source": [
        "### Parece que esse dado não segue uma distribuição Normal. Agora, vamos ver a distribuição da média das amostras da duração dos filmes!"
      ],
      "metadata": {
        "id": "envY5eH0g8dr"
      }
    },
    {
      "cell_type": "markdown",
      "source": [
        "Vamos gerar várias amostras aleatórias simples, de mesmo tamanho, a partir dos dados de duração de filmes e calcular a média de cada amostra gerada. Assim, teremos uma amostra da média das amostras da duração dos filmes e conseguiremos ver a sua distribuição."
      ],
      "metadata": {
        "id": "4ku6KyLuhAlR"
      }
    },
    {
      "cell_type": "code",
      "source": [
        "df['duracao_min'].mean()"
      ],
      "metadata": {
        "colab": {
          "base_uri": "https://localhost:8080/"
        },
        "id": "qmUiAOnfgu70",
        "outputId": "6d3a1cff-7250-485d-c2b1-6bb29f7c719e"
      },
      "execution_count": 10,
      "outputs": [
        {
          "output_type": "execute_result",
          "data": {
            "text/plain": [
              "99.58488410055502"
            ]
          },
          "metadata": {},
          "execution_count": 10
        }
      ]
    },
    {
      "cell_type": "code",
      "source": [
        "df['duracao_min'].median()"
      ],
      "metadata": {
        "colab": {
          "base_uri": "https://localhost:8080/"
        },
        "id": "V8kvRySuhJyw",
        "outputId": "74f1f131-25f1-4400-e696-13e60f9555aa"
      },
      "execution_count": 14,
      "outputs": [
        {
          "output_type": "execute_result",
          "data": {
            "text/plain": [
              "98.0"
            ]
          },
          "metadata": {},
          "execution_count": 14
        }
      ]
    },
    {
      "cell_type": "code",
      "source": [
        "df['duracao_min'].mode()"
      ],
      "metadata": {
        "colab": {
          "base_uri": "https://localhost:8080/"
        },
        "id": "B_CxZ5kAhSLE",
        "outputId": "62f70a6e-c2af-4806-cb60-d2d3379d4787"
      },
      "execution_count": 15,
      "outputs": [
        {
          "output_type": "execute_result",
          "data": {
            "text/plain": [
              "0    90\n",
              "Name: duracao_min, dtype: int64"
            ]
          },
          "metadata": {},
          "execution_count": 15
        }
      ]
    },
    {
      "cell_type": "code",
      "source": [
        "df['duracao_min'].sample(frac = 0.1)"
      ],
      "metadata": {
        "colab": {
          "base_uri": "https://localhost:8080/"
        },
        "id": "mtnSYj84hmn5",
        "outputId": "30c6a934-d6bb-495a-88ac-f520bdb43275"
      },
      "execution_count": 16,
      "outputs": [
        {
          "output_type": "execute_result",
          "data": {
            "text/plain": [
              "5873    105\n",
              "5195    178\n",
              "4090     92\n",
              "6048     22\n",
              "2279    100\n",
              "       ... \n",
              "283      63\n",
              "1213    130\n",
              "4388     49\n",
              "5218     97\n",
              "6113     24\n",
              "Name: duracao_min, Length: 613, dtype: int64"
            ]
          },
          "metadata": {},
          "execution_count": 16
        }
      ]
    },
    {
      "cell_type": "code",
      "source": [
        "media_das_amostras = []\n",
        "total_de_interacoes = 100000\n",
        "\n",
        "for iteracao in range(total_de_interacoes):\n",
        "    amostra = df['duracao_min'].sample(frac = 0.1)\n",
        "    media = amostra.mean()\n",
        "    media_das_amostras.append(media)"
      ],
      "metadata": {
        "id": "Ug_F62sih30T"
      },
      "execution_count": 18,
      "outputs": []
    },
    {
      "cell_type": "markdown",
      "source": [
        "**Explicação:**\n",
        "\n",
        "**1. Inicialização:**\n",
        "\n",
        "* **`media_das_amostras = []`:** Esta linha cria uma lista vazia chamada `media_das_amostras`. Esta lista será utilizada para armazenar os valores médios das subamostras aleatoriamente amostradas.\n",
        "* **`total_de_interacoes = 100000`:** Esta linha define a variável `total_de_interacoes` com o valor 100.000. Esta variável controlará o número de vezes que o código dentro do loop `for` será executado.\n",
        "\n",
        "**2. Loop de Amostragem e Cálculo da Média:**\n",
        "\n",
        "* **`for iteracao in range(total_de_interacoes):`:** Este loop `for` itera 100.000 vezes (conforme definido por `total_de_interacoes`). A variável `iteracao` assumirá valores de 0 a 99.999, inclusive.\n",
        "    * **`amostra = df['duracao_min'].sample(frac = 0.1)`:** Dentro do loop, esta linha seleciona aleatoriamente 10% dos valores da coluna 'duracao_min' do DataFrame `df`. O resultado é armazenado na variável `amostra`.\n",
        "    * **`media = amostra.mean()`:** Esta linha calcula a média (valor médio) dos valores no DataFrame `amostra` e armazena o resultado na variável `media`.\n",
        "    * **`media_das_amostras.append(media)`:** Esta linha adiciona o valor `media` calculado à lista `media_das_amostras`. Isso efetivamente armazena o valor médio de cada subconjunto amostrado aleatoriamente.\n",
        "\n",
        "**3. Resultado:**\n",
        "\n",
        "Após a execução do código, a lista `media_das_amostras` conterá 100.000 elementos, cada um representando a média de um subconjunto aleatório de 10% dos valores da coluna 'duracao_min' do DataFrame `df`.\n",
        "\n",
        "**Em resumo, este código realiza 100.000 amostragens aleatórias de 10% dos dados da coluna 'duracao_min' e calcula a média de cada subconjunto amostrado. As médias calculadas são armazenadas na lista `media_das_amostras` para análise posterior.**\n",
        "\n",
        "**Observações:**\n",
        "\n",
        "* Este código assume que você já importou a biblioteca `pandas` como `pd`.\n",
        "* O código usa a função `sample()` do DataFrame para obter subamostras aleatórias.\n",
        "* A função `mean()` é usada para calcular a média dos valores na subamostra.\n",
        "* O código pode ser modificado para amostrar diferentes porcentagens de dados ou para calcular outras estatísticas além da média.\n",
        "\n",
        "Espero que esta explicação mais detalhada em português seja útil. Se você tiver mais perguntas, por favor, não hesite em perguntar.\n"
      ],
      "metadata": {
        "id": "dvgfOSP7jxh7"
      }
    },
    {
      "cell_type": "code",
      "source": [
        "len(media_das_amostras)"
      ],
      "metadata": {
        "colab": {
          "base_uri": "https://localhost:8080/"
        },
        "id": "6MFwdy4Si_I1",
        "outputId": "8d32752e-2ee5-4680-c24c-e11f388caadb"
      },
      "execution_count": 19,
      "outputs": [
        {
          "output_type": "execute_result",
          "data": {
            "text/plain": [
              "100000"
            ]
          },
          "metadata": {},
          "execution_count": 19
        }
      ]
    },
    {
      "cell_type": "code",
      "source": [
        "media_das_amostras[:10]"
      ],
      "metadata": {
        "colab": {
          "base_uri": "https://localhost:8080/"
        },
        "id": "FPjIkPMVkSbS",
        "outputId": "a6f05396-6cf3-4aef-d9e5-e9165cab8cc6"
      },
      "execution_count": 22,
      "outputs": [
        {
          "output_type": "execute_result",
          "data": {
            "text/plain": [
              "[100.32300163132138,\n",
              " 99.45513866231647,\n",
              " 101.23164763458401,\n",
              " 98.99836867862969,\n",
              " 100.66557911908646,\n",
              " 99.82381729200652,\n",
              " 101.7389885807504,\n",
              " 99.82381729200652,\n",
              " 98.66557911908646,\n",
              " 99.94942903752039]"
            ]
          },
          "metadata": {},
          "execution_count": 22
        }
      ]
    },
    {
      "cell_type": "code",
      "source": [
        "fig = ff.create_distplot([media_das_amostras], ['Média das Amostras'],\n",
        "                        show_rug = False, bin_size = 50, show_hist = False)\n",
        "\n",
        "fig.update_layout(title_text = 'Media do Valor')\n",
        "fig.show()"
      ],
      "metadata": {
        "colab": {
          "base_uri": "https://localhost:8080/",
          "height": 542
        },
        "id": "12jN8LeikVqM",
        "outputId": "e1609960-787a-4e8f-9afe-f2430f188a6f"
      },
      "execution_count": 24,
      "outputs": [
        {
          "output_type": "display_data",
          "data": {
            "text/html": [
              "<html>\n",
              "<head><meta charset=\"utf-8\" /></head>\n",
              "<body>\n",
              "    <div>            <script src=\"https://cdnjs.cloudflare.com/ajax/libs/mathjax/2.7.5/MathJax.js?config=TeX-AMS-MML_SVG\"></script><script type=\"text/javascript\">if (window.MathJax && window.MathJax.Hub && window.MathJax.Hub.Config) {window.MathJax.Hub.Config({SVG: {font: \"STIX-Web\"}});}</script>                <script type=\"text/javascript\">window.PlotlyConfig = {MathJaxConfig: 'local'};</script>\n",
              "        <script charset=\"utf-8\" src=\"https://cdn.plot.ly/plotly-2.24.1.min.js\"></script>                <div id=\"57ff6e58-7aa8-4359-bed0-3e731d40bead\" class=\"plotly-graph-div\" style=\"height:525px; width:100%;\"></div>            <script type=\"text/javascript\">                                    window.PLOTLYENV=window.PLOTLYENV || {};                                    if (document.getElementById(\"57ff6e58-7aa8-4359-bed0-3e731d40bead\")) {                    Plotly.newPlot(                        \"57ff6e58-7aa8-4359-bed0-3e731d40bead\",                        [{\"legendgroup\":\"M\\u00e9dia das Amostras\",\"marker\":{\"color\":\"rgb(31, 119, 180)\"},\"mode\":\"lines\",\"name\":\"M\\u00e9dia das Amostras\",\"showlegend\":true,\"x\":[94.7389885807504,94.75721370309951,94.7754388254486,94.79366394779771,94.81188907014682,94.83011419249591,94.84833931484502,94.86656443719411,94.88478955954322,94.90301468189233,94.92123980424142,94.93946492659053,94.95769004893964,94.97591517128873,94.99414029363784,95.01236541598695,95.03059053833604,95.04881566068515,95.06704078303426,95.08526590538335,95.10349102773246,95.12171615008155,95.13994127243066,95.15816639477977,95.17639151712886,95.19461663947797,95.21284176182708,95.23106688417617,95.24929200652528,95.26751712887439,95.28574225122348,95.30396737357259,95.32219249592168,95.34041761827079,95.3586427406199,95.376867862969,95.3950929853181,95.41331810766721,95.4315432300163,95.44976835236541,95.46799347471452,95.48621859706361,95.50444371941272,95.52266884176183,95.54089396411092,95.55911908646003,95.57734420880912,95.59556933115823,95.61379445350734,95.63201957585643,95.65024469820554,95.66846982055465,95.68669494290374,95.70492006525285,95.72314518760196,95.74137030995105,95.75959543230016,95.77782055464925,95.79604567699836,95.81427079934747,95.83249592169656,95.85072104404567,95.86894616639478,95.88717128874387,95.90539641109298,95.92362153344209,95.94184665579118,95.96007177814029,95.9782969004894,95.99652202283849,96.0147471451876,96.03297226753669,96.0511973898858,96.06942251223491,96.087647634584,96.10587275693311,96.12409787928222,96.14232300163131,96.16054812398042,96.17877324632953,96.19699836867862,96.21522349102773,96.23344861337682,96.25167373572593,96.26989885807504,96.28812398042413,96.30634910277324,96.32457422512235,96.34279934747144,96.36102446982055,96.37924959216966,96.39747471451875,96.41569983686786,96.43392495921697,96.45215008156606,96.47037520391517,96.48860032626426,96.50682544861337,96.52505057096248,96.54327569331157,96.56150081566068,96.57972593800979,96.59795106035888,96.61617618270799,96.6344013050571,96.65262642740619,96.6708515497553,96.68907667210439,96.7073017944535,96.72552691680261,96.7437520391517,96.76197716150081,96.78020228384992,96.79842740619901,96.81665252854812,96.83487765089723,96.85310277324632,96.87132789559543,96.88955301794454,96.90777814029363,96.92600326264274,96.94422838499183,96.96245350734094,96.98067862969005,96.99890375203914,97.01712887438825,97.03535399673736,97.05357911908645,97.07180424143556,97.09002936378467,97.10825448613376,97.12647960848287,97.14470473083196,97.16292985318107,97.18115497553018,97.19938009787927,97.21760522022838,97.23583034257749,97.25405546492658,97.27228058727569,97.2905057096248,97.30873083197389,97.326955954323,97.3451810766721,97.3634061990212,97.3816313213703,97.3998564437194,97.41808156606851,97.43630668841762,97.45453181076671,97.47275693311582,97.49098205546493,97.50920717781402,97.52743230016313,97.54565742251224,97.56388254486133,97.58210766721044,97.60033278955953,97.61855791190864,97.63678303425775,97.65500815660684,97.67323327895595,97.69145840130506,97.70968352365415,97.72790864600326,97.74613376835237,97.76435889070146,97.78258401305057,97.80080913539967,97.81903425774877,97.83725938009788,97.85548450244697,97.87370962479608,97.89193474714519,97.91015986949428,97.92838499184339,97.9466101141925,97.96483523654159,97.9830603588907,98.0012854812398,98.0195106035889,98.037735725938,98.0559608482871,98.07418597063621,98.09241109298532,98.11063621533441,98.12886133768352,98.14708646003263,98.16531158238172,98.18353670473083,98.20176182707993,98.21998694942903,98.23821207177814,98.25643719412724,98.27466231647634,98.29288743882545,98.31111256117454,98.32933768352365,98.34756280587276,98.36578792822185,98.38401305057096,98.40223817292006,98.42046329526916,98.43868841761827,98.45691353996737,98.47513866231647,98.49336378466558,98.51158890701467,98.52981402936378,98.54803915171289,98.56626427406198,98.58448939641109,98.6027145187602,98.62093964110929,98.6391647634584,98.6573898858075,98.6756150081566,98.6938401305057,98.71206525285481,98.73029037520391,98.74851549755302,98.76674061990211,98.78496574225122,98.80319086460032,98.82141598694942,98.83964110929853,98.85786623164763,98.87609135399673,98.89431647634584,98.91254159869494,98.93076672104404,98.94899184339315,98.96721696574224,98.98544208809135,99.00366721044045,99.02189233278955,99.04011745513866,99.05834257748776,99.07656769983686,99.09479282218597,99.11301794453507,99.13124306688417,99.14946818923327,99.16769331158238,99.18591843393148,99.20414355628058,99.22236867862968,99.24059380097879,99.2588189233279,99.27704404567699,99.2952691680261,99.3134942903752,99.3317194127243,99.3499445350734,99.3681696574225,99.3863947797716,99.40461990212071,99.42284502446981,99.44107014681892,99.45929526916802,99.47752039151712,99.49574551386623,99.51397063621533,99.53219575856443,99.55042088091353,99.56864600326264,99.58687112561174,99.60509624796084,99.62332137030995,99.64154649265905,99.65977161500815,99.67799673735725,99.69622185970636,99.71444698205546,99.73267210440456,99.75089722675366,99.76912234910277,99.78734747145187,99.80557259380097,99.82379771615008,99.84202283849918,99.86024796084828,99.87847308319738,99.89669820554649,99.9149233278956,99.93314845024469,99.9513735725938,99.9695986949429,99.987823817292,100.0060489396411,100.02427406199021,100.0424991843393,100.06072430668841,100.07894942903752,100.09717455138662,100.11539967373572,100.13362479608482,100.15184991843392,100.17007504078303,100.18830016313213,100.20652528548123,100.22475040783034,100.24297553017944,100.26120065252854,100.27942577487765,100.29765089722675,100.31587601957585,100.33410114192495,100.35232626427405,100.37055138662316,100.38877650897226,100.40700163132136,100.42522675367047,100.44345187601957,100.46167699836867,100.47990212071778,100.49812724306688,100.51635236541598,100.53457748776509,100.55280261011418,100.57102773246329,100.58925285481239,100.6074779771615,100.6257030995106,100.6439282218597,100.6621533442088,100.68037846655791,100.698603588907,100.71682871125611,100.73505383360522,100.75327895595431,100.77150407830342,100.78972920065252,100.80795432300162,100.82617944535073,100.84440456769983,100.86262969004893,100.88085481239804,100.89907993474714,100.91730505709624,100.93553017944535,100.95375530179444,100.97198042414355,100.99020554649266,101.00843066884175,101.02665579119086,101.04488091353997,101.06310603588906,101.08133115823817,101.09955628058727,101.11778140293637,101.13600652528548,101.15423164763457,101.17245676998368,101.19068189233279,101.20890701468188,101.22713213703099,101.24535725938009,101.2635823817292,101.2818075040783,101.3000326264274,101.3182577487765,101.33648287112561,101.3547079934747,101.37293311582381,101.39115823817292,101.40938336052201,101.42760848287112,101.44583360522023,101.46405872756932,101.48228384991843,101.50050897226753,101.51873409461663,101.53695921696574,101.55518433931483,101.57340946166394,101.59163458401305,101.60985970636214,101.62808482871125,101.64630995106036,101.66453507340945,101.68276019575856,101.70098531810766,101.71921044045676,101.73743556280587,101.75566068515496,101.77388580750407,101.79211092985318,101.81033605220227,101.82856117455138,101.84678629690049,101.86501141924958,101.88323654159869,101.9014616639478,101.9196867862969,101.937911908646,101.9561370309951,101.9743621533442,101.99258727569331,102.0108123980424,102.02903752039151,102.04726264274062,102.06548776508971,102.08371288743882,102.10193800978793,102.12016313213702,102.13838825448613,102.15661337683522,102.17483849918433,102.19306362153344,102.21128874388253,102.22951386623164,102.24773898858075,102.26596411092984,102.28418923327895,102.30241435562806,102.32063947797715,102.33886460032626,102.35708972267537,102.37531484502446,102.39353996737357,102.41176508972266,102.42999021207177,102.44821533442088,102.46644045676997,102.48466557911908,102.50289070146819,102.52111582381728,102.53934094616639,102.5575660685155,102.57579119086459,102.5940163132137,102.6122414355628,102.6304665579119,102.64869168026101,102.6669168026101,102.68514192495921,102.70336704730832,102.72159216965741,102.73981729200652,102.75804241435563,102.77626753670472,102.79449265905383,102.81271778140294,102.83094290375203,102.84916802610114,102.86739314845023,102.88561827079934,102.90384339314845,102.92206851549754,102.94029363784665,102.95851876019576,102.97674388254485,102.99496900489396,103.01319412724305,103.03141924959216,103.04964437194127,103.06786949429036,103.08609461663947,103.10431973898858,103.12254486133767,103.14076998368678,103.15899510603589,103.17722022838498,103.19544535073409,103.2136704730832,103.23189559543229,103.2501207177814,103.26834584013051,103.2865709624796,103.30479608482871,103.32302120717782,103.34124632952691,103.35947145187602,103.37769657422511,103.39592169657422,103.41414681892333,103.43237194127242,103.45059706362153,103.46882218597064,103.48704730831973,103.50527243066884,103.52349755301793,103.54172267536704,103.55994779771615,103.57817292006524,103.59639804241435,103.61462316476346,103.63284828711255,103.65107340946166,103.66929853181077,103.68752365415986,103.70574877650897,103.72397389885808,103.74219902120717,103.76042414355628,103.77864926590539,103.79687438825448,103.81509951060359,103.83332463295268],\"xaxis\":\"x\",\"y\":[6.998243601520759e-05,7.200774544422827e-05,7.231358480615234e-05,7.098004659749577e-05,6.825166481852045e-05,6.451665831689471e-05,6.026767836180578e-05,5.6049210442398044e-05,5.239852866794752e-05,4.978771855093976e-05,4.857386689771003e-05,4.8963315986690046e-05,5.099416076736499e-05,5.4539118155101806e-05,5.932860415036701e-05,6.499137777473294e-05,7.110759919718872e-05,7.726692849998294e-05,8.312286036141031e-05,8.843439818044443e-05,9.308780761492243e-05,9.709456303147602e-05,0.0001005662135360501,0.0001036717861352161,0.00010658731018712752,0.00010944899481815945,0.00011232088584199048,0.00011518453087676104,0.000117953064162433,0.00012050646484178971,0.00012273995974504325,0.00012461478073863284,0.00012620031609189198,0.0001276989859078422,0.00012944918883362432,0.00013190632575401317,0.00013560609155833,0.0001411170802177002,0.00014899084443529705,0.00015971692975950372,0.0001736884861997134,0.00019118148600434884,0.00021234800739315237,0.0002372220003145827,0.00026573469855752996,0.0002977363690673453,0.0003330211588285371,0.00037135208412413065,0.0004124834430263062,0.00045617804881964766,0.0005022168422257172,0.0005503989628597771,0.0006005315442744993,0.0006524104139284309,0.0007057952353378593,0.0007603847808404276,0.0008157991748924465,0.0008715754760382101,0.0009271807335766888,0.000982043165670071,0.0010355983900986233,0.0010873448834738857,0.0011369018941388884,0.001184063988114908,0.0012288485226959148,0.0012715343315408117,0.0013126905482572205,0.0013531933024462403,0.001394225621322933,0.001437253877889829,0.0014839744749457094,0.0015362284169881764,0.001595888774768566,0.0016647347942847217,0.0017443333013823221,0.0018359498210127373,0.0019405065746803988,0.002058592793634058,0.002190517752750651,0.002336383480066786,0.0024961471781317045,0.0026696461785129413,0.002856570836775418,0.0030563899277924215,0.003268253156804138,0.003490910010668977,0.0037226882807659565,0.003961566998185088,0.004205358580237953,0.004451988237009568,0.004699831656500698,0.004948051510556233,0.00519686484059984,0.005447679621166517,0.005703059117136644,0.00596650314413684,0.006242069702946511,0.006533891400803603,0.006845662018395186,0.0071801752180172375,0.0075389886700901595,0.007922265174054005,0.008328812685079552,0.008756313735844385,0.009201707283265952,0.009661666428298753,0.010133105314429075,0.01061364734259796,0.011101993090842224,0.01159813838623068,0.012103409811718079,0.012620306033288335,0.013152158070405246,0.013702648389633738,0.014275254315515008,0.014872701127692298,0.015496519193740125,0.016146793274902344,0.016822168806864927,0.017520141052136447,0.018237603911213107,0.018971584416508654,0.019720046712808442,0.020482625332869518,0.021261148646592763,0.022059841559649084,0.022885148153309394,0.023745180838904943,0.024648869881152034,0.025604942060414682,0.026620888365371943,0.02770208162829207,0.02885117630728619,0.030067871093248526,0.03134905231064325,0.03268927558237285,0.03408149677535999,0.035517938358391725,0.03699097569509963,0.03849394544856665,0.040021807064125225,0.041571618644968035,0.04314281237763337,0.04473726787134557,0.04635918526255211,0.048014759039688895,0.049711655746981886,0.05145831041741271,0.0532630799609386,0.05513332307467112,0.05707450640042748,0.05908945386711295,0.061177850360011894,0.0633360780384969,0.06555740846877488,0.06783250938722285,0.07015016947378322,0.07249811527893223,0.07486380160264854,0.07723509877714645,0.07960086362430892,0.08195144259384698,0.08427919122176893,0.08657908593084798,0.0888494487546413,0.0910927164009339,0.09331609037915428,0.09553183960504975,0.09775702152397338,0.10001245782038687,0.10232093971060674,0.10470481680353733,0.10718329799109817,0.10976991446493126,0.11247062546723623,0.11528297001537871,0.11819649298274497,0.12119443713692969,0.12425644583788524,0.1273618189492456,0.13049275146669997,0.13363698401798915,0.13678940513109208,0.13995234207004423,0.14313451884267936,0.14634889886081764,0.14960982121063887,0.15292995055076666,0.15631757482733707,0.15977470414950629,0.16329626720412166,0.16687050042643264,0.1704804185937131,0.17410608180947,0.17772726310498346,0.18132608900056604,0.18488927103518207,0.18840965210023744,0.19188692907821328,0.19532755134129226,0.1987439066343987,0.20215297617099579,0.2055746667262262,0.20903001720006573,0.21253944436414804,0.2161211511966497,0.21978978121422996,0.22355536809684123,0.22742260237542225,0.23139041562482143,0.23545186820767983,0.23959432125868624,0.24379987881951373,0.24804609984122494,0.25230699465564865,0.25655432435464726,0.26075920186010826,0.2648939440136912,0.2689340502585357,0.2728601043596772,0.2766593391110512,0.28032659747423033,0.28386448232095046,0.2872826057083673,0.29059600095789045,0.293822907007337,0.2969822355949298,0.30009106398895136,0.3031624589457706,0.30620385331738353,0.30921609878528283,0.3121932366524413,0.31512297753419205,0.3179878538258671,0.32076698507079243,0.3234383532987937,0.32598141290061183,0.32837976803894964,0.33062356927054337,0.3327112472275921,0.33465024452855086,0.33645653605535236,0.33815292391868945,0.3397663156435636,0.34132439064014003,0.34285218400794315,0.34436913898215654,0.34588709491040615,0.34740950498907863,0.34893195264657995,0.350443801373895,0.35193061377719403,0.35337684834124,0.35476831089691985,0.3560939092106692,0.35734642098845854,0.35852220606134366,0.35962002605445853,0.3606393277420971,0.36157845539351424,0.3624332582242454,0.3631964539604003,0.3638579269819007,0.3644059253772751,0.3648289250615676,0.365117790711981,0.36526780419771926,0.36528015322781154,0.365162562878019,0.3649288896236044,0.3645976593359369,0.36418969681093033,0.36372514546159684,0.3632202923789481,0.3626846767041101,0.36211895209104517,0.36151388954604363,0.36085075136356765,0.3601030620777012,0.35923958275452655,0.3582281002729808,0.3570395091030221,0.35565161287249786,0.3540521134525321,0.352240376655356,0.35022774357400077,0.3480363655907427,0.34569674763783886,0.34324435884775106,0.3407157875331763,0.33814496123092175,0.3355599154467883,0.33298048290203636,0.33041710866044083,0.32787080744747266,0.32533410543241587,0.3227926843011331,0.3202273929684159,0.3176163156922879,0.3149366691606173,0.31216641522154887,0.3092855847660972,0.3062773813070825,0.303129153017436,0.2998332899551785,0.2963880357305972,0.29279812709929176,0.28907511974477246,0.28523724573166653,0.28130868635746575,0.27731822644736515,0.2732973624173469,0.2692780396602486,0.2652902691754451,0.26135990159780864,0.25750681439926765,0.2537437032430251,0.25007557817801385,0.24649996914790628,0.24300775980165568,0.23958450435637696,0.2362120436029576,0.2328702233352828,0.2295385303172868,0.22619749589479224,0.22282977280655983,0.21942086035576486,0.21595952501387178,0.212438020811826,0.20885223848046025,0.20520189173723427,0.20149078327792516,0.19772709784278103,0.19392357498315452,0.19009735517055548,0.186269298338272,0.18246265439369677,0.17870110711849962,0.1750063808356578,0.17139574649155093,0.16787984686621732,0.1644612528536014,0.1611340620393452,0.15788467899505662,0.15469371187259143,0.15153872502318413,0.14839743982041315,0.1452509003990241,0.14208612739856682,0.13889786673509794,0.13568918612458006,0.13247085517118562,0.1292596354991153,0.1260757743135387,0.12294011003779133,0.11987124323493645,0.11688319392468187,0.11398386626312113,0.11117449442185079,0.10845007775060539,0.10580065820770573,0.10321317314542466,0.10067354815565098,0.09816868468727746,0.09568804335861218,0.0932246161192987,0.09077520178419594,0.08834002822780719,0.08592187706712423,0.0835249417489952,0.08115367367635247,0.07881184072371093,0.07650194820658693,0.07422507442734903,0.07198107645490598,0.06976904961717131,0.06758789053183108,0.06543682076191179,0.06331576754614124,0.06122555353673115,0.05916790164272021,0.057145300336687355,0.05516079260412272,0.053217749044707156,0.05131966890016097,0.049470030599990236,0.04767219335434675,0.04592933781015701,0.04424442764034636,0.04262017335627065,0.041058981978962406,0.0395628796723526,0.03813339890024512,0.03677142832288283,0.03547703375060803,0.034249271764854074,0.03308603136287897,0.03198394822594046,0.03093843539242314,0.029943859529320903,0.028993864074477575,0.028081804901557216,0.02720123076714701,0.026346321003163267,0.02551219554248878,0.02469503997217161,0.0238920352418715,0.023101134889365476,0.022320775500276755,0.021549623815957333,0.020786449046371558,0.020030164820390294,0.01928002539036097,0.018535904803469276,0.017798554611914492,0.01706973661993054,0.016352161744573643,0.01564922235078312,0.014964564447076558,0.014301588989939896,0.013662986174166348,0.01305039156864973,0.012464217008071298,0.011903666734906417,0.01136691443840733,0.010851397868474956,0.010354184894508955,0.009872371847999174,0.009403482763841259,0.008945839929799153,0.008498870635860753,0.008063306751957305,0.00764123078694192,0.007235931813320982,0.0068515600136240295,0.0064926060732629675,0.00616327190762503,0.005866830296615129,0.005605082493382626,0.005378009648847545,0.005183678000484859,0.005018407893322868,0.004877165461219386,0.004754095953207284,0.004643098453871067,0.004538346371233531,0.004434683314930621,0.004327861492602549,0.00421462871104556,0.004092700415698848,0.003960668316090109,0.003817895354014258,0.0036644313142140746,0.0035009609472033813,0.0033287748862196164,0.00314973940215929,0.0029662375741671973,0.0027810614653349234,0.002597248962775955,0.002417875006058094,0.0022458200672798925,0.0020835456509435443,0.0019329062719014663,0.0017950210417045003,0.0016702181978759804,0.0015580554565136967,0.001457410093388368,0.0013666261618103187,0.0012837021798584667,0.0012065003350087613,0.0011329571592370398,0.001061275574701323,0.0009900795734587094,0.0009185161802555469,0.0008462951105114121,0.0007736643570769728,0.0007013286792397963,0.000630325886965511,0.0005618810922864908,0.0004972604484610051,0.00043764302313319646,0.00038402319786443766,0.00033714809441135255,0.00029748710763379026,0.0002652255198740854,0.00024027243182926671,0.00022227486419579452,0.00021063387020615917,0.00020452323198758937,0.00020291507050407986,0.00020461817743755044,0.00020833356650393334,0.00021272803687849893,0.0002165215840934901,0.00021857979558600064,0.00021799934395645,0.0002141742484624247,0.00020683288179988138,0.00019604018549884483,0.0001821651335739475],\"yaxis\":\"y\",\"type\":\"scatter\"}],                        {\"barmode\":\"overlay\",\"hovermode\":\"closest\",\"legend\":{\"traceorder\":\"reversed\"},\"xaxis\":{\"anchor\":\"y2\",\"domain\":[0.0,1.0],\"zeroline\":false},\"yaxis\":{\"anchor\":\"free\",\"domain\":[0.0,1],\"position\":0.0},\"template\":{\"data\":{\"histogram2dcontour\":[{\"type\":\"histogram2dcontour\",\"colorbar\":{\"outlinewidth\":0,\"ticks\":\"\"},\"colorscale\":[[0.0,\"#0d0887\"],[0.1111111111111111,\"#46039f\"],[0.2222222222222222,\"#7201a8\"],[0.3333333333333333,\"#9c179e\"],[0.4444444444444444,\"#bd3786\"],[0.5555555555555556,\"#d8576b\"],[0.6666666666666666,\"#ed7953\"],[0.7777777777777778,\"#fb9f3a\"],[0.8888888888888888,\"#fdca26\"],[1.0,\"#f0f921\"]]}],\"choropleth\":[{\"type\":\"choropleth\",\"colorbar\":{\"outlinewidth\":0,\"ticks\":\"\"}}],\"histogram2d\":[{\"type\":\"histogram2d\",\"colorbar\":{\"outlinewidth\":0,\"ticks\":\"\"},\"colorscale\":[[0.0,\"#0d0887\"],[0.1111111111111111,\"#46039f\"],[0.2222222222222222,\"#7201a8\"],[0.3333333333333333,\"#9c179e\"],[0.4444444444444444,\"#bd3786\"],[0.5555555555555556,\"#d8576b\"],[0.6666666666666666,\"#ed7953\"],[0.7777777777777778,\"#fb9f3a\"],[0.8888888888888888,\"#fdca26\"],[1.0,\"#f0f921\"]]}],\"heatmap\":[{\"type\":\"heatmap\",\"colorbar\":{\"outlinewidth\":0,\"ticks\":\"\"},\"colorscale\":[[0.0,\"#0d0887\"],[0.1111111111111111,\"#46039f\"],[0.2222222222222222,\"#7201a8\"],[0.3333333333333333,\"#9c179e\"],[0.4444444444444444,\"#bd3786\"],[0.5555555555555556,\"#d8576b\"],[0.6666666666666666,\"#ed7953\"],[0.7777777777777778,\"#fb9f3a\"],[0.8888888888888888,\"#fdca26\"],[1.0,\"#f0f921\"]]}],\"heatmapgl\":[{\"type\":\"heatmapgl\",\"colorbar\":{\"outlinewidth\":0,\"ticks\":\"\"},\"colorscale\":[[0.0,\"#0d0887\"],[0.1111111111111111,\"#46039f\"],[0.2222222222222222,\"#7201a8\"],[0.3333333333333333,\"#9c179e\"],[0.4444444444444444,\"#bd3786\"],[0.5555555555555556,\"#d8576b\"],[0.6666666666666666,\"#ed7953\"],[0.7777777777777778,\"#fb9f3a\"],[0.8888888888888888,\"#fdca26\"],[1.0,\"#f0f921\"]]}],\"contourcarpet\":[{\"type\":\"contourcarpet\",\"colorbar\":{\"outlinewidth\":0,\"ticks\":\"\"}}],\"contour\":[{\"type\":\"contour\",\"colorbar\":{\"outlinewidth\":0,\"ticks\":\"\"},\"colorscale\":[[0.0,\"#0d0887\"],[0.1111111111111111,\"#46039f\"],[0.2222222222222222,\"#7201a8\"],[0.3333333333333333,\"#9c179e\"],[0.4444444444444444,\"#bd3786\"],[0.5555555555555556,\"#d8576b\"],[0.6666666666666666,\"#ed7953\"],[0.7777777777777778,\"#fb9f3a\"],[0.8888888888888888,\"#fdca26\"],[1.0,\"#f0f921\"]]}],\"surface\":[{\"type\":\"surface\",\"colorbar\":{\"outlinewidth\":0,\"ticks\":\"\"},\"colorscale\":[[0.0,\"#0d0887\"],[0.1111111111111111,\"#46039f\"],[0.2222222222222222,\"#7201a8\"],[0.3333333333333333,\"#9c179e\"],[0.4444444444444444,\"#bd3786\"],[0.5555555555555556,\"#d8576b\"],[0.6666666666666666,\"#ed7953\"],[0.7777777777777778,\"#fb9f3a\"],[0.8888888888888888,\"#fdca26\"],[1.0,\"#f0f921\"]]}],\"mesh3d\":[{\"type\":\"mesh3d\",\"colorbar\":{\"outlinewidth\":0,\"ticks\":\"\"}}],\"scatter\":[{\"fillpattern\":{\"fillmode\":\"overlay\",\"size\":10,\"solidity\":0.2},\"type\":\"scatter\"}],\"parcoords\":[{\"type\":\"parcoords\",\"line\":{\"colorbar\":{\"outlinewidth\":0,\"ticks\":\"\"}}}],\"scatterpolargl\":[{\"type\":\"scatterpolargl\",\"marker\":{\"colorbar\":{\"outlinewidth\":0,\"ticks\":\"\"}}}],\"bar\":[{\"error_x\":{\"color\":\"#2a3f5f\"},\"error_y\":{\"color\":\"#2a3f5f\"},\"marker\":{\"line\":{\"color\":\"#E5ECF6\",\"width\":0.5},\"pattern\":{\"fillmode\":\"overlay\",\"size\":10,\"solidity\":0.2}},\"type\":\"bar\"}],\"scattergeo\":[{\"type\":\"scattergeo\",\"marker\":{\"colorbar\":{\"outlinewidth\":0,\"ticks\":\"\"}}}],\"scatterpolar\":[{\"type\":\"scatterpolar\",\"marker\":{\"colorbar\":{\"outlinewidth\":0,\"ticks\":\"\"}}}],\"histogram\":[{\"marker\":{\"pattern\":{\"fillmode\":\"overlay\",\"size\":10,\"solidity\":0.2}},\"type\":\"histogram\"}],\"scattergl\":[{\"type\":\"scattergl\",\"marker\":{\"colorbar\":{\"outlinewidth\":0,\"ticks\":\"\"}}}],\"scatter3d\":[{\"type\":\"scatter3d\",\"line\":{\"colorbar\":{\"outlinewidth\":0,\"ticks\":\"\"}},\"marker\":{\"colorbar\":{\"outlinewidth\":0,\"ticks\":\"\"}}}],\"scattermapbox\":[{\"type\":\"scattermapbox\",\"marker\":{\"colorbar\":{\"outlinewidth\":0,\"ticks\":\"\"}}}],\"scatterternary\":[{\"type\":\"scatterternary\",\"marker\":{\"colorbar\":{\"outlinewidth\":0,\"ticks\":\"\"}}}],\"scattercarpet\":[{\"type\":\"scattercarpet\",\"marker\":{\"colorbar\":{\"outlinewidth\":0,\"ticks\":\"\"}}}],\"carpet\":[{\"aaxis\":{\"endlinecolor\":\"#2a3f5f\",\"gridcolor\":\"white\",\"linecolor\":\"white\",\"minorgridcolor\":\"white\",\"startlinecolor\":\"#2a3f5f\"},\"baxis\":{\"endlinecolor\":\"#2a3f5f\",\"gridcolor\":\"white\",\"linecolor\":\"white\",\"minorgridcolor\":\"white\",\"startlinecolor\":\"#2a3f5f\"},\"type\":\"carpet\"}],\"table\":[{\"cells\":{\"fill\":{\"color\":\"#EBF0F8\"},\"line\":{\"color\":\"white\"}},\"header\":{\"fill\":{\"color\":\"#C8D4E3\"},\"line\":{\"color\":\"white\"}},\"type\":\"table\"}],\"barpolar\":[{\"marker\":{\"line\":{\"color\":\"#E5ECF6\",\"width\":0.5},\"pattern\":{\"fillmode\":\"overlay\",\"size\":10,\"solidity\":0.2}},\"type\":\"barpolar\"}],\"pie\":[{\"automargin\":true,\"type\":\"pie\"}]},\"layout\":{\"autotypenumbers\":\"strict\",\"colorway\":[\"#636efa\",\"#EF553B\",\"#00cc96\",\"#ab63fa\",\"#FFA15A\",\"#19d3f3\",\"#FF6692\",\"#B6E880\",\"#FF97FF\",\"#FECB52\"],\"font\":{\"color\":\"#2a3f5f\"},\"hovermode\":\"closest\",\"hoverlabel\":{\"align\":\"left\"},\"paper_bgcolor\":\"white\",\"plot_bgcolor\":\"#E5ECF6\",\"polar\":{\"bgcolor\":\"#E5ECF6\",\"angularaxis\":{\"gridcolor\":\"white\",\"linecolor\":\"white\",\"ticks\":\"\"},\"radialaxis\":{\"gridcolor\":\"white\",\"linecolor\":\"white\",\"ticks\":\"\"}},\"ternary\":{\"bgcolor\":\"#E5ECF6\",\"aaxis\":{\"gridcolor\":\"white\",\"linecolor\":\"white\",\"ticks\":\"\"},\"baxis\":{\"gridcolor\":\"white\",\"linecolor\":\"white\",\"ticks\":\"\"},\"caxis\":{\"gridcolor\":\"white\",\"linecolor\":\"white\",\"ticks\":\"\"}},\"coloraxis\":{\"colorbar\":{\"outlinewidth\":0,\"ticks\":\"\"}},\"colorscale\":{\"sequential\":[[0.0,\"#0d0887\"],[0.1111111111111111,\"#46039f\"],[0.2222222222222222,\"#7201a8\"],[0.3333333333333333,\"#9c179e\"],[0.4444444444444444,\"#bd3786\"],[0.5555555555555556,\"#d8576b\"],[0.6666666666666666,\"#ed7953\"],[0.7777777777777778,\"#fb9f3a\"],[0.8888888888888888,\"#fdca26\"],[1.0,\"#f0f921\"]],\"sequentialminus\":[[0.0,\"#0d0887\"],[0.1111111111111111,\"#46039f\"],[0.2222222222222222,\"#7201a8\"],[0.3333333333333333,\"#9c179e\"],[0.4444444444444444,\"#bd3786\"],[0.5555555555555556,\"#d8576b\"],[0.6666666666666666,\"#ed7953\"],[0.7777777777777778,\"#fb9f3a\"],[0.8888888888888888,\"#fdca26\"],[1.0,\"#f0f921\"]],\"diverging\":[[0,\"#8e0152\"],[0.1,\"#c51b7d\"],[0.2,\"#de77ae\"],[0.3,\"#f1b6da\"],[0.4,\"#fde0ef\"],[0.5,\"#f7f7f7\"],[0.6,\"#e6f5d0\"],[0.7,\"#b8e186\"],[0.8,\"#7fbc41\"],[0.9,\"#4d9221\"],[1,\"#276419\"]]},\"xaxis\":{\"gridcolor\":\"white\",\"linecolor\":\"white\",\"ticks\":\"\",\"title\":{\"standoff\":15},\"zerolinecolor\":\"white\",\"automargin\":true,\"zerolinewidth\":2},\"yaxis\":{\"gridcolor\":\"white\",\"linecolor\":\"white\",\"ticks\":\"\",\"title\":{\"standoff\":15},\"zerolinecolor\":\"white\",\"automargin\":true,\"zerolinewidth\":2},\"scene\":{\"xaxis\":{\"backgroundcolor\":\"#E5ECF6\",\"gridcolor\":\"white\",\"linecolor\":\"white\",\"showbackground\":true,\"ticks\":\"\",\"zerolinecolor\":\"white\",\"gridwidth\":2},\"yaxis\":{\"backgroundcolor\":\"#E5ECF6\",\"gridcolor\":\"white\",\"linecolor\":\"white\",\"showbackground\":true,\"ticks\":\"\",\"zerolinecolor\":\"white\",\"gridwidth\":2},\"zaxis\":{\"backgroundcolor\":\"#E5ECF6\",\"gridcolor\":\"white\",\"linecolor\":\"white\",\"showbackground\":true,\"ticks\":\"\",\"zerolinecolor\":\"white\",\"gridwidth\":2}},\"shapedefaults\":{\"line\":{\"color\":\"#2a3f5f\"}},\"annotationdefaults\":{\"arrowcolor\":\"#2a3f5f\",\"arrowhead\":0,\"arrowwidth\":1},\"geo\":{\"bgcolor\":\"white\",\"landcolor\":\"#E5ECF6\",\"subunitcolor\":\"white\",\"showland\":true,\"showlakes\":true,\"lakecolor\":\"white\"},\"title\":{\"x\":0.05},\"mapbox\":{\"style\":\"light\"}}},\"title\":{\"text\":\"Media do Valor\"}},                        {\"responsive\": true}                    ).then(function(){\n",
              "                            \n",
              "var gd = document.getElementById('57ff6e58-7aa8-4359-bed0-3e731d40bead');\n",
              "var x = new MutationObserver(function (mutations, observer) {{\n",
              "        var display = window.getComputedStyle(gd).display;\n",
              "        if (!display || display === 'none') {{\n",
              "            console.log([gd, 'removed!']);\n",
              "            Plotly.purge(gd);\n",
              "            observer.disconnect();\n",
              "        }}\n",
              "}});\n",
              "\n",
              "// Listen for the removal of the full notebook cells\n",
              "var notebookContainer = gd.closest('#notebook-container');\n",
              "if (notebookContainer) {{\n",
              "    x.observe(notebookContainer, {childList: true});\n",
              "}}\n",
              "\n",
              "// Listen for the clearing of the current output cell\n",
              "var outputEl = gd.closest('.output');\n",
              "if (outputEl) {{\n",
              "    x.observe(outputEl, {childList: true});\n",
              "}}\n",
              "\n",
              "                        })                };                            </script>        </div>\n",
              "</body>\n",
              "</html>"
            ]
          },
          "metadata": {}
        }
      ]
    },
    {
      "cell_type": "code",
      "source": [],
      "metadata": {
        "id": "XHTwDFTIlEvn"
      },
      "execution_count": null,
      "outputs": []
    }
  ]
}