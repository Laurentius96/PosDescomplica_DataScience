{
  "nbformat": 4,
  "nbformat_minor": 0,
  "metadata": {
    "colab": {
      "provenance": []
    },
    "kernelspec": {
      "name": "python3",
      "display_name": "Python 3"
    },
    "language_info": {
      "name": "python"
    }
  },
  "cells": [
    {
      "cell_type": "markdown",
      "source": [
        "# `Probabilidade Condicional`\n",
        "\n",
        "<br>\n",
        "\n",
        "#### Imagine que já observamos um evento acontecer e queremos usar essa informação para atualizar a probabilidade de um próximo evento ocorrer. A probabilidade condicional vem para nos ajudar a calcular essa nova probabilidade.\n",
        "\n",
        "<br>\n",
        "\n",
        "#### Por exemplo, digamos que trabalhemos num banco e queremos calcular a probabilidade de uma pessoa pagar seu cartão de crédito em dia. Se já temos a informação de que essa pessoa pagou todas suas contas dos últimos 2 anos em dia, poderíamos usar essa informação para atualizar a probabilidade de que ela pague seu cartão de crédito em dia também, o que vai influenciar no seu limite de crédito.\n",
        "\n",
        "\n",
        "<br>\n",
        "\n",
        "![alt_text](https://www.investopedia.com/thmb/7bQ9znS4u3ojMlaHRpuXrpmQBsg=/1500x0/filters:no_upscale():max_bytes(150000):strip_icc()/Investopedia-terms-conditional-probability-V2-07203898f1ff4ff490fe41fea5a4af76.png)\n",
        "\n",
        "<br>\n",
        "\n",
        "#### Portanto, na probabilidade condicional, atualizamos nossa probabilidade utilizando uma evidência já observada.\n",
        "\n",
        "<br>\n",
        "\n",
        "### Existe uma fórmula para a probabilidade condicional!\n",
        "\n",
        "\n",
        "![alt_text](https://blogdoenem.com.br/apostilas/MDIII_Matematica_jorge-web-resources/image/7708.png)\n",
        "\n",
        "<br>\n",
        "<br>\n",
        "\n",
        "* $P(A|B)$ = probabilidade de A dado B (aqui, B já aconteceu e queremos saber a probabilidade de A ocorrer)\n",
        "\n",
        "\n",
        "* $P(A \\cap B)$ = probabilidade de A e B ocorrerem, ou seja, a interseção dos eventos\n",
        "\n",
        "\n",
        "* $P(B)$ = probabilidade de B ocorrer"
      ],
      "metadata": {
        "id": "1qrKmxi3XkKr"
      }
    },
    {
      "cell_type": "markdown",
      "source": [
        "#### Exemplo\n",
        "\n",
        "Digamos que de todas as pessoas clientes de um banco, 15% delas pagou todas as contas em dia no último ano, 27% delas possuem cartão de crédito e 9% das pessoas possuem cartão de crédito e pagaram suas contas em dia no último ano. Dado que uma pessoa paga suas contas em dia, qual a probabilidade dela possuir um cartão de crédito?"
      ],
      "metadata": {
        "id": "6fFZYcXu_gPJ"
      }
    },
    {
      "cell_type": "code",
      "execution_count": 2,
      "metadata": {
        "id": "oJxwIhrwXKsF"
      },
      "outputs": [],
      "source": [
        "# A = pagar as contas em dia no último ano\n",
        "# B = possuir cartão de crédito\n",
        "\n",
        "\n",
        "p_A = 0.15\n",
        "p_B = 0.27\n",
        "p_A_e_B = 0.09"
      ]
    },
    {
      "cell_type": "code",
      "source": [
        "p_B_dado_A = p_A_e_B / p_A\n",
        "p_B_dado_A"
      ],
      "metadata": {
        "colab": {
          "base_uri": "https://localhost:8080/"
        },
        "id": "BwBmNQxI_kT-",
        "outputId": "226a268a-116f-4f45-eb40-9581c298f9e3"
      },
      "execution_count": 3,
      "outputs": [
        {
          "output_type": "execute_result",
          "data": {
            "text/plain": [
              "0.6"
            ]
          },
          "metadata": {},
          "execution_count": 3
        }
      ]
    },
    {
      "cell_type": "markdown",
      "source": [
        "Considere que a probabilidade de uma pessoa viajar é de 10%, a probabilidade dela estar de férias é de 20% e a probabilidade dela viajar durante as férias é de 5%. Sabendo que essa pessoa está de férias, qual a probabilidade dela viajar?"
      ],
      "metadata": {
        "id": "juqtT-sGDbhF"
      }
    },
    {
      "cell_type": "code",
      "source": [
        "p_V = 0.10\n",
        "p_F = 0.20\n",
        "p_V_e_F = 0.05\n",
        "\n",
        "p_V_e_p_F =  p_V_e_F / p_F\n",
        "p_V_e_p_F"
      ],
      "metadata": {
        "colab": {
          "base_uri": "https://localhost:8080/"
        },
        "id": "Jah5CY6wDpL1",
        "outputId": "1f9a4196-0f1f-4399-9516-e3631ec1010e"
      },
      "execution_count": 8,
      "outputs": [
        {
          "output_type": "execute_result",
          "data": {
            "text/plain": [
              "0.25"
            ]
          },
          "metadata": {},
          "execution_count": 8
        }
      ]
    },
    {
      "cell_type": "markdown",
      "source": [
        "Para encontrar a probabilidade de uma pessoa viajar sabendo que ela está de férias, utilizamos a fórmula da probabilidade condicional:\n",
        "\n",
        "𝑃\n",
        "(\n",
        "𝐵\n",
        "∣\n",
        "𝐴\n",
        ")\n",
        "=\n",
        "𝑃\n",
        "(\n",
        "𝐴\n",
        "∩\n",
        "𝐵\n",
        ")\n",
        "𝑃\n",
        "(\n",
        "𝐴\n",
        ")\n",
        "P(B∣A)=\n",
        "P(A)\n",
        "P(A∩B)\n",
        "​\n",
        "\n",
        "\n",
        "Onde:\n",
        "\n",
        "𝑃\n",
        "(\n",
        "𝐵\n",
        "∣\n",
        "𝐴\n",
        ")\n",
        "P(B∣A) é a probabilidade de a pessoa viajar dado que está de férias.\n",
        "𝑃\n",
        "(\n",
        "𝐴\n",
        "∩\n",
        "𝐵\n",
        ")\n",
        "P(A∩B) é a probabilidade de a pessoa viajar durante as férias (5% ou 0,05).\n",
        "𝑃\n",
        "(\n",
        "𝐴\n",
        ")\n",
        "P(A) é a probabilidade de a pessoa estar de férias (20% ou 0,2).\n",
        "Substituindo os valores na fórmula:\n",
        "\n",
        "𝑃\n",
        "(\n",
        "𝐵\n",
        "∣\n",
        "𝐴\n",
        ")\n",
        "=\n",
        "0\n",
        ",\n",
        "05\n",
        "0\n",
        ",\n",
        "2\n",
        "P(B∣A)=\n",
        "0,2\n",
        "0,05\n",
        "​\n",
        "\n",
        "\n",
        "Calculando:\n",
        "\n",
        "𝑃\n",
        "(\n",
        "𝐵\n",
        "∣\n",
        "𝐴\n",
        ")\n",
        "=\n",
        "0\n",
        ",\n",
        "25\n",
        "P(B∣A)=0,25\n",
        "\n",
        "Portanto, a probabilidade de essa pessoa viajar, sabendo que ela está de férias, é de 25%.\n",
        "\n",
        "_________________________________________________"
      ],
      "metadata": {
        "id": "2kb6whhFDp2z"
      }
    },
    {
      "cell_type": "code",
      "source": [],
      "metadata": {
        "id": "SEGsEdeeEdY2"
      },
      "execution_count": null,
      "outputs": []
    },
    {
      "cell_type": "markdown",
      "source": [
        "### Teorema do Produto\n",
        "\n",
        "#### Como consequência da definição da probabilidade condicional, temos o teorema do produto:\n",
        "\n",
        "<br>\n",
        "\n",
        "$P(A \\cap B) = P(A)P(B|A)$, onde $P(A) > 0$\n",
        "\n",
        "ou\n",
        "\n",
        "$P(A \\cap B) = P(B)P(A|B)$, onde $P(B) > 0$\n",
        "\n",
        "\n",
        "\n",
        "<br>\n",
        "<br>\n",
        "<br>\n",
        "\n",
        "Além disso, se A e B são independentes, então\n",
        "\n",
        "$P(A \\cap B) = P(A)P(B)$\n",
        "\n",
        "e\n",
        "\n",
        "$P(A|B) = P(A)$ ; $P(B|A) = P(B)$"
      ],
      "metadata": {
        "id": "xVWZekS5AzSX"
      }
    },
    {
      "cell_type": "markdown",
      "source": [
        "#### Exemplo\n",
        "\n",
        "Digamos que um supermercado sabe que a chance de uma crianca comprar um sorvete da marca X é de 20%. Qual a chance de duas crianças que não se conhecem comprarem esse sorvete?"
      ],
      "metadata": {
        "id": "BkNl_4m-A5jk"
      }
    },
    {
      "cell_type": "code",
      "source": [
        "# A = primeira criança comprar o sorvete\n",
        "# B = segunda criança comprar o sorvete\n",
        "\n",
        "p_A = 0.2\n",
        "p_B = 0.2\n",
        "\n",
        "p_A_intersecao_B = p_A * p_B\n",
        "\n",
        "p_A_intersecao_B"
      ],
      "metadata": {
        "colab": {
          "base_uri": "https://localhost:8080/"
        },
        "id": "Xo5HIkvZA1Fd",
        "outputId": "43ae96d4-cb67-4d95-9be4-060a30308f83"
      },
      "execution_count": 4,
      "outputs": [
        {
          "output_type": "execute_result",
          "data": {
            "text/plain": [
              "0.04000000000000001"
            ]
          },
          "metadata": {},
          "execution_count": 4
        }
      ]
    }
  ]
}