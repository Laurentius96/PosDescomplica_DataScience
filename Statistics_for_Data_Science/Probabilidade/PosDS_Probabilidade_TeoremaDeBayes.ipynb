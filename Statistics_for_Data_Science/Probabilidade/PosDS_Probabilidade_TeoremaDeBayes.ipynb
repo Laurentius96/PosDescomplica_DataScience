{
  "nbformat": 4,
  "nbformat_minor": 0,
  "metadata": {
    "colab": {
      "provenance": []
    },
    "kernelspec": {
      "name": "python3",
      "display_name": "Python 3"
    },
    "language_info": {
      "name": "python"
    }
  },
  "cells": [
    {
      "cell_type": "markdown",
      "source": [
        "# `Teorema de Bayes`\n",
        "\n",
        "#### A grande aplicação da probabilidade condicional é o Teorema de Bayes. Com ele, conseguimos atualizar uma probabilidade a priori utilizando informações que já ocorreram, chegando numa probabilidade a posteriori.\n",
        "\n",
        "<br/>\n",
        "\n",
        "#### O Teorema de Bayes tem muitas aplicações, em campos desde a medicina até a física, passando por computação e engenharia e muito mais. É um divisor de águas na Estatística, que passa a se dividir entre Estatística Frequentista e Estatística Bayesiana.\n",
        "\n",
        "<br/>\n",
        "\n",
        "![alt_text](https://estatsite.com.br/wp-content/uploads/2016/09/1.jpg)\n",
        "\n",
        "\n",
        "<br/>\n",
        "\n",
        "* Estatística Frequentista: probabilidade é calculada por uma frequência relativa a partir de muitas repetições de um mesmo experimento\n",
        "\n",
        "* Estatística Bayesiana: probabilidade é o quanto acreditamos que um evento possa ocorrer\n",
        "\n",
        "<br/>\n",
        "\n",
        "\n",
        "### E qual a fórmula?\n",
        "\n",
        "<br>\n",
        "\n",
        "![alt_text](https://imaginariopuro.files.wordpress.com/2016/11/equation-13.jpg?w=730&h=191)\n",
        "\n",
        "<br>\n",
        "\n",
        "#### O denominador é representado pelo teorema da probabilidade total\n",
        "\n",
        "<br>\n",
        "\n",
        "#### Vamos chamar de probabilidade a priori a probabilidade que não possui nenhuma informação anterior.\n",
        "\n",
        "<br>\n",
        "\n",
        "#### Vamos chamar de probabilidade a posteriori a probabilidade final calculada utilizando informação anterior já obtida."
      ],
      "metadata": {
        "id": "Wlkr1GKNF1Q4"
      }
    },
    {
      "cell_type": "markdown",
      "source": [
        "### Exemplo\n",
        "\n",
        "\n",
        "#### Vamos estimar a eficácia de um exame de câncer. **Se o resultado positivo do exame for positivo, qual a probabilidade de que a pessoa tenha câncer?** Vamos calcular utilizando o Teorema de Bayes!"
      ],
      "metadata": {
        "id": "53Gyq1WXG0UM"
      }
    },
    {
      "cell_type": "markdown",
      "source": [
        "<br>\n",
        "\n",
        "A = exame dar positivo\n",
        "\n",
        "B = pessoa ter câncer\n",
        "\n",
        "<br>\n",
        "\n",
        "$$P(\\text{pessoa ter câncer} \\mid \\text{exame foi positivo}) = \\frac{P(\\text{exame foi positivo} \\mid \\text{pessoa ter câncer}) \\cdot P(\\text{pessoa ter câncer})}{P(\\text{exame foi positivo})}$$\n",
        "\n",
        "<br>\n",
        "\n",
        "onde\n",
        "\n",
        "<br>\n",
        "\n",
        "$$P(\\text{exame dar positivo}) =$$\n",
        "$$P(\\text{pessoa ter câncer}) \\cdot P(\\text{exame foi positivo} \\mid \\text{pessoa ter câncer})$$  $$+$$ $$P(\\text{pessoa não ter câncer}) \\cdot P(\\text{exame dar positivo} \\mid \\text{pessoa não ter câncer})$$"
      ],
      "metadata": {
        "id": "ZGMFSoGnHHQI"
      }
    },
    {
      "cell_type": "markdown",
      "source": [
        "### Vamos às informações já conhecidas\n",
        "\n",
        "\n",
        "- Probabilidade de ter a câncer = 1%\n",
        "\n",
        "\n",
        "- Probabilidade de uma pessoa com câncer ter o exame positivo = 99%\n",
        "\n",
        "\n",
        "- Probabilidade de uma pessoa que não tem câncer ter o exame negativo = 99.5%"
      ],
      "metadata": {
        "id": "b6p1pbTrHUjS"
      }
    },
    {
      "cell_type": "markdown",
      "source": [
        "\n",
        "### Vamos identificar essas probabilidades!\n",
        "\n",
        "- Probabilidade de ter a câncer = P(B)\n",
        "\n",
        "\n",
        "- Probabilidade de uma pessoa com câncer ter o exame positivo = P(A|B)\n",
        "\n",
        "\n",
        "- Probabilidade de uma pessoa que não tem câncer ter o exame negativo = P(A_c | B_c)\n",
        "\n",
        "- Onde A_c = exame dar negativo e B_c = pessoa não ter câncer"
      ],
      "metadata": {
        "id": "_VhPzzDdHgZ3"
      }
    },
    {
      "cell_type": "code",
      "execution_count": 1,
      "metadata": {
        "id": "WgDR8YI6FYzh"
      },
      "outputs": [],
      "source": [
        "p_B = 0.01\n",
        "p_Bc = 1 - p_B\n",
        "\n",
        "p_A_dado_B = 0.99\n",
        "p_Ac_dado_B = 1 - p_A_dado_B\n",
        "\n",
        "p_Ac_dado_Bc = 0.995\n",
        "p_A_dado_Bc = 1 - p_Ac_dado_Bc"
      ]
    },
    {
      "cell_type": "markdown",
      "source": [
        "Primeiro, vamos calcular a probabildiade de o exame dar positivo usando o teorema da probabilidade total"
      ],
      "metadata": {
        "id": "wO7WAmx_H0D7"
      }
    },
    {
      "cell_type": "markdown",
      "source": [
        "$$P(\\text{exame dar positivo}) =$$\n",
        "$$P(\\text{pessoa ter câncer}) \\cdot P(\\text{exame foi positivo} \\mid \\text{pessoa ter câncer})$$  $$+$$ $$P(\\text{pessoa não ter câncer}) \\cdot P(\\text{exame dar positivo} \\mid \\text{pessoa não ter câncer})$$\n",
        "\n",
        "\n",
        "então\n",
        "\n",
        "\n",
        "$$P(A) = P(B) \\cdot P(A|B) + P(B_c) \\cdot P(A|B_c)$$"
      ],
      "metadata": {
        "id": "OudE9p1YH9lH"
      }
    },
    {
      "cell_type": "code",
      "source": [
        "p_A = p_B*p_A_dado_B + p_Bc*p_A_dado_Bc\n",
        "p_A"
      ],
      "metadata": {
        "colab": {
          "base_uri": "https://localhost:8080/"
        },
        "id": "qbA9PZbPH9JR",
        "outputId": "22c28dc3-c65f-4106-f2d9-f4947a4b24f5"
      },
      "execution_count": 2,
      "outputs": [
        {
          "output_type": "execute_result",
          "data": {
            "text/plain": [
              "0.014850000000000006"
            ]
          },
          "metadata": {},
          "execution_count": 2
        }
      ]
    },
    {
      "cell_type": "markdown",
      "source": [
        "Essa é a probabilidade do exame dar positivo. Agora vamos ao que queríamos, **se o resultado positivo do exame for positivo, qual a probabilidade de que a pessoa tenha câncer?**"
      ],
      "metadata": {
        "id": "T9cXU8bnIFGk"
      }
    },
    {
      "cell_type": "markdown",
      "source": [
        "$$P(\\text{pessoa ter câncer} \\mid \\text{exame foi positivo}) = \\frac{P(\\text{exame foi positivo} \\mid \\text{pessoa ter câncer}) \\cdot P(\\text{pessoa ter câncer})}{P(\\text{exame foi positivo})}$$\n",
        "\n",
        "então\n",
        "\n",
        "$$P(B \\mid A) = \\frac{P(A \\mid B) \\cdot P(B)}{P(A)}$$"
      ],
      "metadata": {
        "id": "dEqXsDfcIJtm"
      }
    },
    {
      "cell_type": "code",
      "source": [
        "p_B_dado_A = p_A_dado_B*p_B / p_A\n",
        "\n",
        "p_B_dado_A"
      ],
      "metadata": {
        "colab": {
          "base_uri": "https://localhost:8080/"
        },
        "id": "BuGatf9wH01z",
        "outputId": "789b0418-8117-4632-b5d7-0931eb2fd994"
      },
      "execution_count": 3,
      "outputs": [
        {
          "output_type": "execute_result",
          "data": {
            "text/plain": [
              "0.6666666666666665"
            ]
          },
          "metadata": {},
          "execution_count": 3
        }
      ]
    },
    {
      "cell_type": "code",
      "source": [],
      "metadata": {
        "id": "E19QrqDxINU3"
      },
      "execution_count": null,
      "outputs": []
    }
  ]
}