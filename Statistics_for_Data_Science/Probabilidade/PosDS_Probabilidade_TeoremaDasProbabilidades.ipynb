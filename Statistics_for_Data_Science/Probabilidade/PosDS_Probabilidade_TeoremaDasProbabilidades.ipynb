{
  "nbformat": 4,
  "nbformat_minor": 0,
  "metadata": {
    "colab": {
      "provenance": []
    },
    "kernelspec": {
      "name": "python3",
      "display_name": "Python 3"
    },
    "language_info": {
      "name": "python"
    }
  },
  "cells": [
    {
      "cell_type": "markdown",
      "source": [
        "# `Probabilidade`"
      ],
      "metadata": {
        "id": "E1_AyGU-NgHb"
      }
    },
    {
      "cell_type": "markdown",
      "source": [
        "#### A definição clássica de probabilidade\n",
        "\n",
        "<br>\n",
        "\n",
        "![image.png](https://files.passeidireto.com/8fbedef7-3d79-4250-8320-5a17d4893054/8fbedef7-3d79-4250-8320-5a17d4893054.jpeg)\n",
        "\n",
        "<br>\n",
        "\n",
        "#### Ou seja, probabilidade seria a divisão do número de casos favoráveis (definido pelo evento 'n(ai)') pelo número de casos totais (definido pelo espaço amostral 'n' - casos possíveis).\n",
        "\n",
        "### Uma probabilidade tem várias propriedades. Vejamos as mais importantes!\n",
        "\n",
        "<br>\n",
        "\n",
        "* A probabilidade de um evento A acontecer está sempre entre 0 e 1\n",
        "\n",
        "\n",
        "* A probabilidade do espaço amostral $\\Omega$ ocorrer é 1\n",
        "\n",
        "\n",
        "* A probabilidade de um evento $\\emptyset$, que esteja fora do espaço amostral, ocorrer é 0\n",
        "\n",
        "\n",
        "* Se $\\bar{A}$ for o evento complementar de $A$, então $P(\\bar{A}) = 1 - P(A)$\n",
        "\n",
        "\n",
        "<br>\n"
      ],
      "metadata": {
        "id": "aQJdZLirNl53"
      }
    },
    {
      "cell_type": "markdown",
      "source": [
        "# Teorema da Soma\n",
        "\n",
        "![alt_text](https://upload.wikimedia.org/wikipedia/commons/thumb/6/6d/Venn_A_intersect_B.svg/1200px-Venn_A_intersect_B.svg.png)\n",
        "\n",
        "\n",
        "\n",
        "####Dado dois eventos A e B, a probabilidade da união de A e B será\n",
        "\n",
        "### $P(A \\cup B) = P(A) + P(B) - P(A \\cap B)$"
      ],
      "metadata": {
        "id": "WoAkN7NqQSjz"
      }
    },
    {
      "cell_type": "markdown",
      "source": [
        "# Mutuamente Exclusivos\n",
        "\n",
        "#### Dizemos que dois eventos são mutuamente exclusivos quando a probabilidade da interseção entre eles é igual a zero.\n",
        "\n",
        "![alt_text](https://s4.static.brasilescola.uol.com.br/be/2020/06/4.jpg)"
      ],
      "metadata": {
        "id": "oAPWC8p3QeJB"
      }
    },
    {
      "cell_type": "code",
      "execution_count": 4,
      "metadata": {
        "colab": {
          "base_uri": "https://localhost:8080/"
        },
        "id": "41Tsnb1eM4es",
        "outputId": "0d189a18-d751-4821-e7a1-a1600611221c"
      },
      "outputs": [
        {
          "output_type": "execute_result",
          "data": {
            "text/plain": [
              "0.495"
            ]
          },
          "metadata": {},
          "execution_count": 4
        }
      ],
      "source": [
        "# exemplo\n",
        "\n",
        "p_ganhar_bonus_empresa = 0.3\n",
        "p_ganhar_aumento = 0.2\n",
        "p_ganhar_bonus_e_aumento = 0.005\n",
        "\n",
        "p_ganhar_bonus_ou_aumento = p_ganhar_bonus_empresa + p_ganhar_aumento - p_ganhar_bonus_e_aumento\n",
        "\n",
        "p_ganhar_bonus_ou_aumento"
      ]
    },
    {
      "cell_type": "markdown",
      "source": [
        "#### Eventos complementares"
      ],
      "metadata": {
        "id": "UoK0kvIVUkOc"
      }
    },
    {
      "cell_type": "code",
      "source": [
        "p_chover_hoje = 0.15\n",
        "\n",
        "p_nao_chover_hoje = 1 - p_chover_hoje\n",
        "p_nao_chover_hoje"
      ],
      "metadata": {
        "colab": {
          "base_uri": "https://localhost:8080/"
        },
        "id": "iZTW8uXPRTrL",
        "outputId": "12654697-9128-491e-9a69-f240ec17aaec"
      },
      "execution_count": 5,
      "outputs": [
        {
          "output_type": "execute_result",
          "data": {
            "text/plain": [
              "0.85"
            ]
          },
          "metadata": {},
          "execution_count": 5
        }
      ]
    },
    {
      "cell_type": "code",
      "source": [],
      "metadata": {
        "id": "CYp_-lH1Umws"
      },
      "execution_count": null,
      "outputs": []
    }
  ]
}