{
  "nbformat": 4,
  "nbformat_minor": 0,
  "metadata": {
    "colab": {
      "provenance": []
    },
    "kernelspec": {
      "name": "python3",
      "display_name": "Python 3"
    },
    "language_info": {
      "name": "python"
    }
  },
  "cells": [
    {
      "cell_type": "markdown",
      "source": [
        "# `Thompson Sampling`\n",
        "\n",
        "\n",
        "#### O algoritmo Thompson Sampling é um algoritmo de reinforcement learning do time MAB (Multi Armed Bandit). Um MAB tenta resolver um problema onde você possui várias opções de escolha e tem como objetivo maximizar a sua recompensa obtida numa escolha vencedora. Surgiu com o caça-níquel e hoje utilizamos em muitas aplicações de mercado.\n",
        "\n",
        "<br>\n",
        "\n",
        "#### A ideia é que, uma vez identificada a opção que te dá recompensas mais vezes, você passa a majoritariamente escolher essa opção, até que uma outra opção se mostre melhor.\n",
        "\n",
        "<br>\n",
        "\n",
        "![alt_text](https://blogs.mathworks.com/images/loren/2016/multiarmedbandit.jpg)\n",
        "\n",
        "<br>\n",
        "\n",
        "#### O Thompson Sampling é um MAB que utiliza estatística Bayesiana, numa combinação de uma priori com distribuição de Bernoulli e uma posteriori com distribuição Beta(a, b). Nesse caso,\n",
        "\n",
        "<br>\n",
        "\n",
        "* a = número de vezes que se obteve uma recompensa na escolha (sucessos) + 1\n",
        "* b = número de vezes que não se obteve uma recompensa na escolha (fracassos) + 1\n",
        "\n",
        "<br>\n",
        "\n",
        "![alt_text](https://gdmarmerola.github.io/assets/img/posts/ts_for_mab_cover.jpg)\n",
        "\n",
        "<br>\n",
        "\n",
        "#### Portanto, cada opção vai ter sua própria distribuição Beta com seus próprios a e b. A partir daí, nós calculamos uma amostra de tamanho 1 de cada distribuição e a que apresentar o maior resultado será a opção escolhida.\n",
        "\n",
        "<br>\n",
        "\n",
        "#### As opções com uma taxa de sucesso maior vão ter uma maior probabilidade de terem amostras maiories e, portanto, serão mais escolhidas."
      ],
      "metadata": {
        "id": "DEidmqbOa7BP"
      }
    },
    {
      "cell_type": "markdown",
      "source": [
        "#### Exemplo\n",
        "\n",
        "\n",
        "Digamos que lançamos uma matéria num portal de notícias, mas a editoria não sabe qual a melhor opção de título da matéria mais vai atrair cliques para a notícia. A editoria criou 4 títulos interessantes, e vamos usar um Thompson Sampling para decidir qual o melhor título da matéria e mostra-lo para a maioria dos usuários que acessar o portal."
      ],
      "metadata": {
        "id": "3f1wJj5Jc3Dz"
      }
    },
    {
      "cell_type": "code",
      "execution_count": 1,
      "metadata": {
        "id": "fbYUjF7ZaEsv"
      },
      "outputs": [],
      "source": [
        "# num primeiro momento, a e b serão iguais a 1 para as quatro matérias\n",
        "\n",
        "\n",
        "titulo_1_a = 0 + 1\n",
        "titulo_1_b = 0 + 1\n",
        "\n",
        "titulo_2_a = 0 + 1\n",
        "titulo_2_b = 0 + 1\n",
        "\n",
        "titulo_3_a = 0 + 1\n",
        "titulo_3_b = 0 + 1\n",
        "\n",
        "titulo_4_a = 0 + 1\n",
        "titulo_4_b = 0 + 1"
      ]
    },
    {
      "cell_type": "code",
      "source": [
        "# agora, vamos amostrar das Betas de cada título\n",
        "from numpy.random import beta"
      ],
      "metadata": {
        "id": "3CXLBnThdBN1"
      },
      "execution_count": 2,
      "outputs": []
    },
    {
      "cell_type": "code",
      "source": [
        "t1 = beta(a = titulo_1_a, b = titulo_1_b, size = 1)\n",
        "t2 = beta(a = titulo_2_a, b = titulo_2_b, size = 1)\n",
        "t3 = beta(a = titulo_3_a, b = titulo_3_b, size = 1)\n",
        "t4 = beta(a = titulo_4_a, b = titulo_4_b, size = 1)\n",
        "\n",
        "\n",
        "\n",
        "print(\"Resultado para o título 1: {}\".format(t1))\n",
        "print(\"Resultado para o título 2: {}\".format(t2))\n",
        "print(\"Resultado para o título 3: {}\".format(t3))\n",
        "print(\"Resultado para o título 4: {}\".format(t4))"
      ],
      "metadata": {
        "colab": {
          "base_uri": "https://localhost:8080/"
        },
        "id": "Ieh40dRedEVj",
        "outputId": "29f5e857-6c4f-4064-dfef-74ce273e6741"
      },
      "execution_count": 5,
      "outputs": [
        {
          "output_type": "stream",
          "name": "stdout",
          "text": [
            "Resultado para o título 1: [0.10411888]\n",
            "Resultado para o título 2: [0.28099458]\n",
            "Resultado para o título 3: [0.53751817]\n",
            "Resultado para o título 4: [0.44375402]\n"
          ]
        }
      ]
    },
    {
      "cell_type": "markdown",
      "source": [
        "A cada vez que for amostrado, vamos mostrar o maior resultado e guardar se foi sucesso (clicado) ou fracasso (não clicado)."
      ],
      "metadata": {
        "id": "b100ApGodOMC"
      }
    },
    {
      "cell_type": "markdown",
      "source": [
        "Depois de uma hora no site, os resultados são:\n",
        "\n",
        "* Título 1 - 1000 clicks e 5000 sem clicks\n",
        "* Título 2 - 987 clicks e 4763 sem clicks\n",
        "* Título 3 - 1563 clicks e 7580 sem clicks\n",
        "* Título 4 - 804 clicks e 4503 sem clicks\n",
        "\n",
        "\n",
        "Vamos ver como ficam os resultados agora!"
      ],
      "metadata": {
        "id": "XQLK04mmdTIC"
      }
    },
    {
      "cell_type": "code",
      "source": [
        "titulo_1_a = 1000 + 1\n",
        "titulo_1_b = 5000 + 1\n",
        "\n",
        "titulo_2_a = 987 + 1\n",
        "titulo_2_b = 4763 + 1\n",
        "\n",
        "titulo_3_a = 1563 + 1\n",
        "titulo_3_b = 7580 + 1\n",
        "\n",
        "titulo_4_a = 804 + 1\n",
        "titulo_4_b = 4503 + 1"
      ],
      "metadata": {
        "id": "woWMaGlCdJ5L"
      },
      "execution_count": 7,
      "outputs": []
    },
    {
      "cell_type": "code",
      "source": [
        "t1 = beta(a = titulo_1_a, b = titulo_1_b, size = 1)\n",
        "t2 = beta(a = titulo_2_a, b = titulo_2_b, size = 1)\n",
        "t3 = beta(a = titulo_3_a, b = titulo_3_b, size = 1)\n",
        "t4 = beta(a = titulo_4_a, b = titulo_4_b, size = 1)\n",
        "\n",
        "\n",
        "\n",
        "print(\"Resultado para o título 1: {}\".format(t1))\n",
        "print(\"Resultado para o título 2: {}\".format(t2))\n",
        "print(\"Resultado para o título 3: {}\".format(t3))\n",
        "print(\"Resultado para o título 4: {}\".format(t4))"
      ],
      "metadata": {
        "colab": {
          "base_uri": "https://localhost:8080/"
        },
        "id": "ZlUnSNcTdRUD",
        "outputId": "1c59eedf-43b2-459c-fb60-d621f7f6cf62"
      },
      "execution_count": 8,
      "outputs": [
        {
          "output_type": "stream",
          "name": "stdout",
          "text": [
            "Resultado para o título 1: [0.17527351]\n",
            "Resultado para o título 2: [0.17839593]\n",
            "Resultado para o título 3: [0.16143327]\n",
            "Resultado para o título 4: [0.13596768]\n"
          ]
        }
      ]
    },
    {
      "cell_type": "code",
      "source": [
        "t1 = beta(a = titulo_1_a, b = titulo_1_b, size = 1)\n",
        "t2 = beta(a = titulo_2_a, b = titulo_2_b, size = 1)\n",
        "t3 = beta(a = titulo_3_a, b = titulo_3_b, size = 1)\n",
        "t4 = beta(a = titulo_4_a, b = titulo_4_b, size = 1)\n",
        "\n",
        "\n",
        "\n",
        "print(\"Resultado para o título 1: {}\".format(t1))\n",
        "print(\"Resultado para o título 2: {}\".format(t2))\n",
        "print(\"Resultado para o título 3: {}\".format(t3))\n",
        "print(\"Resultado para o título 4: {}\".format(t4))"
      ],
      "metadata": {
        "colab": {
          "base_uri": "https://localhost:8080/"
        },
        "id": "6J69GnF4dbhr",
        "outputId": "5852c95c-9089-44ba-fe31-c60278b04eb7"
      },
      "execution_count": 10,
      "outputs": [
        {
          "output_type": "stream",
          "name": "stdout",
          "text": [
            "Resultado para o título 1: [0.16372262]\n",
            "Resultado para o título 2: [0.167092]\n",
            "Resultado para o título 3: [0.17281809]\n",
            "Resultado para o título 4: [0.14982291]\n"
          ]
        }
      ]
    },
    {
      "cell_type": "markdown",
      "source": [
        "Os títulos 2 e 3 parecem ser os melhores!!"
      ],
      "metadata": {
        "id": "P5UggFWjdmeJ"
      }
    },
    {
      "cell_type": "code",
      "source": [],
      "metadata": {
        "id": "b_xb_uDpddCR"
      },
      "execution_count": null,
      "outputs": []
    }
  ]
}