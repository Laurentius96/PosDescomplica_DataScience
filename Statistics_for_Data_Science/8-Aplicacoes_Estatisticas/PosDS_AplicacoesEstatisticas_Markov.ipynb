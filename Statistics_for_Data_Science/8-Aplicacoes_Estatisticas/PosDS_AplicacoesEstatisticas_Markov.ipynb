{
  "nbformat": 4,
  "nbformat_minor": 0,
  "metadata": {
    "colab": {
      "provenance": []
    },
    "kernelspec": {
      "name": "python3",
      "display_name": "Python 3"
    },
    "language_info": {
      "name": "python"
    }
  },
  "cells": [
    {
      "cell_type": "markdown",
      "source": [
        "# `Cadeia de Markov`\n",
        "\n",
        "<br>\n",
        "\n",
        "#### Uma cadeia de Markov é um modelo que explica uma sequência de eventos onde o próximo evento só depende da ocorrência atual, ou o estado atual. Da mesma forma, a ocorrência atual só dependeu da última ocorrência, e não de toda a sequência anterior de eventos ocorridos. A cada ida de um estado a outro há uma probabilidade embutida.\n",
        "\n",
        "<br>\n",
        "\n",
        "![alt_text](https://miro.medium.com/max/1400/1*Uh11rrUKKsHLLRmmv0ss2w.jpeg)"
      ],
      "metadata": {
        "id": "ZTRmrGDHpADE"
      }
    },
    {
      "cell_type": "markdown",
      "source": [
        "### Exemplo\n",
        "\n",
        "Vamos dizer que você trabalha num escritória no centro de Nova York. Todos os dias você sai para almoçar e precisa decidir entre dois restaurantes (A e B) qual vai ser o escolhido do dia, seguindo a seguinte regra:\n",
        "\n",
        "<br>\n",
        "\n",
        "* Se comeu no restaurante A hoje, então amanhã você tem 85% de chance de comer no restaurante B\n",
        "\n",
        "\n",
        "* Se comeu no restaurante B hoje, então amanhã você tem 73% de chance de comer no restaurante A\n",
        "\n",
        "<br>\n",
        "\n",
        "#### Supondo que você conhece o cardápio de hoje dos dois restaurantes e que havia 58% de chance de você ter ido no restaurante A e 42% de chance de ter ido no restaurante B, qual a probabilidade de você ir no restaurante A amanhã?"
      ],
      "metadata": {
        "id": "8Kpc4l-qpLvE"
      }
    },
    {
      "cell_type": "markdown",
      "source": [
        "#### Assim ficaria o grafo dos estados desse modelo de Markov\n",
        "\n",
        "![image.png](https://i.ytimg.com/vi/GcNZ97GJtmY/maxresdefault.jpg)"
      ],
      "metadata": {
        "id": "nK-FkUcPr2Id"
      }
    },
    {
      "cell_type": "code",
      "execution_count": 1,
      "metadata": {
        "id": "1DdvKyqneYPM"
      },
      "outputs": [],
      "source": [
        "p_A_amanha_dado_B_hoje = 0.73\n",
        "p_B_amanha_dado_B_hoje = 0.27\n",
        "\n",
        "p_B_amanha_dado_A_hoje = 0.85\n",
        "p_A_amanha_dado_A_hoje = 0.15\n",
        "\n",
        "p_A = 0.58\n",
        "p_B = 0.42"
      ]
    },
    {
      "cell_type": "markdown",
      "source": [
        "Vamos utilizar o Teorema de Bayes para calcular as probabilidades de comer amanhã nos restaurantes A e B"
      ],
      "metadata": {
        "id": "LToMGBF6sXoh"
      }
    },
    {
      "cell_type": "code",
      "source": [
        "p_A_amanha = p_A*p_A_amanha_dado_A_hoje + p_B*p_A_amanha_dado_B_hoje\n",
        "p_A_amanha"
      ],
      "metadata": {
        "colab": {
          "base_uri": "https://localhost:8080/"
        },
        "id": "_h0bXGGdr-F2",
        "outputId": "a433bb77-d593-475c-fa60-c531f34b4740"
      },
      "execution_count": 2,
      "outputs": [
        {
          "output_type": "execute_result",
          "data": {
            "text/plain": [
              "0.39359999999999995"
            ]
          },
          "metadata": {},
          "execution_count": 2
        }
      ]
    },
    {
      "cell_type": "code",
      "source": [
        "p_B_amanha = p_A*p_B_amanha_dado_A_hoje + p_B*p_B_amanha_dado_B_hoje\n",
        "p_B_amanha"
      ],
      "metadata": {
        "colab": {
          "base_uri": "https://localhost:8080/"
        },
        "id": "8goPWkrisZ3i",
        "outputId": "0325933c-1755-451f-aab4-04f2c80f671e"
      },
      "execution_count": 3,
      "outputs": [
        {
          "output_type": "execute_result",
          "data": {
            "text/plain": [
              "0.6063999999999999"
            ]
          },
          "metadata": {},
          "execution_count": 3
        }
      ]
    },
    {
      "cell_type": "markdown",
      "source": [
        "#### Provavelmente você vai no restaurante B amanhã. Mas, e daqui a 10 dias?"
      ],
      "metadata": {
        "id": "GxjnWpFosdo2"
      }
    },
    {
      "cell_type": "code",
      "source": [
        "import numpy as np"
      ],
      "metadata": {
        "id": "z2Ji9BdYsbqO"
      },
      "execution_count": 5,
      "outputs": []
    },
    {
      "cell_type": "code",
      "source": [
        "# vamos representar tudo numa matriz\n",
        "\n",
        "\n",
        "# [A_para_A, A_para_B]\n",
        "# [B_para_A, B_para_B]\n",
        "\n",
        "\n",
        "\n",
        "hoje = np.array([\n",
        "    [0.15, 0.85],\n",
        "    [0.73, 0.27]\n",
        "])"
      ],
      "metadata": {
        "id": "gtgXvjUgsdJ8"
      },
      "execution_count": 7,
      "outputs": []
    },
    {
      "cell_type": "markdown",
      "source": [
        "Para calcular como seria a mesma matriz daqui a x dias, elevamos a matriz a x+1 potência"
      ],
      "metadata": {
        "id": "HMmAYaM0skg-"
      }
    },
    {
      "cell_type": "code",
      "source": [
        "nove_dias_a_frente = np.linalg.matrix_power(hoje, 10)"
      ],
      "metadata": {
        "id": "2PdoYCpqsipf"
      },
      "execution_count": 8,
      "outputs": []
    },
    {
      "cell_type": "markdown",
      "source": [
        "Agora, vamos definir a priori novamente, tambem como uma matriz"
      ],
      "metadata": {
        "id": "ADEMxKOVsocn"
      }
    },
    {
      "cell_type": "code",
      "source": [
        "# priori = [ A  B ]\n",
        "\n",
        "priori = np.array([ [0.42], [0.58]])"
      ],
      "metadata": {
        "id": "hQYKpArcsm1_"
      },
      "execution_count": 9,
      "outputs": []
    },
    {
      "cell_type": "markdown",
      "source": [
        "Agora, vamos calcular a probabilidade de, depois de daqui a 10 dias você ir nos restaurantes A e B multiplicando as duas matrizes!"
      ],
      "metadata": {
        "id": "RJjB-wvGss1c"
      }
    },
    {
      "cell_type": "code",
      "source": [
        "daqui_a_dez_dias = np.matmul(nove_dias_a_frente, priori)\n",
        "\n",
        "daqui_a_dez_dias"
      ],
      "metadata": {
        "colab": {
          "base_uri": "https://localhost:8080/"
        },
        "id": "B0f22ABYsqRe",
        "outputId": "e2b91046-12f8-4b56-bd84-a191d94a804a"
      },
      "execution_count": 10,
      "outputs": [
        {
          "output_type": "execute_result",
          "data": {
            "text/plain": [
              "array([[0.50570513],\n",
              "       [0.50639442]])"
            ]
          },
          "metadata": {},
          "execution_count": 10
        }
      ]
    },
    {
      "cell_type": "markdown",
      "source": [
        "Parece que você ficaria bem indeciso!"
      ],
      "metadata": {
        "id": "sLHVF7H4tF45"
      }
    },
    {
      "cell_type": "code",
      "source": [],
      "metadata": {
        "id": "cj7GWX8HtDNr"
      },
      "execution_count": null,
      "outputs": []
    }
  ]
}