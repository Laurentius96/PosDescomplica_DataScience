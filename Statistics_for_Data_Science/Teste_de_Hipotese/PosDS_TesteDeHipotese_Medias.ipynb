{
  "nbformat": 4,
  "nbformat_minor": 0,
  "metadata": {
    "colab": {
      "provenance": []
    },
    "kernelspec": {
      "name": "python3",
      "display_name": "Python 3"
    },
    "language_info": {
      "name": "python"
    }
  },
  "cells": [
    {
      "cell_type": "markdown",
      "source": [
        "# `Teste de Hipótese de Médias`\n",
        "\n",
        "\n",
        "### Como vimos, o Teorema do Limite Central nos diz que, para uma amostra grande o suficiente, a média tem distribuição normal. Um resultado disso é o teste de hipótese entre médias!\n",
        "\n",
        "<br>\n",
        "\n",
        "### Vamos passo a passo pra entendermos direitinho como funciona.\n",
        "\n",
        "<br>\n",
        "\n",
        "### 1 - Pelo teorema do limite central, a média tem distribuição normal\n",
        "\n",
        "<br>\n",
        "\n",
        "### 1.1 - Num teste de hipótese de comparação entre duas médias, temos duas hipóteses: a nula e a alternativa. A hipótese nula vai dizer que as duas médias são iguais, ela basicamente diz que a ideia que queremos testar não altera a realidade atual e, por isso, as duas médias são iguais. A hipótese alternativa diz que elas são diferentes, ou seja, a ideia que testamos alterou a realidade atual, o status quo foi mudado.\n",
        "\n",
        "<br>\n",
        "\n",
        "### 1.2 - A amostra obtida sob a realidade atual vai ser chamada de amostra `controle`, ou grupo controle. A amostra obtida sob a realidade nova, com a ideia que está sendo testada, será chamada de amostra `variante`, ou grupo variante.\n",
        "\n",
        "<br>\n",
        "\n",
        "![alt_text](https://usabilitygeek.com/wp-content/uploads/2020/05/mmm.jpg)\n",
        "\n",
        "<br>\n",
        "\n",
        "### 2 - Para medir se houve diferença entre as médias dos grupos controle e variante, vamos diminuir a média do grupo controle pela média do grupo variante, formando uma nova variável. Vamos chamá-la de X.\n",
        "\n",
        "<br>\n",
        "\n",
        "### 3 - Essa nova variável X tem distribuição Normal!\n",
        "\n",
        "<br>\n",
        "\n",
        "### 4 - Se considerarmos que H0 é verdadeiro, então X tem média iguai a 0.\n",
        "\n",
        "<br>\n",
        "\n",
        "### 5 - Se soubermos quanto vale a variância da população, usamos a distribuição Normal para o teste. Senão, usamos a distribuição T de Student.\n",
        "\n",
        "<br>\n",
        "\n",
        "### 6.1 - Olhamos para o valor observado das médias das amostras controle e variante, bem como seus tamanhos e suas variâncias e chegamos a uma estatística que chamamos de estatística de teste. Se esse valor for muito improvável de ocorrer segundo a distribuição de X (diferença das médias), entaão\n",
        "\n",
        "<br>\n",
        "\n",
        "### 6.2 - Se esse valor for muito improvável de ocorrer segundo a distribuição de X (diferença das médias) sob H0 (média de X é 0), então rejeitamos a hipótese nula e dizemos que as médias dos grupos são diferentes. Senão, dizemos que são iguais.\n",
        "\n",
        "<br>\n",
        "\n",
        "### 7 - Chamamos de `p-valor` a probabilidade de ocorrência da estatística de teste ou valores mais extremos, segundo a distribuição de X, sob H0.\n",
        "\n",
        "<br>\n",
        "\n",
        "![alt text](https://www.voxmed.com.br/voxmed/wp-content/uploads/2020/04/Como-arrendondar-as-casas-decimais-do-valor-de-p-1.png)\n",
        "\n",
        "<br>\n",
        "\n",
        "### 8.1 - Na prática, se o p-valor obtido for baixo, nós rejeitamos H0 e dizemos que as médias dos grupos são diferentes. Se o p-valor for alto, nós não rejeitamos H0 e dizemos que a média dos grupos são iguais.\n",
        "\n",
        "<br>\n",
        "\n",
        "### 8.2 - Para decidir se um p-valor é baixo, definimos antes do teste começar um treshold, a quem chamaremos de nível de significância. Se o p-valor for menor ou igual ao nível de significância, então ele é baixo.\n",
        "\n",
        "<br>\n",
        "\n",
        "### Por exemplo, digamos que o nosso nível de significância é 5%. Sob a hipótese nula, as médias propostas são iguais. Daí,\n",
        "\n",
        "* Se o p-valor for menor do que 5%, rejeitamos a hipótese nula com 95% de confiança.\n",
        "* Se o p-valor for menor do que 1%, rejeitamos a hipótese nula com 99% de confiança.\n",
        "* Senão, não rejeitamos a hipótese nula."
      ],
      "metadata": {
        "id": "bUZH9qgo-FzI"
      }
    },
    {
      "cell_type": "markdown",
      "source": [
        "### Vamos ver como calcular o p-valor na prática!"
      ],
      "metadata": {
        "id": "Hn6NnzUoGyRH"
      }
    },
    {
      "cell_type": "markdown",
      "source": [
        "### Vamos usar dados abertos de séries e filmes da Netflix. Os dados podem ser encontrados no Kaggle.\n",
        "\n",
        "<br>\n",
        "\n",
        "https://www.kaggle.com/datasets/ariyoomotade/netflix-data-cleaning-analysis-and-visualization"
      ],
      "metadata": {
        "id": "uQ0q8c2wG2P-"
      }
    },
    {
      "cell_type": "code",
      "source": [
        "import pandas as pd"
      ],
      "metadata": {
        "id": "0xNgsAfZG1-o"
      },
      "execution_count": 1,
      "outputs": []
    },
    {
      "cell_type": "code",
      "source": [
        "df = pd.read_csv('netflix.csv')"
      ],
      "metadata": {
        "id": "ZV66-FYj-qnW"
      },
      "execution_count": 3,
      "outputs": []
    },
    {
      "cell_type": "code",
      "source": [
        "df.head()"
      ],
      "metadata": {
        "colab": {
          "base_uri": "https://localhost:8080/",
          "height": 469
        },
        "id": "hD4yxRqPHBSj",
        "outputId": "1fb326ee-04ad-41f1-8812-5ba5a96207b1"
      },
      "execution_count": 4,
      "outputs": [
        {
          "output_type": "execute_result",
          "data": {
            "text/plain": [
              "  show_id     type                             title         director  \\\n",
              "0      s1    Movie              Dick Johnson Is Dead  Kirsten Johnson   \n",
              "1      s3  TV Show                         Ganglands  Julien Leclercq   \n",
              "2      s6  TV Show                     Midnight Mass    Mike Flanagan   \n",
              "3     s14    Movie  Confessions of an Invisible Girl    Bruno Garotti   \n",
              "4      s8    Movie                           Sankofa     Haile Gerima   \n",
              "\n",
              "         country date_added  release_year rating  duration  \\\n",
              "0  United States  9/25/2021          2020  PG-13    90 min   \n",
              "1         France  9/24/2021          2021  TV-MA  1 Season   \n",
              "2  United States  9/24/2021          2021  TV-MA  1 Season   \n",
              "3         Brazil  9/22/2021          2021  TV-PG    91 min   \n",
              "4  United States  9/24/2021          1993  TV-MA   125 min   \n",
              "\n",
              "                                           listed_in  \n",
              "0                                      Documentaries  \n",
              "1  Crime TV Shows, International TV Shows, TV Act...  \n",
              "2                 TV Dramas, TV Horror, TV Mysteries  \n",
              "3                 Children & Family Movies, Comedies  \n",
              "4   Dramas, Independent Movies, International Movies  "
            ],
            "text/html": [
              "\n",
              "  <div id=\"df-17a689ab-8682-47f4-998d-0b41cf4bc89e\" class=\"colab-df-container\">\n",
              "    <div>\n",
              "<style scoped>\n",
              "    .dataframe tbody tr th:only-of-type {\n",
              "        vertical-align: middle;\n",
              "    }\n",
              "\n",
              "    .dataframe tbody tr th {\n",
              "        vertical-align: top;\n",
              "    }\n",
              "\n",
              "    .dataframe thead th {\n",
              "        text-align: right;\n",
              "    }\n",
              "</style>\n",
              "<table border=\"1\" class=\"dataframe\">\n",
              "  <thead>\n",
              "    <tr style=\"text-align: right;\">\n",
              "      <th></th>\n",
              "      <th>show_id</th>\n",
              "      <th>type</th>\n",
              "      <th>title</th>\n",
              "      <th>director</th>\n",
              "      <th>country</th>\n",
              "      <th>date_added</th>\n",
              "      <th>release_year</th>\n",
              "      <th>rating</th>\n",
              "      <th>duration</th>\n",
              "      <th>listed_in</th>\n",
              "    </tr>\n",
              "  </thead>\n",
              "  <tbody>\n",
              "    <tr>\n",
              "      <th>0</th>\n",
              "      <td>s1</td>\n",
              "      <td>Movie</td>\n",
              "      <td>Dick Johnson Is Dead</td>\n",
              "      <td>Kirsten Johnson</td>\n",
              "      <td>United States</td>\n",
              "      <td>9/25/2021</td>\n",
              "      <td>2020</td>\n",
              "      <td>PG-13</td>\n",
              "      <td>90 min</td>\n",
              "      <td>Documentaries</td>\n",
              "    </tr>\n",
              "    <tr>\n",
              "      <th>1</th>\n",
              "      <td>s3</td>\n",
              "      <td>TV Show</td>\n",
              "      <td>Ganglands</td>\n",
              "      <td>Julien Leclercq</td>\n",
              "      <td>France</td>\n",
              "      <td>9/24/2021</td>\n",
              "      <td>2021</td>\n",
              "      <td>TV-MA</td>\n",
              "      <td>1 Season</td>\n",
              "      <td>Crime TV Shows, International TV Shows, TV Act...</td>\n",
              "    </tr>\n",
              "    <tr>\n",
              "      <th>2</th>\n",
              "      <td>s6</td>\n",
              "      <td>TV Show</td>\n",
              "      <td>Midnight Mass</td>\n",
              "      <td>Mike Flanagan</td>\n",
              "      <td>United States</td>\n",
              "      <td>9/24/2021</td>\n",
              "      <td>2021</td>\n",
              "      <td>TV-MA</td>\n",
              "      <td>1 Season</td>\n",
              "      <td>TV Dramas, TV Horror, TV Mysteries</td>\n",
              "    </tr>\n",
              "    <tr>\n",
              "      <th>3</th>\n",
              "      <td>s14</td>\n",
              "      <td>Movie</td>\n",
              "      <td>Confessions of an Invisible Girl</td>\n",
              "      <td>Bruno Garotti</td>\n",
              "      <td>Brazil</td>\n",
              "      <td>9/22/2021</td>\n",
              "      <td>2021</td>\n",
              "      <td>TV-PG</td>\n",
              "      <td>91 min</td>\n",
              "      <td>Children &amp; Family Movies, Comedies</td>\n",
              "    </tr>\n",
              "    <tr>\n",
              "      <th>4</th>\n",
              "      <td>s8</td>\n",
              "      <td>Movie</td>\n",
              "      <td>Sankofa</td>\n",
              "      <td>Haile Gerima</td>\n",
              "      <td>United States</td>\n",
              "      <td>9/24/2021</td>\n",
              "      <td>1993</td>\n",
              "      <td>TV-MA</td>\n",
              "      <td>125 min</td>\n",
              "      <td>Dramas, Independent Movies, International Movies</td>\n",
              "    </tr>\n",
              "  </tbody>\n",
              "</table>\n",
              "</div>\n",
              "    <div class=\"colab-df-buttons\">\n",
              "\n",
              "  <div class=\"colab-df-container\">\n",
              "    <button class=\"colab-df-convert\" onclick=\"convertToInteractive('df-17a689ab-8682-47f4-998d-0b41cf4bc89e')\"\n",
              "            title=\"Convert this dataframe to an interactive table.\"\n",
              "            style=\"display:none;\">\n",
              "\n",
              "  <svg xmlns=\"http://www.w3.org/2000/svg\" height=\"24px\" viewBox=\"0 -960 960 960\">\n",
              "    <path d=\"M120-120v-720h720v720H120Zm60-500h600v-160H180v160Zm220 220h160v-160H400v160Zm0 220h160v-160H400v160ZM180-400h160v-160H180v160Zm440 0h160v-160H620v160ZM180-180h160v-160H180v160Zm440 0h160v-160H620v160Z\"/>\n",
              "  </svg>\n",
              "    </button>\n",
              "\n",
              "  <style>\n",
              "    .colab-df-container {\n",
              "      display:flex;\n",
              "      gap: 12px;\n",
              "    }\n",
              "\n",
              "    .colab-df-convert {\n",
              "      background-color: #E8F0FE;\n",
              "      border: none;\n",
              "      border-radius: 50%;\n",
              "      cursor: pointer;\n",
              "      display: none;\n",
              "      fill: #1967D2;\n",
              "      height: 32px;\n",
              "      padding: 0 0 0 0;\n",
              "      width: 32px;\n",
              "    }\n",
              "\n",
              "    .colab-df-convert:hover {\n",
              "      background-color: #E2EBFA;\n",
              "      box-shadow: 0px 1px 2px rgba(60, 64, 67, 0.3), 0px 1px 3px 1px rgba(60, 64, 67, 0.15);\n",
              "      fill: #174EA6;\n",
              "    }\n",
              "\n",
              "    .colab-df-buttons div {\n",
              "      margin-bottom: 4px;\n",
              "    }\n",
              "\n",
              "    [theme=dark] .colab-df-convert {\n",
              "      background-color: #3B4455;\n",
              "      fill: #D2E3FC;\n",
              "    }\n",
              "\n",
              "    [theme=dark] .colab-df-convert:hover {\n",
              "      background-color: #434B5C;\n",
              "      box-shadow: 0px 1px 3px 1px rgba(0, 0, 0, 0.15);\n",
              "      filter: drop-shadow(0px 1px 2px rgba(0, 0, 0, 0.3));\n",
              "      fill: #FFFFFF;\n",
              "    }\n",
              "  </style>\n",
              "\n",
              "    <script>\n",
              "      const buttonEl =\n",
              "        document.querySelector('#df-17a689ab-8682-47f4-998d-0b41cf4bc89e button.colab-df-convert');\n",
              "      buttonEl.style.display =\n",
              "        google.colab.kernel.accessAllowed ? 'block' : 'none';\n",
              "\n",
              "      async function convertToInteractive(key) {\n",
              "        const element = document.querySelector('#df-17a689ab-8682-47f4-998d-0b41cf4bc89e');\n",
              "        const dataTable =\n",
              "          await google.colab.kernel.invokeFunction('convertToInteractive',\n",
              "                                                    [key], {});\n",
              "        if (!dataTable) return;\n",
              "\n",
              "        const docLinkHtml = 'Like what you see? Visit the ' +\n",
              "          '<a target=\"_blank\" href=https://colab.research.google.com/notebooks/data_table.ipynb>data table notebook</a>'\n",
              "          + ' to learn more about interactive tables.';\n",
              "        element.innerHTML = '';\n",
              "        dataTable['output_type'] = 'display_data';\n",
              "        await google.colab.output.renderOutput(dataTable, element);\n",
              "        const docLink = document.createElement('div');\n",
              "        docLink.innerHTML = docLinkHtml;\n",
              "        element.appendChild(docLink);\n",
              "      }\n",
              "    </script>\n",
              "  </div>\n",
              "\n",
              "\n",
              "<div id=\"df-4afd9206-bb5c-48c0-ab0a-70c7982de583\">\n",
              "  <button class=\"colab-df-quickchart\" onclick=\"quickchart('df-4afd9206-bb5c-48c0-ab0a-70c7982de583')\"\n",
              "            title=\"Suggest charts\"\n",
              "            style=\"display:none;\">\n",
              "\n",
              "<svg xmlns=\"http://www.w3.org/2000/svg\" height=\"24px\"viewBox=\"0 0 24 24\"\n",
              "     width=\"24px\">\n",
              "    <g>\n",
              "        <path d=\"M19 3H5c-1.1 0-2 .9-2 2v14c0 1.1.9 2 2 2h14c1.1 0 2-.9 2-2V5c0-1.1-.9-2-2-2zM9 17H7v-7h2v7zm4 0h-2V7h2v10zm4 0h-2v-4h2v4z\"/>\n",
              "    </g>\n",
              "</svg>\n",
              "  </button>\n",
              "\n",
              "<style>\n",
              "  .colab-df-quickchart {\n",
              "      --bg-color: #E8F0FE;\n",
              "      --fill-color: #1967D2;\n",
              "      --hover-bg-color: #E2EBFA;\n",
              "      --hover-fill-color: #174EA6;\n",
              "      --disabled-fill-color: #AAA;\n",
              "      --disabled-bg-color: #DDD;\n",
              "  }\n",
              "\n",
              "  [theme=dark] .colab-df-quickchart {\n",
              "      --bg-color: #3B4455;\n",
              "      --fill-color: #D2E3FC;\n",
              "      --hover-bg-color: #434B5C;\n",
              "      --hover-fill-color: #FFFFFF;\n",
              "      --disabled-bg-color: #3B4455;\n",
              "      --disabled-fill-color: #666;\n",
              "  }\n",
              "\n",
              "  .colab-df-quickchart {\n",
              "    background-color: var(--bg-color);\n",
              "    border: none;\n",
              "    border-radius: 50%;\n",
              "    cursor: pointer;\n",
              "    display: none;\n",
              "    fill: var(--fill-color);\n",
              "    height: 32px;\n",
              "    padding: 0;\n",
              "    width: 32px;\n",
              "  }\n",
              "\n",
              "  .colab-df-quickchart:hover {\n",
              "    background-color: var(--hover-bg-color);\n",
              "    box-shadow: 0 1px 2px rgba(60, 64, 67, 0.3), 0 1px 3px 1px rgba(60, 64, 67, 0.15);\n",
              "    fill: var(--button-hover-fill-color);\n",
              "  }\n",
              "\n",
              "  .colab-df-quickchart-complete:disabled,\n",
              "  .colab-df-quickchart-complete:disabled:hover {\n",
              "    background-color: var(--disabled-bg-color);\n",
              "    fill: var(--disabled-fill-color);\n",
              "    box-shadow: none;\n",
              "  }\n",
              "\n",
              "  .colab-df-spinner {\n",
              "    border: 2px solid var(--fill-color);\n",
              "    border-color: transparent;\n",
              "    border-bottom-color: var(--fill-color);\n",
              "    animation:\n",
              "      spin 1s steps(1) infinite;\n",
              "  }\n",
              "\n",
              "  @keyframes spin {\n",
              "    0% {\n",
              "      border-color: transparent;\n",
              "      border-bottom-color: var(--fill-color);\n",
              "      border-left-color: var(--fill-color);\n",
              "    }\n",
              "    20% {\n",
              "      border-color: transparent;\n",
              "      border-left-color: var(--fill-color);\n",
              "      border-top-color: var(--fill-color);\n",
              "    }\n",
              "    30% {\n",
              "      border-color: transparent;\n",
              "      border-left-color: var(--fill-color);\n",
              "      border-top-color: var(--fill-color);\n",
              "      border-right-color: var(--fill-color);\n",
              "    }\n",
              "    40% {\n",
              "      border-color: transparent;\n",
              "      border-right-color: var(--fill-color);\n",
              "      border-top-color: var(--fill-color);\n",
              "    }\n",
              "    60% {\n",
              "      border-color: transparent;\n",
              "      border-right-color: var(--fill-color);\n",
              "    }\n",
              "    80% {\n",
              "      border-color: transparent;\n",
              "      border-right-color: var(--fill-color);\n",
              "      border-bottom-color: var(--fill-color);\n",
              "    }\n",
              "    90% {\n",
              "      border-color: transparent;\n",
              "      border-bottom-color: var(--fill-color);\n",
              "    }\n",
              "  }\n",
              "</style>\n",
              "\n",
              "  <script>\n",
              "    async function quickchart(key) {\n",
              "      const quickchartButtonEl =\n",
              "        document.querySelector('#' + key + ' button');\n",
              "      quickchartButtonEl.disabled = true;  // To prevent multiple clicks.\n",
              "      quickchartButtonEl.classList.add('colab-df-spinner');\n",
              "      try {\n",
              "        const charts = await google.colab.kernel.invokeFunction(\n",
              "            'suggestCharts', [key], {});\n",
              "      } catch (error) {\n",
              "        console.error('Error during call to suggestCharts:', error);\n",
              "      }\n",
              "      quickchartButtonEl.classList.remove('colab-df-spinner');\n",
              "      quickchartButtonEl.classList.add('colab-df-quickchart-complete');\n",
              "    }\n",
              "    (() => {\n",
              "      let quickchartButtonEl =\n",
              "        document.querySelector('#df-4afd9206-bb5c-48c0-ab0a-70c7982de583 button');\n",
              "      quickchartButtonEl.style.display =\n",
              "        google.colab.kernel.accessAllowed ? 'block' : 'none';\n",
              "    })();\n",
              "  </script>\n",
              "</div>\n",
              "\n",
              "    </div>\n",
              "  </div>\n"
            ],
            "application/vnd.google.colaboratory.intrinsic+json": {
              "type": "dataframe",
              "variable_name": "df",
              "summary": "{\n  \"name\": \"df\",\n  \"rows\": 8790,\n  \"fields\": [\n    {\n      \"column\": \"show_id\",\n      \"properties\": {\n        \"dtype\": \"string\",\n        \"num_unique_values\": 8790,\n        \"samples\": [\n          \"s5505\",\n          \"s6264\",\n          \"s1463\"\n        ],\n        \"semantic_type\": \"\",\n        \"description\": \"\"\n      }\n    },\n    {\n      \"column\": \"type\",\n      \"properties\": {\n        \"dtype\": \"category\",\n        \"num_unique_values\": 2,\n        \"samples\": [\n          \"TV Show\",\n          \"Movie\"\n        ],\n        \"semantic_type\": \"\",\n        \"description\": \"\"\n      }\n    },\n    {\n      \"column\": \"title\",\n      \"properties\": {\n        \"dtype\": \"string\",\n        \"num_unique_values\": 8787,\n        \"samples\": [\n          \"Your Excellency\",\n          \"Paradise Lost\"\n        ],\n        \"semantic_type\": \"\",\n        \"description\": \"\"\n      }\n    },\n    {\n      \"column\": \"director\",\n      \"properties\": {\n        \"dtype\": \"string\",\n        \"num_unique_values\": 4528,\n        \"samples\": [\n          \"Ian Samuels\",\n          \"R\\u00e9my Four, Julien War\"\n        ],\n        \"semantic_type\": \"\",\n        \"description\": \"\"\n      }\n    },\n    {\n      \"column\": \"country\",\n      \"properties\": {\n        \"dtype\": \"category\",\n        \"num_unique_values\": 86,\n        \"samples\": [\n          \"Guatemala\",\n          \"United States\"\n        ],\n        \"semantic_type\": \"\",\n        \"description\": \"\"\n      }\n    },\n    {\n      \"column\": \"date_added\",\n      \"properties\": {\n        \"dtype\": \"object\",\n        \"num_unique_values\": 1713,\n        \"samples\": [\n          \"12/21/2019\",\n          \"2/17/2017\"\n        ],\n        \"semantic_type\": \"\",\n        \"description\": \"\"\n      }\n    },\n    {\n      \"column\": \"release_year\",\n      \"properties\": {\n        \"dtype\": \"number\",\n        \"std\": 8,\n        \"min\": 1925,\n        \"max\": 2021,\n        \"num_unique_values\": 74,\n        \"samples\": [\n          2013,\n          1977\n        ],\n        \"semantic_type\": \"\",\n        \"description\": \"\"\n      }\n    },\n    {\n      \"column\": \"rating\",\n      \"properties\": {\n        \"dtype\": \"category\",\n        \"num_unique_values\": 14,\n        \"samples\": [\n          \"G\",\n          \"NR\"\n        ],\n        \"semantic_type\": \"\",\n        \"description\": \"\"\n      }\n    },\n    {\n      \"column\": \"duration\",\n      \"properties\": {\n        \"dtype\": \"category\",\n        \"num_unique_values\": 220,\n        \"samples\": [\n          \"162 min\",\n          \"52 min\"\n        ],\n        \"semantic_type\": \"\",\n        \"description\": \"\"\n      }\n    },\n    {\n      \"column\": \"listed_in\",\n      \"properties\": {\n        \"dtype\": \"category\",\n        \"num_unique_values\": 513,\n        \"samples\": [\n          \"Romantic TV Shows, TV Comedies\",\n          \"Classic & Cult TV, TV Comedies\"\n        ],\n        \"semantic_type\": \"\",\n        \"description\": \"\"\n      }\n    }\n  ]\n}"
            }
          },
          "metadata": {},
          "execution_count": 4
        }
      ]
    },
    {
      "cell_type": "markdown",
      "source": [
        "### Descrição das colunas\n",
        "\n",
        "* **`show_id`** - id da série ou filme\n",
        "* **`type`** - tipo de conteúdo(Tv show ou Movie)\n",
        "* **`title`** - título da série ou filme\n",
        "* **`director`** - pessoa diretora da série ou do filme\n",
        "* **`country`** - país da série ou filme\n",
        "* **`date_added`** - data de adição à Netflix\n",
        "* **`release_year`** - ano de lançamento\n",
        "* **`rating`** - rating da TV para o filme ou série\n",
        "* **`duration`** - duração do conteúdo\n",
        "* **`listed_in`** - gênero do conteúdo"
      ],
      "metadata": {
        "id": "V4bfB6y0HNb3"
      }
    },
    {
      "cell_type": "markdown",
      "source": [
        "### Será que existe uma diferença entre duração dos filmes de Drama e Comédia?"
      ],
      "metadata": {
        "id": "lhOqQKB4HRlz"
      }
    },
    {
      "cell_type": "markdown",
      "source": [
        "Primeiro, vamos criar uma coluna com os valor numérico da duração"
      ],
      "metadata": {
        "id": "nMNoLty9HVYP"
      }
    },
    {
      "cell_type": "code",
      "source": [
        "filmes = df[df['type'] == 'Movie']"
      ],
      "metadata": {
        "id": "3vV2HtLzHHKP"
      },
      "execution_count": 5,
      "outputs": []
    },
    {
      "cell_type": "code",
      "source": [
        "filmes.count()"
      ],
      "metadata": {
        "colab": {
          "base_uri": "https://localhost:8080/"
        },
        "id": "bspJsbfoHhXS",
        "outputId": "a616a0c4-d6a5-4b56-e8bd-b6fc3626e938"
      },
      "execution_count": 6,
      "outputs": [
        {
          "output_type": "execute_result",
          "data": {
            "text/plain": [
              "show_id         6126\n",
              "type            6126\n",
              "title           6126\n",
              "director        6126\n",
              "country         6126\n",
              "date_added      6126\n",
              "release_year    6126\n",
              "rating          6126\n",
              "duration        6126\n",
              "listed_in       6126\n",
              "dtype: int64"
            ]
          },
          "metadata": {},
          "execution_count": 6
        }
      ]
    },
    {
      "cell_type": "code",
      "source": [
        "def duracao_numerica(valor):\n",
        "  return int(valor.split(' ')[0])\n",
        "\n",
        "filmes['duracao_min'] = filmes['duration'].apply(duracao_numerica)\n",
        "\n"
      ],
      "metadata": {
        "colab": {
          "base_uri": "https://localhost:8080/"
        },
        "id": "j3MckPh_HmMD",
        "outputId": "a3118137-5303-4f11-ce03-2e693b5f741d"
      },
      "execution_count": 7,
      "outputs": [
        {
          "output_type": "stream",
          "name": "stderr",
          "text": [
            "<ipython-input-7-c8e179af298f>:4: SettingWithCopyWarning: \n",
            "A value is trying to be set on a copy of a slice from a DataFrame.\n",
            "Try using .loc[row_indexer,col_indexer] = value instead\n",
            "\n",
            "See the caveats in the documentation: https://pandas.pydata.org/pandas-docs/stable/user_guide/indexing.html#returning-a-view-versus-a-copy\n",
            "  filmes['duracao_min'] = filmes['duration'].apply(duracao_numerica)\n"
          ]
        }
      ]
    },
    {
      "cell_type": "code",
      "source": [
        "filmes.head()"
      ],
      "metadata": {
        "colab": {
          "base_uri": "https://localhost:8080/",
          "height": 434
        },
        "id": "JeInGBckKd2n",
        "outputId": "7c06805b-c308-446a-e7e9-b48377a04f02"
      },
      "execution_count": 8,
      "outputs": [
        {
          "output_type": "execute_result",
          "data": {
            "text/plain": [
              "  show_id   type                             title         director  \\\n",
              "0      s1  Movie              Dick Johnson Is Dead  Kirsten Johnson   \n",
              "3     s14  Movie  Confessions of an Invisible Girl    Bruno Garotti   \n",
              "4      s8  Movie                           Sankofa     Haile Gerima   \n",
              "6     s10  Movie                      The Starling   Theodore Melfi   \n",
              "7    s939  Movie   Motu Patlu in the Game of Zones      Suhas Kadav   \n",
              "\n",
              "         country date_added  release_year rating duration  \\\n",
              "0  United States  9/25/2021          2020  PG-13   90 min   \n",
              "3         Brazil  9/22/2021          2021  TV-PG   91 min   \n",
              "4  United States  9/24/2021          1993  TV-MA  125 min   \n",
              "6  United States  9/24/2021          2021  PG-13  104 min   \n",
              "7          India   5/1/2021          2019  TV-Y7   87 min   \n",
              "\n",
              "                                           listed_in  duracao_min  \n",
              "0                                      Documentaries           90  \n",
              "3                 Children & Family Movies, Comedies           91  \n",
              "4   Dramas, Independent Movies, International Movies          125  \n",
              "6                                   Comedies, Dramas          104  \n",
              "7  Children & Family Movies, Comedies, Music & Mu...           87  "
            ],
            "text/html": [
              "\n",
              "  <div id=\"df-b056d6c4-3197-4469-ba51-4581e7a67d1e\" class=\"colab-df-container\">\n",
              "    <div>\n",
              "<style scoped>\n",
              "    .dataframe tbody tr th:only-of-type {\n",
              "        vertical-align: middle;\n",
              "    }\n",
              "\n",
              "    .dataframe tbody tr th {\n",
              "        vertical-align: top;\n",
              "    }\n",
              "\n",
              "    .dataframe thead th {\n",
              "        text-align: right;\n",
              "    }\n",
              "</style>\n",
              "<table border=\"1\" class=\"dataframe\">\n",
              "  <thead>\n",
              "    <tr style=\"text-align: right;\">\n",
              "      <th></th>\n",
              "      <th>show_id</th>\n",
              "      <th>type</th>\n",
              "      <th>title</th>\n",
              "      <th>director</th>\n",
              "      <th>country</th>\n",
              "      <th>date_added</th>\n",
              "      <th>release_year</th>\n",
              "      <th>rating</th>\n",
              "      <th>duration</th>\n",
              "      <th>listed_in</th>\n",
              "      <th>duracao_min</th>\n",
              "    </tr>\n",
              "  </thead>\n",
              "  <tbody>\n",
              "    <tr>\n",
              "      <th>0</th>\n",
              "      <td>s1</td>\n",
              "      <td>Movie</td>\n",
              "      <td>Dick Johnson Is Dead</td>\n",
              "      <td>Kirsten Johnson</td>\n",
              "      <td>United States</td>\n",
              "      <td>9/25/2021</td>\n",
              "      <td>2020</td>\n",
              "      <td>PG-13</td>\n",
              "      <td>90 min</td>\n",
              "      <td>Documentaries</td>\n",
              "      <td>90</td>\n",
              "    </tr>\n",
              "    <tr>\n",
              "      <th>3</th>\n",
              "      <td>s14</td>\n",
              "      <td>Movie</td>\n",
              "      <td>Confessions of an Invisible Girl</td>\n",
              "      <td>Bruno Garotti</td>\n",
              "      <td>Brazil</td>\n",
              "      <td>9/22/2021</td>\n",
              "      <td>2021</td>\n",
              "      <td>TV-PG</td>\n",
              "      <td>91 min</td>\n",
              "      <td>Children &amp; Family Movies, Comedies</td>\n",
              "      <td>91</td>\n",
              "    </tr>\n",
              "    <tr>\n",
              "      <th>4</th>\n",
              "      <td>s8</td>\n",
              "      <td>Movie</td>\n",
              "      <td>Sankofa</td>\n",
              "      <td>Haile Gerima</td>\n",
              "      <td>United States</td>\n",
              "      <td>9/24/2021</td>\n",
              "      <td>1993</td>\n",
              "      <td>TV-MA</td>\n",
              "      <td>125 min</td>\n",
              "      <td>Dramas, Independent Movies, International Movies</td>\n",
              "      <td>125</td>\n",
              "    </tr>\n",
              "    <tr>\n",
              "      <th>6</th>\n",
              "      <td>s10</td>\n",
              "      <td>Movie</td>\n",
              "      <td>The Starling</td>\n",
              "      <td>Theodore Melfi</td>\n",
              "      <td>United States</td>\n",
              "      <td>9/24/2021</td>\n",
              "      <td>2021</td>\n",
              "      <td>PG-13</td>\n",
              "      <td>104 min</td>\n",
              "      <td>Comedies, Dramas</td>\n",
              "      <td>104</td>\n",
              "    </tr>\n",
              "    <tr>\n",
              "      <th>7</th>\n",
              "      <td>s939</td>\n",
              "      <td>Movie</td>\n",
              "      <td>Motu Patlu in the Game of Zones</td>\n",
              "      <td>Suhas Kadav</td>\n",
              "      <td>India</td>\n",
              "      <td>5/1/2021</td>\n",
              "      <td>2019</td>\n",
              "      <td>TV-Y7</td>\n",
              "      <td>87 min</td>\n",
              "      <td>Children &amp; Family Movies, Comedies, Music &amp; Mu...</td>\n",
              "      <td>87</td>\n",
              "    </tr>\n",
              "  </tbody>\n",
              "</table>\n",
              "</div>\n",
              "    <div class=\"colab-df-buttons\">\n",
              "\n",
              "  <div class=\"colab-df-container\">\n",
              "    <button class=\"colab-df-convert\" onclick=\"convertToInteractive('df-b056d6c4-3197-4469-ba51-4581e7a67d1e')\"\n",
              "            title=\"Convert this dataframe to an interactive table.\"\n",
              "            style=\"display:none;\">\n",
              "\n",
              "  <svg xmlns=\"http://www.w3.org/2000/svg\" height=\"24px\" viewBox=\"0 -960 960 960\">\n",
              "    <path d=\"M120-120v-720h720v720H120Zm60-500h600v-160H180v160Zm220 220h160v-160H400v160Zm0 220h160v-160H400v160ZM180-400h160v-160H180v160Zm440 0h160v-160H620v160ZM180-180h160v-160H180v160Zm440 0h160v-160H620v160Z\"/>\n",
              "  </svg>\n",
              "    </button>\n",
              "\n",
              "  <style>\n",
              "    .colab-df-container {\n",
              "      display:flex;\n",
              "      gap: 12px;\n",
              "    }\n",
              "\n",
              "    .colab-df-convert {\n",
              "      background-color: #E8F0FE;\n",
              "      border: none;\n",
              "      border-radius: 50%;\n",
              "      cursor: pointer;\n",
              "      display: none;\n",
              "      fill: #1967D2;\n",
              "      height: 32px;\n",
              "      padding: 0 0 0 0;\n",
              "      width: 32px;\n",
              "    }\n",
              "\n",
              "    .colab-df-convert:hover {\n",
              "      background-color: #E2EBFA;\n",
              "      box-shadow: 0px 1px 2px rgba(60, 64, 67, 0.3), 0px 1px 3px 1px rgba(60, 64, 67, 0.15);\n",
              "      fill: #174EA6;\n",
              "    }\n",
              "\n",
              "    .colab-df-buttons div {\n",
              "      margin-bottom: 4px;\n",
              "    }\n",
              "\n",
              "    [theme=dark] .colab-df-convert {\n",
              "      background-color: #3B4455;\n",
              "      fill: #D2E3FC;\n",
              "    }\n",
              "\n",
              "    [theme=dark] .colab-df-convert:hover {\n",
              "      background-color: #434B5C;\n",
              "      box-shadow: 0px 1px 3px 1px rgba(0, 0, 0, 0.15);\n",
              "      filter: drop-shadow(0px 1px 2px rgba(0, 0, 0, 0.3));\n",
              "      fill: #FFFFFF;\n",
              "    }\n",
              "  </style>\n",
              "\n",
              "    <script>\n",
              "      const buttonEl =\n",
              "        document.querySelector('#df-b056d6c4-3197-4469-ba51-4581e7a67d1e button.colab-df-convert');\n",
              "      buttonEl.style.display =\n",
              "        google.colab.kernel.accessAllowed ? 'block' : 'none';\n",
              "\n",
              "      async function convertToInteractive(key) {\n",
              "        const element = document.querySelector('#df-b056d6c4-3197-4469-ba51-4581e7a67d1e');\n",
              "        const dataTable =\n",
              "          await google.colab.kernel.invokeFunction('convertToInteractive',\n",
              "                                                    [key], {});\n",
              "        if (!dataTable) return;\n",
              "\n",
              "        const docLinkHtml = 'Like what you see? Visit the ' +\n",
              "          '<a target=\"_blank\" href=https://colab.research.google.com/notebooks/data_table.ipynb>data table notebook</a>'\n",
              "          + ' to learn more about interactive tables.';\n",
              "        element.innerHTML = '';\n",
              "        dataTable['output_type'] = 'display_data';\n",
              "        await google.colab.output.renderOutput(dataTable, element);\n",
              "        const docLink = document.createElement('div');\n",
              "        docLink.innerHTML = docLinkHtml;\n",
              "        element.appendChild(docLink);\n",
              "      }\n",
              "    </script>\n",
              "  </div>\n",
              "\n",
              "\n",
              "<div id=\"df-9c40df51-e8e5-429d-961d-4c4ac11689ea\">\n",
              "  <button class=\"colab-df-quickchart\" onclick=\"quickchart('df-9c40df51-e8e5-429d-961d-4c4ac11689ea')\"\n",
              "            title=\"Suggest charts\"\n",
              "            style=\"display:none;\">\n",
              "\n",
              "<svg xmlns=\"http://www.w3.org/2000/svg\" height=\"24px\"viewBox=\"0 0 24 24\"\n",
              "     width=\"24px\">\n",
              "    <g>\n",
              "        <path d=\"M19 3H5c-1.1 0-2 .9-2 2v14c0 1.1.9 2 2 2h14c1.1 0 2-.9 2-2V5c0-1.1-.9-2-2-2zM9 17H7v-7h2v7zm4 0h-2V7h2v10zm4 0h-2v-4h2v4z\"/>\n",
              "    </g>\n",
              "</svg>\n",
              "  </button>\n",
              "\n",
              "<style>\n",
              "  .colab-df-quickchart {\n",
              "      --bg-color: #E8F0FE;\n",
              "      --fill-color: #1967D2;\n",
              "      --hover-bg-color: #E2EBFA;\n",
              "      --hover-fill-color: #174EA6;\n",
              "      --disabled-fill-color: #AAA;\n",
              "      --disabled-bg-color: #DDD;\n",
              "  }\n",
              "\n",
              "  [theme=dark] .colab-df-quickchart {\n",
              "      --bg-color: #3B4455;\n",
              "      --fill-color: #D2E3FC;\n",
              "      --hover-bg-color: #434B5C;\n",
              "      --hover-fill-color: #FFFFFF;\n",
              "      --disabled-bg-color: #3B4455;\n",
              "      --disabled-fill-color: #666;\n",
              "  }\n",
              "\n",
              "  .colab-df-quickchart {\n",
              "    background-color: var(--bg-color);\n",
              "    border: none;\n",
              "    border-radius: 50%;\n",
              "    cursor: pointer;\n",
              "    display: none;\n",
              "    fill: var(--fill-color);\n",
              "    height: 32px;\n",
              "    padding: 0;\n",
              "    width: 32px;\n",
              "  }\n",
              "\n",
              "  .colab-df-quickchart:hover {\n",
              "    background-color: var(--hover-bg-color);\n",
              "    box-shadow: 0 1px 2px rgba(60, 64, 67, 0.3), 0 1px 3px 1px rgba(60, 64, 67, 0.15);\n",
              "    fill: var(--button-hover-fill-color);\n",
              "  }\n",
              "\n",
              "  .colab-df-quickchart-complete:disabled,\n",
              "  .colab-df-quickchart-complete:disabled:hover {\n",
              "    background-color: var(--disabled-bg-color);\n",
              "    fill: var(--disabled-fill-color);\n",
              "    box-shadow: none;\n",
              "  }\n",
              "\n",
              "  .colab-df-spinner {\n",
              "    border: 2px solid var(--fill-color);\n",
              "    border-color: transparent;\n",
              "    border-bottom-color: var(--fill-color);\n",
              "    animation:\n",
              "      spin 1s steps(1) infinite;\n",
              "  }\n",
              "\n",
              "  @keyframes spin {\n",
              "    0% {\n",
              "      border-color: transparent;\n",
              "      border-bottom-color: var(--fill-color);\n",
              "      border-left-color: var(--fill-color);\n",
              "    }\n",
              "    20% {\n",
              "      border-color: transparent;\n",
              "      border-left-color: var(--fill-color);\n",
              "      border-top-color: var(--fill-color);\n",
              "    }\n",
              "    30% {\n",
              "      border-color: transparent;\n",
              "      border-left-color: var(--fill-color);\n",
              "      border-top-color: var(--fill-color);\n",
              "      border-right-color: var(--fill-color);\n",
              "    }\n",
              "    40% {\n",
              "      border-color: transparent;\n",
              "      border-right-color: var(--fill-color);\n",
              "      border-top-color: var(--fill-color);\n",
              "    }\n",
              "    60% {\n",
              "      border-color: transparent;\n",
              "      border-right-color: var(--fill-color);\n",
              "    }\n",
              "    80% {\n",
              "      border-color: transparent;\n",
              "      border-right-color: var(--fill-color);\n",
              "      border-bottom-color: var(--fill-color);\n",
              "    }\n",
              "    90% {\n",
              "      border-color: transparent;\n",
              "      border-bottom-color: var(--fill-color);\n",
              "    }\n",
              "  }\n",
              "</style>\n",
              "\n",
              "  <script>\n",
              "    async function quickchart(key) {\n",
              "      const quickchartButtonEl =\n",
              "        document.querySelector('#' + key + ' button');\n",
              "      quickchartButtonEl.disabled = true;  // To prevent multiple clicks.\n",
              "      quickchartButtonEl.classList.add('colab-df-spinner');\n",
              "      try {\n",
              "        const charts = await google.colab.kernel.invokeFunction(\n",
              "            'suggestCharts', [key], {});\n",
              "      } catch (error) {\n",
              "        console.error('Error during call to suggestCharts:', error);\n",
              "      }\n",
              "      quickchartButtonEl.classList.remove('colab-df-spinner');\n",
              "      quickchartButtonEl.classList.add('colab-df-quickchart-complete');\n",
              "    }\n",
              "    (() => {\n",
              "      let quickchartButtonEl =\n",
              "        document.querySelector('#df-9c40df51-e8e5-429d-961d-4c4ac11689ea button');\n",
              "      quickchartButtonEl.style.display =\n",
              "        google.colab.kernel.accessAllowed ? 'block' : 'none';\n",
              "    })();\n",
              "  </script>\n",
              "</div>\n",
              "\n",
              "    </div>\n",
              "  </div>\n"
            ],
            "application/vnd.google.colaboratory.intrinsic+json": {
              "type": "dataframe",
              "variable_name": "filmes",
              "summary": "{\n  \"name\": \"filmes\",\n  \"rows\": 6126,\n  \"fields\": [\n    {\n      \"column\": \"show_id\",\n      \"properties\": {\n        \"dtype\": \"string\",\n        \"num_unique_values\": 6126,\n        \"samples\": [\n          \"s2062\",\n          \"s8402\",\n          \"s7528\"\n        ],\n        \"semantic_type\": \"\",\n        \"description\": \"\"\n      }\n    },\n    {\n      \"column\": \"type\",\n      \"properties\": {\n        \"dtype\": \"category\",\n        \"num_unique_values\": 1,\n        \"samples\": [\n          \"Movie\"\n        ],\n        \"semantic_type\": \"\",\n        \"description\": \"\"\n      }\n    },\n    {\n      \"column\": \"title\",\n      \"properties\": {\n        \"dtype\": \"string\",\n        \"num_unique_values\": 6124,\n        \"samples\": [\n          \"First Impression\"\n        ],\n        \"semantic_type\": \"\",\n        \"description\": \"\"\n      }\n    },\n    {\n      \"column\": \"director\",\n      \"properties\": {\n        \"dtype\": \"string\",\n        \"num_unique_values\": 4355,\n        \"samples\": [\n          \"Don Argott, Sheena M. Joyce\"\n        ],\n        \"semantic_type\": \"\",\n        \"description\": \"\"\n      }\n    },\n    {\n      \"column\": \"country\",\n      \"properties\": {\n        \"dtype\": \"category\",\n        \"num_unique_values\": 79,\n        \"samples\": [\n          \"Indonesia\"\n        ],\n        \"semantic_type\": \"\",\n        \"description\": \"\"\n      }\n    },\n    {\n      \"column\": \"date_added\",\n      \"properties\": {\n        \"dtype\": \"object\",\n        \"num_unique_values\": 1531,\n        \"samples\": [\n          \"6/16/2019\"\n        ],\n        \"semantic_type\": \"\",\n        \"description\": \"\"\n      }\n    },\n    {\n      \"column\": \"release_year\",\n      \"properties\": {\n        \"dtype\": \"number\",\n        \"std\": 9,\n        \"min\": 1942,\n        \"max\": 2021,\n        \"num_unique_values\": 73,\n        \"samples\": [\n          2013\n        ],\n        \"semantic_type\": \"\",\n        \"description\": \"\"\n      }\n    },\n    {\n      \"column\": \"rating\",\n      \"properties\": {\n        \"dtype\": \"category\",\n        \"num_unique_values\": 14,\n        \"samples\": [\n          \"G\"\n        ],\n        \"semantic_type\": \"\",\n        \"description\": \"\"\n      }\n    },\n    {\n      \"column\": \"duration\",\n      \"properties\": {\n        \"dtype\": \"category\",\n        \"num_unique_values\": 205,\n        \"samples\": [\n          \"65 min\"\n        ],\n        \"semantic_type\": \"\",\n        \"description\": \"\"\n      }\n    },\n    {\n      \"column\": \"listed_in\",\n      \"properties\": {\n        \"dtype\": \"category\",\n        \"num_unique_values\": 278,\n        \"samples\": [\n          \"Documentaries, Sports Movies\"\n        ],\n        \"semantic_type\": \"\",\n        \"description\": \"\"\n      }\n    },\n    {\n      \"column\": \"duracao_min\",\n      \"properties\": {\n        \"dtype\": \"number\",\n        \"std\": 28,\n        \"min\": 3,\n        \"max\": 312,\n        \"num_unique_values\": 205,\n        \"samples\": [\n          65\n        ],\n        \"semantic_type\": \"\",\n        \"description\": \"\"\n      }\n    }\n  ]\n}"
            }
          },
          "metadata": {},
          "execution_count": 8
        }
      ]
    },
    {
      "cell_type": "markdown",
      "source": [
        "### Vamos olhar para a distribuição da duração desses filmes"
      ],
      "metadata": {
        "id": "ls6FnGM1KzUt"
      }
    },
    {
      "cell_type": "code",
      "source": [
        "import plotly.figure_factory as ff"
      ],
      "metadata": {
        "id": "WpLLtSjgKjwT"
      },
      "execution_count": 10,
      "outputs": []
    },
    {
      "cell_type": "code",
      "source": [
        "drama = filmes[filmes[\"listed_in\"] == \"Dramas, International Movies\"][\"duracao_min\"]\n",
        "comedia = filmes[filmes[\"listed_in\"] ==\\\n",
        "                 \"Comedies, Dramas, International Movies\"][\"duracao_min\"]"
      ],
      "metadata": {
        "id": "w1DVz7EDK5yt"
      },
      "execution_count": 18,
      "outputs": []
    },
    {
      "cell_type": "code",
      "source": [
        "data = [drama, comedia]\n",
        "labels = [\"Dramas, International Movies\", \"Comedies, Dramas, International Movies\"]\n",
        "\n",
        "fig =  ff.create_distplot(data, labels, show_hist = False, show_rug= False)\n",
        "fig.update_layout(title_text='Duração dos Filmes')\n",
        "fig.show()"
      ],
      "metadata": {
        "colab": {
          "base_uri": "https://localhost:8080/",
          "height": 542
        },
        "id": "Zc76Z6_xL3mk",
        "outputId": "61ca7adb-6d03-4b07-bd54-3a500e6749a9"
      },
      "execution_count": 19,
      "outputs": [
        {
          "output_type": "display_data",
          "data": {
            "text/html": [
              "<html>\n",
              "<head><meta charset=\"utf-8\" /></head>\n",
              "<body>\n",
              "    <div>            <script src=\"https://cdnjs.cloudflare.com/ajax/libs/mathjax/2.7.5/MathJax.js?config=TeX-AMS-MML_SVG\"></script><script type=\"text/javascript\">if (window.MathJax && window.MathJax.Hub && window.MathJax.Hub.Config) {window.MathJax.Hub.Config({SVG: {font: \"STIX-Web\"}});}</script>                <script type=\"text/javascript\">window.PlotlyConfig = {MathJaxConfig: 'local'};</script>\n",
              "        <script charset=\"utf-8\" src=\"https://cdn.plot.ly/plotly-2.24.1.min.js\"></script>                <div id=\"02b2d650-5002-476f-8a49-82621265b670\" class=\"plotly-graph-div\" style=\"height:525px; width:100%;\"></div>            <script type=\"text/javascript\">                                    window.PLOTLYENV=window.PLOTLYENV || {};                                    if (document.getElementById(\"02b2d650-5002-476f-8a49-82621265b670\")) {                    Plotly.newPlot(                        \"02b2d650-5002-476f-8a49-82621265b670\",                        [{\"legendgroup\":\"Dramas, International Movies\",\"marker\":{\"color\":\"rgb(31, 119, 180)\"},\"mode\":\"lines\",\"name\":\"Dramas, International Movies\",\"showlegend\":true,\"x\":[12.0,12.394,12.788,13.182,13.576,13.97,14.364,14.758,15.152000000000001,15.546,15.94,16.334,16.728,17.122,17.516,17.91,18.304000000000002,18.698,19.092,19.486,19.88,20.274,20.668,21.061999999999998,21.456,21.85,22.244,22.637999999999998,23.032,23.426000000000002,23.82,24.214,24.608,25.002000000000002,25.396,25.79,26.183999999999997,26.578,26.972,27.366,27.759999999999998,28.154,28.548,28.942,29.336,29.73,30.124,30.518,30.912,31.306,31.7,32.094,32.488,32.882000000000005,33.275999999999996,33.67,34.064,34.458,34.852000000000004,35.245999999999995,35.64,36.034,36.428,36.822,37.216,37.61,38.004000000000005,38.397999999999996,38.792,39.186,39.58,39.974000000000004,40.367999999999995,40.762,41.156,41.55,41.944,42.338,42.732,43.126000000000005,43.519999999999996,43.914,44.308,44.702,45.096,45.49,45.884,46.278,46.672,47.066,47.46,47.854,48.248,48.642,49.036,49.43,49.824,50.218,50.612,51.006,51.4,51.794,52.188,52.582,52.976,53.37,53.764,54.158,54.552,54.946,55.34,55.734,56.128,56.522,56.916,57.31,57.704,58.098,58.492,58.886,59.28,59.674,60.068,60.462,60.856,61.25,61.644,62.038,62.432,62.826,63.22,63.614,64.00800000000001,64.402,64.79599999999999,65.19,65.584,65.97800000000001,66.372,66.76599999999999,67.16,67.554,67.94800000000001,68.342,68.73599999999999,69.13,69.524,69.918,70.312,70.706,71.1,71.494,71.888,72.282,72.676,73.07,73.464,73.858,74.25200000000001,74.646,75.03999999999999,75.434,75.828,76.222,76.616,77.01,77.404,77.798,78.192,78.586,78.98,79.374,79.768,80.162,80.556,80.95,81.344,81.738,82.132,82.526,82.92,83.314,83.708,84.102,84.496,84.89,85.284,85.678,86.072,86.466,86.86,87.254,87.648,88.042,88.436,88.83,89.224,89.618,90.012,90.406,90.8,91.194,91.588,91.982,92.376,92.77,93.164,93.558,93.952,94.346,94.74,95.134,95.528,95.922,96.316,96.71,97.104,97.498,97.892,98.286,98.68,99.074,99.468,99.862,100.256,100.65,101.044,101.438,101.832,102.226,102.62,103.014,103.408,103.802,104.196,104.59,104.984,105.378,105.772,106.166,106.56,106.954,107.348,107.742,108.136,108.53,108.924,109.318,109.712,110.106,110.5,110.894,111.288,111.682,112.076,112.47,112.864,113.258,113.652,114.046,114.44,114.834,115.228,115.622,116.016,116.41,116.804,117.198,117.592,117.986,118.38,118.774,119.168,119.562,119.956,120.35,120.744,121.138,121.532,121.926,122.32,122.714,123.108,123.502,123.896,124.29,124.684,125.078,125.472,125.866,126.26,126.654,127.048,127.442,127.836,128.23000000000002,128.624,129.018,129.412,129.80599999999998,130.2,130.594,130.988,131.382,131.776,132.17000000000002,132.564,132.958,133.352,133.74599999999998,134.14,134.534,134.928,135.322,135.716,136.11,136.50400000000002,136.898,137.292,137.686,138.07999999999998,138.474,138.868,139.262,139.656,140.05,140.444,140.838,141.232,141.626,142.02,142.414,142.808,143.202,143.596,143.99,144.384,144.778,145.172,145.566,145.96,146.354,146.748,147.142,147.536,147.93,148.324,148.718,149.112,149.506,149.9,150.294,150.688,151.082,151.476,151.87,152.264,152.658,153.052,153.446,153.84,154.234,154.628,155.022,155.416,155.81,156.204,156.598,156.992,157.386,157.78,158.174,158.568,158.962,159.356,159.75,160.144,160.538,160.932,161.326,161.72,162.114,162.508,162.902,163.296,163.69,164.084,164.478,164.872,165.266,165.66,166.054,166.448,166.842,167.236,167.63,168.024,168.418,168.812,169.206,169.6,169.994,170.388,170.782,171.176,171.57,171.964,172.358,172.752,173.146,173.54,173.934,174.328,174.722,175.116,175.51,175.904,176.298,176.692,177.086,177.48,177.874,178.268,178.662,179.056,179.45,179.844,180.238,180.632,181.026,181.42,181.814,182.208,182.602,182.996,183.39,183.784,184.178,184.572,184.966,185.36,185.754,186.148,186.542,186.936,187.33,187.724,188.118,188.512,188.906,189.3,189.694,190.088,190.482,190.876,191.27,191.664,192.058,192.452,192.846,193.24,193.634,194.028,194.422,194.816,195.21,195.604,195.998,196.392,196.786,197.18,197.574,197.968,198.362,198.756,199.15,199.544,199.938,200.332,200.726,201.12,201.514,201.908,202.302,202.696,203.09,203.484,203.878,204.272,204.666,205.06,205.454,205.848,206.242,206.636,207.03,207.424,207.818,208.212,208.606],\"xaxis\":\"x\",\"y\":[0.0002073004331719326,0.0002131179722265247,0.00021895501567241403,0.00022482520577184604,0.00023074305420825347,0.00023672354478761288,0.0002427817004816275,0.0002489321223646548,0.0002551885089336826,0.0002615631650778202,0.00026806651055752515,0.0002747065982450017,0.00028148865255142006,0.0002884146384143878,0.0002954828709364687,0.00030268767525392455,0.00031001910548133626,0.00031746273063470065,0.00032499949430058784,0.00033260565351417445,0.00034025280086093733,0.0003479079722554704,0.00035553384120919394,0.0003630889987116246,0.00037052831615366544,0.00037780338705276393,0.000384863041735139,0.0003916539276246693,0.0003981211464146167,0.000404208938187388,0.0004098614015259498,0.00041502323785106094,0.00041964050763940186,0.0004236613858421984,0.0004270369037398988,0.0004297216646383266,0.00043167452123223104,0.0004328592031245939,0.00043324488388035476,0.00043280667809216807,0.00043152606021967045,0.0004293911984045471,0.0004263971980300307,0.00042254625145116283,0.00041784769203503084,0.00041231795238091224,0.00040598042830132855,0.0003988652517995188,0.00039100897784147417,0.0003824541911585299,0.00037324904059998223,0.00036344670965857395,0.0003531048326939565,0.00034228486706445636,0.00033105143183526894,0.0003194716239569009,0.000307614322802499,0.0002955494937235054,0.00028334750084237217,0.00027107843866630636,0.0002588114912993179,0.00024661432707723144,0.00023455253538082478,0.00022268911122736178,0.00021108399203310962,0.00019979364971218634,0.00018887074006282854,0.00017836381022204873,0.0001683170638724871,0.00015877018288679317,0.00014975820321702464,0.0001413114420969958,0.0001334554730370825,0.00012621114466169562,0.0001195946391721121,0.00011361756610948474,0.00010828708713739482,0.00010360606774865728,9.957325211151523e-05,9.618345768671724e-05,9.342778674724125e-05,9.12938524926862e-05,8.976601804526909e-05,8.882564721833996e-05,8.845136653603947e-05,8.861933853009854e-05,8.930354682463965e-05,9.04760939226173e-05,9.210751291180083e-05,9.416709450120766e-05,9.662323087183574e-05,9.9443777773865e-05,0.00010259643612592448,0.00010604915407454123,0.00010977055006156455,0.00011373035693605468,0.00011789988655001179,0.00012225251361254108,0.0001267641768648327,0.00013141389490073951,0.00013618429321750946,0.00014106213836152434,0.00014603887435723971,0.00015111115599532828,0.00015628137302791306,0.0001615581588919982,0.00016695687727121615,0.00017250007962207935,0.00017821792674189483,0.00018414856754558396,0.00019033846844853243,0.00019684268711935924,0.00020372508486392216,0.00021105847252068547,0.00021892468547585816,0.00022741458423014574,0.00023662797785166593,0.0002466734686141004,0.0002576682171275154,0.0002697376283029593,0.00028301495953266046,0.0002976408534976419,0.00031376279901690937,0.0003315345243113527,0.00035111532795663954,0.0003726693536298804,0.00039636481550325305,0.00042237318179430913,0.00045086832453915997,0.00048202564410418163,0.000516021177288969,0.0005530306980935857,0.0005932288203237747,0.0006367881111865395,0.0006838782248843997,0.0007346650649496074,0.0007893099836708213,0.0008479690264560323,0.0009107922283506493,0.0009779229691929954,0.0010494973930475764,0.0011256438966173131,0.001206482690309554,0.0012921254345288047,0.0013826749526063733,0.0014782250205692923,0.001578860232716632,0.0016846559407312034,0.0017956782628299455,0.0019119841582714394,0.002033621561416904,0.0021606295685076167,0.002293038669399247,0.002430871015707093,0.00257414071618438,0.0027228541496992858,0.0028770102859081775,0.0030366010036547665,0.003201611397262857,0.0033720200612351765,0.003547799344417825,0.003728915565428546,0.003915329182061302,0.0041069949084491355,0.004303861774964115,0.004505873127129708,0.00471296656118122,0.0049250737953014335,0.005142120476942214,0.005364025927986066,0.005590702830767542,0.00582205685913515,0.006057986259760853,0.006298381389778328,0.006543124217535956,0.006792087793780205,0.007045135700938322,0.007302121488355243,0.007562888101369641,0.007827267312013402,0.00809507915891016,0.008366131403665303,0.008640219010715738,0.008917123657276559,0.009196613279720094,0.009478441662482321,0.009762348075438708,0.010048056965653255,0.010335277709490361,0.010623704431300278,0.010913015895241473,0.011202875477273793,0.011492931224925207,0.011782816013068596,0.012072147804605395,0.012360530025590453,0.012647552064896856,0.012932789908951213,0.013215806922311871,0.01349615478485591,0.01377337459603134,0.014046998155966899,0.014316549432173269,0.014581546219081733,0.014841501995727717,0.015095927984490977,0.015344335410953305,0.015586237961649964,0.015821154432809188,0.01604861155913969,0.016268147007408182,0.016479312515020092,0.01668167714916909,0.016874830657450286,0.017058386876250376,0.017231987158844313,0.01739530378106513,0.01754804327878814,0.017689949668399936,0.0178208074990269,0.017940444683677285,0.018048735055711147,0.018145600597275702,0.018231013287603237,0.018304996521418745,0.01836762605117902,0.01841903041147467,0.0184593907896615,0.018488940313604797,0.018507962735260182,0.018516790497576013,0.018515802181772248,0.018505419342270773,0.018486102747258135,0.018458348053846097,0.01842268095784747,0.018379651869064297,0.01832983017345139,0.018273798153314955,0.01821214464558591,0.018145458525923752,0.018074322112733562,0.017999304589904636,0.017920955550029392,0.017839798760888637,0.017756326256993762,0.017670992854899786,0.017584211185843423,0.017496347332057235,0.017407717143972518,0.01731858330459511,0.017229153194829084,0.017139577599677176,0.01704995028035899,0.01696030842177532,0.01687063394876395,0.016780855688594457,0.01669085234151352,0.016600456206232787,0.01650945759340174,0.016417609847646588,0.016324634887970223,0.016230229167440928,0.016134069946340278,0.016035821768433038,0.015935143027839636,0.015831692514155973,0.015725135825929697,0.015615151547270915,0.01550143708909068,0.015383714105022381,0.015261733402244314,0.015135279278910155,0.015004173232404393,0.014868276995856957,0.014727494873951554,0.014581775362725815,0.014431112051483503,0.01427554381782846,0.014115154338931664,0.013950070953224761,0.013780462916589168,0.013606539105627207,0.013428545227654244,0.01324676060257279,0.01306149458575564,0.01287308270349237,0.012681882573489955,0.01248826968245092,0.01229263309098535,0.012095371133186192,0.011896887174252186,0.011697585484746678,0.011497867284595025,0.011298127003920577,0.01109874880145934,0.010900103374738547,0.010702545089593578,0.010506409450071023,0.010312010923429722,0.01011964112891387,0.009929567393306258,0.009742031671039682,0.009557249821895342,0.009375411235073123,0.009196678784693392,0.009021189098579368,0.00884905311945987,0.008680356935500304,0.008515162855282869,0.008353510700981453,0.008195419292470864,0.008040888094435976,0.007889898998166306,0.007742418209597699,0.007598398215266519,0.00745777979814362,0.00732049407579805,0.007186464533985859,0.007055609029561256,0.006927841737560107,0.006803075018412931,0.00668122118250886,0.00656219413076349,0.006445910851449438,0.006332292755340116,0.006221266833200441,0.006112766621840237,0.006006732967326276,0.0059031145765264924,0.005801868350921094,0.005702959499548756,0.005606361431034497,0.00551205542784227,0.005420030109169734,0.005330280692213731,0.005242808064831618,0.005157617685852053,0.005074718332390079,0.004994120716435779,0.004915835995650642,0.004839874205660992,0.00476624264312306,0.004694944230396391,0.004625975893749685,0.0045593269875942475,0.004494977797259968,0.0044328981522727025,0.0043730461809451645,0.004315367235354036,0.004259793013452185,0.004206240902180375,0.0041546135620299145,0.004104798769615544,0.00405666953050383,0.0040100844698777805,0.003964888503683166,0.003920913787785078,0.0038779809374619068,0.0038359005043783192,0.003794474693115169,0.0037534992944975388,0.003712765808455763,0.0036720637250801436,0.0036311829289797375,0.0035899161891145676,0.003548061694011778,0.0035054255907593433,0.00346182448543934,0.0034170878627453735,0.003371060383433063,0.0033236040199704363,0.0032745999932580604,0.003223950476529403,0.0031715800364573153,0.0031174367860003693,0.0030614932285294274,0.0030037467781728225,0.002944219946991248,0.002882960195418951,0.002820039448259661,0.00275555328427855,0.0026896198129633723,0.0026223782572236927,0.0025539872655499537,0.002484622981373038,0.002414476900968998,0.002343753554183014,0.002272668044456019,0.002201443486102314,0.002130308377499492,0.002059493948826404,0.0019892315222481585,0.0019197499210466557,0.0018512729621888665,0.0017840170642854601,0.001718188999899471,0.0016539838178061903,0.0015915829571723915,0.0015311525718077464,0.0014728420787335794,0.00141678294140138,0.001363087694054444,0.0013118492100335432,0.001263140213342439,0.0012170130295633395,0.0011734995692857413,0.0011326115346119458,0.0010943408370468906,0.0010586602131736674,0.0010255240229562483,0.0009948692142847733,0.0009666164364667407,0.0009406712847446721,0.0009169256575581851,0.0008952592081344376,0.0008755408720539206,0.0008576304526670486,0.0008413802466019465,0.0008266366920789087,0.0008132420233101125,0.0008010359148963519,0.0007898571008225617,0.0007795449533919745,0.0007699410082207228,0.0007608904222397694,0.0007522433525218212,0.0007438562446721624,0.0007355930205000874,0.0007273261557282148,0.0007189376396062846,0.0007103198094779543,0.0007013760546056356,0.0006920213848880611,0.0006821828615031705,0.0006717998879663852,0.0006608243615983945,0.0006492206869309144,0.0006369656541229756,0.0006240481869913468,0.0006104689667507598,0.0005962399389861055,0.0005813837127116991,0.0005659328615851377,0.0005499291384092731,0.0005334226149520791,0.0005164707598205592,0.0004991374676253913,0.00048149205295654294,0.0004636082227507157,0.0004455630404688416,0.00042743589512142456,0.0004093074875921155,0.0003912588459320301,0.00037337038034974214,0.00035572098753010854,0.0003383872127073802,0.00032144247662553,0.000304956373173583,0.0002889940421187271,0.00027361562000706273,0.0002588757709914398,0.00024482329810548796,0.00023150083435719387,0.0002189446119842108,0.00020718430731238904,0.00019624295789917405,0.00018613694803036376,0.00017687605817268322,0.00016846357366142177,0.00016089644771330938,0.00015416551378724647,0.0001482557423536242,0.0001431465372584566,0.00013881206706158416,0.0001352216269680717,0.00013234002723824608,0.00013012800423496375,0.00012854265052899581,0.00012753786071945672,0.00012706478982362648,0.00012707232124032651,0.00012750754138786155,0.00012831621815984404,0.0001294432803320754,0.00013083329499664374,0.00013243094000422252,0.00013418146827354148,0.0001360311606915517,0.0001379277641936824,0.00013982091149620802,0.00014166251886749788,0.0001434071582863339,0.00014501240035664936,0.0001464391244399378,0.00014765179263752726,0.0001486186845102513,0.00014931208976471928,0.0001497084565619336,0.00014978849361045008],\"yaxis\":\"y\",\"type\":\"scatter\"},{\"legendgroup\":\"Comedies, Dramas, International Movies\",\"marker\":{\"color\":\"rgb(255, 127, 14)\"},\"mode\":\"lines\",\"name\":\"Comedies, Dramas, International Movies\",\"showlegend\":true,\"x\":[68.0,68.37,68.74,69.11,69.48,69.85,70.22,70.59,70.96,71.33,71.7,72.07,72.44,72.81,73.18,73.55,73.92,74.29,74.66,75.03,75.4,75.77,76.14,76.51,76.88,77.25,77.62,77.99,78.36,78.73,79.1,79.47,79.84,80.21000000000001,80.58,80.95,81.32,81.69,82.06,82.43,82.8,83.17,83.53999999999999,83.91,84.28,84.65,85.02,85.39,85.76,86.13,86.5,86.87,87.24,87.61,87.98,88.35,88.72,89.09,89.46000000000001,89.83,90.2,90.57,90.94,91.31,91.68,92.05,92.42,92.78999999999999,93.16,93.53,93.9,94.27,94.64,95.01,95.38,95.75,96.12,96.49,96.86,97.23,97.6,97.97,98.34,98.71000000000001,99.08,99.45,99.82,100.19,100.56,100.93,101.3,101.67,102.03999999999999,102.41,102.78,103.15,103.52000000000001,103.89,104.25999999999999,104.63,105.0,105.37,105.74000000000001,106.11,106.47999999999999,106.85,107.22,107.59,107.96000000000001,108.33,108.7,109.07,109.44,109.81,110.18,110.55,110.92,111.28999999999999,111.66,112.03,112.4,112.77000000000001,113.14,113.50999999999999,113.88,114.25,114.62,114.99000000000001,115.36,115.72999999999999,116.1,116.47,116.84,117.21000000000001,117.58,117.95,118.32,118.69,119.06,119.43,119.8,120.17,120.53999999999999,120.91,121.28,121.65,122.02000000000001,122.39,122.75999999999999,123.13,123.5,123.87,124.24000000000001,124.61,124.97999999999999,125.35,125.72,126.09,126.46000000000001,126.83,127.2,127.57,127.94,128.31,128.68,129.05,129.42000000000002,129.79,130.16,130.53,130.9,131.27,131.64,132.01,132.38,132.75,133.12,133.49,133.86,134.23000000000002,134.6,134.97,135.34,135.70999999999998,136.07999999999998,136.45,136.82,137.19,137.56,137.93,138.3,138.67000000000002,139.04000000000002,139.41,139.78,140.15,140.51999999999998,140.89,141.26,141.63,142.0,142.37,142.74,143.11,143.48000000000002,143.85,144.22,144.59,144.95999999999998,145.32999999999998,145.7,146.07,146.44,146.81,147.18,147.55,147.92000000000002,148.29000000000002,148.66,149.03,149.4,149.76999999999998,150.14,150.51,150.88,151.25,151.62,151.99,152.36,152.73000000000002,153.1,153.47,153.84,154.20999999999998,154.57999999999998,154.95,155.32,155.69,156.06,156.43,156.8,157.17000000000002,157.54000000000002,157.91,158.28,158.65,159.01999999999998,159.39,159.76,160.13,160.5,160.87,161.24,161.61,161.98000000000002,162.35,162.72,163.09,163.45999999999998,163.82999999999998,164.2,164.57,164.94,165.31,165.68,166.05,166.42000000000002,166.79000000000002,167.16,167.53,167.9,168.26999999999998,168.64,169.01,169.38,169.75,170.12,170.49,170.86,171.23000000000002,171.6,171.97,172.34,172.70999999999998,173.07999999999998,173.45,173.82,174.19,174.56,174.93,175.3,175.67000000000002,176.04000000000002,176.41,176.78,177.15,177.51999999999998,177.89,178.26,178.63,179.0,179.37,179.74,180.11,180.48000000000002,180.85,181.22,181.59,181.95999999999998,182.32999999999998,182.7,183.07,183.44,183.81,184.18,184.55,184.92000000000002,185.29000000000002,185.66,186.03,186.4,186.76999999999998,187.14,187.51,187.88,188.25,188.62,188.99,189.36,189.73000000000002,190.1,190.47,190.84,191.20999999999998,191.57999999999998,191.95,192.32,192.69,193.06,193.43,193.8,194.17000000000002,194.54000000000002,194.91,195.28,195.65,196.02,196.39,196.76,197.13,197.5,197.87,198.24,198.61,198.98,199.35,199.72,200.09,200.46,200.83,201.2,201.57,201.94,202.31,202.68,203.05,203.42,203.79,204.16,204.53,204.9,205.27,205.64,206.01,206.38,206.75,207.12,207.49,207.86,208.23,208.6,208.97,209.34,209.71,210.08,210.45,210.82,211.19,211.56,211.93,212.3,212.67,213.04,213.41,213.78,214.15,214.52,214.89,215.26,215.63,216.0,216.37,216.74,217.11,217.48,217.85,218.22,218.59,218.96,219.33,219.7,220.07,220.44,220.81,221.18,221.55,221.92,222.29,222.66,223.03,223.4,223.77,224.14,224.51,224.88,225.25,225.62,225.99,226.36,226.73,227.1,227.47,227.84,228.21,228.58,228.95,229.32,229.69,230.06,230.43,230.8,231.17,231.54,231.91,232.28,232.65,233.02,233.39,233.76,234.13,234.5,234.87,235.24,235.61,235.98,236.35,236.72,237.09,237.46,237.83,238.2,238.57,238.94,239.31,239.68,240.05,240.42,240.79,241.16,241.53,241.9,242.27,242.64,243.01,243.38,243.75,244.12,244.49,244.86,245.23,245.6,245.97,246.34,246.71,247.08,247.45,247.82,248.19,248.56,248.93,249.3,249.67,250.04,250.41,250.78,251.15,251.52,251.89,252.26,252.63],\"xaxis\":\"x\",\"y\":[0.0012501663165036066,0.0013091466911615546,0.001370299164208213,0.0014337121200063928,0.0014994787038179933,0.001567696687408694,0.0016384682735564424,0.0017118998375962981,0.001788101604722083,0.0018671872623806781,0.0019492735077309752,0.0020344795307888036,0.002122926434534422,0.0022147365939134576,0.0023100329563084062,0.002408938286689752,0.002511574361267184,0.002618061114046957,0.0027285157412560734,0.002843051769113289,0.0029617780909071945,0.0030847979797794856,0.0032122080840044,0.003344097411900187,0.003480546313805062,0.003621625468794619,0.0037673948840109732,0.003917902914613315,0.00407318531244499,0.004233264311542193,0.004398147758583441,0.004567828296295891,0.004742282607693256,0.004921470728820203,0.005105335437417983,0.00529380172460532,0.005486776356285731,0.005684147530548644,0.005885784636823581,0.006091538121978409,0.006301239467920706,0.0065147012845705645,0.0067317175213227306,0.006952063799310945,0.00717549786592943,0.007401760172161937,0.007630574572322197,0.007861649144827834,0.008094677131621313,0.008329337992823014,0.008565298572164893,0.008802214367716403,0.00903973090138992,0.009277485179711446,0.00951510723737505,0.009752221754180253,0.009988449735089397,0.010223410242350088,0.010456722167918417,0.010688006033798257,0.010916885807395466,0.011142990718577125,0.011365957064836018,0.011585429990793697,0.011801065228237083,0.012012530782977881,0.01221950855505208,0.012421695879139015,0.012618806972576469,0.012810574278975192,0.012996749696191197,0.013177105678290387,0.013351436202132564,0.013519557590300645,0.01368130918329881,0.01383655385522933,0.013985178368520383,0.014127093564705429,0.014262234389734403,0.01439055975381481,0.014512052227322542,0.014626717575873463,0.014734584139188179,0.014835702059904785,0.014930142369972595,0.01501799594368494,0.015099372327758959,0.015174398460130025,0.015243217290282197,0.015305986314964149,0.015362876044033072,0.01541406841190238,0.015459755150642272,0.015500136141168094,0.015535417759153403,0.015565811232303715,0.015591531025423298,0.015612793269294024,0.015629814248764008,0.015642808964614265,0.015651989782742404,0.015657565182980743,0.01565973861846431,0.015658707494901516,0.0156546622773905,0.015647785730596536,0.015638252296180252,0.015626227609376455,0.015611868154594212,0.015595321057878194,0.015576724012068362,0.01555620532855688,0.015533884107699831,0.015509870518230481,0.015484266174473517,0.015457164598801858,0.015428651755640696,0.015398806642424434,0.015367701922275273,0.015335404582807853,0.015301976605382534,0.015267475629334252,0.015231955596193107,0.015195467359676668,0.015158059248261814,0.01511977756841586,0.01508066703805702,0.01504077114149825,0.015000132398969829,0.014958792545779049,0.014916792618215161,0.014874172945396707,0.01483097304835174,0.014787231449673099,0.0147429853990611,0.014698270521917273,0.014653120399844006,0.014607566093410332,0.014561635618825166,0.014515353391200409,0.014468739647862572,0.014421809865671188,0.014374574186518909,0.0143270368651169,0.014279195752818177,0.014231041830606797,0.014182558803501926,0.014133722767509191,0.014084501958927586,0.014034856594311853,0.013984738807736171,0.013934092690235324,0.013882854434454344,0.013830952585651089,0.01377830839831073,0.013724836295777882,0.013670444428530992,0.013615035325045616,0.013558506627648596,0.013500751904381412,0.0134416615266908,0.01338112360176509,0.013319024947553406,0.013255252097945798,0.013189692325265102,0.013122234667122855,0.013052770944816912,0.012981196760790575,0.012907412463216696,0.012831324066500827,0.012752844117392591,0.012671892497435897,0.012588397153647062,0.01250229475056465,0.012413531238135014,0.012322062331258966,0.012227853898200742,0.012130882256422112,0.012031134375732562,0.011928607989912299,0.011823311619152592,0.011715264506747133,0.011604496474443074,0.011491047701710349,0.011374968434901343,0.011256318632846155,0.011135167555854378,0.011011593305378462,0.010885682321732326,0.010757528847263014,0.010627234362247816,0.010494907000545886,0.010360660951684026,0.010224615855614546,0.010086896195864706,0.00994763069621738,0.00980695172543812,0.009664994713911006,0.00952189758538219,0.009377800206348265,0.009232843854986983,0.0090871707109172,0.008940923366512464,0.008794244359983093,0.008647275729998388,0.008500158591246868,0.008353032730036328,0.00820603621881717,0.008059305048374451,0.00791297277637389,0.007767170190962883,0.007622024988213055,0.007477661462340227,0.007334200207843705,0.007191757832958217,0.007050446684101473,0.006910374581314637,0.006771644565023056,0.006634354654777686,0.00649859762096317,0.006364460770765676,0.006232025749971692,0.0061013683624095115,0.005972558409038747,0.00584565954883385,0.005720729183688658,0.005597818369586773,0.005476971756234479,0.005358227557237159,0.0052416175527185555,0.005127167126035576,0.005014895335934614,0.004904815025132892,0.0047969329658972375,0.00469125004273997,0.004587761471867554,0.0044864570565093485,0.004387321476734354,0.004290334611841768,0.004195471892897976,0.004102704682499554,0.004012000678378235,0.003923324337041314,0.003836637313266647,0.003751898910955857,0.0036690665405982466,0.003588096178417743,0.0035089428221708762,0.0034315609385379624,0.0033559048971041295,0.003281929386061455,0.003209589804977249,0.003138842630261908,0.003069645749329996,0.0030019587598723828,0.002935743231139618,0.002870962924667497,0.0028075839724469778,0.0027455750111406688,0.0026849072715679333,0.0026255546233082904,0.002567493574897599,0.0025107032307033405,0.002455165206152702,0.0024008635035415228,0.0023477843511640196,0.0022959160089644063,0.0022452485443162614,0.0021957735818770507,0.0021474840317404855,0.002100373800315041,0.002054437488491664,0.0020096700817279884,0.001966066636671136,0.0019236219688692825,0.0018823303459876949,0.0018421851907523303,0.0018031787975993432,0.0017653020667182748,0.0017285442588469994,0.0016928927738153405,0.0016583329554482273,0.0016248479250364572,0.0015924184451697164,0.0015610228153097538,0.0015306368000674794,0.0015012335907414456,0.0014727838002820386,0.001445255491469383,0.0014186142377368791,0.001392823215739177,0.0013678433284547483,0.0013436333573302146,0.0013201501417170946,0.0012973487836211383,0.0012751828755797722,0.0012536047493038071,0.001232565742564061,0.0012120164816716277,0.0011919071767903374,0.001172187927231435,0.0011528090338123742,0.0011337213153135397,0.0011148764260386305,0.001096227171476136,0.0010777278190713315,0.001059334401150893,0.0010410050070966857,0.001022700061941804,0.0010043825886621588,0.0009860184515611758,0.0009675765782944583,0.0009490291582562322,0.0009303518152499582,0.0009115237525917263,0.0008925278690461419,0.0008733508442691597,0.0008539831927289816,0.000834419285392214,0.0008146573387950335,0.0007946993714645385,0.0007745511280094975,0.000754221971558021,0.0007337247455769056,0.0007130756064585512,0.000692293828600799,0.0006714015840273451,0.0006504236988961553,0.0006293873895152469,0.0006083219807246855,0.0005872586097060526,0.0005662299184425658,0.00054526973817109,0.0005244127692394852,0.0005036942598075217,0.00048314968680659835,0.0004628144425028929,0.0004427235298919601,0.0004229112699920819,0.000403411023902093,0.0003842549322505462,0.0003654736743915362,0.0003470962494031503,0.00032914978062288544,0.0003116593451161335,0.00029464782912508384,0.00027813581019190694,0.00026214146629801574,0.0002466805120161256,0.00023176616133918404,0.00021740911653495408,0.00020361758208168557,0.00019039730247257276,0.00017775162243792523,0.00016568156792662594,0.00015418594601431575,0.0001432614617659192,0.00013290284997498832,0.00012310301963156585,0.00011385320893294074,0.00010514314864626051,9.69612316564591e-05,8.929468658489316e-05,8.21297534406213e-05,7.54518593643834e-05,6.924579264169171e-05,6.349587329275652e-05,5.8186118689770714e-05,5.330040280313404e-05,4.882260783423208e-05,4.4736767150485376e-05,4.102719859572794e-05,3.7678627403148756e-05,3.467629808687048e-05,3.2006074829970784e-05,2.9654530019931675e-05,2.7609020706070182e-05,2.58577528667415e-05,2.4389833476648684e-05,2.3195310456386202e-05,2.2265200667629873e-05,2.1591506188662072e-05,2.1167219166893783e-05,2.0986315598615206e-05,2.1043738432387372e-05,2.1335370432388907e-05,2.1857997272812878e-05,2.2609261365217683e-05,2.358760694869217e-05,2.4792216998839673e-05,2.6222942536847877e-05,2.7880224945090608e-05,2.976501192144225e-05,3.1878667731223547e-05,3.4222878443732894e-05,3.679955286969783e-05,3.9610719946610935e-05,4.2658423350468035e-05,4.5944614144424205e-05,4.947104230665584e-05,5.3239148010492686e-05,5.724995355869715e-05,6.150395689965276e-05,6.600102767506139e-05,7.074030676543919e-05,7.572011031012863e-05,8.09378391816065e-05,8.638989488856511e-05,9.207160286760307e-05,9.797714409861902e-05,0.00010409949594342833,0.00011043038306029141,0.00011696023918856115,0.0001236781805274972,0.00013057199135148032,0.00013762812241076958,0.0001448317025630739,0.00015216656396733116,0.00015961528104813452,0.00016715922330838004,0.00017477862193024423,0.00018245264996200817,0.00019015951574214172,0.00019787656906416443,0.00020558041943788524,0.00021324706565658706,0.00022085203573737146,0.0002283705361651596,0.00023577760924151916,0.00024304829721942005,0.0002501578117958338,0.00025708170743743924,0.0002637960569320321,0.0002702776274908782,0.00027650405567639303,0.00028245401939616346,0.000288107405189284,0.00029344546903485293,0.0002984509889357787,0.00030310840757390205,0.0003074039633949851,0.00031132580856409376,0.0003148641123329651,0.000318011148480483,0.00032076136562460647,0.00032311143935797383,0.00032506030532874087,0.00032660917257160415,0.0003277615165897762,0.0003285230518951465,0.000328901683928988,0.0003289074405072008,0.00032855238315992026,0.00032785049896288173,0.00032681757368465477,0.0003254710472970375,0.0003238298531127669,0.0003219142420224165,0.00031974559349809623,0.0003173462152124979,0.0003147391332851818,0.00031194787531111604,0.00030899624844684195,0.0003059081149249184,0.0003027071674354294,0.0002994167068525255,0.00029605942479277186,0.000292657193469406,0.000289230865251859,0.00028580008425280813,0.00028238311214597717,0.00027899667026759495,0.0002756557998742339,0.0002723737422214648,0.00026916183989372225,0.0002660294605587996,0.0002629839440437601,0.00026003057333644816,0.0002571725698122825,0.0002544111126739747,0.00025174538227683594,0.00024917262669918515,0.00024668825061086746,0.0002442859251978715,0.00024195771762219382,0.00023969423823797173,0.00023748480355171905,0.00023531761271011916,0.00023317993512666547,0.00023105830672139004,0.00022893873214828442,0.0002268068903244613,0.00022464834055462485,0.00022244872656431355,0.00022019397581520879,0.00021787049157446578,0.00021546533534568977,0.00021296639743938555,0.00021036255366237624,0.00020764380633521716],\"yaxis\":\"y\",\"type\":\"scatter\"}],                        {\"barmode\":\"overlay\",\"hovermode\":\"closest\",\"legend\":{\"traceorder\":\"reversed\"},\"xaxis\":{\"anchor\":\"y2\",\"domain\":[0.0,1.0],\"zeroline\":false},\"yaxis\":{\"anchor\":\"free\",\"domain\":[0.0,1],\"position\":0.0},\"template\":{\"data\":{\"histogram2dcontour\":[{\"type\":\"histogram2dcontour\",\"colorbar\":{\"outlinewidth\":0,\"ticks\":\"\"},\"colorscale\":[[0.0,\"#0d0887\"],[0.1111111111111111,\"#46039f\"],[0.2222222222222222,\"#7201a8\"],[0.3333333333333333,\"#9c179e\"],[0.4444444444444444,\"#bd3786\"],[0.5555555555555556,\"#d8576b\"],[0.6666666666666666,\"#ed7953\"],[0.7777777777777778,\"#fb9f3a\"],[0.8888888888888888,\"#fdca26\"],[1.0,\"#f0f921\"]]}],\"choropleth\":[{\"type\":\"choropleth\",\"colorbar\":{\"outlinewidth\":0,\"ticks\":\"\"}}],\"histogram2d\":[{\"type\":\"histogram2d\",\"colorbar\":{\"outlinewidth\":0,\"ticks\":\"\"},\"colorscale\":[[0.0,\"#0d0887\"],[0.1111111111111111,\"#46039f\"],[0.2222222222222222,\"#7201a8\"],[0.3333333333333333,\"#9c179e\"],[0.4444444444444444,\"#bd3786\"],[0.5555555555555556,\"#d8576b\"],[0.6666666666666666,\"#ed7953\"],[0.7777777777777778,\"#fb9f3a\"],[0.8888888888888888,\"#fdca26\"],[1.0,\"#f0f921\"]]}],\"heatmap\":[{\"type\":\"heatmap\",\"colorbar\":{\"outlinewidth\":0,\"ticks\":\"\"},\"colorscale\":[[0.0,\"#0d0887\"],[0.1111111111111111,\"#46039f\"],[0.2222222222222222,\"#7201a8\"],[0.3333333333333333,\"#9c179e\"],[0.4444444444444444,\"#bd3786\"],[0.5555555555555556,\"#d8576b\"],[0.6666666666666666,\"#ed7953\"],[0.7777777777777778,\"#fb9f3a\"],[0.8888888888888888,\"#fdca26\"],[1.0,\"#f0f921\"]]}],\"heatmapgl\":[{\"type\":\"heatmapgl\",\"colorbar\":{\"outlinewidth\":0,\"ticks\":\"\"},\"colorscale\":[[0.0,\"#0d0887\"],[0.1111111111111111,\"#46039f\"],[0.2222222222222222,\"#7201a8\"],[0.3333333333333333,\"#9c179e\"],[0.4444444444444444,\"#bd3786\"],[0.5555555555555556,\"#d8576b\"],[0.6666666666666666,\"#ed7953\"],[0.7777777777777778,\"#fb9f3a\"],[0.8888888888888888,\"#fdca26\"],[1.0,\"#f0f921\"]]}],\"contourcarpet\":[{\"type\":\"contourcarpet\",\"colorbar\":{\"outlinewidth\":0,\"ticks\":\"\"}}],\"contour\":[{\"type\":\"contour\",\"colorbar\":{\"outlinewidth\":0,\"ticks\":\"\"},\"colorscale\":[[0.0,\"#0d0887\"],[0.1111111111111111,\"#46039f\"],[0.2222222222222222,\"#7201a8\"],[0.3333333333333333,\"#9c179e\"],[0.4444444444444444,\"#bd3786\"],[0.5555555555555556,\"#d8576b\"],[0.6666666666666666,\"#ed7953\"],[0.7777777777777778,\"#fb9f3a\"],[0.8888888888888888,\"#fdca26\"],[1.0,\"#f0f921\"]]}],\"surface\":[{\"type\":\"surface\",\"colorbar\":{\"outlinewidth\":0,\"ticks\":\"\"},\"colorscale\":[[0.0,\"#0d0887\"],[0.1111111111111111,\"#46039f\"],[0.2222222222222222,\"#7201a8\"],[0.3333333333333333,\"#9c179e\"],[0.4444444444444444,\"#bd3786\"],[0.5555555555555556,\"#d8576b\"],[0.6666666666666666,\"#ed7953\"],[0.7777777777777778,\"#fb9f3a\"],[0.8888888888888888,\"#fdca26\"],[1.0,\"#f0f921\"]]}],\"mesh3d\":[{\"type\":\"mesh3d\",\"colorbar\":{\"outlinewidth\":0,\"ticks\":\"\"}}],\"scatter\":[{\"fillpattern\":{\"fillmode\":\"overlay\",\"size\":10,\"solidity\":0.2},\"type\":\"scatter\"}],\"parcoords\":[{\"type\":\"parcoords\",\"line\":{\"colorbar\":{\"outlinewidth\":0,\"ticks\":\"\"}}}],\"scatterpolargl\":[{\"type\":\"scatterpolargl\",\"marker\":{\"colorbar\":{\"outlinewidth\":0,\"ticks\":\"\"}}}],\"bar\":[{\"error_x\":{\"color\":\"#2a3f5f\"},\"error_y\":{\"color\":\"#2a3f5f\"},\"marker\":{\"line\":{\"color\":\"#E5ECF6\",\"width\":0.5},\"pattern\":{\"fillmode\":\"overlay\",\"size\":10,\"solidity\":0.2}},\"type\":\"bar\"}],\"scattergeo\":[{\"type\":\"scattergeo\",\"marker\":{\"colorbar\":{\"outlinewidth\":0,\"ticks\":\"\"}}}],\"scatterpolar\":[{\"type\":\"scatterpolar\",\"marker\":{\"colorbar\":{\"outlinewidth\":0,\"ticks\":\"\"}}}],\"histogram\":[{\"marker\":{\"pattern\":{\"fillmode\":\"overlay\",\"size\":10,\"solidity\":0.2}},\"type\":\"histogram\"}],\"scattergl\":[{\"type\":\"scattergl\",\"marker\":{\"colorbar\":{\"outlinewidth\":0,\"ticks\":\"\"}}}],\"scatter3d\":[{\"type\":\"scatter3d\",\"line\":{\"colorbar\":{\"outlinewidth\":0,\"ticks\":\"\"}},\"marker\":{\"colorbar\":{\"outlinewidth\":0,\"ticks\":\"\"}}}],\"scattermapbox\":[{\"type\":\"scattermapbox\",\"marker\":{\"colorbar\":{\"outlinewidth\":0,\"ticks\":\"\"}}}],\"scatterternary\":[{\"type\":\"scatterternary\",\"marker\":{\"colorbar\":{\"outlinewidth\":0,\"ticks\":\"\"}}}],\"scattercarpet\":[{\"type\":\"scattercarpet\",\"marker\":{\"colorbar\":{\"outlinewidth\":0,\"ticks\":\"\"}}}],\"carpet\":[{\"aaxis\":{\"endlinecolor\":\"#2a3f5f\",\"gridcolor\":\"white\",\"linecolor\":\"white\",\"minorgridcolor\":\"white\",\"startlinecolor\":\"#2a3f5f\"},\"baxis\":{\"endlinecolor\":\"#2a3f5f\",\"gridcolor\":\"white\",\"linecolor\":\"white\",\"minorgridcolor\":\"white\",\"startlinecolor\":\"#2a3f5f\"},\"type\":\"carpet\"}],\"table\":[{\"cells\":{\"fill\":{\"color\":\"#EBF0F8\"},\"line\":{\"color\":\"white\"}},\"header\":{\"fill\":{\"color\":\"#C8D4E3\"},\"line\":{\"color\":\"white\"}},\"type\":\"table\"}],\"barpolar\":[{\"marker\":{\"line\":{\"color\":\"#E5ECF6\",\"width\":0.5},\"pattern\":{\"fillmode\":\"overlay\",\"size\":10,\"solidity\":0.2}},\"type\":\"barpolar\"}],\"pie\":[{\"automargin\":true,\"type\":\"pie\"}]},\"layout\":{\"autotypenumbers\":\"strict\",\"colorway\":[\"#636efa\",\"#EF553B\",\"#00cc96\",\"#ab63fa\",\"#FFA15A\",\"#19d3f3\",\"#FF6692\",\"#B6E880\",\"#FF97FF\",\"#FECB52\"],\"font\":{\"color\":\"#2a3f5f\"},\"hovermode\":\"closest\",\"hoverlabel\":{\"align\":\"left\"},\"paper_bgcolor\":\"white\",\"plot_bgcolor\":\"#E5ECF6\",\"polar\":{\"bgcolor\":\"#E5ECF6\",\"angularaxis\":{\"gridcolor\":\"white\",\"linecolor\":\"white\",\"ticks\":\"\"},\"radialaxis\":{\"gridcolor\":\"white\",\"linecolor\":\"white\",\"ticks\":\"\"}},\"ternary\":{\"bgcolor\":\"#E5ECF6\",\"aaxis\":{\"gridcolor\":\"white\",\"linecolor\":\"white\",\"ticks\":\"\"},\"baxis\":{\"gridcolor\":\"white\",\"linecolor\":\"white\",\"ticks\":\"\"},\"caxis\":{\"gridcolor\":\"white\",\"linecolor\":\"white\",\"ticks\":\"\"}},\"coloraxis\":{\"colorbar\":{\"outlinewidth\":0,\"ticks\":\"\"}},\"colorscale\":{\"sequential\":[[0.0,\"#0d0887\"],[0.1111111111111111,\"#46039f\"],[0.2222222222222222,\"#7201a8\"],[0.3333333333333333,\"#9c179e\"],[0.4444444444444444,\"#bd3786\"],[0.5555555555555556,\"#d8576b\"],[0.6666666666666666,\"#ed7953\"],[0.7777777777777778,\"#fb9f3a\"],[0.8888888888888888,\"#fdca26\"],[1.0,\"#f0f921\"]],\"sequentialminus\":[[0.0,\"#0d0887\"],[0.1111111111111111,\"#46039f\"],[0.2222222222222222,\"#7201a8\"],[0.3333333333333333,\"#9c179e\"],[0.4444444444444444,\"#bd3786\"],[0.5555555555555556,\"#d8576b\"],[0.6666666666666666,\"#ed7953\"],[0.7777777777777778,\"#fb9f3a\"],[0.8888888888888888,\"#fdca26\"],[1.0,\"#f0f921\"]],\"diverging\":[[0,\"#8e0152\"],[0.1,\"#c51b7d\"],[0.2,\"#de77ae\"],[0.3,\"#f1b6da\"],[0.4,\"#fde0ef\"],[0.5,\"#f7f7f7\"],[0.6,\"#e6f5d0\"],[0.7,\"#b8e186\"],[0.8,\"#7fbc41\"],[0.9,\"#4d9221\"],[1,\"#276419\"]]},\"xaxis\":{\"gridcolor\":\"white\",\"linecolor\":\"white\",\"ticks\":\"\",\"title\":{\"standoff\":15},\"zerolinecolor\":\"white\",\"automargin\":true,\"zerolinewidth\":2},\"yaxis\":{\"gridcolor\":\"white\",\"linecolor\":\"white\",\"ticks\":\"\",\"title\":{\"standoff\":15},\"zerolinecolor\":\"white\",\"automargin\":true,\"zerolinewidth\":2},\"scene\":{\"xaxis\":{\"backgroundcolor\":\"#E5ECF6\",\"gridcolor\":\"white\",\"linecolor\":\"white\",\"showbackground\":true,\"ticks\":\"\",\"zerolinecolor\":\"white\",\"gridwidth\":2},\"yaxis\":{\"backgroundcolor\":\"#E5ECF6\",\"gridcolor\":\"white\",\"linecolor\":\"white\",\"showbackground\":true,\"ticks\":\"\",\"zerolinecolor\":\"white\",\"gridwidth\":2},\"zaxis\":{\"backgroundcolor\":\"#E5ECF6\",\"gridcolor\":\"white\",\"linecolor\":\"white\",\"showbackground\":true,\"ticks\":\"\",\"zerolinecolor\":\"white\",\"gridwidth\":2}},\"shapedefaults\":{\"line\":{\"color\":\"#2a3f5f\"}},\"annotationdefaults\":{\"arrowcolor\":\"#2a3f5f\",\"arrowhead\":0,\"arrowwidth\":1},\"geo\":{\"bgcolor\":\"white\",\"landcolor\":\"#E5ECF6\",\"subunitcolor\":\"white\",\"showland\":true,\"showlakes\":true,\"lakecolor\":\"white\"},\"title\":{\"x\":0.05},\"mapbox\":{\"style\":\"light\"}}},\"title\":{\"text\":\"Dura\\u00e7\\u00e3o dos Filmes\"}},                        {\"responsive\": true}                    ).then(function(){\n",
              "                            \n",
              "var gd = document.getElementById('02b2d650-5002-476f-8a49-82621265b670');\n",
              "var x = new MutationObserver(function (mutations, observer) {{\n",
              "        var display = window.getComputedStyle(gd).display;\n",
              "        if (!display || display === 'none') {{\n",
              "            console.log([gd, 'removed!']);\n",
              "            Plotly.purge(gd);\n",
              "            observer.disconnect();\n",
              "        }}\n",
              "}});\n",
              "\n",
              "// Listen for the removal of the full notebook cells\n",
              "var notebookContainer = gd.closest('#notebook-container');\n",
              "if (notebookContainer) {{\n",
              "    x.observe(notebookContainer, {childList: true});\n",
              "}}\n",
              "\n",
              "// Listen for the clearing of the current output cell\n",
              "var outputEl = gd.closest('.output');\n",
              "if (outputEl) {{\n",
              "    x.observe(outputEl, {childList: true});\n",
              "}}\n",
              "\n",
              "                        })                };                            </script>        </div>\n",
              "</body>\n",
              "</html>"
            ]
          },
          "metadata": {}
        }
      ]
    },
    {
      "cell_type": "markdown",
      "source": [
        "### Será que a média da duração dos filmes é diferente entre os dois gêneros?"
      ],
      "metadata": {
        "id": "Th35wMw7Njl3"
      }
    },
    {
      "cell_type": "code",
      "source": [
        "media_drama = drama.mean()\n",
        "media_comedia = comedia.mean()\n",
        "\n",
        "\n",
        "print('Media da duração dos filmes de Drama: {}'.format(media_drama))\n",
        "print('Media da duração dos filmes de Comédia: {}'.format(media_comedia))"
      ],
      "metadata": {
        "colab": {
          "base_uri": "https://localhost:8080/"
        },
        "id": "q1LkMayRM_Ii",
        "outputId": "7aea0fe8-9372-49f3-8919-92383f984646"
      },
      "execution_count": 20,
      "outputs": [
        {
          "output_type": "stream",
          "name": "stdout",
          "text": [
            "Media da duração dos filmes de Drama: 112.50276243093923\n",
            "Media da duração dos filmes de Comédia: 119.13503649635037\n"
          ]
        }
      ]
    },
    {
      "cell_type": "markdown",
      "source": [
        "### Vamos calcular o `p-valor` do teste de hipótese entre essas duas médias, usando a distribuição T de Student!"
      ],
      "metadata": {
        "id": "6ewihg44NsiR"
      }
    },
    {
      "cell_type": "code",
      "source": [
        "from scipy import stats"
      ],
      "metadata": {
        "id": "Iup2SeYLMnlI"
      },
      "execution_count": 21,
      "outputs": []
    },
    {
      "cell_type": "code",
      "source": [
        "stats.ttest_ind(drama, comedia, equal_var = False)"
      ],
      "metadata": {
        "colab": {
          "base_uri": "https://localhost:8080/"
        },
        "id": "1B2rgrDzNv9p",
        "outputId": "c6e6e36a-b46b-4574-f592-3f408ba56be9"
      },
      "execution_count": 23,
      "outputs": [
        {
          "output_type": "execute_result",
          "data": {
            "text/plain": [
              "TtestResult(statistic=-3.263531979288974, pvalue=0.0011667808959160168, df=565.2189796367884)"
            ]
          },
          "metadata": {},
          "execution_count": 23
        }
      ]
    },
    {
      "cell_type": "code",
      "source": [
        "p_valor = stats.ttest_ind(drama, comedia, equal_var = False)[1]\n",
        "\n",
        "p_valor"
      ],
      "metadata": {
        "colab": {
          "base_uri": "https://localhost:8080/"
        },
        "id": "xzOZjOibN4Qx",
        "outputId": "3738da13-075c-4493-db8c-9ad69774991a"
      },
      "execution_count": 24,
      "outputs": [
        {
          "output_type": "execute_result",
          "data": {
            "text/plain": [
              "0.0011667808959160168"
            ]
          },
          "metadata": {},
          "execution_count": 24
        }
      ]
    },
    {
      "cell_type": "markdown",
      "source": [
        "### Se definirmos o nível de significância em 1%, ficaria assim:"
      ],
      "metadata": {
        "id": "S4iBCjaFOFha"
      }
    },
    {
      "cell_type": "code",
      "source": [
        "if(p_valor >= 0.01):\n",
        "    print(\"Aceito que as médias sejam iguais, com 99% de confianca!\")\n",
        "else:\n",
        "    print(\"Rejeito que as médias sejam iguais, com 99% de confianca!\")"
      ],
      "metadata": {
        "colab": {
          "base_uri": "https://localhost:8080/"
        },
        "id": "WyfXbLXsOAq-",
        "outputId": "7ddd715c-2625-4af7-d52f-176590ae3411"
      },
      "execution_count": 25,
      "outputs": [
        {
          "output_type": "stream",
          "name": "stdout",
          "text": [
            "Rejeito que as médias sejam iguais, com 99% de confianca!\n"
          ]
        }
      ]
    },
    {
      "cell_type": "markdown",
      "source": [
        "### Vale dizer que o teste de médias pode ser utilizado para médias de qualquer tipo de dados, mesmo dados que não possuem distribuição Normal, graças ao Teorema do Limite Central. Entretanto, não é prudente utilizá-lo para médias de dados com distribuição muito assimétricas. Isso porque a média não vai ser uma boa medida de tendência central.\n",
        "\n",
        "![alt_text](https://statisticsbyjim.com/wp-content/uploads/2021/10/Right_skewed_central_tendency.png)"
      ],
      "metadata": {
        "id": "fMGzoE5iOKJ1"
      }
    },
    {
      "cell_type": "code",
      "source": [],
      "metadata": {
        "id": "EGfafyNaOQF3"
      },
      "execution_count": null,
      "outputs": []
    }
  ]
}