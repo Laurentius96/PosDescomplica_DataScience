{
  "nbformat": 4,
  "nbformat_minor": 0,
  "metadata": {
    "colab": {
      "provenance": []
    },
    "kernelspec": {
      "name": "python3",
      "display_name": "Python 3"
    },
    "language_info": {
      "name": "python"
    }
  },
  "cells": [
    {
      "cell_type": "markdown",
      "source": [
        "# `Teste de Hipótese de Proporções`\n",
        "\n",
        "<br>\n",
        "\n",
        "### Como vimos, o Teorema do Limite Central nos diz que, para uma amostra grande o suficiente, a média tem distribuição normal. Um resultado disso é o teste de hipótese entre proporções!\n",
        "\n",
        "<br>\n",
        "\n",
        "### Vamos passo a passo pra entendermos direitinho como funciona.\n",
        "\n",
        "<br>\n",
        "\n",
        "### 0 - Pelo teorema do limite central, a média tem distribuição normal. Se considerarmos cada observação como uma Bernoulli, onde 0 representa um fracasso e 1 representa sucesso, a média dessas observações é uma proporção!\n",
        "\n",
        "<br>\n",
        "\n",
        "### 1.1 - Num teste de hipótese de comparação entre duas médias, temos duas hipóteses: a nula e a alternativa. A hipótese nula vai dizer que as duas médias são iguais, ela basicamente diz que a ideia que queremos testar não altera a realidade atual e, por isso, as duas médias são iguais. A hipótese alternativa diz que elas são diferentes, ou seja, a ideia que testamos alterou a realidade atual, o status quo foi mudado.\n",
        "\n",
        "<br>\n",
        "\n",
        "### 1.2 - A amostra obtida sob a realidade atual vai ser chamada de amostra `controle`, ou grupo controle. A amostra obtida sob a realidade nova, com a ideia que está sendo testada, será chamada de amostra `variante`, ou grupo variante.\n",
        "\n",
        "![alt_text](https://miro.medium.com/max/1000/0*KS_jfZBdZ9DxAvEz.png)\n",
        "\n",
        "<br>\n",
        "\n",
        "### 2 - Para medir se houve diferença entre as médias dos grupos controle e variante, vamos diminuir a média do grupo controle pela média do grupo variante, formando uma nova variável. Vamos chamá-la de X.\n",
        "\n",
        "<br>\n",
        "\n",
        "### 3 - Essa nova variável X tem distribuição Normal!\n",
        "\n",
        "<br>\n",
        "\n",
        "### 4 - Se considerarmos que H0 é verdadeiro, então X tem média iguai a 0.\n",
        "\n",
        "<br>\n",
        "\n",
        "### 5.1 - Olhamos para o valor observado das médias das amostras controle e variante, bem como seus tamanhos e suas variâncias e chegamos a uma estatística que chamamos de estatística de teste. Se esse valor for muito improvável de ocorrer segundo a distribuição de X (diferença das médias), entaão\n",
        "\n",
        "<br>\n",
        "\n",
        "### 5.2 - Se esse valor for muito improvável de ocorrer segundo a distribuição de X (diferença das médias) sob H0 (média de X é 0), então rejeitamos a hipótese nula e dizemos que as médias dos grupos são diferentes. Senão, dizemos que são iguais.\n",
        "\n",
        "<br>\n",
        "\n",
        "### 6 - Chamamos de `p-valor` a probabilidade de ocorrência da estatística de teste ou valores mais extremos, segundo a distribuição de X, sob H0.\n",
        "\n",
        "![alt text](https://www.researchgate.net/publication/242308781/figure/fig3/AS:669554216812562@1536645573785/Acceptance-and-rejection-regions-of-the-Z-test.png)\n",
        "\n",
        "<br>\n",
        "\n",
        "### 7.1 - Na prática, se o p-valor obtido for baixo, nós rejeitamos H0 e dizemos que as médias dos grupos são diferentes. Se o p-valor for alto, nós não rejeitamos H0 e dizemos que a média dos grupos são iguais.\n",
        "\n",
        "<br>\n",
        "\n",
        "### 7.2 - Para decidir se um p-valor é baixo, definimos antes do teste começar um treshold, a quem chamaremos de nível de significância. Se o p-valor for menor ou igual ao nível de significância, então ele é baixo.\n",
        "\n",
        "<br>\n",
        "\n",
        "### Por exemplo, digamos que o nosso nível de significância é 5%. Sob a hipótese nula, as médias propostas são iguais. Daí,\n",
        "\n",
        "<br>\n",
        "\n",
        "* Se o p-valor for menor do que 5%, rejeitamos a hipótese nula com 95% de confiança.\n",
        "* Se o p-valor for menor do que 1%, rejeitamos a hipótese nula com 99% de confiança.\n",
        "* Senão, não rejeitamos a hipótese nula."
      ],
      "metadata": {
        "id": "xE_wb1RQzNgy"
      }
    },
    {
      "cell_type": "markdown",
      "source": [
        "## `A grande particularidade do teste de proporções é que,` <br><br> `como consideramos que cada observação é uma Bernoulli,` <br><br> `então sabemos exatamente qual é a sua variância, o que` <br><br> `simplifica o nosso teste.`"
      ],
      "metadata": {
        "id": "pAjRyOW_0Xvk"
      }
    },
    {
      "cell_type": "markdown",
      "source": [
        "### Vamos ver como calcular o p-valor na prática!"
      ],
      "metadata": {
        "id": "1vtSVT8v0hck"
      }
    },
    {
      "cell_type": "markdown",
      "source": [
        "### Vamos usar dados abertos de séries e filmes da Netflix. Os dados podem ser encontrados no Kaggle.\n",
        "\n",
        "<br>\n",
        "\n",
        "https://www.kaggle.com/datasets/ariyoomotade/netflix-data-cleaning-analysis-and-visualization"
      ],
      "metadata": {
        "id": "22ZYWUnY0kYt"
      }
    },
    {
      "cell_type": "markdown",
      "source": [
        "### Importando a biblioteca pandas (https://pandas.pydata.org)"
      ],
      "metadata": {
        "id": "ltZbixhu0m-Q"
      }
    },
    {
      "cell_type": "code",
      "execution_count": 1,
      "metadata": {
        "id": "nvCcNHgKTCQd"
      },
      "outputs": [],
      "source": [
        "import pandas as pd"
      ]
    },
    {
      "cell_type": "code",
      "source": [
        "df = pd.read_csv('netflix.csv')"
      ],
      "metadata": {
        "id": "FWRy4ghq0vgZ"
      },
      "execution_count": 3,
      "outputs": []
    },
    {
      "cell_type": "code",
      "source": [
        "df.head()"
      ],
      "metadata": {
        "colab": {
          "base_uri": "https://localhost:8080/",
          "height": 469
        },
        "id": "wKiI36tW08mH",
        "outputId": "9f9530f6-412d-44ae-aeae-dff21967db3b"
      },
      "execution_count": 17,
      "outputs": [
        {
          "output_type": "execute_result",
          "data": {
            "text/plain": [
              "  show_id     type                             title         director  \\\n",
              "0      s1    Movie              Dick Johnson Is Dead  Kirsten Johnson   \n",
              "1      s3  TV Show                         Ganglands  Julien Leclercq   \n",
              "2      s6  TV Show                     Midnight Mass    Mike Flanagan   \n",
              "3     s14    Movie  Confessions of an Invisible Girl    Bruno Garotti   \n",
              "4      s8    Movie                           Sankofa     Haile Gerima   \n",
              "\n",
              "         country date_added  release_year rating  duration  \\\n",
              "0  United States  9/25/2021          2020  PG-13    90 min   \n",
              "1         France  9/24/2021          2021  TV-MA  1 Season   \n",
              "2  United States  9/24/2021          2021  TV-MA  1 Season   \n",
              "3         Brazil  9/22/2021          2021  TV-PG    91 min   \n",
              "4  United States  9/24/2021          1993  TV-MA   125 min   \n",
              "\n",
              "                                           listed_in  \n",
              "0                                      Documentaries  \n",
              "1  Crime TV Shows, International TV Shows, TV Act...  \n",
              "2                 TV Dramas, TV Horror, TV Mysteries  \n",
              "3                 Children & Family Movies, Comedies  \n",
              "4   Dramas, Independent Movies, International Movies  "
            ],
            "text/html": [
              "\n",
              "  <div id=\"df-36ff2c32-7d93-41fd-8a67-7381c7e23f82\" class=\"colab-df-container\">\n",
              "    <div>\n",
              "<style scoped>\n",
              "    .dataframe tbody tr th:only-of-type {\n",
              "        vertical-align: middle;\n",
              "    }\n",
              "\n",
              "    .dataframe tbody tr th {\n",
              "        vertical-align: top;\n",
              "    }\n",
              "\n",
              "    .dataframe thead th {\n",
              "        text-align: right;\n",
              "    }\n",
              "</style>\n",
              "<table border=\"1\" class=\"dataframe\">\n",
              "  <thead>\n",
              "    <tr style=\"text-align: right;\">\n",
              "      <th></th>\n",
              "      <th>show_id</th>\n",
              "      <th>type</th>\n",
              "      <th>title</th>\n",
              "      <th>director</th>\n",
              "      <th>country</th>\n",
              "      <th>date_added</th>\n",
              "      <th>release_year</th>\n",
              "      <th>rating</th>\n",
              "      <th>duration</th>\n",
              "      <th>listed_in</th>\n",
              "    </tr>\n",
              "  </thead>\n",
              "  <tbody>\n",
              "    <tr>\n",
              "      <th>0</th>\n",
              "      <td>s1</td>\n",
              "      <td>Movie</td>\n",
              "      <td>Dick Johnson Is Dead</td>\n",
              "      <td>Kirsten Johnson</td>\n",
              "      <td>United States</td>\n",
              "      <td>9/25/2021</td>\n",
              "      <td>2020</td>\n",
              "      <td>PG-13</td>\n",
              "      <td>90 min</td>\n",
              "      <td>Documentaries</td>\n",
              "    </tr>\n",
              "    <tr>\n",
              "      <th>1</th>\n",
              "      <td>s3</td>\n",
              "      <td>TV Show</td>\n",
              "      <td>Ganglands</td>\n",
              "      <td>Julien Leclercq</td>\n",
              "      <td>France</td>\n",
              "      <td>9/24/2021</td>\n",
              "      <td>2021</td>\n",
              "      <td>TV-MA</td>\n",
              "      <td>1 Season</td>\n",
              "      <td>Crime TV Shows, International TV Shows, TV Act...</td>\n",
              "    </tr>\n",
              "    <tr>\n",
              "      <th>2</th>\n",
              "      <td>s6</td>\n",
              "      <td>TV Show</td>\n",
              "      <td>Midnight Mass</td>\n",
              "      <td>Mike Flanagan</td>\n",
              "      <td>United States</td>\n",
              "      <td>9/24/2021</td>\n",
              "      <td>2021</td>\n",
              "      <td>TV-MA</td>\n",
              "      <td>1 Season</td>\n",
              "      <td>TV Dramas, TV Horror, TV Mysteries</td>\n",
              "    </tr>\n",
              "    <tr>\n",
              "      <th>3</th>\n",
              "      <td>s14</td>\n",
              "      <td>Movie</td>\n",
              "      <td>Confessions of an Invisible Girl</td>\n",
              "      <td>Bruno Garotti</td>\n",
              "      <td>Brazil</td>\n",
              "      <td>9/22/2021</td>\n",
              "      <td>2021</td>\n",
              "      <td>TV-PG</td>\n",
              "      <td>91 min</td>\n",
              "      <td>Children &amp; Family Movies, Comedies</td>\n",
              "    </tr>\n",
              "    <tr>\n",
              "      <th>4</th>\n",
              "      <td>s8</td>\n",
              "      <td>Movie</td>\n",
              "      <td>Sankofa</td>\n",
              "      <td>Haile Gerima</td>\n",
              "      <td>United States</td>\n",
              "      <td>9/24/2021</td>\n",
              "      <td>1993</td>\n",
              "      <td>TV-MA</td>\n",
              "      <td>125 min</td>\n",
              "      <td>Dramas, Independent Movies, International Movies</td>\n",
              "    </tr>\n",
              "  </tbody>\n",
              "</table>\n",
              "</div>\n",
              "    <div class=\"colab-df-buttons\">\n",
              "\n",
              "  <div class=\"colab-df-container\">\n",
              "    <button class=\"colab-df-convert\" onclick=\"convertToInteractive('df-36ff2c32-7d93-41fd-8a67-7381c7e23f82')\"\n",
              "            title=\"Convert this dataframe to an interactive table.\"\n",
              "            style=\"display:none;\">\n",
              "\n",
              "  <svg xmlns=\"http://www.w3.org/2000/svg\" height=\"24px\" viewBox=\"0 -960 960 960\">\n",
              "    <path d=\"M120-120v-720h720v720H120Zm60-500h600v-160H180v160Zm220 220h160v-160H400v160Zm0 220h160v-160H400v160ZM180-400h160v-160H180v160Zm440 0h160v-160H620v160ZM180-180h160v-160H180v160Zm440 0h160v-160H620v160Z\"/>\n",
              "  </svg>\n",
              "    </button>\n",
              "\n",
              "  <style>\n",
              "    .colab-df-container {\n",
              "      display:flex;\n",
              "      gap: 12px;\n",
              "    }\n",
              "\n",
              "    .colab-df-convert {\n",
              "      background-color: #E8F0FE;\n",
              "      border: none;\n",
              "      border-radius: 50%;\n",
              "      cursor: pointer;\n",
              "      display: none;\n",
              "      fill: #1967D2;\n",
              "      height: 32px;\n",
              "      padding: 0 0 0 0;\n",
              "      width: 32px;\n",
              "    }\n",
              "\n",
              "    .colab-df-convert:hover {\n",
              "      background-color: #E2EBFA;\n",
              "      box-shadow: 0px 1px 2px rgba(60, 64, 67, 0.3), 0px 1px 3px 1px rgba(60, 64, 67, 0.15);\n",
              "      fill: #174EA6;\n",
              "    }\n",
              "\n",
              "    .colab-df-buttons div {\n",
              "      margin-bottom: 4px;\n",
              "    }\n",
              "\n",
              "    [theme=dark] .colab-df-convert {\n",
              "      background-color: #3B4455;\n",
              "      fill: #D2E3FC;\n",
              "    }\n",
              "\n",
              "    [theme=dark] .colab-df-convert:hover {\n",
              "      background-color: #434B5C;\n",
              "      box-shadow: 0px 1px 3px 1px rgba(0, 0, 0, 0.15);\n",
              "      filter: drop-shadow(0px 1px 2px rgba(0, 0, 0, 0.3));\n",
              "      fill: #FFFFFF;\n",
              "    }\n",
              "  </style>\n",
              "\n",
              "    <script>\n",
              "      const buttonEl =\n",
              "        document.querySelector('#df-36ff2c32-7d93-41fd-8a67-7381c7e23f82 button.colab-df-convert');\n",
              "      buttonEl.style.display =\n",
              "        google.colab.kernel.accessAllowed ? 'block' : 'none';\n",
              "\n",
              "      async function convertToInteractive(key) {\n",
              "        const element = document.querySelector('#df-36ff2c32-7d93-41fd-8a67-7381c7e23f82');\n",
              "        const dataTable =\n",
              "          await google.colab.kernel.invokeFunction('convertToInteractive',\n",
              "                                                    [key], {});\n",
              "        if (!dataTable) return;\n",
              "\n",
              "        const docLinkHtml = 'Like what you see? Visit the ' +\n",
              "          '<a target=\"_blank\" href=https://colab.research.google.com/notebooks/data_table.ipynb>data table notebook</a>'\n",
              "          + ' to learn more about interactive tables.';\n",
              "        element.innerHTML = '';\n",
              "        dataTable['output_type'] = 'display_data';\n",
              "        await google.colab.output.renderOutput(dataTable, element);\n",
              "        const docLink = document.createElement('div');\n",
              "        docLink.innerHTML = docLinkHtml;\n",
              "        element.appendChild(docLink);\n",
              "      }\n",
              "    </script>\n",
              "  </div>\n",
              "\n",
              "\n",
              "<div id=\"df-dba54e56-893a-423d-8745-e81687212aa4\">\n",
              "  <button class=\"colab-df-quickchart\" onclick=\"quickchart('df-dba54e56-893a-423d-8745-e81687212aa4')\"\n",
              "            title=\"Suggest charts\"\n",
              "            style=\"display:none;\">\n",
              "\n",
              "<svg xmlns=\"http://www.w3.org/2000/svg\" height=\"24px\"viewBox=\"0 0 24 24\"\n",
              "     width=\"24px\">\n",
              "    <g>\n",
              "        <path d=\"M19 3H5c-1.1 0-2 .9-2 2v14c0 1.1.9 2 2 2h14c1.1 0 2-.9 2-2V5c0-1.1-.9-2-2-2zM9 17H7v-7h2v7zm4 0h-2V7h2v10zm4 0h-2v-4h2v4z\"/>\n",
              "    </g>\n",
              "</svg>\n",
              "  </button>\n",
              "\n",
              "<style>\n",
              "  .colab-df-quickchart {\n",
              "      --bg-color: #E8F0FE;\n",
              "      --fill-color: #1967D2;\n",
              "      --hover-bg-color: #E2EBFA;\n",
              "      --hover-fill-color: #174EA6;\n",
              "      --disabled-fill-color: #AAA;\n",
              "      --disabled-bg-color: #DDD;\n",
              "  }\n",
              "\n",
              "  [theme=dark] .colab-df-quickchart {\n",
              "      --bg-color: #3B4455;\n",
              "      --fill-color: #D2E3FC;\n",
              "      --hover-bg-color: #434B5C;\n",
              "      --hover-fill-color: #FFFFFF;\n",
              "      --disabled-bg-color: #3B4455;\n",
              "      --disabled-fill-color: #666;\n",
              "  }\n",
              "\n",
              "  .colab-df-quickchart {\n",
              "    background-color: var(--bg-color);\n",
              "    border: none;\n",
              "    border-radius: 50%;\n",
              "    cursor: pointer;\n",
              "    display: none;\n",
              "    fill: var(--fill-color);\n",
              "    height: 32px;\n",
              "    padding: 0;\n",
              "    width: 32px;\n",
              "  }\n",
              "\n",
              "  .colab-df-quickchart:hover {\n",
              "    background-color: var(--hover-bg-color);\n",
              "    box-shadow: 0 1px 2px rgba(60, 64, 67, 0.3), 0 1px 3px 1px rgba(60, 64, 67, 0.15);\n",
              "    fill: var(--button-hover-fill-color);\n",
              "  }\n",
              "\n",
              "  .colab-df-quickchart-complete:disabled,\n",
              "  .colab-df-quickchart-complete:disabled:hover {\n",
              "    background-color: var(--disabled-bg-color);\n",
              "    fill: var(--disabled-fill-color);\n",
              "    box-shadow: none;\n",
              "  }\n",
              "\n",
              "  .colab-df-spinner {\n",
              "    border: 2px solid var(--fill-color);\n",
              "    border-color: transparent;\n",
              "    border-bottom-color: var(--fill-color);\n",
              "    animation:\n",
              "      spin 1s steps(1) infinite;\n",
              "  }\n",
              "\n",
              "  @keyframes spin {\n",
              "    0% {\n",
              "      border-color: transparent;\n",
              "      border-bottom-color: var(--fill-color);\n",
              "      border-left-color: var(--fill-color);\n",
              "    }\n",
              "    20% {\n",
              "      border-color: transparent;\n",
              "      border-left-color: var(--fill-color);\n",
              "      border-top-color: var(--fill-color);\n",
              "    }\n",
              "    30% {\n",
              "      border-color: transparent;\n",
              "      border-left-color: var(--fill-color);\n",
              "      border-top-color: var(--fill-color);\n",
              "      border-right-color: var(--fill-color);\n",
              "    }\n",
              "    40% {\n",
              "      border-color: transparent;\n",
              "      border-right-color: var(--fill-color);\n",
              "      border-top-color: var(--fill-color);\n",
              "    }\n",
              "    60% {\n",
              "      border-color: transparent;\n",
              "      border-right-color: var(--fill-color);\n",
              "    }\n",
              "    80% {\n",
              "      border-color: transparent;\n",
              "      border-right-color: var(--fill-color);\n",
              "      border-bottom-color: var(--fill-color);\n",
              "    }\n",
              "    90% {\n",
              "      border-color: transparent;\n",
              "      border-bottom-color: var(--fill-color);\n",
              "    }\n",
              "  }\n",
              "</style>\n",
              "\n",
              "  <script>\n",
              "    async function quickchart(key) {\n",
              "      const quickchartButtonEl =\n",
              "        document.querySelector('#' + key + ' button');\n",
              "      quickchartButtonEl.disabled = true;  // To prevent multiple clicks.\n",
              "      quickchartButtonEl.classList.add('colab-df-spinner');\n",
              "      try {\n",
              "        const charts = await google.colab.kernel.invokeFunction(\n",
              "            'suggestCharts', [key], {});\n",
              "      } catch (error) {\n",
              "        console.error('Error during call to suggestCharts:', error);\n",
              "      }\n",
              "      quickchartButtonEl.classList.remove('colab-df-spinner');\n",
              "      quickchartButtonEl.classList.add('colab-df-quickchart-complete');\n",
              "    }\n",
              "    (() => {\n",
              "      let quickchartButtonEl =\n",
              "        document.querySelector('#df-dba54e56-893a-423d-8745-e81687212aa4 button');\n",
              "      quickchartButtonEl.style.display =\n",
              "        google.colab.kernel.accessAllowed ? 'block' : 'none';\n",
              "    })();\n",
              "  </script>\n",
              "</div>\n",
              "\n",
              "    </div>\n",
              "  </div>\n"
            ],
            "application/vnd.google.colaboratory.intrinsic+json": {
              "type": "dataframe",
              "variable_name": "df",
              "summary": "{\n  \"name\": \"df\",\n  \"rows\": 8790,\n  \"fields\": [\n    {\n      \"column\": \"show_id\",\n      \"properties\": {\n        \"dtype\": \"string\",\n        \"num_unique_values\": 8790,\n        \"samples\": [\n          \"s5505\",\n          \"s6264\",\n          \"s1463\"\n        ],\n        \"semantic_type\": \"\",\n        \"description\": \"\"\n      }\n    },\n    {\n      \"column\": \"type\",\n      \"properties\": {\n        \"dtype\": \"category\",\n        \"num_unique_values\": 2,\n        \"samples\": [\n          \"TV Show\",\n          \"Movie\"\n        ],\n        \"semantic_type\": \"\",\n        \"description\": \"\"\n      }\n    },\n    {\n      \"column\": \"title\",\n      \"properties\": {\n        \"dtype\": \"string\",\n        \"num_unique_values\": 8787,\n        \"samples\": [\n          \"Your Excellency\",\n          \"Paradise Lost\"\n        ],\n        \"semantic_type\": \"\",\n        \"description\": \"\"\n      }\n    },\n    {\n      \"column\": \"director\",\n      \"properties\": {\n        \"dtype\": \"string\",\n        \"num_unique_values\": 4528,\n        \"samples\": [\n          \"Ian Samuels\",\n          \"R\\u00e9my Four, Julien War\"\n        ],\n        \"semantic_type\": \"\",\n        \"description\": \"\"\n      }\n    },\n    {\n      \"column\": \"country\",\n      \"properties\": {\n        \"dtype\": \"category\",\n        \"num_unique_values\": 86,\n        \"samples\": [\n          \"Guatemala\",\n          \"United States\"\n        ],\n        \"semantic_type\": \"\",\n        \"description\": \"\"\n      }\n    },\n    {\n      \"column\": \"date_added\",\n      \"properties\": {\n        \"dtype\": \"object\",\n        \"num_unique_values\": 1713,\n        \"samples\": [\n          \"12/21/2019\",\n          \"2/17/2017\"\n        ],\n        \"semantic_type\": \"\",\n        \"description\": \"\"\n      }\n    },\n    {\n      \"column\": \"release_year\",\n      \"properties\": {\n        \"dtype\": \"number\",\n        \"std\": 8,\n        \"min\": 1925,\n        \"max\": 2021,\n        \"num_unique_values\": 74,\n        \"samples\": [\n          2013,\n          1977\n        ],\n        \"semantic_type\": \"\",\n        \"description\": \"\"\n      }\n    },\n    {\n      \"column\": \"rating\",\n      \"properties\": {\n        \"dtype\": \"category\",\n        \"num_unique_values\": 14,\n        \"samples\": [\n          \"G\",\n          \"NR\"\n        ],\n        \"semantic_type\": \"\",\n        \"description\": \"\"\n      }\n    },\n    {\n      \"column\": \"duration\",\n      \"properties\": {\n        \"dtype\": \"category\",\n        \"num_unique_values\": 220,\n        \"samples\": [\n          \"162 min\",\n          \"52 min\"\n        ],\n        \"semantic_type\": \"\",\n        \"description\": \"\"\n      }\n    },\n    {\n      \"column\": \"listed_in\",\n      \"properties\": {\n        \"dtype\": \"category\",\n        \"num_unique_values\": 513,\n        \"samples\": [\n          \"Romantic TV Shows, TV Comedies\",\n          \"Classic & Cult TV, TV Comedies\"\n        ],\n        \"semantic_type\": \"\",\n        \"description\": \"\"\n      }\n    }\n  ]\n}"
            }
          },
          "metadata": {},
          "execution_count": 17
        }
      ]
    },
    {
      "cell_type": "markdown",
      "source": [
        "### Descrição das colunas\n",
        "\n",
        "* **`show_id`** - id da série ou filme\n",
        "* **`type`** - tipo de conteúdo(Tv show ou Movie)\n",
        "* **`title`** - título da série ou filme\n",
        "* **`director`** - pessoa diretora da série ou do filme\n",
        "* **`country`** - país da série ou filme\n",
        "* **`date_added`** - data de adição à Netflix\n",
        "* **`release_year`** - ano de lançamento\n",
        "* **`rating`** - rating da TV para o filme ou série\n",
        "* **`duration`** - duração do conteúdo\n",
        "* **`listed_in`** - gênero do conteúdo"
      ],
      "metadata": {
        "id": "B1PoJ3291FM0"
      }
    },
    {
      "cell_type": "markdown",
      "source": [
        "### Será que existe uma diferença na proporção de filmes longos entres os filmes Ingleses e os Americanos?"
      ],
      "metadata": {
        "id": "09-a7H9e1Idb"
      }
    },
    {
      "cell_type": "markdown",
      "source": [
        "Primeiro, vamos criar uma coluna com os valor numérico da duração\n",
        "\n"
      ],
      "metadata": {
        "id": "FZt0BoJ82tbS"
      }
    },
    {
      "cell_type": "code",
      "source": [
        "filmes = df[df['type'] == 'Movie']"
      ],
      "metadata": {
        "id": "Z-Q1b0Vm1B0t"
      },
      "execution_count": 8,
      "outputs": []
    },
    {
      "cell_type": "code",
      "source": [
        "filmes.count()"
      ],
      "metadata": {
        "colab": {
          "base_uri": "https://localhost:8080/"
        },
        "id": "kqu6eBmt1k6z",
        "outputId": "b6be79b5-f42a-408c-826c-b2c3be90e9b5"
      },
      "execution_count": 9,
      "outputs": [
        {
          "output_type": "execute_result",
          "data": {
            "text/plain": [
              "show_id         6126\n",
              "type            6126\n",
              "title           6126\n",
              "director        6126\n",
              "country         6126\n",
              "date_added      6126\n",
              "release_year    6126\n",
              "rating          6126\n",
              "duration        6126\n",
              "listed_in       6126\n",
              "dtype: int64"
            ]
          },
          "metadata": {},
          "execution_count": 9
        }
      ]
    },
    {
      "cell_type": "code",
      "source": [
        "## def duracao_numerica(valor):\n",
        "##    return int(valor.split(' ')[0])\n",
        "\n",
        "## filmes['duracao_min'] = filmes['duration'].apply(duracao_numerica)\n",
        "\n",
        "##------------------------------------------------------------------------\n",
        "\n",
        "# Função para converter duração para minutos\n",
        "def duracao_numerica(valor):\n",
        "    return int(valor.split(' ')[0])\n",
        "\n",
        "# Aplicação da função usando loc para evitar o aviso\n",
        "filmes.loc[:, 'duracao_min'] = filmes['duration'].apply(duracao_numerica)\n"
      ],
      "metadata": {
        "id": "6rul0lGO1oRi"
      },
      "execution_count": 12,
      "outputs": []
    },
    {
      "cell_type": "code",
      "source": [
        "def filme_longo(valor):\n",
        "    if valor > 150:\n",
        "        return 1\n",
        "    return 0\n",
        "\n",
        "filmes.loc[:,'filme_longo'] = filmes['duracao_min'].apply(filme_longo)"
      ],
      "metadata": {
        "id": "5Q92Uua127jK"
      },
      "execution_count": 13,
      "outputs": []
    },
    {
      "cell_type": "code",
      "source": [
        "filmes.head()"
      ],
      "metadata": {
        "colab": {
          "base_uri": "https://localhost:8080/",
          "height": 477
        },
        "id": "vRY2ADTp3HMy",
        "outputId": "6e513d10-a7a9-448b-eda9-05539402c042"
      },
      "execution_count": 14,
      "outputs": [
        {
          "output_type": "execute_result",
          "data": {
            "text/plain": [
              "  show_id   type                             title         director  \\\n",
              "0      s1  Movie              Dick Johnson Is Dead  Kirsten Johnson   \n",
              "3     s14  Movie  Confessions of an Invisible Girl    Bruno Garotti   \n",
              "4      s8  Movie                           Sankofa     Haile Gerima   \n",
              "6     s10  Movie                      The Starling   Theodore Melfi   \n",
              "7    s939  Movie   Motu Patlu in the Game of Zones      Suhas Kadav   \n",
              "\n",
              "         country date_added  release_year rating duration  \\\n",
              "0  United States  9/25/2021          2020  PG-13   90 min   \n",
              "3         Brazil  9/22/2021          2021  TV-PG   91 min   \n",
              "4  United States  9/24/2021          1993  TV-MA  125 min   \n",
              "6  United States  9/24/2021          2021  PG-13  104 min   \n",
              "7          India   5/1/2021          2019  TV-Y7   87 min   \n",
              "\n",
              "                                           listed_in  duracao_min  filme_longo  \n",
              "0                                      Documentaries           90            0  \n",
              "3                 Children & Family Movies, Comedies           91            0  \n",
              "4   Dramas, Independent Movies, International Movies          125            0  \n",
              "6                                   Comedies, Dramas          104            0  \n",
              "7  Children & Family Movies, Comedies, Music & Mu...           87            0  "
            ],
            "text/html": [
              "\n",
              "  <div id=\"df-fa7c4e0d-1b76-418e-b70c-1c4415d495cb\" class=\"colab-df-container\">\n",
              "    <div>\n",
              "<style scoped>\n",
              "    .dataframe tbody tr th:only-of-type {\n",
              "        vertical-align: middle;\n",
              "    }\n",
              "\n",
              "    .dataframe tbody tr th {\n",
              "        vertical-align: top;\n",
              "    }\n",
              "\n",
              "    .dataframe thead th {\n",
              "        text-align: right;\n",
              "    }\n",
              "</style>\n",
              "<table border=\"1\" class=\"dataframe\">\n",
              "  <thead>\n",
              "    <tr style=\"text-align: right;\">\n",
              "      <th></th>\n",
              "      <th>show_id</th>\n",
              "      <th>type</th>\n",
              "      <th>title</th>\n",
              "      <th>director</th>\n",
              "      <th>country</th>\n",
              "      <th>date_added</th>\n",
              "      <th>release_year</th>\n",
              "      <th>rating</th>\n",
              "      <th>duration</th>\n",
              "      <th>listed_in</th>\n",
              "      <th>duracao_min</th>\n",
              "      <th>filme_longo</th>\n",
              "    </tr>\n",
              "  </thead>\n",
              "  <tbody>\n",
              "    <tr>\n",
              "      <th>0</th>\n",
              "      <td>s1</td>\n",
              "      <td>Movie</td>\n",
              "      <td>Dick Johnson Is Dead</td>\n",
              "      <td>Kirsten Johnson</td>\n",
              "      <td>United States</td>\n",
              "      <td>9/25/2021</td>\n",
              "      <td>2020</td>\n",
              "      <td>PG-13</td>\n",
              "      <td>90 min</td>\n",
              "      <td>Documentaries</td>\n",
              "      <td>90</td>\n",
              "      <td>0</td>\n",
              "    </tr>\n",
              "    <tr>\n",
              "      <th>3</th>\n",
              "      <td>s14</td>\n",
              "      <td>Movie</td>\n",
              "      <td>Confessions of an Invisible Girl</td>\n",
              "      <td>Bruno Garotti</td>\n",
              "      <td>Brazil</td>\n",
              "      <td>9/22/2021</td>\n",
              "      <td>2021</td>\n",
              "      <td>TV-PG</td>\n",
              "      <td>91 min</td>\n",
              "      <td>Children &amp; Family Movies, Comedies</td>\n",
              "      <td>91</td>\n",
              "      <td>0</td>\n",
              "    </tr>\n",
              "    <tr>\n",
              "      <th>4</th>\n",
              "      <td>s8</td>\n",
              "      <td>Movie</td>\n",
              "      <td>Sankofa</td>\n",
              "      <td>Haile Gerima</td>\n",
              "      <td>United States</td>\n",
              "      <td>9/24/2021</td>\n",
              "      <td>1993</td>\n",
              "      <td>TV-MA</td>\n",
              "      <td>125 min</td>\n",
              "      <td>Dramas, Independent Movies, International Movies</td>\n",
              "      <td>125</td>\n",
              "      <td>0</td>\n",
              "    </tr>\n",
              "    <tr>\n",
              "      <th>6</th>\n",
              "      <td>s10</td>\n",
              "      <td>Movie</td>\n",
              "      <td>The Starling</td>\n",
              "      <td>Theodore Melfi</td>\n",
              "      <td>United States</td>\n",
              "      <td>9/24/2021</td>\n",
              "      <td>2021</td>\n",
              "      <td>PG-13</td>\n",
              "      <td>104 min</td>\n",
              "      <td>Comedies, Dramas</td>\n",
              "      <td>104</td>\n",
              "      <td>0</td>\n",
              "    </tr>\n",
              "    <tr>\n",
              "      <th>7</th>\n",
              "      <td>s939</td>\n",
              "      <td>Movie</td>\n",
              "      <td>Motu Patlu in the Game of Zones</td>\n",
              "      <td>Suhas Kadav</td>\n",
              "      <td>India</td>\n",
              "      <td>5/1/2021</td>\n",
              "      <td>2019</td>\n",
              "      <td>TV-Y7</td>\n",
              "      <td>87 min</td>\n",
              "      <td>Children &amp; Family Movies, Comedies, Music &amp; Mu...</td>\n",
              "      <td>87</td>\n",
              "      <td>0</td>\n",
              "    </tr>\n",
              "  </tbody>\n",
              "</table>\n",
              "</div>\n",
              "    <div class=\"colab-df-buttons\">\n",
              "\n",
              "  <div class=\"colab-df-container\">\n",
              "    <button class=\"colab-df-convert\" onclick=\"convertToInteractive('df-fa7c4e0d-1b76-418e-b70c-1c4415d495cb')\"\n",
              "            title=\"Convert this dataframe to an interactive table.\"\n",
              "            style=\"display:none;\">\n",
              "\n",
              "  <svg xmlns=\"http://www.w3.org/2000/svg\" height=\"24px\" viewBox=\"0 -960 960 960\">\n",
              "    <path d=\"M120-120v-720h720v720H120Zm60-500h600v-160H180v160Zm220 220h160v-160H400v160Zm0 220h160v-160H400v160ZM180-400h160v-160H180v160Zm440 0h160v-160H620v160ZM180-180h160v-160H180v160Zm440 0h160v-160H620v160Z\"/>\n",
              "  </svg>\n",
              "    </button>\n",
              "\n",
              "  <style>\n",
              "    .colab-df-container {\n",
              "      display:flex;\n",
              "      gap: 12px;\n",
              "    }\n",
              "\n",
              "    .colab-df-convert {\n",
              "      background-color: #E8F0FE;\n",
              "      border: none;\n",
              "      border-radius: 50%;\n",
              "      cursor: pointer;\n",
              "      display: none;\n",
              "      fill: #1967D2;\n",
              "      height: 32px;\n",
              "      padding: 0 0 0 0;\n",
              "      width: 32px;\n",
              "    }\n",
              "\n",
              "    .colab-df-convert:hover {\n",
              "      background-color: #E2EBFA;\n",
              "      box-shadow: 0px 1px 2px rgba(60, 64, 67, 0.3), 0px 1px 3px 1px rgba(60, 64, 67, 0.15);\n",
              "      fill: #174EA6;\n",
              "    }\n",
              "\n",
              "    .colab-df-buttons div {\n",
              "      margin-bottom: 4px;\n",
              "    }\n",
              "\n",
              "    [theme=dark] .colab-df-convert {\n",
              "      background-color: #3B4455;\n",
              "      fill: #D2E3FC;\n",
              "    }\n",
              "\n",
              "    [theme=dark] .colab-df-convert:hover {\n",
              "      background-color: #434B5C;\n",
              "      box-shadow: 0px 1px 3px 1px rgba(0, 0, 0, 0.15);\n",
              "      filter: drop-shadow(0px 1px 2px rgba(0, 0, 0, 0.3));\n",
              "      fill: #FFFFFF;\n",
              "    }\n",
              "  </style>\n",
              "\n",
              "    <script>\n",
              "      const buttonEl =\n",
              "        document.querySelector('#df-fa7c4e0d-1b76-418e-b70c-1c4415d495cb button.colab-df-convert');\n",
              "      buttonEl.style.display =\n",
              "        google.colab.kernel.accessAllowed ? 'block' : 'none';\n",
              "\n",
              "      async function convertToInteractive(key) {\n",
              "        const element = document.querySelector('#df-fa7c4e0d-1b76-418e-b70c-1c4415d495cb');\n",
              "        const dataTable =\n",
              "          await google.colab.kernel.invokeFunction('convertToInteractive',\n",
              "                                                    [key], {});\n",
              "        if (!dataTable) return;\n",
              "\n",
              "        const docLinkHtml = 'Like what you see? Visit the ' +\n",
              "          '<a target=\"_blank\" href=https://colab.research.google.com/notebooks/data_table.ipynb>data table notebook</a>'\n",
              "          + ' to learn more about interactive tables.';\n",
              "        element.innerHTML = '';\n",
              "        dataTable['output_type'] = 'display_data';\n",
              "        await google.colab.output.renderOutput(dataTable, element);\n",
              "        const docLink = document.createElement('div');\n",
              "        docLink.innerHTML = docLinkHtml;\n",
              "        element.appendChild(docLink);\n",
              "      }\n",
              "    </script>\n",
              "  </div>\n",
              "\n",
              "\n",
              "<div id=\"df-d689c13a-0b6d-42cf-96f0-a1d381e5f795\">\n",
              "  <button class=\"colab-df-quickchart\" onclick=\"quickchart('df-d689c13a-0b6d-42cf-96f0-a1d381e5f795')\"\n",
              "            title=\"Suggest charts\"\n",
              "            style=\"display:none;\">\n",
              "\n",
              "<svg xmlns=\"http://www.w3.org/2000/svg\" height=\"24px\"viewBox=\"0 0 24 24\"\n",
              "     width=\"24px\">\n",
              "    <g>\n",
              "        <path d=\"M19 3H5c-1.1 0-2 .9-2 2v14c0 1.1.9 2 2 2h14c1.1 0 2-.9 2-2V5c0-1.1-.9-2-2-2zM9 17H7v-7h2v7zm4 0h-2V7h2v10zm4 0h-2v-4h2v4z\"/>\n",
              "    </g>\n",
              "</svg>\n",
              "  </button>\n",
              "\n",
              "<style>\n",
              "  .colab-df-quickchart {\n",
              "      --bg-color: #E8F0FE;\n",
              "      --fill-color: #1967D2;\n",
              "      --hover-bg-color: #E2EBFA;\n",
              "      --hover-fill-color: #174EA6;\n",
              "      --disabled-fill-color: #AAA;\n",
              "      --disabled-bg-color: #DDD;\n",
              "  }\n",
              "\n",
              "  [theme=dark] .colab-df-quickchart {\n",
              "      --bg-color: #3B4455;\n",
              "      --fill-color: #D2E3FC;\n",
              "      --hover-bg-color: #434B5C;\n",
              "      --hover-fill-color: #FFFFFF;\n",
              "      --disabled-bg-color: #3B4455;\n",
              "      --disabled-fill-color: #666;\n",
              "  }\n",
              "\n",
              "  .colab-df-quickchart {\n",
              "    background-color: var(--bg-color);\n",
              "    border: none;\n",
              "    border-radius: 50%;\n",
              "    cursor: pointer;\n",
              "    display: none;\n",
              "    fill: var(--fill-color);\n",
              "    height: 32px;\n",
              "    padding: 0;\n",
              "    width: 32px;\n",
              "  }\n",
              "\n",
              "  .colab-df-quickchart:hover {\n",
              "    background-color: var(--hover-bg-color);\n",
              "    box-shadow: 0 1px 2px rgba(60, 64, 67, 0.3), 0 1px 3px 1px rgba(60, 64, 67, 0.15);\n",
              "    fill: var(--button-hover-fill-color);\n",
              "  }\n",
              "\n",
              "  .colab-df-quickchart-complete:disabled,\n",
              "  .colab-df-quickchart-complete:disabled:hover {\n",
              "    background-color: var(--disabled-bg-color);\n",
              "    fill: var(--disabled-fill-color);\n",
              "    box-shadow: none;\n",
              "  }\n",
              "\n",
              "  .colab-df-spinner {\n",
              "    border: 2px solid var(--fill-color);\n",
              "    border-color: transparent;\n",
              "    border-bottom-color: var(--fill-color);\n",
              "    animation:\n",
              "      spin 1s steps(1) infinite;\n",
              "  }\n",
              "\n",
              "  @keyframes spin {\n",
              "    0% {\n",
              "      border-color: transparent;\n",
              "      border-bottom-color: var(--fill-color);\n",
              "      border-left-color: var(--fill-color);\n",
              "    }\n",
              "    20% {\n",
              "      border-color: transparent;\n",
              "      border-left-color: var(--fill-color);\n",
              "      border-top-color: var(--fill-color);\n",
              "    }\n",
              "    30% {\n",
              "      border-color: transparent;\n",
              "      border-left-color: var(--fill-color);\n",
              "      border-top-color: var(--fill-color);\n",
              "      border-right-color: var(--fill-color);\n",
              "    }\n",
              "    40% {\n",
              "      border-color: transparent;\n",
              "      border-right-color: var(--fill-color);\n",
              "      border-top-color: var(--fill-color);\n",
              "    }\n",
              "    60% {\n",
              "      border-color: transparent;\n",
              "      border-right-color: var(--fill-color);\n",
              "    }\n",
              "    80% {\n",
              "      border-color: transparent;\n",
              "      border-right-color: var(--fill-color);\n",
              "      border-bottom-color: var(--fill-color);\n",
              "    }\n",
              "    90% {\n",
              "      border-color: transparent;\n",
              "      border-bottom-color: var(--fill-color);\n",
              "    }\n",
              "  }\n",
              "</style>\n",
              "\n",
              "  <script>\n",
              "    async function quickchart(key) {\n",
              "      const quickchartButtonEl =\n",
              "        document.querySelector('#' + key + ' button');\n",
              "      quickchartButtonEl.disabled = true;  // To prevent multiple clicks.\n",
              "      quickchartButtonEl.classList.add('colab-df-spinner');\n",
              "      try {\n",
              "        const charts = await google.colab.kernel.invokeFunction(\n",
              "            'suggestCharts', [key], {});\n",
              "      } catch (error) {\n",
              "        console.error('Error during call to suggestCharts:', error);\n",
              "      }\n",
              "      quickchartButtonEl.classList.remove('colab-df-spinner');\n",
              "      quickchartButtonEl.classList.add('colab-df-quickchart-complete');\n",
              "    }\n",
              "    (() => {\n",
              "      let quickchartButtonEl =\n",
              "        document.querySelector('#df-d689c13a-0b6d-42cf-96f0-a1d381e5f795 button');\n",
              "      quickchartButtonEl.style.display =\n",
              "        google.colab.kernel.accessAllowed ? 'block' : 'none';\n",
              "    })();\n",
              "  </script>\n",
              "</div>\n",
              "\n",
              "    </div>\n",
              "  </div>\n"
            ],
            "application/vnd.google.colaboratory.intrinsic+json": {
              "type": "dataframe",
              "variable_name": "filmes",
              "summary": "{\n  \"name\": \"filmes\",\n  \"rows\": 6126,\n  \"fields\": [\n    {\n      \"column\": \"show_id\",\n      \"properties\": {\n        \"dtype\": \"string\",\n        \"num_unique_values\": 6126,\n        \"samples\": [\n          \"s2062\",\n          \"s8402\",\n          \"s7528\"\n        ],\n        \"semantic_type\": \"\",\n        \"description\": \"\"\n      }\n    },\n    {\n      \"column\": \"type\",\n      \"properties\": {\n        \"dtype\": \"category\",\n        \"num_unique_values\": 1,\n        \"samples\": [\n          \"Movie\"\n        ],\n        \"semantic_type\": \"\",\n        \"description\": \"\"\n      }\n    },\n    {\n      \"column\": \"title\",\n      \"properties\": {\n        \"dtype\": \"string\",\n        \"num_unique_values\": 6124,\n        \"samples\": [\n          \"First Impression\"\n        ],\n        \"semantic_type\": \"\",\n        \"description\": \"\"\n      }\n    },\n    {\n      \"column\": \"director\",\n      \"properties\": {\n        \"dtype\": \"string\",\n        \"num_unique_values\": 4355,\n        \"samples\": [\n          \"Don Argott, Sheena M. Joyce\"\n        ],\n        \"semantic_type\": \"\",\n        \"description\": \"\"\n      }\n    },\n    {\n      \"column\": \"country\",\n      \"properties\": {\n        \"dtype\": \"category\",\n        \"num_unique_values\": 79,\n        \"samples\": [\n          \"Indonesia\"\n        ],\n        \"semantic_type\": \"\",\n        \"description\": \"\"\n      }\n    },\n    {\n      \"column\": \"date_added\",\n      \"properties\": {\n        \"dtype\": \"object\",\n        \"num_unique_values\": 1531,\n        \"samples\": [\n          \"6/16/2019\"\n        ],\n        \"semantic_type\": \"\",\n        \"description\": \"\"\n      }\n    },\n    {\n      \"column\": \"release_year\",\n      \"properties\": {\n        \"dtype\": \"number\",\n        \"std\": 9,\n        \"min\": 1942,\n        \"max\": 2021,\n        \"num_unique_values\": 73,\n        \"samples\": [\n          2013\n        ],\n        \"semantic_type\": \"\",\n        \"description\": \"\"\n      }\n    },\n    {\n      \"column\": \"rating\",\n      \"properties\": {\n        \"dtype\": \"category\",\n        \"num_unique_values\": 14,\n        \"samples\": [\n          \"G\"\n        ],\n        \"semantic_type\": \"\",\n        \"description\": \"\"\n      }\n    },\n    {\n      \"column\": \"duration\",\n      \"properties\": {\n        \"dtype\": \"category\",\n        \"num_unique_values\": 205,\n        \"samples\": [\n          \"65 min\"\n        ],\n        \"semantic_type\": \"\",\n        \"description\": \"\"\n      }\n    },\n    {\n      \"column\": \"listed_in\",\n      \"properties\": {\n        \"dtype\": \"category\",\n        \"num_unique_values\": 278,\n        \"samples\": [\n          \"Documentaries, Sports Movies\"\n        ],\n        \"semantic_type\": \"\",\n        \"description\": \"\"\n      }\n    },\n    {\n      \"column\": \"duracao_min\",\n      \"properties\": {\n        \"dtype\": \"number\",\n        \"std\": 28,\n        \"min\": 3,\n        \"max\": 312,\n        \"num_unique_values\": 205,\n        \"samples\": [\n          65\n        ],\n        \"semantic_type\": \"\",\n        \"description\": \"\"\n      }\n    },\n    {\n      \"column\": \"filme_longo\",\n      \"properties\": {\n        \"dtype\": \"number\",\n        \"std\": 0,\n        \"min\": 0,\n        \"max\": 1,\n        \"num_unique_values\": 2,\n        \"samples\": [\n          1\n        ],\n        \"semantic_type\": \"\",\n        \"description\": \"\"\n      }\n    }\n  ]\n}"
            }
          },
          "metadata": {},
          "execution_count": 14
        }
      ]
    },
    {
      "cell_type": "markdown",
      "source": [
        "### Vamos olhar para a distribuição de filmes longos para esses dois países\n"
      ],
      "metadata": {
        "id": "_-FADEBW49jC"
      }
    },
    {
      "cell_type": "code",
      "source": [
        "inglaterra = filmes['country'] == 'United Kingdom'\n",
        "eua = filmes['country'] == 'United States'\n",
        "\n",
        "inglaterra_ou_eua = inglaterra | eua"
      ],
      "metadata": {
        "id": "nWTg3SHj4jq6"
      },
      "execution_count": 18,
      "outputs": []
    },
    {
      "cell_type": "code",
      "source": [
        "## filmes[inglaterra_ou_eua].groupby('country').mean()['filme_longo']\n",
        "resultado = filmes[inglaterra_ou_eua].groupby('country').mean(numeric_only=True)['filme_longo']\n"
      ],
      "metadata": {
        "id": "9vx1jC_Y5Awh"
      },
      "execution_count": 20,
      "outputs": []
    },
    {
      "cell_type": "code",
      "source": [
        "print(resultado)"
      ],
      "metadata": {
        "colab": {
          "base_uri": "https://localhost:8080/"
        },
        "id": "Rvoi4SeY5Ghh",
        "outputId": "435b7a5d-f59a-4d33-fbc4-0c9315383028"
      },
      "execution_count": 22,
      "outputs": [
        {
          "output_type": "stream",
          "name": "stdout",
          "text": [
            "country\n",
            "United Kingdom    0.015504\n",
            "United States     0.012944\n",
            "Name: filme_longo, dtype: float64\n"
          ]
        }
      ]
    },
    {
      "cell_type": "markdown",
      "source": [
        "0.015504 para o Reino Unido significa que, em média, aproximadamente 1.55% dos filmes são considerados longos.\n",
        "\n",
        "<br>\n",
        "\n",
        "0.012944 para os Estados Unidos significa que, em média, aproximadamente 1.29% dos filmes são considerados longos.\n"
      ],
      "metadata": {
        "id": "OitUBwTL69wR"
      }
    },
    {
      "cell_type": "markdown",
      "source": [
        "-----\n",
        "\n",
        "### Vamos calcular o p-valor do teste de hipótese entre essas duas proporções, usando a distribuição Normal!\n"
      ],
      "metadata": {
        "id": "3pE29cQV7I6f"
      }
    },
    {
      "cell_type": "code",
      "source": [
        "from statsmodels.stats.proportion import proportions_ztest"
      ],
      "metadata": {
        "id": "ew7wnhe76ihQ"
      },
      "execution_count": 24,
      "outputs": []
    },
    {
      "cell_type": "code",
      "source": [
        "numero_filmes_longos_eua = filmes[eua]['filme_longo'].sum()\n",
        "tamanho_amostra_eua = filmes[eua]['filme_longo'].count()\n",
        "\n",
        "\n",
        "numero_filmes_longos_inglaterra = filmes[inglaterra]['filme_longo'].sum()\n",
        "tamanho_amostra_inglaterra = filmes[inglaterra]['filme_longo'].count()"
      ],
      "metadata": {
        "id": "X8aj5uCk7Ria"
      },
      "execution_count": 25,
      "outputs": []
    },
    {
      "cell_type": "code",
      "source": [
        "resultado_teste = proportions_ztest(\n",
        "\n",
        "    count = [numero_filmes_longos_eua, numero_filmes_longos_inglaterra],\n",
        "    nobs = [tamanho_amostra_eua, tamanho_amostra_inglaterra]\n",
        ")\n",
        "\n",
        "resultado_teste"
      ],
      "metadata": {
        "colab": {
          "base_uri": "https://localhost:8080/"
        },
        "id": "utfWcW1T7TTf",
        "outputId": "f6ab7c4e-b606-4b93-a534-0464c992f6c4"
      },
      "execution_count": 26,
      "outputs": [
        {
          "output_type": "execute_result",
          "data": {
            "text/plain": [
              "(-0.40793974795918075, 0.6833179103024831)"
            ]
          },
          "metadata": {},
          "execution_count": 26
        }
      ]
    },
    {
      "cell_type": "markdown",
      "source": [
        " Saída do teste de proporções usando proportions_ztest consiste em dois valores:\n",
        "\n",
        "<br>\n",
        "\n",
        "* Estatística Z: -0.40793974795918075\n",
        "\n",
        "* p-valor: 0.6833179103024831\n",
        "\n",
        "<br>\n",
        "\n",
        "Vamos interpretar esses resultados:\n",
        "\n",
        "<br>\n",
        "\n",
        "* A estatística Z indica a posição da média observada no espaço das distribuições normais padrão. Um valor negativo significa que a proporção dos Estados Unidos está abaixo da proporção do Reino Unido, mas a magnitude de -0.4079 sugere que a diferença não é significativa.\n",
        "\n",
        "* O p-valor de 0.6833 é bastante alto, muito maior que o nível de significância comum de 0.05. Isso sugere que não há evidência estatística suficiente para rejeitar a hipótese nula de que as proporções de filmes longos nos dois países são iguais."
      ],
      "metadata": {
        "id": "xrsht9Rl8Tdw"
      }
    },
    {
      "cell_type": "code",
      "source": [
        "p_valor = resultado_teste[1]\n",
        "\n",
        "p_valor"
      ],
      "metadata": {
        "colab": {
          "base_uri": "https://localhost:8080/"
        },
        "id": "VmDFgNW87V76",
        "outputId": "77a30b22-eaa9-4233-e594-81fbfe31d924"
      },
      "execution_count": 27,
      "outputs": [
        {
          "output_type": "execute_result",
          "data": {
            "text/plain": [
              "0.6833179103024831"
            ]
          },
          "metadata": {},
          "execution_count": 27
        }
      ]
    },
    {
      "cell_type": "markdown",
      "source": [
        "Se definirmos o nível de significância em 5%, ficaria assim:"
      ],
      "metadata": {
        "id": "SQvleJ_j7gG3"
      }
    },
    {
      "cell_type": "code",
      "source": [
        "if(p_valor >= 0.05):\n",
        "    print(\"Aceito que as médias sejam iguais, com 95% de confianca!\")\n",
        "else:\n",
        "    print(\"Rejeito que as médias sejam iguais, com 95% de confianca!\")"
      ],
      "metadata": {
        "colab": {
          "base_uri": "https://localhost:8080/"
        },
        "id": "N0p80Ok87ebY",
        "outputId": "fbdfcb0b-d36f-49c1-c703-f714a33a386b"
      },
      "execution_count": 28,
      "outputs": [
        {
          "output_type": "stream",
          "name": "stdout",
          "text": [
            "Aceito que as médias sejam iguais, com 95% de confianca!\n"
          ]
        }
      ]
    }
  ]
}