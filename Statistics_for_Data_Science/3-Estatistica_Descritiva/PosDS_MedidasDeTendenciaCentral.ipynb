{
  "nbformat": 4,
  "nbformat_minor": 0,
  "metadata": {
    "colab": {
      "provenance": []
    },
    "kernelspec": {
      "name": "python3",
      "display_name": "Python 3"
    },
    "language_info": {
      "name": "python"
    }
  },
  "cells": [
    {
      "cell_type": "markdown",
      "source": [
        "# Medidas de Tendência Central\n",
        "\n",
        "### A tendência central é uma medida de valores numa amostra que identifica os diferentes pontos centrais nos dados.\n",
        "<br>\n",
        "\n",
        "![alt text](data:image/png;base64,iVBORw0KGgoAAAANSUhEUgAAASsAAACoCAMAAACPKThEAAAApVBMVEXf0IAAtcEAAADk15b/AADf0YDgynzl1oQAn6rn14TRw3jczX7n14UJqrazp2epnF5+dkgAu8e6rGnKvHNMRyyil115cUZYSSWEd0U7KguXilIQAAAAg44AYWwAkp0ATVgAFCQANkIsKRlDPibv34kwLRzCtW9mXztMSCzviVXd2YXgyXwAe4WZhlDp0oEXAACql1u7p2YAVF4AQk0AjJYALDkACh7BL9h4AAACl0lEQVR4nO3cW1PaUBSGYdgthi1BBaR4VuRQW6092f7/n9ZMZ3qRtfea+QALCO9zySxXklcIF2ZsNAAAAAAAAAAAAAAAAAAAAAAAAAAAAN6a1mGqs+mT2lKdkDpqbfqstlMnDDp1Ba0cnXBoykRaOapW5pU1t3pDv5dNt2oN5gl7Rtti063iafrdclKs7/iL2Hyr42msmZ7QKi+eDk2Z4gOt8v5TqzImVr+o3WxVTmb31upXtZutYhge1fVnxytv3dVWg6JVEye0craGubmGklbeVlrpW2mlb6WVvpVW+lZa6VtppW+llb6VVvpWWulbaaVvpZW+lVb6VlrpW2mlb6WVvnXvWxUp50z3vlUxvEjYJP+27nureD+bGOHCGaVVP5Y104+08lrZEyt3sVXLVVStzCtVq+xo1cr+IatqlR+tWqV/8/LPQvL3WTV7HHtKtR94ZeXDCu+rwntflcn7qpjY4yxu0ef6lonV+vR+L31eolWj8XjgeR49dY3rs+f86PmLHb394mz9emMmm+Nvzmho29G77/nRx2CP3wxz98oODpb7EPqf6WJ01WvW9K7PnJvQ+Y0dvfXuV5dtOzp27lcxdJtm9K6fH+2Enh0NA//SXv1+FUdX9vhVq/xotlV+9LJtt46d78Fsq/xl5lstd93LoJWOVjpa6Wilo5WOVjpa6Wilo5WOVjpa6Wilo5WOVjpa6Wilo5WOVjpa6Wilo5WOVjpa6Wilo5WOVrqYfZ4hP7pQq8zzDPnR0LWj29vqqW38cFtd2dGfbqsXO/rLbXVjJru/3VZ2aXe9rR7k/+kUZ+mo+wxkym2Vclul1tkq99C69wCe/nz7+kYXu1gAAAAAAAAAAAAAAAAAAAAAAAAAAN6cd1D9AaD2oI3Hqj6sAAAAAElFTkSuQmCC)\n",
        "\n",
        "### As medidas mais comuns de tendência central são a `média`, a `mediana` e a `moda`.\n",
        "\n",
        "<br>\n",
        "\n",
        "### `Vamos usar dados abertos do preço do Big Mac, desde 2000 a 2022, para diversos países. Os dados podem ser encontrados no Kaggle.`\n",
        "\n",
        "<br>\n",
        "\n",
        "#### site: https://www.kaggle.com/datasets/vittoriogiatti/bigmacprice\n"
      ],
      "metadata": {
        "id": "F1ZvQ6z9WAZ1"
      }
    },
    {
      "cell_type": "markdown",
      "source": [
        "### Importando a biblioteca pandas (https://pandas.pydata.org)"
      ],
      "metadata": {
        "id": "Y0ovzTeXXYN6"
      }
    },
    {
      "cell_type": "code",
      "execution_count": 3,
      "metadata": {
        "id": "4QQFDy8dNLXm"
      },
      "outputs": [],
      "source": [
        "import pandas as pd"
      ]
    },
    {
      "cell_type": "markdown",
      "source": [
        "### Lendo os arquivos em CSV"
      ],
      "metadata": {
        "id": "sLNIhzirYMkE"
      }
    },
    {
      "cell_type": "code",
      "source": [
        "df = pd.read_csv('BigmacPrice.csv')"
      ],
      "metadata": {
        "id": "-Fc_WWdDYLUk"
      },
      "execution_count": 6,
      "outputs": []
    },
    {
      "cell_type": "code",
      "source": [
        "df.head()"
      ],
      "metadata": {
        "colab": {
          "base_uri": "https://localhost:8080/",
          "height": 206
        },
        "id": "50hrxC1Wbhqu",
        "outputId": "0c1fa918-4c4c-40d1-8287-7feeb3925daf"
      },
      "execution_count": 7,
      "outputs": [
        {
          "output_type": "execute_result",
          "data": {
            "text/plain": [
              "         date currency_code       name  local_price  dollar_ex  dollar_price\n",
              "0  2000-04-01           ARS  Argentina         2.50          1          2.50\n",
              "1  2000-04-01           AUD  Australia         2.59          1          2.59\n",
              "2  2000-04-01           BRL     Brazil         2.95          1          2.95\n",
              "3  2000-04-01           GBP    Britain         1.90          1          1.90\n",
              "4  2000-04-01           CAD     Canada         2.85          1          2.85"
            ],
            "text/html": [
              "\n",
              "  <div id=\"df-2be87179-40b5-41e5-8f03-50ab58b5d1c6\" class=\"colab-df-container\">\n",
              "    <div>\n",
              "<style scoped>\n",
              "    .dataframe tbody tr th:only-of-type {\n",
              "        vertical-align: middle;\n",
              "    }\n",
              "\n",
              "    .dataframe tbody tr th {\n",
              "        vertical-align: top;\n",
              "    }\n",
              "\n",
              "    .dataframe thead th {\n",
              "        text-align: right;\n",
              "    }\n",
              "</style>\n",
              "<table border=\"1\" class=\"dataframe\">\n",
              "  <thead>\n",
              "    <tr style=\"text-align: right;\">\n",
              "      <th></th>\n",
              "      <th>date</th>\n",
              "      <th>currency_code</th>\n",
              "      <th>name</th>\n",
              "      <th>local_price</th>\n",
              "      <th>dollar_ex</th>\n",
              "      <th>dollar_price</th>\n",
              "    </tr>\n",
              "  </thead>\n",
              "  <tbody>\n",
              "    <tr>\n",
              "      <th>0</th>\n",
              "      <td>2000-04-01</td>\n",
              "      <td>ARS</td>\n",
              "      <td>Argentina</td>\n",
              "      <td>2.50</td>\n",
              "      <td>1</td>\n",
              "      <td>2.50</td>\n",
              "    </tr>\n",
              "    <tr>\n",
              "      <th>1</th>\n",
              "      <td>2000-04-01</td>\n",
              "      <td>AUD</td>\n",
              "      <td>Australia</td>\n",
              "      <td>2.59</td>\n",
              "      <td>1</td>\n",
              "      <td>2.59</td>\n",
              "    </tr>\n",
              "    <tr>\n",
              "      <th>2</th>\n",
              "      <td>2000-04-01</td>\n",
              "      <td>BRL</td>\n",
              "      <td>Brazil</td>\n",
              "      <td>2.95</td>\n",
              "      <td>1</td>\n",
              "      <td>2.95</td>\n",
              "    </tr>\n",
              "    <tr>\n",
              "      <th>3</th>\n",
              "      <td>2000-04-01</td>\n",
              "      <td>GBP</td>\n",
              "      <td>Britain</td>\n",
              "      <td>1.90</td>\n",
              "      <td>1</td>\n",
              "      <td>1.90</td>\n",
              "    </tr>\n",
              "    <tr>\n",
              "      <th>4</th>\n",
              "      <td>2000-04-01</td>\n",
              "      <td>CAD</td>\n",
              "      <td>Canada</td>\n",
              "      <td>2.85</td>\n",
              "      <td>1</td>\n",
              "      <td>2.85</td>\n",
              "    </tr>\n",
              "  </tbody>\n",
              "</table>\n",
              "</div>\n",
              "    <div class=\"colab-df-buttons\">\n",
              "\n",
              "  <div class=\"colab-df-container\">\n",
              "    <button class=\"colab-df-convert\" onclick=\"convertToInteractive('df-2be87179-40b5-41e5-8f03-50ab58b5d1c6')\"\n",
              "            title=\"Convert this dataframe to an interactive table.\"\n",
              "            style=\"display:none;\">\n",
              "\n",
              "  <svg xmlns=\"http://www.w3.org/2000/svg\" height=\"24px\" viewBox=\"0 -960 960 960\">\n",
              "    <path d=\"M120-120v-720h720v720H120Zm60-500h600v-160H180v160Zm220 220h160v-160H400v160Zm0 220h160v-160H400v160ZM180-400h160v-160H180v160Zm440 0h160v-160H620v160ZM180-180h160v-160H180v160Zm440 0h160v-160H620v160Z\"/>\n",
              "  </svg>\n",
              "    </button>\n",
              "\n",
              "  <style>\n",
              "    .colab-df-container {\n",
              "      display:flex;\n",
              "      gap: 12px;\n",
              "    }\n",
              "\n",
              "    .colab-df-convert {\n",
              "      background-color: #E8F0FE;\n",
              "      border: none;\n",
              "      border-radius: 50%;\n",
              "      cursor: pointer;\n",
              "      display: none;\n",
              "      fill: #1967D2;\n",
              "      height: 32px;\n",
              "      padding: 0 0 0 0;\n",
              "      width: 32px;\n",
              "    }\n",
              "\n",
              "    .colab-df-convert:hover {\n",
              "      background-color: #E2EBFA;\n",
              "      box-shadow: 0px 1px 2px rgba(60, 64, 67, 0.3), 0px 1px 3px 1px rgba(60, 64, 67, 0.15);\n",
              "      fill: #174EA6;\n",
              "    }\n",
              "\n",
              "    .colab-df-buttons div {\n",
              "      margin-bottom: 4px;\n",
              "    }\n",
              "\n",
              "    [theme=dark] .colab-df-convert {\n",
              "      background-color: #3B4455;\n",
              "      fill: #D2E3FC;\n",
              "    }\n",
              "\n",
              "    [theme=dark] .colab-df-convert:hover {\n",
              "      background-color: #434B5C;\n",
              "      box-shadow: 0px 1px 3px 1px rgba(0, 0, 0, 0.15);\n",
              "      filter: drop-shadow(0px 1px 2px rgba(0, 0, 0, 0.3));\n",
              "      fill: #FFFFFF;\n",
              "    }\n",
              "  </style>\n",
              "\n",
              "    <script>\n",
              "      const buttonEl =\n",
              "        document.querySelector('#df-2be87179-40b5-41e5-8f03-50ab58b5d1c6 button.colab-df-convert');\n",
              "      buttonEl.style.display =\n",
              "        google.colab.kernel.accessAllowed ? 'block' : 'none';\n",
              "\n",
              "      async function convertToInteractive(key) {\n",
              "        const element = document.querySelector('#df-2be87179-40b5-41e5-8f03-50ab58b5d1c6');\n",
              "        const dataTable =\n",
              "          await google.colab.kernel.invokeFunction('convertToInteractive',\n",
              "                                                    [key], {});\n",
              "        if (!dataTable) return;\n",
              "\n",
              "        const docLinkHtml = 'Like what you see? Visit the ' +\n",
              "          '<a target=\"_blank\" href=https://colab.research.google.com/notebooks/data_table.ipynb>data table notebook</a>'\n",
              "          + ' to learn more about interactive tables.';\n",
              "        element.innerHTML = '';\n",
              "        dataTable['output_type'] = 'display_data';\n",
              "        await google.colab.output.renderOutput(dataTable, element);\n",
              "        const docLink = document.createElement('div');\n",
              "        docLink.innerHTML = docLinkHtml;\n",
              "        element.appendChild(docLink);\n",
              "      }\n",
              "    </script>\n",
              "  </div>\n",
              "\n",
              "\n",
              "<div id=\"df-971fc002-47cd-43a5-a73c-1bcb22690e21\">\n",
              "  <button class=\"colab-df-quickchart\" onclick=\"quickchart('df-971fc002-47cd-43a5-a73c-1bcb22690e21')\"\n",
              "            title=\"Suggest charts\"\n",
              "            style=\"display:none;\">\n",
              "\n",
              "<svg xmlns=\"http://www.w3.org/2000/svg\" height=\"24px\"viewBox=\"0 0 24 24\"\n",
              "     width=\"24px\">\n",
              "    <g>\n",
              "        <path d=\"M19 3H5c-1.1 0-2 .9-2 2v14c0 1.1.9 2 2 2h14c1.1 0 2-.9 2-2V5c0-1.1-.9-2-2-2zM9 17H7v-7h2v7zm4 0h-2V7h2v10zm4 0h-2v-4h2v4z\"/>\n",
              "    </g>\n",
              "</svg>\n",
              "  </button>\n",
              "\n",
              "<style>\n",
              "  .colab-df-quickchart {\n",
              "      --bg-color: #E8F0FE;\n",
              "      --fill-color: #1967D2;\n",
              "      --hover-bg-color: #E2EBFA;\n",
              "      --hover-fill-color: #174EA6;\n",
              "      --disabled-fill-color: #AAA;\n",
              "      --disabled-bg-color: #DDD;\n",
              "  }\n",
              "\n",
              "  [theme=dark] .colab-df-quickchart {\n",
              "      --bg-color: #3B4455;\n",
              "      --fill-color: #D2E3FC;\n",
              "      --hover-bg-color: #434B5C;\n",
              "      --hover-fill-color: #FFFFFF;\n",
              "      --disabled-bg-color: #3B4455;\n",
              "      --disabled-fill-color: #666;\n",
              "  }\n",
              "\n",
              "  .colab-df-quickchart {\n",
              "    background-color: var(--bg-color);\n",
              "    border: none;\n",
              "    border-radius: 50%;\n",
              "    cursor: pointer;\n",
              "    display: none;\n",
              "    fill: var(--fill-color);\n",
              "    height: 32px;\n",
              "    padding: 0;\n",
              "    width: 32px;\n",
              "  }\n",
              "\n",
              "  .colab-df-quickchart:hover {\n",
              "    background-color: var(--hover-bg-color);\n",
              "    box-shadow: 0 1px 2px rgba(60, 64, 67, 0.3), 0 1px 3px 1px rgba(60, 64, 67, 0.15);\n",
              "    fill: var(--button-hover-fill-color);\n",
              "  }\n",
              "\n",
              "  .colab-df-quickchart-complete:disabled,\n",
              "  .colab-df-quickchart-complete:disabled:hover {\n",
              "    background-color: var(--disabled-bg-color);\n",
              "    fill: var(--disabled-fill-color);\n",
              "    box-shadow: none;\n",
              "  }\n",
              "\n",
              "  .colab-df-spinner {\n",
              "    border: 2px solid var(--fill-color);\n",
              "    border-color: transparent;\n",
              "    border-bottom-color: var(--fill-color);\n",
              "    animation:\n",
              "      spin 1s steps(1) infinite;\n",
              "  }\n",
              "\n",
              "  @keyframes spin {\n",
              "    0% {\n",
              "      border-color: transparent;\n",
              "      border-bottom-color: var(--fill-color);\n",
              "      border-left-color: var(--fill-color);\n",
              "    }\n",
              "    20% {\n",
              "      border-color: transparent;\n",
              "      border-left-color: var(--fill-color);\n",
              "      border-top-color: var(--fill-color);\n",
              "    }\n",
              "    30% {\n",
              "      border-color: transparent;\n",
              "      border-left-color: var(--fill-color);\n",
              "      border-top-color: var(--fill-color);\n",
              "      border-right-color: var(--fill-color);\n",
              "    }\n",
              "    40% {\n",
              "      border-color: transparent;\n",
              "      border-right-color: var(--fill-color);\n",
              "      border-top-color: var(--fill-color);\n",
              "    }\n",
              "    60% {\n",
              "      border-color: transparent;\n",
              "      border-right-color: var(--fill-color);\n",
              "    }\n",
              "    80% {\n",
              "      border-color: transparent;\n",
              "      border-right-color: var(--fill-color);\n",
              "      border-bottom-color: var(--fill-color);\n",
              "    }\n",
              "    90% {\n",
              "      border-color: transparent;\n",
              "      border-bottom-color: var(--fill-color);\n",
              "    }\n",
              "  }\n",
              "</style>\n",
              "\n",
              "  <script>\n",
              "    async function quickchart(key) {\n",
              "      const quickchartButtonEl =\n",
              "        document.querySelector('#' + key + ' button');\n",
              "      quickchartButtonEl.disabled = true;  // To prevent multiple clicks.\n",
              "      quickchartButtonEl.classList.add('colab-df-spinner');\n",
              "      try {\n",
              "        const charts = await google.colab.kernel.invokeFunction(\n",
              "            'suggestCharts', [key], {});\n",
              "      } catch (error) {\n",
              "        console.error('Error during call to suggestCharts:', error);\n",
              "      }\n",
              "      quickchartButtonEl.classList.remove('colab-df-spinner');\n",
              "      quickchartButtonEl.classList.add('colab-df-quickchart-complete');\n",
              "    }\n",
              "    (() => {\n",
              "      let quickchartButtonEl =\n",
              "        document.querySelector('#df-971fc002-47cd-43a5-a73c-1bcb22690e21 button');\n",
              "      quickchartButtonEl.style.display =\n",
              "        google.colab.kernel.accessAllowed ? 'block' : 'none';\n",
              "    })();\n",
              "  </script>\n",
              "</div>\n",
              "\n",
              "    </div>\n",
              "  </div>\n"
            ],
            "application/vnd.google.colaboratory.intrinsic+json": {
              "type": "dataframe",
              "variable_name": "df",
              "summary": "{\n  \"name\": \"df\",\n  \"rows\": 1946,\n  \"fields\": [\n    {\n      \"column\": \"date\",\n      \"properties\": {\n        \"dtype\": \"object\",\n        \"num_unique_values\": 37,\n        \"samples\": [\n          \"2013-01-01\",\n          \"2010-07-01\",\n          \"2004-05-01\"\n        ],\n        \"semantic_type\": \"\",\n        \"description\": \"\"\n      }\n    },\n    {\n      \"column\": \"currency_code\",\n      \"properties\": {\n        \"dtype\": \"category\",\n        \"num_unique_values\": 58,\n        \"samples\": [\n          \"ARS\",\n          \"CLP\",\n          \"COP\"\n        ],\n        \"semantic_type\": \"\",\n        \"description\": \"\"\n      }\n    },\n    {\n      \"column\": \"name\",\n      \"properties\": {\n        \"dtype\": \"category\",\n        \"num_unique_values\": 74,\n        \"samples\": [\n          \"Canada\",\n          \"Kuwait\",\n          \"Poland\"\n        ],\n        \"semantic_type\": \"\",\n        \"description\": \"\"\n      }\n    },\n    {\n      \"column\": \"local_price\",\n      \"properties\": {\n        \"dtype\": \"number\",\n        \"std\": 394005.01333448803,\n        \"min\": 0.0,\n        \"max\": 16020000.0,\n        \"num_unique_values\": 669,\n        \"samples\": [\n          70.45,\n          6900.0,\n          125.0\n        ],\n        \"semantic_type\": \"\",\n        \"description\": \"\"\n      }\n    },\n    {\n      \"column\": \"dollar_ex\",\n      \"properties\": {\n        \"dtype\": \"number\",\n        \"std\": 100623,\n        \"min\": 1,\n        \"max\": 3613989,\n        \"num_unique_values\": 376,\n        \"samples\": [\n          3191,\n          14382,\n          663\n        ],\n        \"semantic_type\": \"\",\n        \"description\": \"\"\n      }\n    },\n    {\n      \"column\": \"dollar_price\",\n      \"properties\": {\n        \"dtype\": \"number\",\n        \"std\": 1.417054224597821,\n        \"min\": 0.0,\n        \"max\": 11.25,\n        \"num_unique_values\": 454,\n        \"samples\": [\n          5.53,\n          1.18,\n          5.75\n        ],\n        \"semantic_type\": \"\",\n        \"description\": \"\"\n      }\n    }\n  ]\n}"
            }
          },
          "metadata": {},
          "execution_count": 7
        }
      ]
    },
    {
      "cell_type": "markdown",
      "source": [
        "### Descrição das colunas\n",
        "\n",
        "* **`date`** - Data do registro\n",
        "* **`currency_code`** - Código ISO 4217 internacional da moeda do país\n",
        "* **`name`** - Nome do país\n",
        "* **`local_price`** - Preço do Big Mac na moeda local\n",
        "* **`dollar_ex`** - Taxa de Conversão do dólar americano para a moeda local\n",
        "* **`local_price`** - Preço do Big Mac em dólares americanos"
      ],
      "metadata": {
        "id": "5_b2rOWdbpVY"
      }
    },
    {
      "cell_type": "markdown",
      "source": [
        "#### Tipos de dados no arquivo:"
      ],
      "metadata": {
        "id": "VUN6ApM4b6Zp"
      }
    },
    {
      "cell_type": "code",
      "source": [
        "df.dtypes"
      ],
      "metadata": {
        "colab": {
          "base_uri": "https://localhost:8080/"
        },
        "id": "fIYI8J1CblDi",
        "outputId": "26ffbf9f-7699-4d96-8a4b-8df79981794d"
      },
      "execution_count": 8,
      "outputs": [
        {
          "output_type": "execute_result",
          "data": {
            "text/plain": [
              "date              object\n",
              "currency_code     object\n",
              "name              object\n",
              "local_price      float64\n",
              "dollar_ex          int64\n",
              "dollar_price     float64\n",
              "dtype: object"
            ]
          },
          "metadata": {},
          "execution_count": 8
        }
      ]
    },
    {
      "cell_type": "markdown",
      "source": [
        "### Filtrando os dados somente do mês de Julho de 2022"
      ],
      "metadata": {
        "id": "zl_iTEBFcMTs"
      }
    },
    {
      "cell_type": "code",
      "source": [
        "df_filtered = df[df['date'] == '2022-07-01']"
      ],
      "metadata": {
        "id": "8FGOjXPZcFYY"
      },
      "execution_count": 9,
      "outputs": []
    },
    {
      "cell_type": "code",
      "source": [
        "df_filtered.head()"
      ],
      "metadata": {
        "colab": {
          "base_uri": "https://localhost:8080/",
          "height": 206
        },
        "id": "CT9ax8jHc5UJ",
        "outputId": "0e27b6e5-71ed-46c0-e5c7-3605dd0fa9d6"
      },
      "execution_count": 11,
      "outputs": [
        {
          "output_type": "execute_result",
          "data": {
            "text/plain": [
              "            date currency_code        name  local_price  dollar_ex  \\\n",
              "1876  2022-07-01           ARS   Argentina       590.00        129   \n",
              "1877  2022-07-01           AUD   Australia         6.70          1   \n",
              "1878  2022-07-01           EUR     Austria         4.35          1   \n",
              "1879  2022-07-01           AZN  Azerbaijan         4.70          1   \n",
              "1880  2022-07-01           BHD     Bahrain         1.60          1   \n",
              "\n",
              "      dollar_price  \n",
              "1876          4.57  \n",
              "1877          6.70  \n",
              "1878          4.35  \n",
              "1879          4.70  \n",
              "1880          1.60  "
            ],
            "text/html": [
              "\n",
              "  <div id=\"df-44fee2a3-c269-4245-b85e-9254854decd8\" class=\"colab-df-container\">\n",
              "    <div>\n",
              "<style scoped>\n",
              "    .dataframe tbody tr th:only-of-type {\n",
              "        vertical-align: middle;\n",
              "    }\n",
              "\n",
              "    .dataframe tbody tr th {\n",
              "        vertical-align: top;\n",
              "    }\n",
              "\n",
              "    .dataframe thead th {\n",
              "        text-align: right;\n",
              "    }\n",
              "</style>\n",
              "<table border=\"1\" class=\"dataframe\">\n",
              "  <thead>\n",
              "    <tr style=\"text-align: right;\">\n",
              "      <th></th>\n",
              "      <th>date</th>\n",
              "      <th>currency_code</th>\n",
              "      <th>name</th>\n",
              "      <th>local_price</th>\n",
              "      <th>dollar_ex</th>\n",
              "      <th>dollar_price</th>\n",
              "    </tr>\n",
              "  </thead>\n",
              "  <tbody>\n",
              "    <tr>\n",
              "      <th>1876</th>\n",
              "      <td>2022-07-01</td>\n",
              "      <td>ARS</td>\n",
              "      <td>Argentina</td>\n",
              "      <td>590.00</td>\n",
              "      <td>129</td>\n",
              "      <td>4.57</td>\n",
              "    </tr>\n",
              "    <tr>\n",
              "      <th>1877</th>\n",
              "      <td>2022-07-01</td>\n",
              "      <td>AUD</td>\n",
              "      <td>Australia</td>\n",
              "      <td>6.70</td>\n",
              "      <td>1</td>\n",
              "      <td>6.70</td>\n",
              "    </tr>\n",
              "    <tr>\n",
              "      <th>1878</th>\n",
              "      <td>2022-07-01</td>\n",
              "      <td>EUR</td>\n",
              "      <td>Austria</td>\n",
              "      <td>4.35</td>\n",
              "      <td>1</td>\n",
              "      <td>4.35</td>\n",
              "    </tr>\n",
              "    <tr>\n",
              "      <th>1879</th>\n",
              "      <td>2022-07-01</td>\n",
              "      <td>AZN</td>\n",
              "      <td>Azerbaijan</td>\n",
              "      <td>4.70</td>\n",
              "      <td>1</td>\n",
              "      <td>4.70</td>\n",
              "    </tr>\n",
              "    <tr>\n",
              "      <th>1880</th>\n",
              "      <td>2022-07-01</td>\n",
              "      <td>BHD</td>\n",
              "      <td>Bahrain</td>\n",
              "      <td>1.60</td>\n",
              "      <td>1</td>\n",
              "      <td>1.60</td>\n",
              "    </tr>\n",
              "  </tbody>\n",
              "</table>\n",
              "</div>\n",
              "    <div class=\"colab-df-buttons\">\n",
              "\n",
              "  <div class=\"colab-df-container\">\n",
              "    <button class=\"colab-df-convert\" onclick=\"convertToInteractive('df-44fee2a3-c269-4245-b85e-9254854decd8')\"\n",
              "            title=\"Convert this dataframe to an interactive table.\"\n",
              "            style=\"display:none;\">\n",
              "\n",
              "  <svg xmlns=\"http://www.w3.org/2000/svg\" height=\"24px\" viewBox=\"0 -960 960 960\">\n",
              "    <path d=\"M120-120v-720h720v720H120Zm60-500h600v-160H180v160Zm220 220h160v-160H400v160Zm0 220h160v-160H400v160ZM180-400h160v-160H180v160Zm440 0h160v-160H620v160ZM180-180h160v-160H180v160Zm440 0h160v-160H620v160Z\"/>\n",
              "  </svg>\n",
              "    </button>\n",
              "\n",
              "  <style>\n",
              "    .colab-df-container {\n",
              "      display:flex;\n",
              "      gap: 12px;\n",
              "    }\n",
              "\n",
              "    .colab-df-convert {\n",
              "      background-color: #E8F0FE;\n",
              "      border: none;\n",
              "      border-radius: 50%;\n",
              "      cursor: pointer;\n",
              "      display: none;\n",
              "      fill: #1967D2;\n",
              "      height: 32px;\n",
              "      padding: 0 0 0 0;\n",
              "      width: 32px;\n",
              "    }\n",
              "\n",
              "    .colab-df-convert:hover {\n",
              "      background-color: #E2EBFA;\n",
              "      box-shadow: 0px 1px 2px rgba(60, 64, 67, 0.3), 0px 1px 3px 1px rgba(60, 64, 67, 0.15);\n",
              "      fill: #174EA6;\n",
              "    }\n",
              "\n",
              "    .colab-df-buttons div {\n",
              "      margin-bottom: 4px;\n",
              "    }\n",
              "\n",
              "    [theme=dark] .colab-df-convert {\n",
              "      background-color: #3B4455;\n",
              "      fill: #D2E3FC;\n",
              "    }\n",
              "\n",
              "    [theme=dark] .colab-df-convert:hover {\n",
              "      background-color: #434B5C;\n",
              "      box-shadow: 0px 1px 3px 1px rgba(0, 0, 0, 0.15);\n",
              "      filter: drop-shadow(0px 1px 2px rgba(0, 0, 0, 0.3));\n",
              "      fill: #FFFFFF;\n",
              "    }\n",
              "  </style>\n",
              "\n",
              "    <script>\n",
              "      const buttonEl =\n",
              "        document.querySelector('#df-44fee2a3-c269-4245-b85e-9254854decd8 button.colab-df-convert');\n",
              "      buttonEl.style.display =\n",
              "        google.colab.kernel.accessAllowed ? 'block' : 'none';\n",
              "\n",
              "      async function convertToInteractive(key) {\n",
              "        const element = document.querySelector('#df-44fee2a3-c269-4245-b85e-9254854decd8');\n",
              "        const dataTable =\n",
              "          await google.colab.kernel.invokeFunction('convertToInteractive',\n",
              "                                                    [key], {});\n",
              "        if (!dataTable) return;\n",
              "\n",
              "        const docLinkHtml = 'Like what you see? Visit the ' +\n",
              "          '<a target=\"_blank\" href=https://colab.research.google.com/notebooks/data_table.ipynb>data table notebook</a>'\n",
              "          + ' to learn more about interactive tables.';\n",
              "        element.innerHTML = '';\n",
              "        dataTable['output_type'] = 'display_data';\n",
              "        await google.colab.output.renderOutput(dataTable, element);\n",
              "        const docLink = document.createElement('div');\n",
              "        docLink.innerHTML = docLinkHtml;\n",
              "        element.appendChild(docLink);\n",
              "      }\n",
              "    </script>\n",
              "  </div>\n",
              "\n",
              "\n",
              "<div id=\"df-dbccaa39-63dc-4106-8392-d2a0bc934f15\">\n",
              "  <button class=\"colab-df-quickchart\" onclick=\"quickchart('df-dbccaa39-63dc-4106-8392-d2a0bc934f15')\"\n",
              "            title=\"Suggest charts\"\n",
              "            style=\"display:none;\">\n",
              "\n",
              "<svg xmlns=\"http://www.w3.org/2000/svg\" height=\"24px\"viewBox=\"0 0 24 24\"\n",
              "     width=\"24px\">\n",
              "    <g>\n",
              "        <path d=\"M19 3H5c-1.1 0-2 .9-2 2v14c0 1.1.9 2 2 2h14c1.1 0 2-.9 2-2V5c0-1.1-.9-2-2-2zM9 17H7v-7h2v7zm4 0h-2V7h2v10zm4 0h-2v-4h2v4z\"/>\n",
              "    </g>\n",
              "</svg>\n",
              "  </button>\n",
              "\n",
              "<style>\n",
              "  .colab-df-quickchart {\n",
              "      --bg-color: #E8F0FE;\n",
              "      --fill-color: #1967D2;\n",
              "      --hover-bg-color: #E2EBFA;\n",
              "      --hover-fill-color: #174EA6;\n",
              "      --disabled-fill-color: #AAA;\n",
              "      --disabled-bg-color: #DDD;\n",
              "  }\n",
              "\n",
              "  [theme=dark] .colab-df-quickchart {\n",
              "      --bg-color: #3B4455;\n",
              "      --fill-color: #D2E3FC;\n",
              "      --hover-bg-color: #434B5C;\n",
              "      --hover-fill-color: #FFFFFF;\n",
              "      --disabled-bg-color: #3B4455;\n",
              "      --disabled-fill-color: #666;\n",
              "  }\n",
              "\n",
              "  .colab-df-quickchart {\n",
              "    background-color: var(--bg-color);\n",
              "    border: none;\n",
              "    border-radius: 50%;\n",
              "    cursor: pointer;\n",
              "    display: none;\n",
              "    fill: var(--fill-color);\n",
              "    height: 32px;\n",
              "    padding: 0;\n",
              "    width: 32px;\n",
              "  }\n",
              "\n",
              "  .colab-df-quickchart:hover {\n",
              "    background-color: var(--hover-bg-color);\n",
              "    box-shadow: 0 1px 2px rgba(60, 64, 67, 0.3), 0 1px 3px 1px rgba(60, 64, 67, 0.15);\n",
              "    fill: var(--button-hover-fill-color);\n",
              "  }\n",
              "\n",
              "  .colab-df-quickchart-complete:disabled,\n",
              "  .colab-df-quickchart-complete:disabled:hover {\n",
              "    background-color: var(--disabled-bg-color);\n",
              "    fill: var(--disabled-fill-color);\n",
              "    box-shadow: none;\n",
              "  }\n",
              "\n",
              "  .colab-df-spinner {\n",
              "    border: 2px solid var(--fill-color);\n",
              "    border-color: transparent;\n",
              "    border-bottom-color: var(--fill-color);\n",
              "    animation:\n",
              "      spin 1s steps(1) infinite;\n",
              "  }\n",
              "\n",
              "  @keyframes spin {\n",
              "    0% {\n",
              "      border-color: transparent;\n",
              "      border-bottom-color: var(--fill-color);\n",
              "      border-left-color: var(--fill-color);\n",
              "    }\n",
              "    20% {\n",
              "      border-color: transparent;\n",
              "      border-left-color: var(--fill-color);\n",
              "      border-top-color: var(--fill-color);\n",
              "    }\n",
              "    30% {\n",
              "      border-color: transparent;\n",
              "      border-left-color: var(--fill-color);\n",
              "      border-top-color: var(--fill-color);\n",
              "      border-right-color: var(--fill-color);\n",
              "    }\n",
              "    40% {\n",
              "      border-color: transparent;\n",
              "      border-right-color: var(--fill-color);\n",
              "      border-top-color: var(--fill-color);\n",
              "    }\n",
              "    60% {\n",
              "      border-color: transparent;\n",
              "      border-right-color: var(--fill-color);\n",
              "    }\n",
              "    80% {\n",
              "      border-color: transparent;\n",
              "      border-right-color: var(--fill-color);\n",
              "      border-bottom-color: var(--fill-color);\n",
              "    }\n",
              "    90% {\n",
              "      border-color: transparent;\n",
              "      border-bottom-color: var(--fill-color);\n",
              "    }\n",
              "  }\n",
              "</style>\n",
              "\n",
              "  <script>\n",
              "    async function quickchart(key) {\n",
              "      const quickchartButtonEl =\n",
              "        document.querySelector('#' + key + ' button');\n",
              "      quickchartButtonEl.disabled = true;  // To prevent multiple clicks.\n",
              "      quickchartButtonEl.classList.add('colab-df-spinner');\n",
              "      try {\n",
              "        const charts = await google.colab.kernel.invokeFunction(\n",
              "            'suggestCharts', [key], {});\n",
              "      } catch (error) {\n",
              "        console.error('Error during call to suggestCharts:', error);\n",
              "      }\n",
              "      quickchartButtonEl.classList.remove('colab-df-spinner');\n",
              "      quickchartButtonEl.classList.add('colab-df-quickchart-complete');\n",
              "    }\n",
              "    (() => {\n",
              "      let quickchartButtonEl =\n",
              "        document.querySelector('#df-dbccaa39-63dc-4106-8392-d2a0bc934f15 button');\n",
              "      quickchartButtonEl.style.display =\n",
              "        google.colab.kernel.accessAllowed ? 'block' : 'none';\n",
              "    })();\n",
              "  </script>\n",
              "</div>\n",
              "\n",
              "    </div>\n",
              "  </div>\n"
            ],
            "application/vnd.google.colaboratory.intrinsic+json": {
              "type": "dataframe",
              "variable_name": "df_filtered",
              "repr_error": "0"
            }
          },
          "metadata": {},
          "execution_count": 11
        }
      ]
    },
    {
      "cell_type": "code",
      "source": [
        "df_filtered.count()"
      ],
      "metadata": {
        "colab": {
          "base_uri": "https://localhost:8080/"
        },
        "id": "3HSkGTGJc_hE",
        "outputId": "75cf7e5e-a9bb-43f3-a4a0-5d7d60f5a711"
      },
      "execution_count": 12,
      "outputs": [
        {
          "output_type": "execute_result",
          "data": {
            "text/plain": [
              "date             70\n",
              "currency_code    70\n",
              "name             70\n",
              "local_price      70\n",
              "dollar_ex        70\n",
              "dollar_price     70\n",
              "dtype: int64"
            ]
          },
          "metadata": {},
          "execution_count": 12
        }
      ]
    },
    {
      "cell_type": "markdown",
      "source": [
        "#### Quantos países únicos nós temos?"
      ],
      "metadata": {
        "id": "5nByDY1xdOmC"
      }
    },
    {
      "cell_type": "code",
      "source": [
        "df_filtered.groupby('name').count()['date']"
      ],
      "metadata": {
        "colab": {
          "base_uri": "https://localhost:8080/"
        },
        "id": "yU6G7X87dMT2",
        "outputId": "37ed785c-ae19-4b4c-f210-f513d7b135cd"
      },
      "execution_count": 13,
      "outputs": [
        {
          "output_type": "execute_result",
          "data": {
            "text/plain": [
              "name\n",
              "Argentina               1\n",
              "Australia               1\n",
              "Austria                 1\n",
              "Azerbaijan              1\n",
              "Bahrain                 1\n",
              "                       ..\n",
              "United Arab Emirates    1\n",
              "United States           1\n",
              "Uruguay                 1\n",
              "Venezuela               1\n",
              "Vietnam                 1\n",
              "Name: date, Length: 70, dtype: int64"
            ]
          },
          "metadata": {},
          "execution_count": 13
        }
      ]
    },
    {
      "cell_type": "markdown",
      "source": [
        "### Temos 1 linha por país! Dessa forma, vamos calcular as medidas de tendência central. Salvaremos também os dados de Julho/2022, pois os reutilizaremos mais para frente."
      ],
      "metadata": {
        "id": "IcQqFKGHd8Su"
      }
    },
    {
      "cell_type": "code",
      "source": [
        "df_filtered.to_csv('BigmacPriceJuly2022.csv', index = False)"
      ],
      "metadata": {
        "id": "a7OzjGVDdxCy"
      },
      "execution_count": 15,
      "outputs": []
    },
    {
      "cell_type": "markdown",
      "source": [
        "## `Moda`\n",
        "\n",
        "### Já bastante conhecida,  a `Moda` é uma medida estatística de tendência central, que interessa sempre que estivermos em busca dos valores mais comuns de um dado.\n",
        "\n",
        "### É o valor dos dados que ocorre com a maior frequência, ou seja, o valor que mais se repete dentro de uma série de observações.\n",
        "\n",
        "![alt text](https://blog.professorferretto.com.br/wp-content/uploads/2017/11/moda.png)"
      ],
      "metadata": {
        "id": "0GSc6dCQf2wN"
      }
    },
    {
      "cell_type": "code",
      "source": [
        "df = pd.read_csv('BigmacPriceJuly2022.csv')"
      ],
      "metadata": {
        "id": "mmlwYTdsgAR-"
      },
      "execution_count": 17,
      "outputs": []
    },
    {
      "cell_type": "markdown",
      "source": [
        "### O pandas tem uma função para a moda, tornando bem simples o seu cálculo!\n",
        "\n",
        "<br>\n",
        "\n",
        "### Vamos calcular a moda do preço do Big Mac em dólares americanos."
      ],
      "metadata": {
        "id": "42Ij7o9CqsWi"
      }
    },
    {
      "cell_type": "code",
      "source": [
        "df['dollar_price'].mode()"
      ],
      "metadata": {
        "colab": {
          "base_uri": "https://localhost:8080/"
        },
        "id": "eRtLCAvZqoDo",
        "outputId": "a57aaa76-3f5b-4075-985e-c6deff26cd61"
      },
      "execution_count": 18,
      "outputs": [
        {
          "output_type": "execute_result",
          "data": {
            "text/plain": [
              "0    4.00\n",
              "1    4.58\n",
              "Name: dollar_price, dtype: float64"
            ]
          },
          "metadata": {},
          "execution_count": 18
        }
      ]
    },
    {
      "cell_type": "markdown",
      "source": [
        "Repare que o resultado é uma série do Pandas!"
      ],
      "metadata": {
        "id": "4RSL6EY6rhL0"
      }
    },
    {
      "cell_type": "markdown",
      "source": [
        "### Vendo quantas vezes esses vaores ocorrem"
      ],
      "metadata": {
        "id": "B57gTFuUrkok"
      }
    },
    {
      "cell_type": "code",
      "source": [
        "df['dollar_price'].value_counts()"
      ],
      "metadata": {
        "colab": {
          "base_uri": "https://localhost:8080/"
        },
        "id": "_kT5yNu8rYc-",
        "outputId": "18b3d522-3bd9-425f-8676-b514a92d01e0"
      },
      "execution_count": 19,
      "outputs": [
        {
          "output_type": "execute_result",
          "data": {
            "text/plain": [
              "dollar_price\n",
              "4.58    3\n",
              "4.00    3\n",
              "3.50    2\n",
              "5.67    2\n",
              "3.71    2\n",
              "       ..\n",
              "2.85    1\n",
              "2.30    1\n",
              "1.30    1\n",
              "6.70    1\n",
              "2.95    1\n",
              "Name: count, Length: 61, dtype: int64"
            ]
          },
          "metadata": {},
          "execution_count": 19
        }
      ]
    },
    {
      "cell_type": "markdown",
      "source": [
        "Podemos ter mais de um valor para a moda, nesse caso é bimodal"
      ],
      "metadata": {
        "id": "cHCtw9R5r8-9"
      }
    },
    {
      "cell_type": "markdown",
      "source": [
        "## `Média`\n",
        "\n",
        "### A famosa média!! Ela é bastante relevante por ser muito fácil de ser calculada, além de ser muito popular.\n",
        "\n",
        "<br>\n",
        "\n",
        "![alt text](https://us.123rf.com/450wm/jameschipper/jameschipper1704/jameschipper170400133/76165125-credit-score-gauge.jpg?ver=6)\n",
        "\n",
        "<br>\n",
        "\n",
        "### Calculamos a média simplesmente somando todos os valores e dividindo pelo tamanho da amostra.\n",
        "\n",
        "<br>\n",
        "\n",
        "![alt text](https://cdn.educba.com/academy/wp-content/uploads/2019/03/Average-Formula.jpg)\n",
        "\n",
        "<br>\n",
        "\n",
        "### A média é uma importante medida que busca expressar a tendência central dos dados de interesse."
      ],
      "metadata": {
        "id": "SevIGmY9sgoK"
      }
    },
    {
      "cell_type": "markdown",
      "source": [
        " ### Média do preço do Big Mac em dólares americanos"
      ],
      "metadata": {
        "id": "pBRHjWdAtxBw"
      }
    },
    {
      "cell_type": "code",
      "source": [
        "df['dollar_price'].mean()"
      ],
      "metadata": {
        "colab": {
          "base_uri": "https://localhost:8080/"
        },
        "id": "dY5jAKNVr0-6",
        "outputId": "9cc189b9-60dc-4c5f-db3c-885161fcdef2"
      },
      "execution_count": 20,
      "outputs": [
        {
          "output_type": "execute_result",
          "data": {
            "text/plain": [
              "4.003571428571429"
            ]
          },
          "metadata": {},
          "execution_count": 20
        }
      ]
    },
    {
      "cell_type": "markdown",
      "source": [
        "### Apesar de ser muito popular e fácil de ser calculada, precisamos tomar cuidados especiais com a média. Isso porque ela é `facilmente` influenciada por valores extremos na nossa amostra!\n",
        "\n",
        "\n",
        "![alt text](https://images.nagwa.com/figures/explainers/845148137695/2.svg)"
      ],
      "metadata": {
        "id": "m3fpfC6It_1h"
      }
    },
    {
      "cell_type": "code",
      "source": [
        "def media(lista):\n",
        "    return sum(lista)/len(lista)"
      ],
      "metadata": {
        "id": "L85CoVV-uX_q"
      },
      "execution_count": 26,
      "outputs": []
    },
    {
      "cell_type": "markdown",
      "source": [
        "### Vamos calcular a média de algumas listas de alturas de pessoas e ver como a média se comporta em cada caso.\n",
        "\n",
        "<br>\n",
        "\n",
        "### A primeira lista tem alturas bem próximas uma das outras\n",
        "\n",
        "\n"
      ],
      "metadata": {
        "id": "49h02FCNuJq7"
      }
    },
    {
      "cell_type": "code",
      "source": [
        "lista_alturas_1 = [1.67, 1.72, 1.70, 1.69, 1.74, 1.71]"
      ],
      "metadata": {
        "id": "3mYoIbixt6af"
      },
      "execution_count": 24,
      "outputs": []
    },
    {
      "cell_type": "code",
      "source": [
        "media(lista_alturas_1)"
      ],
      "metadata": {
        "colab": {
          "base_uri": "https://localhost:8080/"
        },
        "id": "3xOM8VbFu7CP",
        "outputId": "dfe37197-43dc-4706-aa06-c4aa85e2deb3"
      },
      "execution_count": 27,
      "outputs": [
        {
          "output_type": "execute_result",
          "data": {
            "text/plain": [
              "1.705"
            ]
          },
          "metadata": {},
          "execution_count": 27
        }
      ]
    },
    {
      "cell_type": "markdown",
      "source": [
        "### A segunda lista tem alturas mais espaçadas uma das outras."
      ],
      "metadata": {
        "id": "nscKtRHivOLm"
      }
    },
    {
      "cell_type": "code",
      "source": [
        "lista_alturas_2 = [1.60, 1.66, 1.72, 1.69, 1.78, 1.77]"
      ],
      "metadata": {
        "id": "Tq8DNCRPvPMy"
      },
      "execution_count": 29,
      "outputs": []
    },
    {
      "cell_type": "code",
      "source": [
        "media(lista_alturas_2)"
      ],
      "metadata": {
        "colab": {
          "base_uri": "https://localhost:8080/"
        },
        "id": "l7JSqPFbvbR3",
        "outputId": "b9184876-00e7-4d19-fb06-8a4992f660a5"
      },
      "execution_count": 30,
      "outputs": [
        {
          "output_type": "execute_result",
          "data": {
            "text/plain": [
              "1.7033333333333331"
            ]
          },
          "metadata": {},
          "execution_count": 30
        }
      ]
    },
    {
      "cell_type": "markdown",
      "source": [
        "### A terceira lista tem uma altura bem menor do que as outras."
      ],
      "metadata": {
        "id": "1zmTxQiivhAd"
      }
    },
    {
      "cell_type": "code",
      "source": [
        "lista_alturas_3 = [1.20, 1.72, 1.70, 1.69, 1.74, 1.71]"
      ],
      "metadata": {
        "id": "PU1RtPFtvb_v"
      },
      "execution_count": 32,
      "outputs": []
    },
    {
      "cell_type": "code",
      "source": [
        "media(lista_alturas_3)"
      ],
      "metadata": {
        "colab": {
          "base_uri": "https://localhost:8080/"
        },
        "id": "IdF52DUzvm-F",
        "outputId": "6a205136-2f68-4fd3-e797-6bc996d9b941"
      },
      "execution_count": 33,
      "outputs": [
        {
          "output_type": "execute_result",
          "data": {
            "text/plain": [
              "1.626666666666667"
            ]
          },
          "metadata": {},
          "execution_count": 33
        }
      ]
    },
    {
      "cell_type": "markdown",
      "source": [
        "### Finalmente, a quarta lista tem uma altura bem maior do que as outras."
      ],
      "metadata": {
        "id": "NQiYoK3Hv0Oa"
      }
    },
    {
      "cell_type": "code",
      "source": [
        "lista_alturas_4 = [1.67, 1.72, 1.70, 1.69, 1.74, 2.24]"
      ],
      "metadata": {
        "id": "dXEdcIOnvpnW"
      },
      "execution_count": 35,
      "outputs": []
    },
    {
      "cell_type": "code",
      "source": [
        "media(lista_alturas_4)"
      ],
      "metadata": {
        "colab": {
          "base_uri": "https://localhost:8080/"
        },
        "id": "OSgdwcr4v4uO",
        "outputId": "c7357d74-53a2-48ab-8a55-88401b3def99"
      },
      "execution_count": 36,
      "outputs": [
        {
          "output_type": "execute_result",
          "data": {
            "text/plain": [
              "1.7933333333333332"
            ]
          },
          "metadata": {},
          "execution_count": 36
        }
      ]
    },
    {
      "cell_type": "markdown",
      "source": [
        "## `Mediana`\n",
        "\n",
        "<br>\n",
        "\n",
        "## A `mediana` é uma medida de tendência central muito interessante. Ela faz uma divisão exatamente no meio dos nossos dados. É o valor do meio do nosso conjunto de dados.\n",
        "\n",
        "\n",
        "![alt text](https://temasdeenfermeria.com.ar/wp-content/uploads/2012/06/mediana.jpg)\n",
        "\n",
        "\n",
        "### Para que a mediana seja calculada, primeiramente precisamos ordenar os dados para que então seja identificado o valor do meio. Por isso, a mediana é relativamente custosa de ser calculada, principalmente em cenários de big data.\n",
        "<br>\n",
        "\n",
        "![alt text](https://educa.ibge.gov.br/images/vamoscontar/recursos/mediana/mediana_animacao4.gif)"
      ],
      "metadata": {
        "id": "LHRTOnY3wAIu"
      }
    },
    {
      "cell_type": "code",
      "source": [
        "import numpy as np"
      ],
      "metadata": {
        "id": "WPeJ88oGwIvk"
      },
      "execution_count": 37,
      "outputs": []
    },
    {
      "cell_type": "markdown",
      "source": [
        "### Lista equilibrada"
      ],
      "metadata": {
        "id": "r9SfRfW3xA5u"
      }
    },
    {
      "cell_type": "code",
      "source": [
        "lista_alturas_1 = [1.67, 1.72, 1.70, 1.69, 1.74, 1.71]"
      ],
      "metadata": {
        "id": "WMKvO1f5w9v0"
      },
      "execution_count": 41,
      "outputs": []
    },
    {
      "cell_type": "code",
      "source": [
        "media(lista_alturas_1)"
      ],
      "metadata": {
        "colab": {
          "base_uri": "https://localhost:8080/"
        },
        "id": "Zdq2fSJgxLKp",
        "outputId": "834e0814-b635-44cf-8142-baab91c5ebc0"
      },
      "execution_count": 42,
      "outputs": [
        {
          "output_type": "execute_result",
          "data": {
            "text/plain": [
              "1.705"
            ]
          },
          "metadata": {},
          "execution_count": 42
        }
      ]
    },
    {
      "cell_type": "code",
      "source": [
        "np.median(lista_alturas_1)"
      ],
      "metadata": {
        "colab": {
          "base_uri": "https://localhost:8080/"
        },
        "id": "C_k5nwzPxQwm",
        "outputId": "a92ebf9f-c34f-43de-c93d-7d16f6c7215d"
      },
      "execution_count": 43,
      "outputs": [
        {
          "output_type": "execute_result",
          "data": {
            "text/plain": [
              "1.705"
            ]
          },
          "metadata": {},
          "execution_count": 43
        }
      ]
    },
    {
      "cell_type": "markdown",
      "source": [
        "### Lista mais espaçada"
      ],
      "metadata": {
        "id": "fF_SNWxUxBUz"
      }
    },
    {
      "cell_type": "code",
      "source": [
        "lista_alturas_2 = [1.60, 1.66, 1.72, 1.69, 1.78, 1.77]"
      ],
      "metadata": {
        "id": "nviDJ_5oxdPq"
      },
      "execution_count": 44,
      "outputs": []
    },
    {
      "cell_type": "code",
      "source": [
        "media(lista_alturas_2)"
      ],
      "metadata": {
        "colab": {
          "base_uri": "https://localhost:8080/"
        },
        "id": "xKofcU60xfXM",
        "outputId": "9dcc8425-4c01-467b-9fff-500831861ac0"
      },
      "execution_count": 45,
      "outputs": [
        {
          "output_type": "execute_result",
          "data": {
            "text/plain": [
              "1.7033333333333331"
            ]
          },
          "metadata": {},
          "execution_count": 45
        }
      ]
    },
    {
      "cell_type": "code",
      "source": [
        "np.median(lista_alturas_2)"
      ],
      "metadata": {
        "colab": {
          "base_uri": "https://localhost:8080/"
        },
        "id": "hPesk-28xiBS",
        "outputId": "95e0e483-94f2-4834-bd05-8f07caf36226"
      },
      "execution_count": 46,
      "outputs": [
        {
          "output_type": "execute_result",
          "data": {
            "text/plain": [
              "1.705"
            ]
          },
          "metadata": {},
          "execution_count": 46
        }
      ]
    },
    {
      "cell_type": "markdown",
      "source": [
        "### Lista com uma altura bem menor do que as outras"
      ],
      "metadata": {
        "id": "4y0ZowtxxlxY"
      }
    },
    {
      "cell_type": "code",
      "source": [
        "lista_alturas_3 = [1.20, 1.72, 1.70, 1.69, 1.74, 1.71]"
      ],
      "metadata": {
        "id": "6aiDUreKxkD7"
      },
      "execution_count": null,
      "outputs": []
    },
    {
      "cell_type": "code",
      "source": [
        "media(lista_alturas_3)"
      ],
      "metadata": {
        "colab": {
          "base_uri": "https://localhost:8080/"
        },
        "id": "ehcfxiBnyk-Q",
        "outputId": "7aa4c6b1-ad37-4c5e-8496-7ae1f36fd1c5"
      },
      "execution_count": 47,
      "outputs": [
        {
          "output_type": "execute_result",
          "data": {
            "text/plain": [
              "1.626666666666667"
            ]
          },
          "metadata": {},
          "execution_count": 47
        }
      ]
    },
    {
      "cell_type": "code",
      "source": [
        "np.median(lista_alturas_3)"
      ],
      "metadata": {
        "colab": {
          "base_uri": "https://localhost:8080/"
        },
        "id": "8C1t7X8iyofp",
        "outputId": "7cb74d4b-d9f1-47e9-a77e-e877d2dd52f2"
      },
      "execution_count": 48,
      "outputs": [
        {
          "output_type": "execute_result",
          "data": {
            "text/plain": [
              "1.705"
            ]
          },
          "metadata": {},
          "execution_count": 48
        }
      ]
    },
    {
      "cell_type": "markdown",
      "source": [
        "### Lista com uma altura bem maior do que as outras"
      ],
      "metadata": {
        "id": "zGDvfrhdyw-h"
      }
    },
    {
      "cell_type": "code",
      "source": [
        "lista_alturas_4 = [1.67, 1.72, 1.70, 1.69, 1.74, 2.24]"
      ],
      "metadata": {
        "id": "231sR-9hyvEh"
      },
      "execution_count": 49,
      "outputs": []
    },
    {
      "cell_type": "code",
      "source": [
        "media(lista_alturas_4)"
      ],
      "metadata": {
        "colab": {
          "base_uri": "https://localhost:8080/"
        },
        "id": "jZ1dpNuEy1Mx",
        "outputId": "d9e6521a-14f8-47b6-f366-01d7a8551739"
      },
      "execution_count": 50,
      "outputs": [
        {
          "output_type": "execute_result",
          "data": {
            "text/plain": [
              "1.7933333333333332"
            ]
          },
          "metadata": {},
          "execution_count": 50
        }
      ]
    },
    {
      "cell_type": "code",
      "source": [
        "np.median(lista_alturas_4)"
      ],
      "metadata": {
        "colab": {
          "base_uri": "https://localhost:8080/"
        },
        "id": "AZx_icT6y3qw",
        "outputId": "1b1296e6-1d52-49d0-b43e-64d247bf3be6"
      },
      "execution_count": 51,
      "outputs": [
        {
          "output_type": "execute_result",
          "data": {
            "text/plain": [
              "1.71"
            ]
          },
          "metadata": {},
          "execution_count": 51
        }
      ]
    }
  ]
}