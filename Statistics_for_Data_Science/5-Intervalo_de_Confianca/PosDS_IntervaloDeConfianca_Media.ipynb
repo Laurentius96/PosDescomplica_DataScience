{
  "nbformat": 4,
  "nbformat_minor": 0,
  "metadata": {
    "colab": {
      "provenance": []
    },
    "kernelspec": {
      "name": "python3",
      "display_name": "Python 3"
    },
    "language_info": {
      "name": "python"
    }
  },
  "cells": [
    {
      "cell_type": "markdown",
      "source": [
        "# `Intervalo de Confiança para Média`\n",
        "\n",
        "<br>\n",
        "<br>\n",
        "\n",
        "### Como vimos, o Teorema do Limite Central nos diz que, para uma amostra grande o suficiente, a média tem distribuição normal. Um resultado disso é que podemos fazer uma estimativa intervalar para a média da população utilizando a amostra que temos disponível.\n",
        "\n",
        "<br>\n",
        "\n",
        "\n",
        "### Na prática, o que estamos calculando é um intervalo de x% de confiança onde esperamos que a média da população esteja, com x% de probabilidade.\n",
        "\n",
        "<br>\n",
        "\n",
        "\n",
        "### Por exemplo, para um intervalo de 95% de confiança, a gente espera que a média da população esteja dentro desse intervalo, com 95% de probabilidade. Quanto mais o nível de confiança, maior será o intervalo.\n",
        "\n",
        "<br>\n",
        "\n",
        "![alt text](https://nulib.github.io/moderndive_book/ismaykimkuyper_files/figure-html/N-CIs-1.png)\n",
        "\n",
        "<br>\n",
        "\n",
        "\n",
        "### Para calcularmos um intervalo de 99% de confiança, por exemplo, utilizamos o quantil 0.99 da Normal Padrão.\n",
        "\n",
        "<br>\n",
        "\n",
        "\n",
        "![alt_text](https://media.licdn.com/dms/image/C4E12AQHdIH_Ampb4gA/article-inline_image-shrink_400_744/0/1588332592093?e=1725494400&v=beta&t=5UngPGs-9idHn5bup3XMZVwQiVMt3zkjorvhOgKM1EY)\n",
        "\n",
        "---\n",
        "<br>\n",
        "\n",
        "### Num intervalo de confiança, a média sempre estará no centro do intervalo. Daí, a distância entre a média e o limite do intervalo é chamada de margem de erro.\n",
        "\n",
        "<br>\n",
        "\n",
        "### A margem de erro tem a ver com o quanto eu estou aceitando errar; mais especificamente, é a amplitude do meu intervalo. Quanto maior a amostra, menor é a margem de erro.\n",
        "\n",
        "<br>\n",
        "\n",
        "![alt text](https://upload.wikimedia.org/wikipedia/commons/thumb/f/f9/Margin-of-error-95.svg/1200px-Margin-of-error-95.svg.png)"
      ],
      "metadata": {
        "id": "DIicXG3tlXEW"
      }
    },
    {
      "cell_type": "markdown",
      "source": [
        "# `IMPORTANTE`\n",
        "\n",
        "<br>\n",
        "\n",
        "### O intervalo de confiança é para a média dos dados, não para os dados todos!\n",
        "\n",
        "<br>\n",
        "\n",
        "### Vamos usar os dados do preço do Big Mac de Julho de 2022.\n",
        "\n",
        "<br>\n",
        "\n",
        "https://www.kaggle.com/datasets/vittoriogiatti/bigmacprice"
      ],
      "metadata": {
        "id": "7jA9wx4fKxFg"
      }
    },
    {
      "cell_type": "code",
      "execution_count": 1,
      "metadata": {
        "id": "FNTqv76NVb5_"
      },
      "outputs": [],
      "source": [
        "import pandas as pd"
      ]
    },
    {
      "cell_type": "code",
      "source": [
        "df = pd.read_csv('BigmacPriceJuly2022.csv')"
      ],
      "metadata": {
        "id": "Z-VxZjZjLGar"
      },
      "execution_count": 3,
      "outputs": []
    },
    {
      "cell_type": "code",
      "source": [
        "df. head()"
      ],
      "metadata": {
        "colab": {
          "base_uri": "https://localhost:8080/",
          "height": 206
        },
        "id": "mp6-ne6sLLuR",
        "outputId": "a2a6ff62-06ad-4543-8e3a-ef86019efd06"
      },
      "execution_count": 4,
      "outputs": [
        {
          "output_type": "execute_result",
          "data": {
            "text/plain": [
              "         date currency_code        name  local_price  dollar_ex  dollar_price\n",
              "0  2022-07-01           ARS   Argentina       590.00        129          4.57\n",
              "1  2022-07-01           AUD   Australia         6.70          1          6.70\n",
              "2  2022-07-01           EUR     Austria         4.35          1          4.35\n",
              "3  2022-07-01           AZN  Azerbaijan         4.70          1          4.70\n",
              "4  2022-07-01           BHD     Bahrain         1.60          1          1.60"
            ],
            "text/html": [
              "\n",
              "  <div id=\"df-5204ee30-9341-41de-abdc-08f663a24a56\" class=\"colab-df-container\">\n",
              "    <div>\n",
              "<style scoped>\n",
              "    .dataframe tbody tr th:only-of-type {\n",
              "        vertical-align: middle;\n",
              "    }\n",
              "\n",
              "    .dataframe tbody tr th {\n",
              "        vertical-align: top;\n",
              "    }\n",
              "\n",
              "    .dataframe thead th {\n",
              "        text-align: right;\n",
              "    }\n",
              "</style>\n",
              "<table border=\"1\" class=\"dataframe\">\n",
              "  <thead>\n",
              "    <tr style=\"text-align: right;\">\n",
              "      <th></th>\n",
              "      <th>date</th>\n",
              "      <th>currency_code</th>\n",
              "      <th>name</th>\n",
              "      <th>local_price</th>\n",
              "      <th>dollar_ex</th>\n",
              "      <th>dollar_price</th>\n",
              "    </tr>\n",
              "  </thead>\n",
              "  <tbody>\n",
              "    <tr>\n",
              "      <th>0</th>\n",
              "      <td>2022-07-01</td>\n",
              "      <td>ARS</td>\n",
              "      <td>Argentina</td>\n",
              "      <td>590.00</td>\n",
              "      <td>129</td>\n",
              "      <td>4.57</td>\n",
              "    </tr>\n",
              "    <tr>\n",
              "      <th>1</th>\n",
              "      <td>2022-07-01</td>\n",
              "      <td>AUD</td>\n",
              "      <td>Australia</td>\n",
              "      <td>6.70</td>\n",
              "      <td>1</td>\n",
              "      <td>6.70</td>\n",
              "    </tr>\n",
              "    <tr>\n",
              "      <th>2</th>\n",
              "      <td>2022-07-01</td>\n",
              "      <td>EUR</td>\n",
              "      <td>Austria</td>\n",
              "      <td>4.35</td>\n",
              "      <td>1</td>\n",
              "      <td>4.35</td>\n",
              "    </tr>\n",
              "    <tr>\n",
              "      <th>3</th>\n",
              "      <td>2022-07-01</td>\n",
              "      <td>AZN</td>\n",
              "      <td>Azerbaijan</td>\n",
              "      <td>4.70</td>\n",
              "      <td>1</td>\n",
              "      <td>4.70</td>\n",
              "    </tr>\n",
              "    <tr>\n",
              "      <th>4</th>\n",
              "      <td>2022-07-01</td>\n",
              "      <td>BHD</td>\n",
              "      <td>Bahrain</td>\n",
              "      <td>1.60</td>\n",
              "      <td>1</td>\n",
              "      <td>1.60</td>\n",
              "    </tr>\n",
              "  </tbody>\n",
              "</table>\n",
              "</div>\n",
              "    <div class=\"colab-df-buttons\">\n",
              "\n",
              "  <div class=\"colab-df-container\">\n",
              "    <button class=\"colab-df-convert\" onclick=\"convertToInteractive('df-5204ee30-9341-41de-abdc-08f663a24a56')\"\n",
              "            title=\"Convert this dataframe to an interactive table.\"\n",
              "            style=\"display:none;\">\n",
              "\n",
              "  <svg xmlns=\"http://www.w3.org/2000/svg\" height=\"24px\" viewBox=\"0 -960 960 960\">\n",
              "    <path d=\"M120-120v-720h720v720H120Zm60-500h600v-160H180v160Zm220 220h160v-160H400v160Zm0 220h160v-160H400v160ZM180-400h160v-160H180v160Zm440 0h160v-160H620v160ZM180-180h160v-160H180v160Zm440 0h160v-160H620v160Z\"/>\n",
              "  </svg>\n",
              "    </button>\n",
              "\n",
              "  <style>\n",
              "    .colab-df-container {\n",
              "      display:flex;\n",
              "      gap: 12px;\n",
              "    }\n",
              "\n",
              "    .colab-df-convert {\n",
              "      background-color: #E8F0FE;\n",
              "      border: none;\n",
              "      border-radius: 50%;\n",
              "      cursor: pointer;\n",
              "      display: none;\n",
              "      fill: #1967D2;\n",
              "      height: 32px;\n",
              "      padding: 0 0 0 0;\n",
              "      width: 32px;\n",
              "    }\n",
              "\n",
              "    .colab-df-convert:hover {\n",
              "      background-color: #E2EBFA;\n",
              "      box-shadow: 0px 1px 2px rgba(60, 64, 67, 0.3), 0px 1px 3px 1px rgba(60, 64, 67, 0.15);\n",
              "      fill: #174EA6;\n",
              "    }\n",
              "\n",
              "    .colab-df-buttons div {\n",
              "      margin-bottom: 4px;\n",
              "    }\n",
              "\n",
              "    [theme=dark] .colab-df-convert {\n",
              "      background-color: #3B4455;\n",
              "      fill: #D2E3FC;\n",
              "    }\n",
              "\n",
              "    [theme=dark] .colab-df-convert:hover {\n",
              "      background-color: #434B5C;\n",
              "      box-shadow: 0px 1px 3px 1px rgba(0, 0, 0, 0.15);\n",
              "      filter: drop-shadow(0px 1px 2px rgba(0, 0, 0, 0.3));\n",
              "      fill: #FFFFFF;\n",
              "    }\n",
              "  </style>\n",
              "\n",
              "    <script>\n",
              "      const buttonEl =\n",
              "        document.querySelector('#df-5204ee30-9341-41de-abdc-08f663a24a56 button.colab-df-convert');\n",
              "      buttonEl.style.display =\n",
              "        google.colab.kernel.accessAllowed ? 'block' : 'none';\n",
              "\n",
              "      async function convertToInteractive(key) {\n",
              "        const element = document.querySelector('#df-5204ee30-9341-41de-abdc-08f663a24a56');\n",
              "        const dataTable =\n",
              "          await google.colab.kernel.invokeFunction('convertToInteractive',\n",
              "                                                    [key], {});\n",
              "        if (!dataTable) return;\n",
              "\n",
              "        const docLinkHtml = 'Like what you see? Visit the ' +\n",
              "          '<a target=\"_blank\" href=https://colab.research.google.com/notebooks/data_table.ipynb>data table notebook</a>'\n",
              "          + ' to learn more about interactive tables.';\n",
              "        element.innerHTML = '';\n",
              "        dataTable['output_type'] = 'display_data';\n",
              "        await google.colab.output.renderOutput(dataTable, element);\n",
              "        const docLink = document.createElement('div');\n",
              "        docLink.innerHTML = docLinkHtml;\n",
              "        element.appendChild(docLink);\n",
              "      }\n",
              "    </script>\n",
              "  </div>\n",
              "\n",
              "\n",
              "<div id=\"df-198e43c9-9ec0-4901-93fa-512db91a6e25\">\n",
              "  <button class=\"colab-df-quickchart\" onclick=\"quickchart('df-198e43c9-9ec0-4901-93fa-512db91a6e25')\"\n",
              "            title=\"Suggest charts\"\n",
              "            style=\"display:none;\">\n",
              "\n",
              "<svg xmlns=\"http://www.w3.org/2000/svg\" height=\"24px\"viewBox=\"0 0 24 24\"\n",
              "     width=\"24px\">\n",
              "    <g>\n",
              "        <path d=\"M19 3H5c-1.1 0-2 .9-2 2v14c0 1.1.9 2 2 2h14c1.1 0 2-.9 2-2V5c0-1.1-.9-2-2-2zM9 17H7v-7h2v7zm4 0h-2V7h2v10zm4 0h-2v-4h2v4z\"/>\n",
              "    </g>\n",
              "</svg>\n",
              "  </button>\n",
              "\n",
              "<style>\n",
              "  .colab-df-quickchart {\n",
              "      --bg-color: #E8F0FE;\n",
              "      --fill-color: #1967D2;\n",
              "      --hover-bg-color: #E2EBFA;\n",
              "      --hover-fill-color: #174EA6;\n",
              "      --disabled-fill-color: #AAA;\n",
              "      --disabled-bg-color: #DDD;\n",
              "  }\n",
              "\n",
              "  [theme=dark] .colab-df-quickchart {\n",
              "      --bg-color: #3B4455;\n",
              "      --fill-color: #D2E3FC;\n",
              "      --hover-bg-color: #434B5C;\n",
              "      --hover-fill-color: #FFFFFF;\n",
              "      --disabled-bg-color: #3B4455;\n",
              "      --disabled-fill-color: #666;\n",
              "  }\n",
              "\n",
              "  .colab-df-quickchart {\n",
              "    background-color: var(--bg-color);\n",
              "    border: none;\n",
              "    border-radius: 50%;\n",
              "    cursor: pointer;\n",
              "    display: none;\n",
              "    fill: var(--fill-color);\n",
              "    height: 32px;\n",
              "    padding: 0;\n",
              "    width: 32px;\n",
              "  }\n",
              "\n",
              "  .colab-df-quickchart:hover {\n",
              "    background-color: var(--hover-bg-color);\n",
              "    box-shadow: 0 1px 2px rgba(60, 64, 67, 0.3), 0 1px 3px 1px rgba(60, 64, 67, 0.15);\n",
              "    fill: var(--button-hover-fill-color);\n",
              "  }\n",
              "\n",
              "  .colab-df-quickchart-complete:disabled,\n",
              "  .colab-df-quickchart-complete:disabled:hover {\n",
              "    background-color: var(--disabled-bg-color);\n",
              "    fill: var(--disabled-fill-color);\n",
              "    box-shadow: none;\n",
              "  }\n",
              "\n",
              "  .colab-df-spinner {\n",
              "    border: 2px solid var(--fill-color);\n",
              "    border-color: transparent;\n",
              "    border-bottom-color: var(--fill-color);\n",
              "    animation:\n",
              "      spin 1s steps(1) infinite;\n",
              "  }\n",
              "\n",
              "  @keyframes spin {\n",
              "    0% {\n",
              "      border-color: transparent;\n",
              "      border-bottom-color: var(--fill-color);\n",
              "      border-left-color: var(--fill-color);\n",
              "    }\n",
              "    20% {\n",
              "      border-color: transparent;\n",
              "      border-left-color: var(--fill-color);\n",
              "      border-top-color: var(--fill-color);\n",
              "    }\n",
              "    30% {\n",
              "      border-color: transparent;\n",
              "      border-left-color: var(--fill-color);\n",
              "      border-top-color: var(--fill-color);\n",
              "      border-right-color: var(--fill-color);\n",
              "    }\n",
              "    40% {\n",
              "      border-color: transparent;\n",
              "      border-right-color: var(--fill-color);\n",
              "      border-top-color: var(--fill-color);\n",
              "    }\n",
              "    60% {\n",
              "      border-color: transparent;\n",
              "      border-right-color: var(--fill-color);\n",
              "    }\n",
              "    80% {\n",
              "      border-color: transparent;\n",
              "      border-right-color: var(--fill-color);\n",
              "      border-bottom-color: var(--fill-color);\n",
              "    }\n",
              "    90% {\n",
              "      border-color: transparent;\n",
              "      border-bottom-color: var(--fill-color);\n",
              "    }\n",
              "  }\n",
              "</style>\n",
              "\n",
              "  <script>\n",
              "    async function quickchart(key) {\n",
              "      const quickchartButtonEl =\n",
              "        document.querySelector('#' + key + ' button');\n",
              "      quickchartButtonEl.disabled = true;  // To prevent multiple clicks.\n",
              "      quickchartButtonEl.classList.add('colab-df-spinner');\n",
              "      try {\n",
              "        const charts = await google.colab.kernel.invokeFunction(\n",
              "            'suggestCharts', [key], {});\n",
              "      } catch (error) {\n",
              "        console.error('Error during call to suggestCharts:', error);\n",
              "      }\n",
              "      quickchartButtonEl.classList.remove('colab-df-spinner');\n",
              "      quickchartButtonEl.classList.add('colab-df-quickchart-complete');\n",
              "    }\n",
              "    (() => {\n",
              "      let quickchartButtonEl =\n",
              "        document.querySelector('#df-198e43c9-9ec0-4901-93fa-512db91a6e25 button');\n",
              "      quickchartButtonEl.style.display =\n",
              "        google.colab.kernel.accessAllowed ? 'block' : 'none';\n",
              "    })();\n",
              "  </script>\n",
              "</div>\n",
              "\n",
              "    </div>\n",
              "  </div>\n"
            ],
            "application/vnd.google.colaboratory.intrinsic+json": {
              "type": "dataframe",
              "summary": "{\n  \"name\": \"df\",\n  \"rows\": 5,\n  \"fields\": [\n    {\n      \"column\": \"date\",\n      \"properties\": {\n        \"dtype\": \"object\",\n        \"num_unique_values\": 1,\n        \"samples\": [\n          \"2022-07-01\"\n        ],\n        \"semantic_type\": \"\",\n        \"description\": \"\"\n      }\n    },\n    {\n      \"column\": \"currency_code\",\n      \"properties\": {\n        \"dtype\": \"string\",\n        \"num_unique_values\": 5,\n        \"samples\": [\n          \"AUD\"\n        ],\n        \"semantic_type\": \"\",\n        \"description\": \"\"\n      }\n    },\n    {\n      \"column\": \"name\",\n      \"properties\": {\n        \"dtype\": \"string\",\n        \"num_unique_values\": 5,\n        \"samples\": [\n          \"Australia\"\n        ],\n        \"semantic_type\": \"\",\n        \"description\": \"\"\n      }\n    },\n    {\n      \"column\": \"local_price\",\n      \"properties\": {\n        \"dtype\": \"number\",\n        \"std\": 261.9225353038566,\n        \"min\": 1.6,\n        \"max\": 590.0,\n        \"num_unique_values\": 5,\n        \"samples\": [\n          6.7\n        ],\n        \"semantic_type\": \"\",\n        \"description\": \"\"\n      }\n    },\n    {\n      \"column\": \"dollar_ex\",\n      \"properties\": {\n        \"dtype\": \"number\",\n        \"std\": 57,\n        \"min\": 1,\n        \"max\": 129,\n        \"num_unique_values\": 2,\n        \"samples\": [\n          1\n        ],\n        \"semantic_type\": \"\",\n        \"description\": \"\"\n      }\n    },\n    {\n      \"column\": \"dollar_price\",\n      \"properties\": {\n        \"dtype\": \"number\",\n        \"std\": 1.8200357139353063,\n        \"min\": 1.6,\n        \"max\": 6.7,\n        \"num_unique_values\": 5,\n        \"samples\": [\n          6.7\n        ],\n        \"semantic_type\": \"\",\n        \"description\": \"\"\n      }\n    }\n  ]\n}"
            }
          },
          "metadata": {},
          "execution_count": 4
        }
      ]
    },
    {
      "cell_type": "markdown",
      "source": [
        "### Descrição das colunas\n",
        "\n",
        "* **`date`** - Data do registro\n",
        "* **`currency_code`** - Código ISO 4217 internacional da moeda do país\n",
        "* **`name`** - Nome do país\n",
        "* **`local_price`** - Preço do Big Mac na moeda local\n",
        "* **`dollar_ex`** - Taxa de Conversão do dólar americano para a moeda local\n",
        "* **`local_price`** - Preço do Big Mac em dólares americanos"
      ],
      "metadata": {
        "id": "yGy27kPPLVNf"
      }
    },
    {
      "cell_type": "markdown",
      "source": [
        "### Vamos fazer um Intervalo com 95% Confiança para a média do preço do Big Mac em dólares"
      ],
      "metadata": {
        "id": "N5pJVrVOLbbO"
      }
    },
    {
      "cell_type": "code",
      "source": [
        "from scipy import stats"
      ],
      "metadata": {
        "id": "3bN9SWgmLbIW"
      },
      "execution_count": 5,
      "outputs": []
    },
    {
      "cell_type": "code",
      "source": [
        "big_mac_media = df['local_price'].mean() ### média\n",
        "big_mac_desvio_padrao = df['dollar_price'].std( ) ### desvio padrão\n",
        "\n",
        "print('\\n')\n",
        "print('Média do preco do BigMac em Dólares: {}'. format(big_mac_media)) ### média\n",
        "print('\\n')\n",
        "print('Desvio Padrão do preco do BigMac em Dólares: {}'. format(big_mac_desvio_padrao)) ### desvio padrão"
      ],
      "metadata": {
        "colab": {
          "base_uri": "https://localhost:8080/"
        },
        "id": "2VKl1_7sLS0w",
        "outputId": "4f9dee06-4449-4f41-e204-227ef232e788"
      },
      "execution_count": 7,
      "outputs": [
        {
          "output_type": "stream",
          "name": "stdout",
          "text": [
            "\n",
            "\n",
            "Média do preco do BigMac em Dólares: 3793.3181428571424\n",
            "\n",
            "\n",
            "Desvio Padrão do preco do BigMac em Dólares: 1.3532130692415167\n"
          ]
        }
      ]
    },
    {
      "cell_type": "code",
      "source": [
        "### loc é a media;\n",
        "### scale é o desvio padrão.\n",
        "\n",
        "intervalo_95_big_mac = stats.norm.interval(0.95,\n",
        "                                            loc = big_mac_media,\n",
        "                                            scale = big_mac_desvio_padrao)\n",
        "\n",
        "print('Intervalo de 95% de Confiança para Média: {} Limites inferior e superior do intervalo de confiança'.format(intervalo_95_big_mac)) ### Limites inferior e superior\n",
        "\n",
        "\n"
      ],
      "metadata": {
        "colab": {
          "base_uri": "https://localhost:8080/"
        },
        "id": "UJEkTYKdMaTA",
        "outputId": "05fe2507-79ec-42c0-f7bc-3217f6d16575"
      },
      "execution_count": 11,
      "outputs": [
        {
          "output_type": "stream",
          "name": "stdout",
          "text": [
            "Intervalo de 95% de Confiança para Média: (3790.66589397802, 3795.970391736265) Limites inferior e Superior do intervalo de confiança\n"
          ]
        }
      ]
    },
    {
      "cell_type": "code",
      "source": [
        "margem_de_erro_big_mac = intervalo_95_big_mac[1] - big_mac_media\n",
        "print('Margem de erro do intervalo {}'. format(margem_de_erro_big_mac))"
      ],
      "metadata": {
        "colab": {
          "base_uri": "https://localhost:8080/"
        },
        "id": "UjNMftSzNen-",
        "outputId": "00443945-3207-4913-e1fd-37cfa0eb0094"
      },
      "execution_count": 13,
      "outputs": [
        {
          "output_type": "stream",
          "name": "stdout",
          "text": [
            "Margem de erro do intervalo 2.652248879122453\n"
          ]
        }
      ]
    },
    {
      "cell_type": "code",
      "source": [],
      "metadata": {
        "id": "T3stnnMRPYY-"
      },
      "execution_count": null,
      "outputs": []
    }
  ]
}